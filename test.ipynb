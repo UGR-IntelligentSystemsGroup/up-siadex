{
 "cells": [
  {
   "cell_type": "code",
   "execution_count": 1,
   "metadata": {},
   "outputs": [],
   "source": [
    "from siadex_planner import SIADEXEngine\n",
    "\n",
    "import unified_planning as up\n",
    "from unified_planning.shortcuts import *\n",
    "from unified_planning.model.htn.hierarchical_problem import HierarchicalProblem, Task, Method\n",
    "from unified_planning.io.hpdl.hpdl_reader import HPDLReader\n",
    "from unified_planning.io.hpdl.hpdl_writer import HPDLWriter"
   ]
  },
  {
   "cell_type": "code",
   "execution_count": 2,
   "metadata": {},
   "outputs": [],
   "source": [
    "reader = HPDLReader()"
   ]
  },
  {
   "cell_type": "code",
   "execution_count": 15,
   "metadata": {},
   "outputs": [
    {
     "name": "stdout",
     "output_type": "stream",
     "text": [
      "effect [distance2(x1, y1, x2, y2)] := simulated\n"
     ]
    }
   ],
   "source": [
    "problem = reader.parse_problem(\"unified-planning/unified_planning/test/pddl/hpdl/domain.hpdl\", \"unified-planning/unified_planning/test/pddl/hpdl/problem.hpdl\")\n",
    "# vgdl = reader.parse_problem(\"unified-planning/unified_planning/test/pddl/hpdl/vgdl/domain.hpdl\", \"unified-planning/unified_planning/test/pddl/hpdl/vgdl/problem.hpdl\")"
   ]
  },
  {
   "cell_type": "code",
   "execution_count": 4,
   "metadata": {},
   "outputs": [],
   "source": [
    "writer = HPDLWriter(problem)\n",
    "writer.write_domain(\"siadex_planner/domain.hpdl\")\n",
    "# writer.write_problem(\"siadex_planner/problem.hpdl\")"
   ]
  },
  {
   "cell_type": "code",
   "execution_count": 5,
   "metadata": {},
   "outputs": [],
   "source": [
    "new_problem = reader.parse_problem(\"siadex_planner/domain.hpdl\", \"siadex_planner/problem.hpdl\")"
   ]
  },
  {
   "cell_type": "code",
   "execution_count": 11,
   "metadata": {},
   "outputs": [],
   "source": [
    "problem2 = reader.parse_problem(\"siadex_planner/examples/dominio-bloques.pddl\", \"siadex_planner/examples/problema-bloques.pddl\")"
   ]
  },
  {
   "cell_type": "code",
   "execution_count": 12,
   "metadata": {},
   "outputs": [],
   "source": [
    "HPDLWriter(problem2).write_domain(\"siadex_planner/domain2.hpdl\")"
   ]
  },
  {
   "cell_type": "code",
   "execution_count": 12,
   "metadata": {},
   "outputs": [],
   "source": [
    "engine = SIADEXEngine()"
   ]
  },
  {
   "cell_type": "code",
   "execution_count": 13,
   "metadata": {},
   "outputs": [],
   "source": [
    "solved2 = engine._solve(problem)"
   ]
  },
  {
   "cell_type": "code",
   "execution_count": 14,
   "metadata": {},
   "outputs": [
    {
     "data": {
      "text/plain": [
       "[LogMessage(level=<LogLevel.INFO: 2>, message=''),\n",
       " LogMessage(level=<LogLevel.ERROR: 4>, message=\"\\n/tmp/tmppfo1dq63/problem.hpdl:9: error: syntax error, unexpected  `('\\n################################################################################\\n1 errors 0 warnings parsing problem file: /tmp/tmppfo1dq63/problem.hpdl\\n--------------------------------------------------------------------------------\\n\")]"
      ]
     },
     "execution_count": 14,
     "metadata": {},
     "output_type": "execute_result"
    }
   ],
   "source": [
    "solved2.log_messages"
   ]
  },
  {
   "cell_type": "code",
   "execution_count": 21,
   "metadata": {},
   "outputs": [
    {
     "name": "stdout",
     "output_type": "stream",
     "text": [
      "PROBLEM_CLASS: ['ACTION_BASED', 'HIERARCHICAL']\n",
      "PROBLEM_TYPE: ['GENERAL_NUMERIC_PLANNING']\n",
      "TIME: ['TIMED_EFFECT', 'CONTINUOUS_TIME']\n",
      "EXPRESSION_DURATION: ['STATIC_FLUENTS_IN_DURATION', 'FLUENTS_IN_DURATION']\n",
      "NUMBERS: ['CONTINUOUS_NUMBERS']\n",
      "CONDITIONS_KIND: ['UNIVERSAL_CONDITIONS']\n",
      "EFFECTS_KIND: ['DECREASE_EFFECTS', 'INCREASE_EFFECTS']\n",
      "TYPING: ['FLAT_TYPING', 'HIERARCHICAL_TYPING']\n",
      "FLUENTS_TYPE: ['NUMERIC_FLUENTS']\n"
     ]
    }
   ],
   "source": [
    "print(problem.kind)"
   ]
  },
  {
   "cell_type": "code",
   "execution_count": 11,
   "metadata": {},
   "outputs": [],
   "source": [
    "solved_vgdl = engine._solve(problem)"
   ]
  },
  {
   "cell_type": "code",
   "execution_count": 12,
   "metadata": {},
   "outputs": [
    {
     "data": {
      "text/plain": [
       "[LogMessage(level=<LogLevel.INFO: 2>, message=''),\n",
       " LogMessage(level=<LogLevel.ERROR: 4>, message=\"\\n/tmp/tmpk6pv_pa_/domain.hpdl:6: error: Using a clause that requires `:typing' and is not declared in requirements  clause\\n/tmp/tmpk6pv_pa_/domain.hpdl:40: error: Using a clause that requires `:fluents' and is not declared in requirements  clause\\n/tmp/tmpk6pv_pa_/domain.hpdl:65: error: Using a clause that requires `:negative-preconditions' and is not declared in requirements  clause\\n/tmp/tmpk6pv_pa_/domain.hpdl:76: error: Using a clause that requires `:htn-expansion' and is not declared in requirements  clause\\n/tmp/tmpk6pv_pa_/domain.hpdl:208: error: Using a clause that requires `:durative-actions' and is not declared in requirements  clause\\n/tmp/tmpk6pv_pa_/domain.hpdl:253: error: Using a clause that requires `:universal-preconditions' and is not declared in requirements  clause\\nThere is no action to acomplish: (hacer-escala ?a ?c1_0 ?c2_0)\\nThere is no action to acomplish: (mover-avion ?a ?c1_0 ?c2_0)\\nThere is no action to acomplish: (hacer-escala ?a ?c1_0 ?c2_0)\\nThere is no action to acomplish: (mover-avion ?a ?c1_0 ?c2_0)\\nThere is no action to acomplish: (hacer-escala ?a ?c1_0 ?c2_0)\\nThere is no action to acomplish: (mover-avion ?a ?c1_0 ?c2_0)\\nThere is no action to acomplish: (hacer-escala ?a ?c1_0 ?c2_0)\\nThere is no action to acomplish: (mover-avion ?a ?c1_0 ?c2_0)\\n/tmp/tmpk6pv_pa_/domain.hpdl:297: error: In the task network of task `mover_avion' defined near 77 [/tmp/tmpk6pv_pa_/domain.hpdl].\\nThere is no action to acomplish: (embarcar-pasajeros ?a ?c1_0 ?c2_0)\\n/tmp/tmpk6pv_pa_/domain.hpdl:297: error: In the task network of task `embarcar_pasajeros' defined near 172 [/tmp/tmpk6pv_pa_/domain.hpdl].\\nThere is no action to acomplish: (embarcar-pasajeros ?a ?c1_0 ?c2_0)\\nThere is no action to acomplish: (mover-avion ?a ?c1_0 ?c2_0)\\nThere is no action to acomplish: (desembarcar-pasajeros ?a ?c)\\nThere is no action to acomplish: (desembarcar-pasajeros ?a ?c)\\nThere is no action to acomplish: (desembarcar-pasajeros ?a ?c)\\nThere is no action to acomplish: (desembarcar-pasajeros ?a ?c)\\nThere is no action to acomplish: (embarcar-pasajeros ?a ?c1_0 ?c2_0)\\nThere is no action to acomplish: (mover-avion ?a ?c1_0 ?c2_0)\\nThere is no action to acomplish: (desembarcar-pasajeros ?a ?c)\\nThere is no action to acomplish: (embarcar-pasajeros ?a ?c1_0 ?c2_0)\\nThere is no action to acomplish: (mover-avion ?a ?c1_0 ?c2_0)\\nThere is no action to acomplish: (desembarcar-pasajeros ?a ?c)\\n/tmp/tmpk6pv_pa_/domain.hpdl:297: error: In the task network of task `transport_person' defined near 41 [/tmp/tmpk6pv_pa_/domain.hpdl].\\nThere is no action to acomplish: (desembarcar-pasajeros ?a ?c)\\n/tmp/tmpk6pv_pa_/domain.hpdl:297: error: In the task network of task `desembarcar_pasajeros' defined near 188 [/tmp/tmpk6pv_pa_/domain.hpdl].\\n################################################################################\\n10 errors 0 warnings parsing domain file: /tmp/tmpk6pv_pa_/domain.hpdl\\n--------------------------------------------------------------------------------\\n\")]"
      ]
     },
     "execution_count": 12,
     "metadata": {},
     "output_type": "execute_result"
    }
   ],
   "source": [
    "solved_vgdl.log_messages"
   ]
  },
  {
   "cell_type": "code",
   "execution_count": 13,
   "metadata": {},
   "outputs": [],
   "source": [
    "solved = engine._solve(problem)"
   ]
  },
  {
   "cell_type": "code",
   "execution_count": 14,
   "metadata": {},
   "outputs": [
    {
     "data": {
      "text/plain": [
       "[LogMessage(level=<LogLevel.INFO: 2>, message=''),\n",
       " LogMessage(level=<LogLevel.ERROR: 4>, message=\"\\n/tmp/tmpwwxppuoc/domain.hpdl:6: error: Using a clause that requires `:typing' and is not declared in requirements  clause\\n/tmp/tmpwwxppuoc/domain.hpdl:40: error: Using a clause that requires `:fluents' and is not declared in requirements  clause\\n/tmp/tmpwwxppuoc/domain.hpdl:65: error: Using a clause that requires `:negative-preconditions' and is not declared in requirements  clause\\n/tmp/tmpwwxppuoc/domain.hpdl:76: error: Using a clause that requires `:htn-expansion' and is not declared in requirements  clause\\n/tmp/tmpwwxppuoc/domain.hpdl:208: error: Using a clause that requires `:durative-actions' and is not declared in requirements  clause\\n/tmp/tmpwwxppuoc/domain.hpdl:253: error: Using a clause that requires `:universal-preconditions' and is not declared in requirements  clause\\nThere is no action to acomplish: (hacer-escala ?a ?c1_0 ?c2_0)\\nThere is no action to acomplish: (mover-avion ?a ?c1_0 ?c2_0)\\nThere is no action to acomplish: (hacer-escala ?a ?c1_0 ?c2_0)\\nThere is no action to acomplish: (mover-avion ?a ?c1_0 ?c2_0)\\nThere is no action to acomplish: (hacer-escala ?a ?c1_0 ?c2_0)\\nThere is no action to acomplish: (mover-avion ?a ?c1_0 ?c2_0)\\nThere is no action to acomplish: (hacer-escala ?a ?c1_0 ?c2_0)\\nThere is no action to acomplish: (mover-avion ?a ?c1_0 ?c2_0)\\n/tmp/tmpwwxppuoc/domain.hpdl:297: error: In the task network of task `mover_avion' defined near 77 [/tmp/tmpwwxppuoc/domain.hpdl].\\nThere is no action to acomplish: (embarcar-pasajeros ?a ?c1_0 ?c2_0)\\n/tmp/tmpwwxppuoc/domain.hpdl:297: error: In the task network of task `embarcar_pasajeros' defined near 172 [/tmp/tmpwwxppuoc/domain.hpdl].\\nThere is no action to acomplish: (embarcar-pasajeros ?a ?c1_0 ?c2_0)\\nThere is no action to acomplish: (mover-avion ?a ?c1_0 ?c2_0)\\nThere is no action to acomplish: (desembarcar-pasajeros ?a ?c)\\nThere is no action to acomplish: (desembarcar-pasajeros ?a ?c)\\nThere is no action to acomplish: (desembarcar-pasajeros ?a ?c)\\nThere is no action to acomplish: (desembarcar-pasajeros ?a ?c)\\nThere is no action to acomplish: (embarcar-pasajeros ?a ?c1_0 ?c2_0)\\nThere is no action to acomplish: (mover-avion ?a ?c1_0 ?c2_0)\\nThere is no action to acomplish: (desembarcar-pasajeros ?a ?c)\\nThere is no action to acomplish: (embarcar-pasajeros ?a ?c1_0 ?c2_0)\\nThere is no action to acomplish: (mover-avion ?a ?c1_0 ?c2_0)\\nThere is no action to acomplish: (desembarcar-pasajeros ?a ?c)\\n/tmp/tmpwwxppuoc/domain.hpdl:297: error: In the task network of task `transport_person' defined near 41 [/tmp/tmpwwxppuoc/domain.hpdl].\\nThere is no action to acomplish: (desembarcar-pasajeros ?a ?c)\\n/tmp/tmpwwxppuoc/domain.hpdl:297: error: In the task network of task `desembarcar_pasajeros' defined near 188 [/tmp/tmpwwxppuoc/domain.hpdl].\\n################################################################################\\n10 errors 0 warnings parsing domain file: /tmp/tmpwwxppuoc/domain.hpdl\\n--------------------------------------------------------------------------------\\n\")]"
      ]
     },
     "execution_count": 14,
     "metadata": {},
     "output_type": "execute_result"
    }
   ],
   "source": [
    "solved.log_messages"
   ]
  },
  {
   "cell_type": "code",
   "execution_count": null,
   "metadata": {},
   "outputs": [],
   "source": []
  }
 ],
 "metadata": {
  "kernelspec": {
   "display_name": "Python 3.10.4 64-bit",
   "language": "python",
   "name": "python3"
  },
  "language_info": {
   "codemirror_mode": {
    "name": "ipython",
    "version": 3
   },
   "file_extension": ".py",
   "mimetype": "text/x-python",
   "name": "python",
   "nbconvert_exporter": "python",
   "pygments_lexer": "ipython3",
   "version": "3.10.4"
  },
  "orig_nbformat": 4,
  "vscode": {
   "interpreter": {
    "hash": "3ad933181bd8a04b432d3370b9dc3b0662ad032c4dfaa4e4f1596c548f763858"
   }
  }
 },
 "nbformat": 4,
 "nbformat_minor": 2
}
