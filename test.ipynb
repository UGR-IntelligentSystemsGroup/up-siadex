{
 "cells": [
  {
   "cell_type": "code",
   "execution_count": 33,
   "metadata": {},
   "outputs": [],
   "source": [
    "from siadex_planner.siadex_planner import SIADEXEngine\n",
    "\n",
    "import unified_planning as up\n",
    "from unified_planning.shortcuts import *\n",
    "from unified_planning.model.htn.hierarchical_problem import HierarchicalProblem, Task, Method\n",
    "from unified_planning.io.hpdl.hpdl_reader import HPDLReader "
   ]
  },
  {
   "cell_type": "code",
   "execution_count": 34,
   "metadata": {},
   "outputs": [],
   "source": [
    "reader = HPDLReader()"
   ]
  },
  {
   "cell_type": "code",
   "execution_count": 41,
   "metadata": {},
   "outputs": [
    {
     "name": "stdout",
     "output_type": "stream",
     "text": [
      "effect [distance2(x1, y1, x2, y2)] := simulated\n"
     ]
    }
   ],
   "source": [
    "problem = reader.parse_problem(\"unified-planning/unified_planning/test/pddl/hpdl/domain.hpdl\", \"unified-planning/unified_planning/test/pddl/hpdl/problem.hpdl\")"
   ]
  },
  {
   "cell_type": "code",
   "execution_count": 42,
   "metadata": {},
   "outputs": [],
   "source": [
    "engine = SIADEXEngine()"
   ]
  },
  {
   "cell_type": "code",
   "execution_count": 47,
   "metadata": {},
   "outputs": [],
   "source": [
    "solved = engine._solve(problem)"
   ]
  },
  {
   "cell_type": "code",
   "execution_count": 48,
   "metadata": {},
   "outputs": [
    {
     "data": {
      "text/plain": [
       "[LogMessage(level=<LogLevel.INFO: 2>, message='NOT USING FILES\\n1\\n2\\n3\\n4\\n5\\n6\\n7\\nUPFDomain\\nUPFProblem\\n8\\n(define (domain UPFDomain)\\n   (:requirements\\n   )\\n\\n   (:types\\n   )\\n\\n   (:constants\\n   )\\n\\n   (:predicates\\n   )\\n\\n\\n   (:functions\\n   )\\n\\n\\n)(define (problem UPFProblem) (:domain d)\\n   (:customization\\n      (= :time-format \"%d/%m/%y %H:%M:%S\")\\n      (= :time-horizon-relative 1000)\\n      (= :time-start \"26/10/56 14:39:44\")\\n      (= :time-unit :undefined)\\n   )\\n\\n   (:objects\\n      ; TODO\\n   )\\n\\n   (:init\\n   )\\n\\n   (:tasks-goal\\n       tasks(\\n          (:inline () ())\\n       )\\n   )\\n)9\\n10\\n11\\n12\\n13\\n14\\n15\\n16\\n'),\n",
       " LogMessage(level=<LogLevel.ERROR: 4>, message='\\n-----------------------------------------------------------------\\nNumber of actions: 0 (1)\\nExpansions: 0\\nGenerated nodes: 1\\nInferences: 0\\nTime in seconds: 1.5e-05\\nReal Time: 0\\nUsed Time: 1.39996e-05\\nSystem Time: 3.00002e-06\\n-----------------------------------------------------------------\\n')]"
      ]
     },
     "execution_count": 48,
     "metadata": {},
     "output_type": "execute_result"
    }
   ],
   "source": [
    "solved.log_messages"
   ]
  },
  {
   "cell_type": "code",
   "execution_count": null,
   "metadata": {},
   "outputs": [],
   "source": []
  }
 ],
 "metadata": {
  "kernelspec": {
   "display_name": "Python 3.10.4 64-bit",
   "language": "python",
   "name": "python3"
  },
  "language_info": {
   "codemirror_mode": {
    "name": "ipython",
    "version": 3
   },
   "file_extension": ".py",
   "mimetype": "text/x-python",
   "name": "python",
   "nbconvert_exporter": "python",
   "pygments_lexer": "ipython3",
   "version": "3.10.4"
  },
  "orig_nbformat": 4,
  "vscode": {
   "interpreter": {
    "hash": "3ad933181bd8a04b432d3370b9dc3b0662ad032c4dfaa4e4f1596c548f763858"
   }
  }
 },
 "nbformat": 4,
 "nbformat_minor": 2
}
