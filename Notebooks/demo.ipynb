{
 "cells": [
  {
   "attachments": {},
   "cell_type": "markdown",
   "metadata": {},
   "source": [
    "## EU Driving regulation for truckers"
   ]
  },
  {
   "attachments": {},
   "cell_type": "markdown",
   "metadata": {},
   "source": [
    "The EU Regulation 561/2006 sets rules for driving time, breaks, and rest periods for drivers of goods vehicles over 3.5 tons. These regulations aim to improve road safety and protect drivers from excessive fatigue. This is a critical problem in the logistic industry that is actually handled by humans, manually defining the routes and breaks for the drivers. ...\n",
    "\n",
    "Maximun Driving Time:\n",
    "* Driving: 4.5 hours of continuous driving.\n",
    "* Daily: 9 hours, extendable to 10 hours twice a week.\n",
    "* Weekly: 56 hours.\n",
    "* Bi-weekly: 90 hours in any two consecutive weeks.\n",
    "\n",
    "Breaks:\n",
    "\n",
    "* Driving: 45 minutes is mandatory (can be split into 15 minutes followed by 30 minutes) After 4.5 hours of continuous driving.\n",
    "* Daily rest: 11 hours or reduced 9 hours (up to three times per week). After 9 hours of driving.\n",
    "* Weekly rest: 45 hours or a reduced weekly rest period of at least 24 hours.\n",
    "\n"
   ]
  },
  {
   "attachments": {},
   "cell_type": "markdown",
   "metadata": {},
   "source": [
    "The tachograph records various driving and vehicle data, ensuring compliance with driving time, breaks, and rest period regulations. Information recorded by a tachograph includes:\n",
    "\n",
    "* Driver's details: The driver's name, license number, and tachograph card number.\n",
    "* Date and time: The device records date and time for all activities.\n",
    "* Vehicle speed: The tachograph constantly tracks and records the vehicle's speed.\n",
    "* Driving time: The device records the duration of driving sessions, including any breaks or rest periods.\n",
    "* Distance traveled: The tachograph logs the distance covered during a driving session.\n",
    "* Breaks and rest periods: The device records the duration and frequency of breaks and rest periods taken by the driver.\n",
    "* Work mode: The tachograph differentiates between driving, working, availability, and rest modes.\n",
    "* Events and faults: The device logs any events or faults, such as overspeeding, power supply interruptions, or sensor malfunctions."
   ]
  },
  {
   "attachments": {},
   "cell_type": "markdown",
   "metadata": {},
   "source": [
    "# Example of a tachograph"
   ]
  },
  {
   "cell_type": "code",
   "execution_count": 1,
   "metadata": {},
   "outputs": [],
   "source": [
    "import pandas as pd"
   ]
  },
  {
   "cell_type": "code",
   "execution_count": 2,
   "metadata": {},
   "outputs": [
    {
     "data": {
      "text/html": [
       "<div>\n",
       "<style scoped>\n",
       "    .dataframe tbody tr th:only-of-type {\n",
       "        vertical-align: middle;\n",
       "    }\n",
       "\n",
       "    .dataframe tbody tr th {\n",
       "        vertical-align: top;\n",
       "    }\n",
       "\n",
       "    .dataframe thead th {\n",
       "        text-align: right;\n",
       "    }\n",
       "</style>\n",
       "<table border=\"1\" class=\"dataframe\">\n",
       "  <thead>\n",
       "    <tr style=\"text-align: right;\">\n",
       "      <th></th>\n",
       "      <th>Driver</th>\n",
       "      <th>DateStart</th>\n",
       "      <th>HourStart</th>\n",
       "      <th>HourEnd</th>\n",
       "      <th>Duration</th>\n",
       "      <th>Distance</th>\n",
       "      <th>Status</th>\n",
       "      <th>Profession</th>\n",
       "      <th>Vehicle</th>\n",
       "      <th>PlaceStart</th>\n",
       "      <th>PlaceEnd</th>\n",
       "      <th>LatitudeStart</th>\n",
       "      <th>LongitudeStart</th>\n",
       "      <th>LatitudeEnd</th>\n",
       "      <th>LongitudeEnd</th>\n",
       "      <th>MilometerStart</th>\n",
       "      <th>MilometerEnd</th>\n",
       "    </tr>\n",
       "  </thead>\n",
       "  <tbody>\n",
       "    <tr>\n",
       "      <th>0</th>\n",
       "      <td>driver1</td>\n",
       "      <td>lun 2/01/17</td>\n",
       "      <td>17:59</td>\n",
       "      <td>18:13</td>\n",
       "      <td>0h 14m</td>\n",
       "      <td>0.028144</td>\n",
       "      <td>Break</td>\n",
       "      <td>1</td>\n",
       "      <td>9359JSNMI6186H01502</td>\n",
       "      <td>28914, Leganés, ES</td>\n",
       "      <td>28914, Leganés, ES</td>\n",
       "      <td>40.327719</td>\n",
       "      <td>-3.784834</td>\n",
       "      <td>40.327719</td>\n",
       "      <td>-3.784502</td>\n",
       "      <td>31,512</td>\n",
       "      <td>31,512</td>\n",
       "    </tr>\n",
       "    <tr>\n",
       "      <th>1</th>\n",
       "      <td>driver1</td>\n",
       "      <td>lun 2/01/17</td>\n",
       "      <td>18:13</td>\n",
       "      <td>18:16</td>\n",
       "      <td>0h 03m</td>\n",
       "      <td>0.124866</td>\n",
       "      <td>Driving</td>\n",
       "      <td>1</td>\n",
       "      <td>9359JSNMI6186H01502</td>\n",
       "      <td>28914, Leganés, ES</td>\n",
       "      <td>28914, Leganés, ES</td>\n",
       "      <td>40.327926</td>\n",
       "      <td>-3.784502</td>\n",
       "      <td>40.327926</td>\n",
       "      <td>-3.785975</td>\n",
       "      <td>31,512</td>\n",
       "      <td>31,513</td>\n",
       "    </tr>\n",
       "    <tr>\n",
       "      <th>2</th>\n",
       "      <td>driver1</td>\n",
       "      <td>lun 2/01/17</td>\n",
       "      <td>18:16</td>\n",
       "      <td>18:18</td>\n",
       "      <td>0h 02m</td>\n",
       "      <td>0.000509</td>\n",
       "      <td>Other work</td>\n",
       "      <td>1</td>\n",
       "      <td>9359JSNMI6186H01502</td>\n",
       "      <td>28914, Leganés, ES</td>\n",
       "      <td>28914, Leganés, ES</td>\n",
       "      <td>40.329214</td>\n",
       "      <td>-3.785975</td>\n",
       "      <td>40.329214</td>\n",
       "      <td>-3.785981</td>\n",
       "      <td>31,513</td>\n",
       "      <td>31,513</td>\n",
       "    </tr>\n",
       "    <tr>\n",
       "      <th>3</th>\n",
       "      <td>driver1</td>\n",
       "      <td>lun 2/01/17</td>\n",
       "      <td>18:18</td>\n",
       "      <td>18:20</td>\n",
       "      <td>0h 02m</td>\n",
       "      <td>0.230232</td>\n",
       "      <td>Driving</td>\n",
       "      <td>1</td>\n",
       "      <td>9359JSNMI6186H01502</td>\n",
       "      <td>28914, Leganés, ES</td>\n",
       "      <td>28914, Leganés, ES</td>\n",
       "      <td>40.328715</td>\n",
       "      <td>-3.785981</td>\n",
       "      <td>40.328715</td>\n",
       "      <td>-3.788697</td>\n",
       "      <td>31,513</td>\n",
       "      <td>31,513</td>\n",
       "    </tr>\n",
       "    <tr>\n",
       "      <th>4</th>\n",
       "      <td>driver1</td>\n",
       "      <td>lun 2/01/17</td>\n",
       "      <td>18:20</td>\n",
       "      <td>18:43</td>\n",
       "      <td>0h 23m</td>\n",
       "      <td>0.001611</td>\n",
       "      <td>Other work</td>\n",
       "      <td>1</td>\n",
       "      <td>9359JSNMI6186H01502</td>\n",
       "      <td>28914, Leganés, ES</td>\n",
       "      <td>28914, Leganés, ES</td>\n",
       "      <td>40.328620</td>\n",
       "      <td>-3.788697</td>\n",
       "      <td>40.328620</td>\n",
       "      <td>-3.788678</td>\n",
       "      <td>31,513</td>\n",
       "      <td>31,513</td>\n",
       "    </tr>\n",
       "  </tbody>\n",
       "</table>\n",
       "</div>"
      ],
      "text/plain": [
       "    Driver    DateStart HourStart HourEnd Duration  Distance      Status  \\\n",
       "0  driver1  lun 2/01/17     17:59   18:13   0h 14m  0.028144       Break   \n",
       "1  driver1  lun 2/01/17     18:13   18:16   0h 03m  0.124866     Driving   \n",
       "2  driver1  lun 2/01/17     18:16   18:18   0h 02m  0.000509  Other work   \n",
       "3  driver1  lun 2/01/17     18:18   18:20   0h 02m  0.230232     Driving   \n",
       "4  driver1  lun 2/01/17     18:20   18:43   0h 23m  0.001611  Other work   \n",
       "\n",
       "   Profession              Vehicle          PlaceStart            PlaceEnd  \\\n",
       "0           1  9359JSNMI6186H01502  28914, Leganés, ES  28914, Leganés, ES   \n",
       "1           1  9359JSNMI6186H01502  28914, Leganés, ES  28914, Leganés, ES   \n",
       "2           1  9359JSNMI6186H01502  28914, Leganés, ES  28914, Leganés, ES   \n",
       "3           1  9359JSNMI6186H01502  28914, Leganés, ES  28914, Leganés, ES   \n",
       "4           1  9359JSNMI6186H01502  28914, Leganés, ES  28914, Leganés, ES   \n",
       "\n",
       "   LatitudeStart  LongitudeStart  LatitudeEnd  LongitudeEnd MilometerStart  \\\n",
       "0      40.327719       -3.784834    40.327719     -3.784502         31,512   \n",
       "1      40.327926       -3.784502    40.327926     -3.785975         31,512   \n",
       "2      40.329214       -3.785975    40.329214     -3.785981         31,513   \n",
       "3      40.328715       -3.785981    40.328715     -3.788697         31,513   \n",
       "4      40.328620       -3.788697    40.328620     -3.788678         31,513   \n",
       "\n",
       "  MilometerEnd  \n",
       "0       31,512  \n",
       "1       31,513  \n",
       "2       31,513  \n",
       "3       31,513  \n",
       "4       31,513  "
      ]
     },
     "execution_count": 2,
     "metadata": {},
     "output_type": "execute_result"
    }
   ],
   "source": [
    "df = pd.read_csv(\"./data/driver1.csv\")\n",
    "status_translation = {\n",
    "    'Pausa': 'Break',\n",
    "    'Conduciendo': 'Driving',\n",
    "    'Otro trabajo': 'Other work',\n",
    "    'En espera': 'On standby'\n",
    "}\n",
    "\n",
    "# Replace the values in the Status column with the translated values\n",
    "df['Status'] = df['Status'].map(status_translation)\n",
    "df.head()"
   ]
  },
  {
   "cell_type": "code",
   "execution_count": 28,
   "metadata": {},
   "outputs": [
    {
     "data": {
      "text/plain": [
       "array(['Break', 'Driving', 'Other work', 'On standby'], dtype=object)"
      ]
     },
     "execution_count": 28,
     "metadata": {},
     "output_type": "execute_result"
    }
   ],
   "source": [
    "df['Status'].unique()"
   ]
  },
  {
   "attachments": {},
   "cell_type": "markdown",
   "metadata": {},
   "source": [
    "# Solving it with UPF"
   ]
  },
  {
   "cell_type": "code",
   "execution_count": 3,
   "metadata": {},
   "outputs": [],
   "source": [
    "%%capture\n",
    "%pip install ..\n",
    "%pip install ../unified-planning"
   ]
  },
  {
   "cell_type": "code",
   "execution_count": 4,
   "metadata": {},
   "outputs": [],
   "source": [
    "from up_siadex import SIADEXEngine\n",
    "\n",
    "import unified_planning as up\n",
    "from unified_planning.shortcuts import *\n",
    "from unified_planning.model.htn.hierarchical_problem import HierarchicalProblem, Task, Method\n",
    "from unified_planning.io import PDDLReader\n",
    "from unified_planning.io import PDDLWriter\n",
    "from unified_planning.io.hpdl.hpdl_reader import HPDLReader\n",
    "from unified_planning.io.hpdl.hpdl_writer import HPDLWriter\n",
    "from unified_planning.engines.results import PlanGenerationResultStatus\n"
   ]
  },
  {
   "cell_type": "code",
   "execution_count": 5,
   "metadata": {},
   "outputs": [],
   "source": [
    "env = up.environment.get_env()\n",
    "env.factory.add_engine('siadex', __name__, \"SIADEXEngine\")"
   ]
  },
  {
   "cell_type": "code",
   "execution_count": 6,
   "metadata": {},
   "outputs": [],
   "source": [
    "reader = HPDLReader()\n",
    "problem = reader.parse_problem(\"../unified-planning/unified_planning/test/pddl/hpdl/jacob/domain.hpdl\",\"../unified-planning/unified_planning/test/pddl/hpdl/jacob/problem.hpdl\")"
   ]
  },
  {
   "attachments": {},
   "cell_type": "markdown",
   "metadata": {},
   "source": [
    "# A look to the problem "
   ]
  },
  {
   "cell_type": "code",
   "execution_count": 29,
   "metadata": {},
   "outputs": [],
   "source": [
    "action_status = {\n",
    "\"d_p\": \"Driving\",\n",
    "\"o_p\": \"Other Work\",\n",
    "\"b_p\": \"Break\",\n",
    "\"i_p\": \"Idle\",\n",
    "\"load_p\": \"Load Package\",\n",
    "\"unload_p\": \"Unload Package\",\n",
    "\"drive_p\": \"Drive to Destination\",\n",
    "\"drive_p_fixed_duration\": \"Drive with Fixed Duration\",\n",
    "\"refuel\": \"Refuel\",\n",
    "\"refuel-on-the-way\": \"Refuel on the Way\",\n",
    "\"d_suggested\": \"Suggested Driving\",\n",
    "\"b_suggested\": \"Suggested Break\"\n",
    "}"
   ]
  },
  {
   "cell_type": "code",
   "execution_count": 30,
   "metadata": {},
   "outputs": [
    {
     "name": "stdout",
     "output_type": "stream",
     "text": [
      "\u001b[96m  *** Credits ***\n",
      "\u001b[0m\u001b[96m  * In operation mode `OneshotPlanner` at line 1 of `/tmp/ipykernel_750/2485395871.py`, \u001b[0m\u001b[96myou are using the following planning engine:\n",
      "\u001b[0m\u001b[96m  * Engine name: SIADEX\n",
      "  * Developers:  UGR SIADEX Team\n",
      "\u001b[0m\u001b[96m  * Description: \u001b[0m\u001b[96mSIADEX ENGINE\u001b[0m\u001b[96m\n",
      "\u001b[0m\u001b[96m\n",
      "\u001b[0m"
     ]
    },
    {
     "name": "stderr",
     "output_type": "stream",
     "text": [
      "/home/gorgue/.local/lib/python3.10/site-packages/unified_planning/engines/mixins/oneshot_planner.py:73: UserWarning: <function SIADEXEngine.name at 0x7f0d88d691b0> cannot solve this kind of problem!\n",
      "  warn(msg)\n"
     ]
    },
    {
     "name": "stdout",
     "output_type": "stream",
     "text": [
      "PlanGenerationResult(status=<PlanGenerationResultStatus.SOLVED_SATISFICING: 1>, plan=[(0.0, b_p(driver, 5, b_t0, split_1, first, ndd, 1, 1, yes), 5.0), (5.0, d_p(driver, 51, a, split_1, first, ndd, 1, 1, yes), 51.0), (56.0, b_p(driver, 137, b_t2, split_1, first, ndd, 1, 1, yes), 137.0), (193.0, d_p(driver, 2, a, split_2, first, ndd, 1, 1, yes), 2.0), (195.0, o_p(driver, 3, a, split_2, first, ndd, 1, 1, yes), 3.0), (198.0, d_p(driver, 2, a, split_2, first, ndd, 1, 1, yes), 2.0), (200.0, o_p(driver, 2, a, split_2, first, ndd, 1, 1, yes), 2.0), (202.0, b_p(driver, 71, b_t3, split_2, first, ndd, 1, 1, yes), 71.0), (273.0, d_p(driver, 1, a, split_1, second, ndd, 1, 1, yes), 1.0), (274.0, o_p(driver, 4, a, split_1, second, ndd, 1, 1, yes), 4.0), (278.0, d_p(driver, 49, a, split_1, second, ndd, 1, 1, yes), 49.0), (327.0, o_p(driver, 10, a, split_1, second, ndd, 1, 1, yes), 10.0), (337.0, d_p(driver, 60, a, split_1, second, ndd, 1, 1, yes), 60.0), (397.0, o_p(driver, 5, a, split_1, second, ndd, 1, 1, yes), 5.0), (402.0, d_p(driver, 1, a, split_1, second, ndd, 1, 1, yes), 1.0), (403.0, b_p(driver, 111, b_t2, split_1, second, ndd, 1, 1, yes), 111.0), (514.0, d_p(driver, 57, a, split_2, second, ndd, 1, 1, yes), 57.0), (571.0, b_p(driver, 1, b_t0, split_2, second, ndd, 1, 1, yes), 1.0), (572.0, load_p(driver, box2, sevilla, none, split_2, second, ndd, 1, 1, yes), 3.0), (575.0, refuel(driver, none, split_2, second, ndd, 1, 1, yes), 10.0), (585.0, drive_p(driver, sevilla, almeria, none, split_2, second, ndd, 1, 1, yes), 246.0), (831.0, unload_p(driver, box2, almeria, none, split_2, second, ndd, 1, 1, yes), 3.0)], engine_name=<function SIADEXEngine.name at 0x7f0d88d691b0>, metrics=None, log_messages=[LogMessage(level=<LogLevel.INFO: 2>, message=''), LogMessage(level=<LogLevel.ERROR: 4>, message=\"\\n/tmp/tmph_ouhqy9/domain.hpdl:1090: warning: Seting type of `?dur' to number.\\n/tmp/tmph_ouhqy9/domain.hpdl:1292: warning: Seting type of `?dur' to number.\\n/tmp/tmph_ouhqy9/domain.hpdl:1296: warning: Seting type of `?dur2' to number.\\n/tmp/tmph_ouhqy9/domain.hpdl:1307: warning: Seting type of `?dur' to number.\\n/tmp/tmph_ouhqy9/domain.hpdl:1319: warning: Seting type of `?dur' to number.\\n################################################################################\\n0 errors 5 warnings parsing domain file: /tmp/tmph_ouhqy9/domain.hpdl\\n--------------------------------------------------------------------------------\\n\")], decomposition_tree=None)\n",
      "SIADEX found a valid plan!\n",
      "The plan is: \n",
      "\n",
      "Start: 0.0 - End: 5.0 \n",
      " Break((driver, '5', b_t0, split_1, first, ndd, '1', '1', yes))\n",
      "__________________________________________________\n",
      "Start: 5.0 - End: 56.0 \n",
      " Driving((driver, '51', a, split_1, first, ndd, '1', '1', yes))\n",
      "__________________________________________________\n",
      "Start: 56.0 - End: 193.0 \n",
      " Break((driver, '137', b_t2, split_1, first, ndd, '1', '1', yes))\n",
      "__________________________________________________\n",
      "Start: 193.0 - End: 195.0 \n",
      " Driving((driver, '2', a, split_2, first, ndd, '1', '1', yes))\n",
      "__________________________________________________\n",
      "Start: 195.0 - End: 198.0 \n",
      " Other Work((driver, '3', a, split_2, first, ndd, '1', '1', yes))\n",
      "__________________________________________________\n",
      "Start: 198.0 - End: 200.0 \n",
      " Driving((driver, '2', a, split_2, first, ndd, '1', '1', yes))\n",
      "__________________________________________________\n",
      "Start: 200.0 - End: 202.0 \n",
      " Other Work((driver, '2', a, split_2, first, ndd, '1', '1', yes))\n",
      "__________________________________________________\n",
      "Start: 202.0 - End: 273.0 \n",
      " Break((driver, '71', b_t3, split_2, first, ndd, '1', '1', yes))\n",
      "__________________________________________________\n",
      "Start: 273.0 - End: 274.0 \n",
      " Driving((driver, '1', a, split_1, second, ndd, '1', '1', yes))\n",
      "__________________________________________________\n",
      "Start: 274.0 - End: 278.0 \n",
      " Other Work((driver, '4', a, split_1, second, ndd, '1', '1', yes))\n",
      "__________________________________________________\n",
      "Start: 278.0 - End: 327.0 \n",
      " Driving((driver, '49', a, split_1, second, ndd, '1', '1', yes))\n",
      "__________________________________________________\n",
      "Start: 327.0 - End: 337.0 \n",
      " Other Work((driver, '10', a, split_1, second, ndd, '1', '1', yes))\n",
      "__________________________________________________\n",
      "Start: 337.0 - End: 397.0 \n",
      " Driving((driver, '60', a, split_1, second, ndd, '1', '1', yes))\n",
      "__________________________________________________\n",
      "Start: 397.0 - End: 402.0 \n",
      " Other Work((driver, '5', a, split_1, second, ndd, '1', '1', yes))\n",
      "__________________________________________________\n",
      "Start: 402.0 - End: 403.0 \n",
      " Driving((driver, '1', a, split_1, second, ndd, '1', '1', yes))\n",
      "__________________________________________________\n",
      "Start: 403.0 - End: 514.0 \n",
      " Break((driver, '111', b_t2, split_1, second, ndd, '1', '1', yes))\n",
      "__________________________________________________\n",
      "Start: 514.0 - End: 571.0 \n",
      " Driving((driver, '57', a, split_2, second, ndd, '1', '1', yes))\n",
      "__________________________________________________\n",
      "Start: 571.0 - End: 572.0 \n",
      " Break((driver, '1', b_t0, split_2, second, ndd, '1', '1', yes))\n",
      "__________________________________________________\n",
      "Start: 572.0 - End: 575.0 \n",
      " Load Package((driver, box2, sevilla, none, split_2, second, ndd, '1', '1', yes))\n",
      "__________________________________________________\n",
      "Start: 575.0 - End: 585.0 \n",
      " Refuel((driver, none, split_2, second, ndd, '1', '1', yes))\n",
      "__________________________________________________\n",
      "Start: 585.0 - End: 831.0 \n",
      " Drive to Destination((driver, sevilla, almeria, none, split_2, second, ndd, '1', '1', yes))\n",
      "__________________________________________________\n",
      "Start: 831.0 - End: 834.0 \n",
      " Unload Package((driver, box2, almeria, none, split_2, second, ndd, '1', '1', yes))\n",
      "__________________________________________________\n"
     ]
    }
   ],
   "source": [
    "with env.factory.OneshotPlanner(name='siadex') as p:\n",
    "    result = p.solve(problem)\n",
    "    print(result)\n",
    "    if result.status == PlanGenerationResultStatus.SOLVED_SATISFICING:\n",
    "        print(f'{p.name()} found a valid plan!')\n",
    "        print(f'The plan is: \\n')\n",
    "        for i,a in enumerate(result.plan.timed_actions):\n",
    "            action_name = a[1].action.name\n",
    "            if a[1].action.name in action_status:\n",
    "                action_name = action_status[action_name]\n",
    "            print(f\"\"\"Start: {a[0]} - End: {a[0] + a[2]} \\n {action_name}({a[1].actual_parameters})\"\"\")\n",
    "            print(f\"_\"*50)\n",
    "    else:\n",
    "        print('No plan found!')"
   ]
  },
  {
   "cell_type": "code",
   "execution_count": null,
   "metadata": {},
   "outputs": [],
   "source": []
  }
 ],
 "metadata": {
  "kernelspec": {
   "display_name": "Python 3",
   "language": "python",
   "name": "python3"
  },
  "language_info": {
   "codemirror_mode": {
    "name": "ipython",
    "version": 3
   },
   "file_extension": ".py",
   "mimetype": "text/x-python",
   "name": "python",
   "nbconvert_exporter": "python",
   "pygments_lexer": "ipython3",
   "version": "3.10.6"
  },
  "orig_nbformat": 4
 },
 "nbformat": 4,
 "nbformat_minor": 2
}
