{
      "cells": [
            {
                  "attachments": {},
                  "cell_type": "markdown",
                  "metadata": {},
                  "source": [
                        "# SIADEX HTN ENGINE"
                  ]
            },
            {
                  "attachments": {},
                  "cell_type": "markdown",
                  "metadata": {},
                  "source": [
                        "####  _______ Begin Installation____________"
                  ]
            },
            {
                  "attachments": {},
                  "cell_type": "markdown",
                  "metadata": {},
                  "source": [
                        "**Disclaimer** : The installation steps are only needed until up_siadex is published on pypi and the changes on the unified-planning fork are merged into the origin package"
                  ]
            },
            {
                  "cell_type": "code",
                  "execution_count": null,
                  "metadata": {},
                  "outputs": [],
                  "source": [
                        "# Make sure the following packages are installed on the system: python-dev libreadline-dev. Those are needed for the execution of Siadex\n",
                        "!apt-get update\n",
                        "!apt-get install -y python-dev libreadline-dev"
                  ]
            },
            {
                  "cell_type": "code",
                  "execution_count": null,
                  "metadata": {},
                  "outputs": [],
                  "source": [
                        "# Clonning the repos\n",
                        "!git clone https://github.com/UGR-IntelligentSystemsGroup/unified-planning.git\n",
                        "!git clone https://github.com/UGR-IntelligentSystemsGroup/up-siadex.git"
                  ]
            },
            {
                  "cell_type": "code",
                  "execution_count": null,
                  "metadata": {},
                  "outputs": [],
                  "source": [
                        "# Install the packages\n",
                        "# %%capture\n",
                        "%pip install ./unified-planning\n",
                        "%pip install ./up-siadex"
                  ]
            },
            {
                  "attachments": {},
                  "cell_type": "markdown",
                  "metadata": {},
                  "source": [
                        "####  _______ End Installation____________"
                  ]
            },
            {
                  "attachments": {},
                  "cell_type": "markdown",
                  "metadata": {},
                  "source": [
                        "## Importing Unified Planning and UP_SIADEX\n"
                  ]
            },
            {
                  "cell_type": "code",
                  "execution_count": 1,
                  "metadata": {},
                  "outputs": [],
                  "source": [
                        "\n",
                        "import unified_planning as up\n",
                        "from unified_planning.shortcuts import *\n",
                        "from unified_planning.model.htn.hierarchical_problem import HierarchicalProblem, Task, Method\n",
                        "from unified_planning.io import PDDLReader\n",
                        "from unified_planning.io import PDDLWriter\n",
                        "from unified_planning.io.hpdl.hpdl_reader import HPDLReader\n",
                        "from unified_planning.io.hpdl.hpdl_writer import HPDLWriter\n",
                        "from unified_planning.engines.results import PlanGenerationResultStatus\n",
                        "\n",
                        "from up_siadex import SIADEXEngine"
                  ]
            },
            {
                  "attachments": {},
                  "cell_type": "markdown",
                  "metadata": {},
                  "source": [
                        "## Registering the engine\n",
                        "\n",
                        "In order to use `SIADEX`, we need to register it among the set of planning engines available for the UP library as follows."
                  ]
            },
            {
                  "cell_type": "code",
                  "execution_count": 2,
                  "metadata": {},
                  "outputs": [],
                  "source": [
                        "env = up.environment.get_env()\n",
                        "env.factory.add_engine('siadex', __name__, \"SIADEXEngine\")"
                  ]
            },
            {
                  "attachments": {},
                  "cell_type": "markdown",
                  "metadata": {},
                  "source": [
                        "## Reading a problem from a file (HDDL)"
                  ]
            },
            {
                  "cell_type": "code",
                  "execution_count": 3,
                  "metadata": {},
                  "outputs": [],
                  "source": [
                        "reader = PDDLReader()\n",
                        "problem = reader.parse_problem(\"./unified-planning/unified_planning/test/pddl/htn-transport/domain.hddl\", \"./unified-planning/unified_planning/test/pddl/htn-transport/problem.hddl\")"
                  ]
            },
            {
                  "attachments": {},
                  "cell_type": "markdown",
                  "metadata": {},
                  "source": [
                        "## Solving the problem with siadex"
                  ]
            },
            {
                  "cell_type": "code",
                  "execution_count": 4,
                  "metadata": {},
                  "outputs": [
                        {
                              "name": "stdout",
                              "output_type": "stream",
                              "text": [
                                    "\u001b[96m\u001b[1mNOTE: To disable printing of planning engine credits, add this line to your code: `up.shortcuts.get_env().credits_stream = None`\n",
                                    "\u001b[0m\u001b[96m  *** Credits ***\n",
                                    "\u001b[0m\u001b[96m  * In operation mode `OneshotPlanner` at line 1 of `/tmp/ipykernel_2155/3527194102.py`, \u001b[0m\u001b[96myou are using the following planning engine:\n",
                                    "\u001b[0m\u001b[96m  * Engine name: SIADEX\n",
                                    "  * Developers:  UGR SIADEX Team\n",
                                    "\u001b[0m\u001b[96m  * Description: \u001b[0m\u001b[96mSIADEX ENGINE\u001b[0m\u001b[96m\n",
                                    "\u001b[0m\u001b[96m\n",
                                    "\u001b[0mSIADEX found a valid plan!\n",
                                    "The plan is: \n",
                                    "\n",
                                    "0: drive(truck-0, city-loc-2, city-loc-1)\n",
                                    "1: pick-up(truck-0, city-loc-1, package-0, capacity-0, capacity-1)\n",
                                    "2: drive(truck-0, city-loc-1, city-loc-0)\n",
                                    "3: drop(truck-0, city-loc-0, package-0, capacity-0, capacity-1)\n",
                                    "4: drive(truck-0, city-loc-0, city-loc-1)\n",
                                    "5: pick-up(truck-0, city-loc-1, package-1, capacity-0, capacity-1)\n",
                                    "6: drive(truck-0, city-loc-1, city-loc-0)\n",
                                    "7: drop(truck-0, city-loc-0, package-1, capacity-0, capacity-1)\n"
                              ]
                        },
                        {
                              "name": "stderr",
                              "output_type": "stream",
                              "text": [
                                    "/mnt/e/newDesktop/void/projects/siadex/up-siadex/Notebooks/unified-planning/unified_planning/engines/mixins/oneshot_planner.py:73: UserWarning: <function SIADEXEngine.name at 0x7fab86372320> cannot solve this kind of problem!\n",
                                    "  warn(msg)\n"
                              ]
                        }
                  ],
                  "source": [
                        "with env.factory.OneshotPlanner(name='siadex') as p:\n",
                        "    result = p.solve(problem)\n",
                        "    if result.status == PlanGenerationResultStatus.SOLVED_SATISFICING:\n",
                        "        print(f'{p.name()} found a valid plan!')\n",
                        "        print(f'The plan is: \\n')\n",
                        "        for i,a in enumerate(result.plan.actions):\n",
                        "            print(f\"{i}: {a}\")\n",
                        "    else:\n",
                        "        print('No plan found!')"
                  ]
            },
            {
                  "attachments": {},
                  "cell_type": "markdown",
                  "metadata": {},
                  "source": [
                        "Lets wrap it inside a function so we don't need to write it again"
                  ]
            },
            {
                  "cell_type": "code",
                  "execution_count": 5,
                  "metadata": {},
                  "outputs": [],
                  "source": [
                        "def solve_with_siadex(problem):\n",
                        "    with env.factory.OneshotPlanner(name='siadex') as p:\n",
                        "        result = p.solve(problem)\n",
                        "        print(result.log_messages)\n",
                        "        if result.status == PlanGenerationResultStatus.SOLVED_SATISFICING:\n",
                        "            print(f'{p.name()} found a valid plan!')\n",
                        "            print(f'The plan is: \\n')\n",
                        "            for i,a in enumerate(result.plan.actions):\n",
                        "                print(f\"{i}: {a}\")\n",
                        "            return result.plan\n",
                        "        else:\n",
                        "            return []\n",
                        "            print('No plan found!')"
                  ]
            },
            {
                  "attachments": {},
                  "cell_type": "markdown",
                  "metadata": {},
                  "source": [
                        "## Example of a hierarchical  problem done with UPF"
                  ]
            },
            {
                  "cell_type": "code",
                  "execution_count": 6,
                  "metadata": {},
                  "outputs": [],
                  "source": [
                        "htn = HierarchicalProblem()\n",
                        "\n",
                        "#_________Objects_________#\n",
                        "Location = UserType(\"Location\")\n",
                        "\n",
                        "l1 = htn.add_object(\"l1\", Location)\n",
                        "l2 = htn.add_object(\"l2\", Location)\n",
                        "l3 = htn.add_object(\"l3\", Location)\n",
                        "l4 = htn.add_object(\"l4\", Location)\n",
                        "\n",
                        "#_________Fluents_________#\n",
                        "loc = Fluent(\"is_on\", l=Location)\n",
                        "htn.add_fluent(loc, default_initial_value=False)\n",
                        "\n",
                        "connected = Fluent(\"connected\", l1=Location, l2=Location)\n",
                        "htn.add_fluent(connected, default_initial_value=False)\n",
                        "htn.set_initial_value(connected(l1, l2), True)\n",
                        "htn.set_initial_value(connected(l2, l3), True)\n",
                        "htn.set_initial_value(connected(l3, l4), True)\n",
                        "htn.set_initial_value(connected(l4, l3), True)\n",
                        "htn.set_initial_value(connected(l3, l2), True)\n",
                        "htn.set_initial_value(connected(l2, l1), True)\n",
                        "htn.set_initial_value(loc(l1), True)\n",
                        "\n",
                        "\n",
                        "#_________Actions_________#\n",
                        "move = InstantaneousAction(\"move\", l_from=Location, l_to=Location)\n",
                        "l_from = move.parameter(\"l_from\")\n",
                        "l_to = move.parameter(\"l_to\")\n",
                        "move.add_precondition(loc(l_from))\n",
                        "move.add_precondition(connected(l_from, l_to))\n",
                        "move.add_effect(loc(l_from), False)\n",
                        "move.add_effect(loc(l_to), True)\n",
                        "htn.add_action(move)\n",
                        "\n",
                        "#_________Task_________#\n",
                        "go = htn.add_task(\"go\", target=Location)\n",
                        "\n",
                        "#_________Methods_________#\n",
                        "go_noop = Method(\"go-noop\", target=Location)\n",
                        "go_noop.set_task(go)\n",
                        "target = go_noop.parameter(\"target\")\n",
                        "go_noop.add_precondition(loc(target))\n",
                        "\n",
                        "htn.add_method(go_noop)\n",
                        "\n",
                        "go_recursive = Method(\n",
                        "    \"go-recursive\", source=Location, inter=Location, target=Location\n",
                        ")\n",
                        "\n",
                        "go_recursive.set_task(go, go_recursive.parameter(\"target\"))\n",
                        "\n",
                        "source = go_recursive.parameter(\"source\")\n",
                        "inter = go_recursive.parameter(\"inter\")\n",
                        "target = go_recursive.parameter(\"target\")\n",
                        "\n",
                        "go_recursive.add_precondition(loc(source))\n",
                        "go_recursive.add_precondition(connected(source, inter))\n",
                        "\n",
                        "t1 = go_recursive.add_subtask(move, source, inter)\n",
                        "t2 = go_recursive.add_subtask(go, target)\n",
                        "go_recursive.set_ordered(t1, t2)\n",
                        "htn.add_method(go_recursive)\n",
                        "\n",
                        "\n",
                        "#_________Init_________#\n",
                        "go1 = htn.task_network.add_subtask(go, l4)"
                  ]
            },
            {
                  "cell_type": "code",
                  "execution_count": 7,
                  "metadata": {},
                  "outputs": [
                        {
                              "name": "stdout",
                              "output_type": "stream",
                              "text": [
                                    "\u001b[96m  *** Credits ***\n",
                                    "\u001b[0m\u001b[96m  * In operation mode `OneshotPlanner` at line 2 of `/tmp/ipykernel_2155/937920758.py`, \u001b[0m\u001b[96myou are using the following planning engine:\n",
                                    "\u001b[0m\u001b[96m  * Engine name: SIADEX\n",
                                    "  * Developers:  UGR SIADEX Team\n",
                                    "\u001b[0m\u001b[96m  * Description: \u001b[0m\u001b[96mSIADEX ENGINE\u001b[0m\u001b[96m\n",
                                    "\u001b[0m\u001b[96m\n",
                                    "\u001b[0m[LogMessage(level=<LogLevel.INFO: 2>, message=''), LogMessage(level=<LogLevel.ERROR: 4>, message='\\n')]\n",
                                    "SIADEX found a valid plan!\n",
                                    "The plan is: \n",
                                    "\n",
                                    "0: move(l1, l2)\n",
                                    "1: move(l2, l3)\n",
                                    "2: move(l3, l4)\n"
                              ]
                        },
                        {
                              "data": {
                                    "text/plain": [
                                          "[move(l1, l2), move(l2, l3), move(l3, l4)]"
                                    ]
                              },
                              "execution_count": 7,
                              "metadata": {},
                              "output_type": "execute_result"
                        }
                  ],
                  "source": [
                        "solve_with_siadex(htn)"
                  ]
            },
            {
                  "attachments": {},
                  "cell_type": "markdown",
                  "metadata": {},
                  "source": [
                        "## Reading a problem from a file (HDPL)"
                  ]
            },
            {
                  "cell_type": "code",
                  "execution_count": 8,
                  "metadata": {},
                  "outputs": [],
                  "source": [
                        "reader = HPDLReader()\n",
                        "miconic = reader.parse_problem(\"./up-siadex/examples/ipc/Miconic/domain.hpdl\", \"./up-siadex/examples/ipc/Miconic/problem.hpdl\")\n",
                        "rover = reader.parse_problem(\"./up-siadex/examples/ipc/Rover/domain.hpdl\",\"./up-siadex/examples/ipc/Rover/problem.hpdl\")\n",
                        "satellite = reader.parse_problem(\"./up-siadex/examples/ipc/Satellite/domain.hpdl\",\"./up-siadex/examples/ipc/Satellite/problem.hpdl\")\n",
                        "# smartphone = reader.parse_problem(\"./up-siadex/examples/ipc/SmartPhone/domain.hpdl\",\"./up-siadex/examples/ipc/SmartPhone/problem.hpdl\")\n",
                        "transport = reader.parse_problem(\"./up-siadex/examples/ipc/Transport/domain.hpdl\",\"./up-siadex/examples/ipc/Transport/problem.hpdl\")\n",
                        "# translog = reader.parse_problem(\"./up-siadex/examples/ipc/UM-Translog/domain.hpdl\",\"./up-siadex/examples/ipc/UM-Translog/problem.hpdl\")\n",
                        "zeno = reader.parse_problem(\"./up-siadex/examples/ipc/Zenotravel/domain.hpdl\",\"./up-siadex/examples/ipc/Zenotravel/problem.hpdl\")"
                  ]
            },
            {
                  "cell_type": "code",
                  "execution_count": 9,
                  "metadata": {},
                  "outputs": [
                        {
                              "name": "stdout",
                              "output_type": "stream",
                              "text": [
                                    "\u001b[96m  *** Credits ***\n",
                                    "\u001b[0m\u001b[96m  * In operation mode `OneshotPlanner` at line 2 of `/tmp/ipykernel_2155/937920758.py`, \u001b[0m\u001b[96myou are using the following planning engine:\n",
                                    "\u001b[0m\u001b[96m  * Engine name: SIADEX\n",
                                    "  * Developers:  UGR SIADEX Team\n",
                                    "\u001b[0m\u001b[96m  * Description: \u001b[0m\u001b[96mSIADEX ENGINE\u001b[0m\u001b[96m\n",
                                    "\u001b[0m\u001b[96m\n",
                                    "\u001b[0m[LogMessage(level=<LogLevel.INFO: 2>, message=''), LogMessage(level=<LogLevel.ERROR: 4>, message='\\n\\n[Error]: Empty stack\\n')]\n",
                                    "SIADEX found a valid plan!\n",
                                    "The plan is: \n",
                                    "\n"
                              ]
                        },
                        {
                              "data": {
                                    "text/plain": [
                                          "[]"
                                    ]
                              },
                              "execution_count": 9,
                              "metadata": {},
                              "output_type": "execute_result"
                        }
                  ],
                  "source": [
                        "solve_with_siadex(rover)"
                  ]
            },
            {
                  "cell_type": "code",
                  "execution_count": 10,
                  "metadata": {},
                  "outputs": [
                        {
                              "name": "stdout",
                              "output_type": "stream",
                              "text": [
                                    "\u001b[96m  *** Credits ***\n",
                                    "\u001b[0m\u001b[96m  * In operation mode `OneshotPlanner` at line 2 of `/tmp/ipykernel_2155/937920758.py`, \u001b[0m\u001b[96myou are using the following planning engine:\n",
                                    "\u001b[0m\u001b[96m  * Engine name: SIADEX\n",
                                    "  * Developers:  UGR SIADEX Team\n",
                                    "\u001b[0m\u001b[96m  * Description: \u001b[0m\u001b[96mSIADEX ENGINE\u001b[0m\u001b[96m\n",
                                    "\u001b[0m\u001b[96m\n",
                                    "\u001b[0m[LogMessage(level=<LogLevel.INFO: 2>, message=''), LogMessage(level=<LogLevel.ERROR: 4>, message='\\n')]\n",
                                    "SIADEX found a valid plan!\n",
                                    "The plan is: \n",
                                    "\n",
                                    "0: drive_primitive(truck_0, city_loc_2, city_loc_1)\n",
                                    "1: pick_up_primitive(truck_0, city_loc_1, package_0, capacity_0, capacity_1)\n",
                                    "2: drive_primitive(truck_0, city_loc_1, city_loc_0)\n",
                                    "3: drop_primitive(truck_0, city_loc_0, package_0, capacity_0, capacity_1)\n",
                                    "4: drive_primitive(truck_0, city_loc_0, city_loc_1)\n",
                                    "5: pick_up_primitive(truck_0, city_loc_1, package_1, capacity_0, capacity_1)\n",
                                    "6: drive_primitive(truck_0, city_loc_1, city_loc_2)\n",
                                    "7: drop_primitive(truck_0, city_loc_2, package_1, capacity_0, capacity_1)\n"
                              ]
                        },
                        {
                              "data": {
                                    "text/plain": [
                                          "[drive_primitive(truck_0, city_loc_2, city_loc_1), pick_up_primitive(truck_0, city_loc_1, package_0, capacity_0, capacity_1), drive_primitive(truck_0, city_loc_1, city_loc_0), drop_primitive(truck_0, city_loc_0, package_0, capacity_0, capacity_1), drive_primitive(truck_0, city_loc_0, city_loc_1), pick_up_primitive(truck_0, city_loc_1, package_1, capacity_0, capacity_1), drive_primitive(truck_0, city_loc_1, city_loc_2), drop_primitive(truck_0, city_loc_2, package_1, capacity_0, capacity_1)]"
                                    ]
                              },
                              "execution_count": 10,
                              "metadata": {},
                              "output_type": "execute_result"
                        }
                  ],
                  "source": [
                        "solve_with_siadex(transport)"
                  ]
            },
            {
                  "cell_type": "code",
                  "execution_count": 11,
                  "metadata": {},
                  "outputs": [
                        {
                              "name": "stdout",
                              "output_type": "stream",
                              "text": [
                                    "\u001b[96m  *** Credits ***\n",
                                    "\u001b[0m\u001b[96m  * In operation mode `OneshotPlanner` at line 2 of `/tmp/ipykernel_2155/937920758.py`, \u001b[0m\u001b[96myou are using the following planning engine:\n",
                                    "\u001b[0m\u001b[96m  * Engine name: SIADEX\n",
                                    "  * Developers:  UGR SIADEX Team\n",
                                    "\u001b[0m\u001b[96m  * Description: \u001b[0m\u001b[96mSIADEX ENGINE\u001b[0m\u001b[96m\n",
                                    "\u001b[0m\u001b[96m\n",
                                    "\u001b[0m[LogMessage(level=<LogLevel.INFO: 2>, message=''), LogMessage(level=<LogLevel.ERROR: 4>, message='\\n')]\n",
                                    "SIADEX found a valid plan!\n",
                                    "The plan is: \n",
                                    "\n",
                                    "0: fly_primitive(a1, c2, c4, f6, f5)\n",
                                    "1: board_primitive(p1, a1, c4)\n",
                                    "2: fly_primitive(a1, c4, c3, f5, f4)\n",
                                    "3: debark_primitive(p1, a1, c3)\n",
                                    "4: fly_primitive(a1, c3, c2, f4, f3)\n",
                                    "5: board_primitive(p4, a1, c2)\n",
                                    "6: fly_primitive(a1, c2, c4, f3, f2)\n",
                                    "7: debark_primitive(p4, a1, c4)\n",
                                    "8: fly_primitive(a1, c4, c1, f2, f1)\n",
                                    "9: board_primitive(p3, a1, c1)\n",
                                    "10: fly_primitive(a1, c1, c4, f1, f0)\n",
                                    "11: debark_primitive(p3, a1, c4)\n",
                                    "12: refuel_primitive(a1, f0, f2)\n",
                                    "13: fly_primitive(a1, c4, c1, f2, f0)\n",
                                    "14: board_primitive(p2, a1, c1)\n",
                                    "15: refuel_primitive(a1, f0, f2)\n",
                                    "16: fly_primitive(a1, c1, c4, f2, f0)\n",
                                    "17: debark_primitive(p2, a1, c4)\n",
                                    "18: goal_action_primitive\n"
                              ]
                        },
                        {
                              "data": {
                                    "text/plain": [
                                          "[fly_primitive(a1, c2, c4, f6, f5), board_primitive(p1, a1, c4), fly_primitive(a1, c4, c3, f5, f4), debark_primitive(p1, a1, c3), fly_primitive(a1, c3, c2, f4, f3), board_primitive(p4, a1, c2), fly_primitive(a1, c2, c4, f3, f2), debark_primitive(p4, a1, c4), fly_primitive(a1, c4, c1, f2, f1), board_primitive(p3, a1, c1), fly_primitive(a1, c1, c4, f1, f0), debark_primitive(p3, a1, c4), refuel_primitive(a1, f0, f2), fly_primitive(a1, c4, c1, f2, f0), board_primitive(p2, a1, c1), refuel_primitive(a1, f0, f2), fly_primitive(a1, c1, c4, f2, f0), debark_primitive(p2, a1, c4), goal_action_primitive]"
                                    ]
                              },
                              "execution_count": 11,
                              "metadata": {},
                              "output_type": "execute_result"
                        }
                  ],
                  "source": [
                        "solve_with_siadex(zeno)"
                  ]
            },
            {
                  "cell_type": "code",
                  "execution_count": 12,
                  "metadata": {},
                  "outputs": [
                        {
                              "name": "stdout",
                              "output_type": "stream",
                              "text": [
                                    "\u001b[96m  *** Credits ***\n",
                                    "\u001b[0m\u001b[96m  * In operation mode `OneshotPlanner` at line 2 of `/tmp/ipykernel_2155/937920758.py`, \u001b[0m\u001b[96myou are using the following planning engine:\n",
                                    "\u001b[0m\u001b[96m  * Engine name: SIADEX\n",
                                    "  * Developers:  UGR SIADEX Team\n",
                                    "\u001b[0m\u001b[96m  * Description: \u001b[0m\u001b[96mSIADEX ENGINE\u001b[0m\u001b[96m\n",
                                    "\u001b[0m\u001b[96m\n",
                                    "\u001b[0m[LogMessage(level=<LogLevel.INFO: 2>, message=''), LogMessage(level=<LogLevel.ERROR: 4>, message='\\n')]\n",
                                    "SIADEX found a valid plan!\n",
                                    "The plan is: \n",
                                    "\n",
                                    "0: move_primitive(f0, f0)\n",
                                    "1: board_primitive(p0, f0)\n",
                                    "2: move_primitive(f0, f1)\n",
                                    "3: debark_primitive(p0, f1)\n",
                                    "4: move_primitive(f1, f3)\n",
                                    "5: board_primitive(p2, f3)\n",
                                    "6: move_primitive(f3, f1)\n",
                                    "7: debark_primitive(p2, f1)\n",
                                    "8: move_primitive(f1, f2)\n",
                                    "9: board_primitive(p4, f2)\n",
                                    "10: move_primitive(f2, f1)\n",
                                    "11: debark_primitive(p4, f1)\n",
                                    "12: move_primitive(f1, f0)\n",
                                    "13: board_primitive(p1, f0)\n",
                                    "14: move_primitive(f0, f3)\n",
                                    "15: debark_primitive(p1, f3)\n",
                                    "16: move_primitive(f3, f3)\n",
                                    "17: board_primitive(p3, f3)\n",
                                    "18: move_primitive(f3, f2)\n",
                                    "19: debark_primitive(p3, f2)\n"
                              ]
                        },
                        {
                              "data": {
                                    "text/plain": [
                                          "[move_primitive(f0, f0), board_primitive(p0, f0), move_primitive(f0, f1), debark_primitive(p0, f1), move_primitive(f1, f3), board_primitive(p2, f3), move_primitive(f3, f1), debark_primitive(p2, f1), move_primitive(f1, f2), board_primitive(p4, f2), move_primitive(f2, f1), debark_primitive(p4, f1), move_primitive(f1, f0), board_primitive(p1, f0), move_primitive(f0, f3), debark_primitive(p1, f3), move_primitive(f3, f3), board_primitive(p3, f3), move_primitive(f3, f2), debark_primitive(p3, f2)]"
                                    ]
                              },
                              "execution_count": 12,
                              "metadata": {},
                              "output_type": "execute_result"
                        }
                  ],
                  "source": [
                        "solve_with_siadex(miconic)"
                  ]
            }
      ],
      "metadata": {
            "kernelspec": {
                  "display_name": "Python 3",
                  "language": "python",
                  "name": "python3"
            },
            "language_info": {
                  "codemirror_mode": {
                        "name": "ipython",
                        "version": 3
                  },
                  "file_extension": ".py",
                  "mimetype": "text/x-python",
                  "name": "python",
                  "nbconvert_exporter": "python",
                  "pygments_lexer": "ipython3",
                  "version": "3.10.6"
            },
            "orig_nbformat": 4,
            "vscode": {
                  "interpreter": {
                        "hash": "e7370f93d1d0cde622a1f8e1c04877d8463912d04d973331ad4851f04de6915a"
                  }
            }
      },
      "nbformat": 4,
      "nbformat_minor": 2
}
