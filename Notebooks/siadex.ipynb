{
 "cells": [
  {
   "attachments": {},
   "cell_type": "markdown",
   "metadata": {},
   "source": [
    "# SIADEX HTN ENGINE\n",
    "\n",
    "imports requireds"
   ]
  },
  {
   "cell_type": "code",
   "execution_count": 1,
   "metadata": {},
   "outputs": [
    {
     "name": "stdout",
     "output_type": "stream",
     "text": [
      "Processing /workspaces/up-siadex\n",
      "  Preparing metadata (setup.py) ... \u001b[?25ldone\n",
      "\u001b[?25hBuilding wheels for collected packages: up-siadex\n",
      "  Building wheel for up-siadex (setup.py) ... \u001b[?25ldone\n",
      "\u001b[?25h  Created wheel for up-siadex: filename=up_siadex-0.0.1-py3-none-any.whl size=8662000 sha256=131a5d86bd17406b4061f78f6d710c0ea71f554148ff49cfdd652841fb2af42d\n",
      "  Stored in directory: /home/codespace/.cache/pip/wheels/63/55/a1/26a2eb3a61793baa41bdcf5daf2fa5975374c48f8639a70b08\n",
      "Successfully built up-siadex\n",
      "Installing collected packages: up-siadex\n",
      "  Attempting uninstall: up-siadex\n",
      "    Found existing installation: up-siadex 0.0.1\n",
      "    Uninstalling up-siadex-0.0.1:\n",
      "      Successfully uninstalled up-siadex-0.0.1\n",
      "Successfully installed up-siadex-0.0.1\n",
      "Processing /workspaces/up-siadex/unified-planning\n",
      "  Preparing metadata (setup.py) ... \u001b[?25ldone\n",
      "\u001b[?25hRequirement already satisfied: pyparsing in /home/codespace/.local/lib/python3.10/site-packages (from unified-planning==0.4.2) (3.0.9)\n",
      "Requirement already satisfied: networkx in /usr/local/python/3.10.4/lib/python3.10/site-packages (from unified-planning==0.4.2) (2.8.8)\n",
      "Building wheels for collected packages: unified-planning\n",
      "  Building wheel for unified-planning (setup.py) ... \u001b[?25ldone\n",
      "\u001b[?25h  Created wheel for unified-planning: filename=unified_planning-0.4.2-py3-none-any.whl size=352469 sha256=5b83e5c60a54a38712bfbb5804be20bcdffc0a438a019b668e02ce6589d84723\n",
      "  Stored in directory: /home/codespace/.cache/pip/wheels/c4/05/f2/821c8767d2971ed17287b1008afb0607f41dad844571a5b40f\n",
      "Successfully built unified-planning\n",
      "Installing collected packages: unified-planning\n",
      "  Attempting uninstall: unified-planning\n",
      "    Found existing installation: unified-planning 0.4.2\n",
      "    Uninstalling unified-planning-0.4.2:\n",
      "      Successfully uninstalled unified-planning-0.4.2\n",
      "Successfully installed unified-planning-0.4.2\n"
     ]
    }
   ],
   "source": [
    "!pip install ..\n",
    "!pip install ../unified-planning"
   ]
  },
  {
   "cell_type": "code",
   "execution_count": 3,
   "metadata": {},
   "outputs": [],
   "source": [
    "from up_siadex import SIADEXEngine\n",
    "\n",
    "import unified_planning as up\n",
    "from unified_planning.shortcuts import *\n",
    "from unified_planning.model.htn.hierarchical_problem import HierarchicalProblem, Task, Method\n",
    "from unified_planning.io import PDDLReader\n",
    "from unified_planning.io import PDDLWriter\n",
    "from unified_planning.io.hpdl.hpdl_reader import HPDLReader\n",
    "from unified_planning.io.hpdl.hpdl_writer import HPDLWriter\n",
    "from unified_planning.engines.results import PlanGenerationResultStatus\n"
   ]
  },
  {
   "attachments": {},
   "cell_type": "markdown",
   "metadata": {},
   "source": [
    "## Registering the engine\n",
    "\n",
    "In order to use `SIADEX`, we need to register it among the set of planning engines available for the UP library as follows."
   ]
  },
  {
   "cell_type": "code",
   "execution_count": 4,
   "metadata": {},
   "outputs": [],
   "source": [
    "env = up.environment.get_env()\n",
    "env.factory.add_engine('siadex', __name__, \"SIADEXEngine\")"
   ]
  },
  {
   "attachments": {},
   "cell_type": "markdown",
   "metadata": {},
   "source": [
    "## Reading a problem from a file"
   ]
  },
  {
   "cell_type": "code",
   "execution_count": 5,
   "metadata": {},
   "outputs": [],
   "source": [
    "reader = PDDLReader()\n",
    "problem = reader.parse_problem(\"../unified-planning/unified_planning/test/pddl/htn-transport/domain.hddl\", \"../unified-planning/unified_planning/test/pddl/htn-transport/problem.hddl\")"
   ]
  },
  {
   "attachments": {},
   "cell_type": "markdown",
   "metadata": {},
   "source": [
    "## Solving the problem with siadex"
   ]
  },
  {
   "cell_type": "code",
   "execution_count": 6,
   "metadata": {},
   "outputs": [
    {
     "name": "stdout",
     "output_type": "stream",
     "text": [
      "\u001b[96m\u001b[1mNOTE: To disable printing of planning engine credits, add this line to your code: `up.shortcuts.get_env().credits_stream = None`\n",
      "\u001b[0m\u001b[96m  *** Credits ***\n",
      "\u001b[0m\u001b[96m  * In operation mode `OneshotPlanner` at line 1 of `/tmp/ipykernel_14545/3527194102.py`, \u001b[0m\u001b[96myou are using the following planning engine:\n",
      "\u001b[0m\u001b[96m  * Engine name: SIADEX\n",
      "  * Developers:  UGR SIADEX Team\n",
      "\u001b[0m\u001b[96m  * Description: \u001b[0m\u001b[96mSIADEX ENGINE\u001b[0m\u001b[96m\n",
      "\u001b[0m\u001b[96m\n",
      "\u001b[0m"
     ]
    },
    {
     "name": "stderr",
     "output_type": "stream",
     "text": [
      "/home/codespace/.python/current/lib/python3.10/site-packages/unified_planning/engines/mixins/oneshot_planner.py:73: UserWarning: <function SIADEXEngine.name at 0x7f6c6658cb80> cannot solve this kind of problem!\n",
      "  warn(msg)\n"
     ]
    },
    {
     "name": "stdout",
     "output_type": "stream",
     "text": [
      "SIADEX found a valid plan!\n",
      "The plan is: \n",
      "\n",
      "0: drive(truck-0, city-loc-2, city-loc-1)\n",
      "1: pick-up(truck-0, city-loc-1, package-0, capacity-0, capacity-1)\n",
      "2: drive(truck-0, city-loc-1, city-loc-0)\n",
      "3: drop(truck-0, city-loc-0, package-0, capacity-0, capacity-1)\n",
      "4: drive(truck-0, city-loc-0, city-loc-1)\n",
      "5: pick-up(truck-0, city-loc-1, package-1, capacity-0, capacity-1)\n",
      "6: drive(truck-0, city-loc-1, city-loc-0)\n",
      "7: drop(truck-0, city-loc-0, package-1, capacity-0, capacity-1)\n"
     ]
    }
   ],
   "source": [
    "with env.factory.OneshotPlanner(name='siadex') as p:\n",
    "    result = p.solve(problem)\n",
    "    if result.status == PlanGenerationResultStatus.SOLVED_SATISFICING:\n",
    "        print(f'{p.name()} found a valid plan!')\n",
    "        print(f'The plan is: \\n')\n",
    "        for i,a in enumerate(result.plan.actions):\n",
    "            print(f\"{i}: {a}\")\n",
    "    else:\n",
    "        print('No plan found!')"
   ]
  },
  {
   "cell_type": "code",
   "execution_count": 7,
   "metadata": {},
   "outputs": [],
   "source": [
    "def solve_with_siadex(problem):\n",
    "    with env.factory.OneshotPlanner(name='siadex') as p:\n",
    "        result = p.solve(problem)\n",
    "        print(result.log_messages)\n",
    "        if result.status == PlanGenerationResultStatus.SOLVED_SATISFICING:\n",
    "            print(f'{p.name()} found a valid plan!')\n",
    "            print(f'The plan is: \\n')\n",
    "            for i,a in enumerate(result.plan.actions):\n",
    "                print(f\"{i}: {a}\")\n",
    "            return result.plan\n",
    "        else:\n",
    "            return []\n",
    "            print('No plan found!')"
   ]
  },
  {
   "cell_type": "code",
   "execution_count": 11,
   "metadata": {},
   "outputs": [],
   "source": [
    "htn = HierarchicalProblem()\n",
    "\n",
    "Location = UserType(\"Location\")\n",
    "\n",
    "l1 = htn.add_object(\"l1\", Location)\n",
    "l2 = htn.add_object(\"l2\", Location)\n",
    "l3 = htn.add_object(\"l3\", Location)\n",
    "l4 = htn.add_object(\"l4\", Location)\n",
    "\n",
    "loc = Fluent(\"is_on\", l=Location)\n",
    "htn.add_fluent(loc, default_initial_value=False)\n",
    "\n",
    "\n",
    "connected = Fluent(\"connected\", l1=Location, l2=Location)\n",
    "htn.add_fluent(connected, default_initial_value=False)\n",
    "htn.set_initial_value(connected(l1, l2), True)\n",
    "htn.set_initial_value(connected(l2, l3), True)\n",
    "htn.set_initial_value(connected(l3, l4), True)\n",
    "htn.set_initial_value(connected(l4, l3), True)\n",
    "htn.set_initial_value(connected(l3, l2), True)\n",
    "htn.set_initial_value(connected(l2, l1), True)\n",
    "htn.set_initial_value(loc(l1), True)\n",
    "\n",
    "\n",
    "\n",
    "move = InstantaneousAction(\"move\", l_from=Location, l_to=Location)\n",
    "l_from = move.parameter(\"l_from\")\n",
    "l_to = move.parameter(\"l_to\")\n",
    "move.add_precondition(loc(l_from))\n",
    "move.add_precondition(connected(l_from, l_to))\n",
    "move.add_effect(loc(l_from), False)\n",
    "move.add_effect(loc(l_to), True)\n",
    "htn.add_action(move)\n",
    "\n",
    "go = htn.add_task(\"go\", target=Location)\n",
    "\n",
    "go_noop = Method(\"go-noop\", target=Location)\n",
    "go_noop.set_task(go)\n",
    "target = go_noop.parameter(\"target\")\n",
    "go_noop.add_precondition(loc(target))\n",
    "\n",
    "htn.add_method(go_noop)\n",
    "\n",
    "go_recursive = Method(\n",
    "    \"go-recursive\", source=Location, inter=Location, target=Location\n",
    ")\n",
    "\n",
    "go_recursive.set_task(go, go_recursive.parameter(\"target\"))\n",
    "source = go_recursive.parameter(\"source\")\n",
    "inter = go_recursive.parameter(\"inter\")\n",
    "target = go_recursive.parameter(\"target\")\n",
    "\n",
    "go_recursive.add_precondition(loc(source))\n",
    "go_recursive.add_precondition(connected(source, inter))\n",
    "\n",
    "t1 = go_recursive.add_subtask(move, source, inter)\n",
    "t2 = go_recursive.add_subtask(go, target)\n",
    "go_recursive.set_ordered(t1, t2)\n",
    "htn.add_method(go_recursive)\n",
    "\n",
    "go1 = htn.task_network.add_subtask(go, l4)\n"
   ]
  },
  {
   "cell_type": "code",
   "execution_count": 13,
   "metadata": {},
   "outputs": [
    {
     "name": "stdout",
     "output_type": "stream",
     "text": [
      "\u001b[96m  *** Credits ***\n",
      "\u001b[0m\u001b[96m  * In operation mode `OneshotPlanner` at line 2 of `/tmp/ipykernel_14545/937920758.py`, \u001b[0m\u001b[96myou are using the following planning engine:\n",
      "\u001b[0m\u001b[96m  * Engine name: SIADEX\n",
      "  * Developers:  UGR SIADEX Team\n",
      "\u001b[0m\u001b[96m  * Description: \u001b[0m\u001b[96mSIADEX ENGINE\u001b[0m\u001b[96m\n",
      "\u001b[0m\u001b[96m\n",
      "\u001b[0m[LogMessage(level=<LogLevel.INFO: 2>, message=''), LogMessage(level=<LogLevel.ERROR: 4>, message='\\n')]\n",
      "SIADEX found a valid plan!\n",
      "The plan is: \n",
      "\n",
      "0: move(l1, l2)\n",
      "1: move(l2, l3)\n",
      "2: move(l3, l4)\n"
     ]
    },
    {
     "data": {
      "text/plain": [
       "[move(l1, l2), move(l2, l3), move(l3, l4)]"
      ]
     },
     "execution_count": 13,
     "metadata": {},
     "output_type": "execute_result"
    }
   ],
   "source": [
    "solve_with_siadex(htn)"
   ]
  },
  {
   "cell_type": "code",
   "execution_count": null,
   "metadata": {},
   "outputs": [],
   "source": []
  }
 ],
 "metadata": {
  "kernelspec": {
   "display_name": "Python 3.10.4 64-bit",
   "language": "python",
   "name": "python3"
  },
  "language_info": {
   "codemirror_mode": {
    "name": "ipython",
    "version": 3
   },
   "file_extension": ".py",
   "mimetype": "text/x-python",
   "name": "python",
   "nbconvert_exporter": "python",
   "pygments_lexer": "ipython3",
   "version": "3.10.4"
  },
  "orig_nbformat": 4,
  "vscode": {
   "interpreter": {
    "hash": "3ad933181bd8a04b432d3370b9dc3b0662ad032c4dfaa4e4f1596c548f763858"
   }
  }
 },
 "nbformat": 4,
 "nbformat_minor": 2
}
