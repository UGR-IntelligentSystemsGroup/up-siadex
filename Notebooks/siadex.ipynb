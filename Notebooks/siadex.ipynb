{
      "cells": [
            {
                  "attachments": {},
                  "cell_type": "markdown",
                  "metadata": {},
                  "source": [
                        "# SIADEX HTN ENGINE\n",
                        "\n",
                        "imports requireds"
                  ]
            },
            {
                  "attachments": {},
                  "cell_type": "markdown",
                  "metadata": {},
                  "source": [
                        "## TODO: Write introduction\n",
                        "\n",
                        "- What is SIADEX?\n",
                        "- What is HTN\n"
                  ]
            },
            {
                  "attachments": {},
                  "cell_type": "markdown",
                  "metadata": {},
                  "source": [
                        "## Requirements\n",
                        "\n",
                        "You can install SIADEX and its UPF integration with the following command"
                  ]
            },
            {
                  "cell_type": "code",
                  "execution_count": 1,
                  "metadata": {},
                  "outputs": [
                        {
                              "name": "stdout",
                              "output_type": "stream",
                              "text": [
                                    "Processing /mnt/e/Users/ignac/Desktop/Research/AIPLAN4EU/up-siadex\n",
                                    "  Preparing metadata (setup.py) ... \u001b[?25ldone\n",
                                    "\u001b[?25hBuilding wheels for collected packages: up-siadex\n",
                                    "  Building wheel for up-siadex (setup.py) ... \u001b[?25l-^C\n",
                                    "\u001b[?25canceled\n",
                                    "\u001b[31mERROR: Operation cancelled by user\u001b[0m\u001b[31m\n",
                                    "\u001b[0mProcessing /mnt/e/Users/ignac/Desktop/Research/AIPLAN4EU/unified-planning\n",
                                    "  Preparing metadata (setup.py) ... \u001b[?25l\\"
                              ]
                        },
                        {
                              "ename": "",
                              "evalue": "",
                              "output_type": "error",
                              "traceback": [
                                    "\u001b[1;31mCanceled future for execute_request message before replies were done"
                              ]
                        }
                  ],
                  "source": [
                        "!pip install ..\n",
                        "!pip install ../../unified-planning"
                  ]
            },
            {
                  "cell_type": "code",
                  "execution_count": null,
                  "metadata": {},
                  "outputs": [],
                  "source": [
                        "from up_siadex import SIADEXEngine\n",
                        "\n",
                        "import unified_planning as up\n",
                        "from unified_planning.shortcuts import *\n",
                        "from unified_planning.model.htn.hierarchical_problem import HierarchicalProblem, Task, Method\n",
                        "from unified_planning.io import PDDLReader\n",
                        "from unified_planning.io import PDDLWriter\n",
                        "from unified_planning.io.hpdl.hpdl_reader import HPDLReader\n",
                        "from unified_planning.io.hpdl.hpdl_writer import HPDLWriter\n",
                        "from unified_planning.engines.results import PlanGenerationResultStatus\n"
                  ]
            },
            {
                  "attachments": {},
                  "cell_type": "markdown",
                  "metadata": {},
                  "source": [
                        "## Registering the engine\n",
                        "\n",
                        "In order to use `SIADEX`, we need to register it among the set of planning engines available for the UP library as follows."
                  ]
            },
            {
                  "cell_type": "code",
                  "execution_count": null,
                  "metadata": {},
                  "outputs": [],
                  "source": [
                        "env = up.environment.get_env()\n",
                        "env.factory.add_engine('siadex', __name__, \"SIADEXEngine\")"
                  ]
            },
            {
                  "attachments": {},
                  "cell_type": "markdown",
                  "metadata": {},
                  "source": [
                        "## Reading a problem from a file (HDDL)"
                  ]
            },
            {
                  "cell_type": "code",
                  "execution_count": null,
                  "metadata": {},
                  "outputs": [],
                  "source": [
                        "reader = PDDLReader()\n",
                        "problem = reader.parse_problem(\"../../unified-planning/unified_planning/test/pddl/htn-transport/domain.hddl\", \"../../unified-planning/unified_planning/test/pddl/htn-transport/problem.hddl\")"
                  ]
            },
            {
                  "attachments": {},
                  "cell_type": "markdown",
                  "metadata": {},
                  "source": [
                        "## Solving the problem with siadex"
                  ]
            },
            {
                  "cell_type": "code",
                  "execution_count": null,
                  "metadata": {},
                  "outputs": [
                        {
                              "name": "stdout",
                              "output_type": "stream",
                              "text": [
                                    "\u001b[96m\u001b[1mNOTE: To disable printing of planning engine credits, add this line to your code: `up.shortcuts.get_env().credits_stream = None`\n",
                                    "\u001b[0m\u001b[96m  *** Credits ***\n",
                                    "\u001b[0m\u001b[96m  * In operation mode `OneshotPlanner` at line 1 of `/tmp/ipykernel_1439/3527194102.py`, \u001b[0m\u001b[96myou are using the following planning engine:\n",
                                    "\u001b[0m\u001b[96m  * Engine name: SIADEX\n",
                                    "  * Developers:  UGR SIADEX Team\n",
                                    "\u001b[0m\u001b[96m  * Description: \u001b[0m\u001b[96mSIADEX ENGINE\u001b[0m\u001b[96m\n",
                                    "\u001b[0m\u001b[96m\n",
                                    "\u001b[0mSIADEX found a valid plan!\n",
                                    "The plan is: \n",
                                    "\n",
                                    "0: drive(truck-0, city-loc-2, city-loc-1)\n",
                                    "1: pick-up(truck-0, city-loc-1, package-0, capacity-0, capacity-1)\n",
                                    "2: drive(truck-0, city-loc-1, city-loc-0)\n",
                                    "3: drop(truck-0, city-loc-0, package-0, capacity-0, capacity-1)\n",
                                    "4: drive(truck-0, city-loc-0, city-loc-1)\n",
                                    "5: pick-up(truck-0, city-loc-1, package-1, capacity-0, capacity-1)\n",
                                    "6: drive(truck-0, city-loc-1, city-loc-0)\n",
                                    "7: drop(truck-0, city-loc-0, package-1, capacity-0, capacity-1)\n"
                              ]
                        },
                        {
                              "name": "stderr",
                              "output_type": "stream",
                              "text": [
                                    "/home/nacho/miniconda3/envs/aiplan/lib/python3.10/site-packages/unified_planning/engines/mixins/oneshot_planner.py:73: UserWarning: <function SIADEXEngine.name at 0x7f1c53ed5120> cannot solve this kind of problem!\n",
                                    "  warn(msg)\n"
                              ]
                        }
                  ],
                  "source": [
                        "with env.factory.OneshotPlanner(name='siadex') as p:\n",
                        "    result = p.solve(problem)\n",
                        "    if result.status == PlanGenerationResultStatus.SOLVED_SATISFICING:\n",
                        "        print(f'{p.name()} found a valid plan!')\n",
                        "        print(f'The plan is: \\n')\n",
                        "        for i,a in enumerate(result.plan.actions):\n",
                        "            print(f\"{i}: {a}\")\n",
                        "    else:\n",
                        "        print('No plan found!')"
                  ]
            },
            {
                  "attachments": {},
                  "cell_type": "markdown",
                  "metadata": {},
                  "source": [
                        "Lets wrap it inside a function so we don't need to write it again"
                  ]
            },
            {
                  "cell_type": "code",
                  "execution_count": null,
                  "metadata": {},
                  "outputs": [],
                  "source": [
                        "def solve_with_siadex(problem):\n",
                        "    with env.factory.OneshotPlanner(name='siadex') as p:\n",
                        "        result = p.solve(problem)\n",
                        "        print(result.log_messages)\n",
                        "        if result.status == PlanGenerationResultStatus.SOLVED_SATISFICING:\n",
                        "            print(f'{p.name()} found a valid plan!')\n",
                        "            print(f'The plan is: \\n')\n",
                        "            for i,a in enumerate(result.plan.actions):\n",
                        "                print(f\"{i}: {a}\")\n",
                        "            return result.plan\n",
                        "        else:\n",
                        "            return []\n",
                        "            print('No plan found!')"
                  ]
            },
            {
                  "attachments": {},
                  "cell_type": "markdown",
                  "metadata": {},
                  "source": [
                        "## Example of a hierarchical  problem done with UPF"
                  ]
            },
            {
                  "cell_type": "code",
                  "execution_count": null,
                  "metadata": {},
                  "outputs": [],
                  "source": [
                        "htn = HierarchicalProblem()\n",
                        "\n",
                        "#_________Objects_________#\n",
                        "Location = UserType(\"Location\")\n",
                        "\n",
                        "l1 = htn.add_object(\"l1\", Location)\n",
                        "l2 = htn.add_object(\"l2\", Location)\n",
                        "l3 = htn.add_object(\"l3\", Location)\n",
                        "l4 = htn.add_object(\"l4\", Location)\n",
                        "\n",
                        "#_________Fluents_________#\n",
                        "loc = Fluent(\"is_on\", l=Location)\n",
                        "htn.add_fluent(loc, default_initial_value=False)\n",
                        "\n",
                        "connected = Fluent(\"connected\", l1=Location, l2=Location)\n",
                        "htn.add_fluent(connected, default_initial_value=False)\n",
                        "htn.set_initial_value(connected(l1, l2), True)\n",
                        "htn.set_initial_value(connected(l2, l3), True)\n",
                        "htn.set_initial_value(connected(l3, l4), True)\n",
                        "htn.set_initial_value(connected(l4, l3), True)\n",
                        "htn.set_initial_value(connected(l3, l2), True)\n",
                        "htn.set_initial_value(connected(l2, l1), True)\n",
                        "htn.set_initial_value(loc(l1), True)\n",
                        "\n",
                        "\n",
                        "#_________Actions_________#\n",
                        "move = InstantaneousAction(\"move\", l_from=Location, l_to=Location)\n",
                        "l_from = move.parameter(\"l_from\")\n",
                        "l_to = move.parameter(\"l_to\")\n",
                        "move.add_precondition(loc(l_from))\n",
                        "move.add_precondition(connected(l_from, l_to))\n",
                        "move.add_effect(loc(l_from), False)\n",
                        "move.add_effect(loc(l_to), True)\n",
                        "htn.add_action(move)\n",
                        "\n",
                        "#_________Task_________#\n",
                        "go = htn.add_task(\"go\", target=Location)\n",
                        "\n",
                        "#_________Methods_________#\n",
                        "go_noop = Method(\"go-noop\", target=Location)\n",
                        "go_noop.set_task(go)\n",
                        "target = go_noop.parameter(\"target\")\n",
                        "go_noop.add_precondition(loc(target))\n",
                        "\n",
                        "htn.add_method(go_noop)\n",
                        "\n",
                        "go_recursive = Method(\n",
                        "    \"go-recursive\", source=Location, inter=Location, target=Location\n",
                        ")\n",
                        "\n",
                        "go_recursive.set_task(go, go_recursive.parameter(\"target\"))\n",
                        "\n",
                        "source = go_recursive.parameter(\"source\")\n",
                        "inter = go_recursive.parameter(\"inter\")\n",
                        "target = go_recursive.parameter(\"target\")\n",
                        "\n",
                        "go_recursive.add_precondition(loc(source))\n",
                        "go_recursive.add_precondition(connected(source, inter))\n",
                        "\n",
                        "t1 = go_recursive.add_subtask(move, source, inter)\n",
                        "t2 = go_recursive.add_subtask(go, target)\n",
                        "go_recursive.set_ordered(t1, t2)\n",
                        "htn.add_method(go_recursive)\n",
                        "\n",
                        "\n",
                        "#_________Init_________#\n",
                        "go1 = htn.task_network.add_subtask(go, l4)"
                  ]
            },
            {
                  "cell_type": "code",
                  "execution_count": null,
                  "metadata": {},
                  "outputs": [
                        {
                              "name": "stdout",
                              "output_type": "stream",
                              "text": [
                                    "\u001b[96m  *** Credits ***\n",
                                    "\u001b[0m\u001b[96m  * In operation mode `OneshotPlanner` at line 2 of `/tmp/ipykernel_1439/937920758.py`, \u001b[0m\u001b[96myou are using the following planning engine:\n",
                                    "\u001b[0m\u001b[96m  * Engine name: SIADEX\n",
                                    "  * Developers:  UGR SIADEX Team\n",
                                    "\u001b[0m\u001b[96m  * Description: \u001b[0m\u001b[96mSIADEX ENGINE\u001b[0m\u001b[96m\n",
                                    "\u001b[0m\u001b[96m\n",
                                    "\u001b[0m[LogMessage(level=<LogLevel.INFO: 2>, message=''), LogMessage(level=<LogLevel.ERROR: 4>, message='\\n')]\n",
                                    "SIADEX found a valid plan!\n",
                                    "The plan is: \n",
                                    "\n",
                                    "0: move(l1, l2)\n",
                                    "1: move(l2, l3)\n",
                                    "2: move(l3, l4)\n"
                              ]
                        },
                        {
                              "data": {
                                    "text/plain": [
                                          "[move(l1, l2), move(l2, l3), move(l3, l4)]"
                                    ]
                              },
                              "execution_count": 12,
                              "metadata": {},
                              "output_type": "execute_result"
                        }
                  ],
                  "source": [
                        "solve_with_siadex(htn)"
                  ]
            },
            {
                  "attachments": {},
                  "cell_type": "markdown",
                  "metadata": {},
                  "source": [
                        "## Reading a problem from a file (HDPL)"
                  ]
            },
            {
                  "cell_type": "code",
                  "execution_count": null,
                  "metadata": {},
                  "outputs": [
                        {
                              "ename": "FileNotFoundError",
                              "evalue": "[Errno 2] No such file or directory: '../examples/ipc/Miconic/domain.hpdl'",
                              "output_type": "error",
                              "traceback": [
                                    "\u001b[0;31m---------------------------------------------------------------------------\u001b[0m",
                                    "\u001b[0;31mAttributeError\u001b[0m                            Traceback (most recent call last)",
                                    "File \u001b[0;32m/usr/lib/python3/dist-packages/pyparsing.py:2572\u001b[0m, in \u001b[0;36mParserElement.parseFile\u001b[0;34m(self, file_or_filename, parseAll)\u001b[0m\n\u001b[1;32m   2571\u001b[0m \u001b[39mtry\u001b[39;00m:\n\u001b[0;32m-> 2572\u001b[0m     file_contents \u001b[39m=\u001b[39m file_or_filename\u001b[39m.\u001b[39;49mread()\n\u001b[1;32m   2573\u001b[0m \u001b[39mexcept\u001b[39;00m \u001b[39mAttributeError\u001b[39;00m:\n",
                                    "\u001b[0;31mAttributeError\u001b[0m: 'str' object has no attribute 'read'",
                                    "\nDuring handling of the above exception, another exception occurred:\n",
                                    "\u001b[0;31mFileNotFoundError\u001b[0m                         Traceback (most recent call last)",
                                    "Cell \u001b[0;32mIn[13], line 2\u001b[0m\n\u001b[1;32m      1\u001b[0m reader \u001b[39m=\u001b[39m HPDLReader()\n\u001b[0;32m----> 2\u001b[0m miconic \u001b[39m=\u001b[39m reader\u001b[39m.\u001b[39;49mparse_problem(\u001b[39m\"\u001b[39;49m\u001b[39m../examples/ipc/Miconic/domain.hpdl\u001b[39;49m\u001b[39m\"\u001b[39;49m, \u001b[39m\"\u001b[39;49m\u001b[39m../examples/ipc/Miconic/problem.hpdl\u001b[39;49m\u001b[39m\"\u001b[39;49m)\n\u001b[1;32m      3\u001b[0m rover \u001b[39m=\u001b[39m reader\u001b[39m.\u001b[39mparse_problem(\u001b[39m\"\u001b[39m\u001b[39m../examples/ipc/Rover/domain.hpdl\u001b[39m\u001b[39m\"\u001b[39m,\u001b[39m\"\u001b[39m\u001b[39m../examples/ipc/Rover/problem.hpdl\u001b[39m\u001b[39m\"\u001b[39m)\n\u001b[1;32m      4\u001b[0m satellite \u001b[39m=\u001b[39m reader\u001b[39m.\u001b[39mparse_problem(\u001b[39m\"\u001b[39m\u001b[39m../examples/ipc/Satellite/domain.hpdl\u001b[39m\u001b[39m\"\u001b[39m,\u001b[39m\"\u001b[39m\u001b[39m../examples/ipc/Satellite/problem.hpdl\u001b[39m\u001b[39m\"\u001b[39m)\n",
                                    "File \u001b[0;32m~/.local/lib/python3.10/site-packages/unified_planning/io/hpdl/hpdl_reader.py:1197\u001b[0m, in \u001b[0;36mHPDLReader.parse_problem\u001b[0;34m(self, domain_filename, problem_filename)\u001b[0m\n\u001b[1;32m   1183\u001b[0m \u001b[39mdef\u001b[39;00m \u001b[39mparse_problem\u001b[39m(\n\u001b[1;32m   1184\u001b[0m     \u001b[39mself\u001b[39m, domain_filename: \u001b[39mstr\u001b[39m, problem_filename: typing\u001b[39m.\u001b[39mOptional[\u001b[39mstr\u001b[39m] \u001b[39m=\u001b[39m \u001b[39mNone\u001b[39;00m\n\u001b[1;32m   1185\u001b[0m ) \u001b[39m-\u001b[39m\u001b[39m>\u001b[39m \u001b[39m\"\u001b[39m\u001b[39mmodel.Problem\u001b[39m\u001b[39m\"\u001b[39m:\n\u001b[1;32m   1186\u001b[0m \u001b[39m    \u001b[39m\u001b[39m\"\"\"\u001b[39;00m\n\u001b[1;32m   1187\u001b[0m \u001b[39m    Takes in input a filename containing the `HPDL` domain and optionally a filename\u001b[39;00m\n\u001b[1;32m   1188\u001b[0m \u001b[39m    containing the `HPDL` problem and returns the parsed `Problem`.\u001b[39;00m\n\u001b[0;32m   (...)\u001b[0m\n\u001b[1;32m   1195\u001b[0m \u001b[39m    :return: The `Problem` parsed from the given pddl domain + problem.\u001b[39;00m\n\u001b[1;32m   1196\u001b[0m \u001b[39m    \"\"\"\u001b[39;00m\n\u001b[0;32m-> 1197\u001b[0m     domain_res \u001b[39m=\u001b[39m \u001b[39mself\u001b[39;49m\u001b[39m.\u001b[39;49m_pp_domain\u001b[39m.\u001b[39;49mparseFile(domain_filename)\n\u001b[1;32m   1199\u001b[0m     \u001b[39mself\u001b[39m\u001b[39m.\u001b[39mproblem \u001b[39m=\u001b[39m \u001b[39mself\u001b[39m\u001b[39m.\u001b[39m_build_problem(domain_res[\u001b[39m\"\u001b[39m\u001b[39mname\u001b[39m\u001b[39m\"\u001b[39m], domain_res[\u001b[39m\"\u001b[39m\u001b[39mfeatures\u001b[39m\u001b[39m\"\u001b[39m])\n\u001b[1;32m   1200\u001b[0m     \u001b[39mself\u001b[39m\u001b[39m.\u001b[39mtypes_map: Dict[\u001b[39mstr\u001b[39m, \u001b[39m\"\u001b[39m\u001b[39mmodel.Type\u001b[39m\u001b[39m\"\u001b[39m] \u001b[39m=\u001b[39m {}\n",
                                    "File \u001b[0;32m/usr/lib/python3/dist-packages/pyparsing.py:2574\u001b[0m, in \u001b[0;36mParserElement.parseFile\u001b[0;34m(self, file_or_filename, parseAll)\u001b[0m\n\u001b[1;32m   2572\u001b[0m     file_contents \u001b[39m=\u001b[39m file_or_filename\u001b[39m.\u001b[39mread()\n\u001b[1;32m   2573\u001b[0m \u001b[39mexcept\u001b[39;00m \u001b[39mAttributeError\u001b[39;00m:\n\u001b[0;32m-> 2574\u001b[0m     \u001b[39mwith\u001b[39;00m \u001b[39mopen\u001b[39;49m(file_or_filename, \u001b[39m\"\u001b[39;49m\u001b[39mr\u001b[39;49m\u001b[39m\"\u001b[39;49m) \u001b[39mas\u001b[39;00m f:\n\u001b[1;32m   2575\u001b[0m         file_contents \u001b[39m=\u001b[39m f\u001b[39m.\u001b[39mread()\n\u001b[1;32m   2576\u001b[0m \u001b[39mtry\u001b[39;00m:\n",
                                    "\u001b[0;31mFileNotFoundError\u001b[0m: [Errno 2] No such file or directory: '../examples/ipc/Miconic/domain.hpdl'"
                              ]
                        }
                  ],
                  "source": [
                        "reader = HPDLReader()\n",
                        "miconic = reader.parse_problem(\"../examples/ipc/Miconic/domain.hpdl\", \"../examples/ipc/Miconic/problem.hpdl\")\n",
                        "rover = reader.parse_problem(\"../examples/ipc/Rover/domain.hpdl\",\"../examples/ipc/Rover/problem.hpdl\")\n",
                        "satellite = reader.parse_problem(\"../examples/ipc/Satellite/domain.hpdl\",\"../examples/ipc/Satellite/problem.hpdl\")\n",
                        "# smartphone = reader.parse_problem(\"../examples/ipc/SmartPhone/domain.hpdl\",\"../examples/ipc/SmartPhone/problem.hpdl\")\n",
                        "transport = reader.parse_problem(\"../examples/ipc/Transport/domain.hpdl\",\"../examples/ipc/Transport/problem.hpdl\")\n",
                        "# translog = reader.parse_problem(\"../examples/ipc/UM-Translog/domain.hpdl\",\"../examples/ipc/UM-Translog/problem.hpdl\")\n",
                        "zeno = reader.parse_problem(\"../examples/ipc/Zenotravel/domain.hpdl\",\"../examples/ipc/Zenotravel/problem.hpdl\")"
                  ]
            },
            {
                  "cell_type": "code",
                  "execution_count": null,
                  "metadata": {},
                  "outputs": [
                        {
                              "name": "stdout",
                              "output_type": "stream",
                              "text": [
                                    "\u001b[96m  *** Credits ***\n",
                                    "\u001b[0m\u001b[96m  * In operation mode `OneshotPlanner` at line 2 of `/tmp/ipykernel_20228/937920758.py`, \u001b[0m\u001b[96myou are using the following planning engine:\n",
                                    "\u001b[0m\u001b[96m  * Engine name: SIADEX\n",
                                    "  * Developers:  UGR SIADEX Team\n",
                                    "\u001b[0m\u001b[96m  * Description: \u001b[0m\u001b[96mSIADEX ENGINE\u001b[0m\u001b[96m\n",
                                    "\u001b[0m\u001b[96m\n",
                                    "\u001b[0m[LogMessage(level=<LogLevel.INFO: 2>, message=''), LogMessage(level=<LogLevel.ERROR: 4>, message='\\n\\n[Error]: Empty stack\\n')]\n",
                                    "SIADEX found a valid plan!\n",
                                    "The plan is: \n",
                                    "\n"
                              ]
                        },
                        {
                              "data": {
                                    "text/plain": [
                                          "[]"
                                    ]
                              },
                              "execution_count": 10,
                              "metadata": {},
                              "output_type": "execute_result"
                        }
                  ],
                  "source": [
                        "solve_with_siadex(rover)"
                  ]
            },
            {
                  "cell_type": "code",
                  "execution_count": 10,
                  "metadata": {},
                  "outputs": [
                        {
                              "ename": "NameError",
                              "evalue": "name 'transport' is not defined",
                              "output_type": "error",
                              "traceback": [
                                    "\u001b[0;31m---------------------------------------------------------------------------\u001b[0m",
                                    "\u001b[0;31mNameError\u001b[0m                                 Traceback (most recent call last)",
                                    "Cell \u001b[0;32mIn[10], line 1\u001b[0m\n\u001b[0;32m----> 1\u001b[0m solve_with_siadex(transport)\n",
                                    "\u001b[0;31mNameError\u001b[0m: name 'transport' is not defined"
                              ]
                        }
                  ],
                  "source": [
                        "solve_with_siadex(transport)"
                  ]
            },
            {
                  "cell_type": "code",
                  "execution_count": 11,
                  "metadata": {},
                  "outputs": [
                        {
                              "ename": "NameError",
                              "evalue": "name 'zeno' is not defined",
                              "output_type": "error",
                              "traceback": [
                                    "\u001b[0;31m---------------------------------------------------------------------------\u001b[0m",
                                    "\u001b[0;31mNameError\u001b[0m                                 Traceback (most recent call last)",
                                    "Cell \u001b[0;32mIn[11], line 1\u001b[0m\n\u001b[0;32m----> 1\u001b[0m solve_with_siadex(zeno)\n",
                                    "\u001b[0;31mNameError\u001b[0m: name 'zeno' is not defined"
                              ]
                        }
                  ],
                  "source": [
                        "solve_with_siadex(zeno)"
                  ]
            },
            {
                  "cell_type": "code",
                  "execution_count": 12,
                  "metadata": {},
                  "outputs": [
                        {
                              "ename": "NameError",
                              "evalue": "name 'miconic' is not defined",
                              "output_type": "error",
                              "traceback": [
                                    "\u001b[0;31m---------------------------------------------------------------------------\u001b[0m",
                                    "\u001b[0;31mNameError\u001b[0m                                 Traceback (most recent call last)",
                                    "Cell \u001b[0;32mIn[12], line 1\u001b[0m\n\u001b[0;32m----> 1\u001b[0m solve_with_siadex(miconic)\n",
                                    "\u001b[0;31mNameError\u001b[0m: name 'miconic' is not defined"
                              ]
                        }
                  ],
                  "source": [
                        "solve_with_siadex(miconic)"
                  ]
            },
            {
                  "cell_type": "code",
                  "execution_count": null,
                  "metadata": {},
                  "outputs": [],
                  "source": []
            }
      ],
      "metadata": {
            "kernelspec": {
                  "display_name": "aiplan",
                  "language": "python",
                  "name": "python3"
            },
            "language_info": {
                  "codemirror_mode": {
                        "name": "ipython",
                        "version": 3
                  },
                  "file_extension": ".py",
                  "mimetype": "text/x-python",
                  "name": "python",
                  "nbconvert_exporter": "python",
                  "pygments_lexer": "ipython3",
                  "version": "3.10.8 (main, Nov 24 2022, 14:13:03) [GCC 11.2.0]"
            },
            "orig_nbformat": 4,
            "vscode": {
                  "interpreter": {
                        "hash": "c3f9604a4004af05d4b1dd4ad0223dece2d5f87751caa6ec851ad182a7c033f7"
                  }
            }
      },
      "nbformat": 4,
      "nbformat_minor": 2
}