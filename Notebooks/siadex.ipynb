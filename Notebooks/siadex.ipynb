{
 "cells": [
  {
   "attachments": {},
   "cell_type": "markdown",
   "metadata": {},
   "source": [
    "# SIADEX HTN ENGINE\n",
    "\n",
    "imports requireds"
   ]
  },
  {
   "cell_type": "code",
   "execution_count": 1,
   "metadata": {},
   "outputs": [
    {
     "name": "stdout",
     "output_type": "stream",
     "text": [
      "Processing /workspaces/up-siadex\n",
      "  Preparing metadata (setup.py) ... \u001b[?25ldone\n",
      "\u001b[?25hBuilding wheels for collected packages: up-siadex\n",
      "  Building wheel for up-siadex (setup.py) ... \u001b[?25ldone\n",
      "\u001b[?25h  Created wheel for up-siadex: filename=up_siadex-0.0.1-py3-none-any.whl size=8662148 sha256=039974450b5b6e2ec2941583c04e62423ede6a41d80c64e2cd798a171fdd92c6\n",
      "  Stored in directory: /home/codespace/.cache/pip/wheels/63/55/a1/26a2eb3a61793baa41bdcf5daf2fa5975374c48f8639a70b08\n",
      "Successfully built up-siadex\n",
      "Installing collected packages: up-siadex\n",
      "  Attempting uninstall: up-siadex\n",
      "    Found existing installation: up-siadex 0.0.1\n",
      "    Uninstalling up-siadex-0.0.1:\n",
      "      Successfully uninstalled up-siadex-0.0.1\n",
      "Successfully installed up-siadex-0.0.1\n",
      "Processing /workspaces/up-siadex/unified-planning\n",
      "  Preparing metadata (setup.py) ... \u001b[?25ldone\n",
      "\u001b[?25hRequirement already satisfied: pyparsing in /home/codespace/.local/lib/python3.10/site-packages (from unified-planning==0.4.2) (3.0.9)\n",
      "Requirement already satisfied: networkx in /usr/local/python/3.10.4/lib/python3.10/site-packages (from unified-planning==0.4.2) (2.8.8)\n",
      "Building wheels for collected packages: unified-planning\n",
      "  Building wheel for unified-planning (setup.py) ... \u001b[?25ldone\n",
      "\u001b[?25h  Created wheel for unified-planning: filename=unified_planning-0.4.2-py3-none-any.whl size=352562 sha256=e2c8c6f100d80e27624d8b46dd807f1ff2ee2e456827d17ee88c75be01371690\n",
      "  Stored in directory: /home/codespace/.cache/pip/wheels/c4/05/f2/821c8767d2971ed17287b1008afb0607f41dad844571a5b40f\n",
      "Successfully built unified-planning\n",
      "Installing collected packages: unified-planning\n",
      "  Attempting uninstall: unified-planning\n",
      "    Found existing installation: unified-planning 0.4.2\n",
      "    Uninstalling unified-planning-0.4.2:\n",
      "      Successfully uninstalled unified-planning-0.4.2\n",
      "Successfully installed unified-planning-0.4.2\n"
     ]
    }
   ],
   "source": [
    "!pip install ..\n",
    "!pip install ../unified-planning"
   ]
  },
  {
   "cell_type": "code",
   "execution_count": 2,
   "metadata": {},
   "outputs": [],
   "source": [
    "from up_siadex import SIADEXEngine\n",
    "\n",
    "import unified_planning as up\n",
    "from unified_planning.shortcuts import *\n",
    "from unified_planning.model.htn.hierarchical_problem import HierarchicalProblem, Task, Method\n",
    "from unified_planning.io import PDDLReader\n",
    "from unified_planning.io import PDDLWriter\n",
    "from unified_planning.io.hpdl.hpdl_reader import HPDLReader\n",
    "from unified_planning.io.hpdl.hpdl_writer import HPDLWriter\n",
    "from unified_planning.engines.results import PlanGenerationResultStatus\n"
   ]
  },
  {
   "attachments": {},
   "cell_type": "markdown",
   "metadata": {},
   "source": [
    "## Registering the engine\n",
    "\n",
    "In order to use `SIADEX`, we need to register it among the set of planning engines available for the UP library as follows."
   ]
  },
  {
   "cell_type": "code",
   "execution_count": 3,
   "metadata": {},
   "outputs": [],
   "source": [
    "env = up.environment.get_env()\n",
    "env.factory.add_engine('siadex', __name__, \"SIADEXEngine\")"
   ]
  },
  {
   "attachments": {},
   "cell_type": "markdown",
   "metadata": {},
   "source": [
    "## Reading a problem from a file (HDDL)"
   ]
  },
  {
   "cell_type": "code",
   "execution_count": 4,
   "metadata": {},
   "outputs": [],
   "source": [
    "reader = PDDLReader()\n",
    "problem = reader.parse_problem(\"../unified-planning/unified_planning/test/pddl/htn-transport/domain.hddl\", \"../unified-planning/unified_planning/test/pddl/htn-transport/problem.hddl\")"
   ]
  },
  {
   "attachments": {},
   "cell_type": "markdown",
   "metadata": {},
   "source": [
    "## Solving the problem with siadex"
   ]
  },
  {
   "cell_type": "code",
   "execution_count": 5,
   "metadata": {},
   "outputs": [
    {
     "name": "stdout",
     "output_type": "stream",
     "text": [
      "\u001b[96m\u001b[1mNOTE: To disable printing of planning engine credits, add this line to your code: `up.shortcuts.get_env().credits_stream = None`\n",
      "\u001b[0m\u001b[96m  *** Credits ***\n",
      "\u001b[0m\u001b[96m  * In operation mode `OneshotPlanner` at line 1 of `/tmp/ipykernel_3155/3527194102.py`, \u001b[0m\u001b[96myou are using the following planning engine:\n",
      "\u001b[0m\u001b[96m  * Engine name: SIADEX\n",
      "  * Developers:  UGR SIADEX Team\n",
      "\u001b[0m\u001b[96m  * Description: \u001b[0m\u001b[96mSIADEX ENGINE\u001b[0m\u001b[96m\n",
      "\u001b[0m\u001b[96m\n",
      "\u001b[0mSIADEX found a valid plan!\n",
      "The plan is: \n",
      "\n",
      "0: drive(truck-0, city-loc-2, city-loc-1)\n",
      "1: pick-up(truck-0, city-loc-1, package-0, capacity-0, capacity-1)\n",
      "2: drive(truck-0, city-loc-1, city-loc-0)\n",
      "3: drop(truck-0, city-loc-0, package-0, capacity-0, capacity-1)\n",
      "4: drive(truck-0, city-loc-0, city-loc-1)\n",
      "5: pick-up(truck-0, city-loc-1, package-1, capacity-0, capacity-1)\n",
      "6: drive(truck-0, city-loc-1, city-loc-0)\n",
      "7: drop(truck-0, city-loc-0, package-1, capacity-0, capacity-1)\n"
     ]
    },
    {
     "name": "stderr",
     "output_type": "stream",
     "text": [
      "/home/codespace/.python/current/lib/python3.10/site-packages/unified_planning/engines/mixins/oneshot_planner.py:73: UserWarning: <function SIADEXEngine.name at 0x7f8c2f0c0af0> cannot solve this kind of problem!\n",
      "  warn(msg)\n"
     ]
    }
   ],
   "source": [
    "with env.factory.OneshotPlanner(name='siadex') as p:\n",
    "    result = p.solve(problem)\n",
    "    if result.status == PlanGenerationResultStatus.SOLVED_SATISFICING:\n",
    "        print(f'{p.name()} found a valid plan!')\n",
    "        print(f'The plan is: \\n')\n",
    "        for i,a in enumerate(result.plan.actions):\n",
    "            print(f\"{i}: {a}\")\n",
    "    else:\n",
    "        print('No plan found!')"
   ]
  },
  {
   "cell_type": "code",
   "execution_count": 6,
   "metadata": {},
   "outputs": [],
   "source": [
    "def solve_with_siadex(problem):\n",
    "    with env.factory.OneshotPlanner(name='siadex') as p:\n",
    "        result = p.solve(problem)\n",
    "        print(result.log_messages)\n",
    "        if result.status == PlanGenerationResultStatus.SOLVED_SATISFICING:\n",
    "            print(f'{p.name()} found a valid plan!')\n",
    "            print(f'The plan is: \\n')\n",
    "            for i,a in enumerate(result.plan.actions):\n",
    "                print(f\"{i}: {a}\")\n",
    "            return result.plan\n",
    "        else:\n",
    "            return []\n",
    "            print('No plan found!')"
   ]
  },
  {
   "attachments": {},
   "cell_type": "markdown",
   "metadata": {},
   "source": [
    "## Example of a hierarchical  problem done with UPF"
   ]
  },
  {
   "cell_type": "code",
   "execution_count": 7,
   "metadata": {},
   "outputs": [],
   "source": [
    "htn = HierarchicalProblem()\n",
    "\n",
    "#_________Objects_________#\n",
    "Location = UserType(\"Location\")\n",
    "\n",
    "l1 = htn.add_object(\"l1\", Location)\n",
    "l2 = htn.add_object(\"l2\", Location)\n",
    "l3 = htn.add_object(\"l3\", Location)\n",
    "l4 = htn.add_object(\"l4\", Location)\n",
    "\n",
    "#_________Fluents_________#\n",
    "loc = Fluent(\"is_on\", l=Location)\n",
    "htn.add_fluent(loc, default_initial_value=False)\n",
    "\n",
    "connected = Fluent(\"connected\", l1=Location, l2=Location)\n",
    "htn.add_fluent(connected, default_initial_value=False)\n",
    "htn.set_initial_value(connected(l1, l2), True)\n",
    "htn.set_initial_value(connected(l2, l3), True)\n",
    "htn.set_initial_value(connected(l3, l4), True)\n",
    "htn.set_initial_value(connected(l4, l3), True)\n",
    "htn.set_initial_value(connected(l3, l2), True)\n",
    "htn.set_initial_value(connected(l2, l1), True)\n",
    "htn.set_initial_value(loc(l1), True)\n",
    "\n",
    "\n",
    "#_________Actions_________#\n",
    "move = InstantaneousAction(\"move\", l_from=Location, l_to=Location)\n",
    "l_from = move.parameter(\"l_from\")\n",
    "l_to = move.parameter(\"l_to\")\n",
    "move.add_precondition(loc(l_from))\n",
    "move.add_precondition(connected(l_from, l_to))\n",
    "move.add_effect(loc(l_from), False)\n",
    "move.add_effect(loc(l_to), True)\n",
    "htn.add_action(move)\n",
    "\n",
    "#_________Task_________#\n",
    "go = htn.add_task(\"go\", target=Location)\n",
    "\n",
    "#_________Methods_________#\n",
    "go_noop = Method(\"go-noop\", target=Location)\n",
    "go_noop.set_task(go)\n",
    "target = go_noop.parameter(\"target\")\n",
    "go_noop.add_precondition(loc(target))\n",
    "\n",
    "htn.add_method(go_noop)\n",
    "\n",
    "go_recursive = Method(\n",
    "    \"go-recursive\", source=Location, inter=Location, target=Location\n",
    ")\n",
    "\n",
    "go_recursive.set_task(go, go_recursive.parameter(\"target\"))\n",
    "\n",
    "source = go_recursive.parameter(\"source\")\n",
    "inter = go_recursive.parameter(\"inter\")\n",
    "target = go_recursive.parameter(\"target\")\n",
    "\n",
    "go_recursive.add_precondition(loc(source))\n",
    "go_recursive.add_precondition(connected(source, inter))\n",
    "\n",
    "t1 = go_recursive.add_subtask(move, source, inter)\n",
    "t2 = go_recursive.add_subtask(go, target)\n",
    "go_recursive.set_ordered(t1, t2)\n",
    "htn.add_method(go_recursive)\n",
    "\n",
    "\n",
    "#_________Init_________#\n",
    "go1 = htn.task_network.add_subtask(go, l4)"
   ]
  },
  {
   "cell_type": "code",
   "execution_count": 8,
   "metadata": {},
   "outputs": [
    {
     "name": "stdout",
     "output_type": "stream",
     "text": [
      "\u001b[96m  *** Credits ***\n",
      "\u001b[0m\u001b[96m  * In operation mode `OneshotPlanner` at line 2 of `/tmp/ipykernel_3155/937920758.py`, \u001b[0m\u001b[96myou are using the following planning engine:\n",
      "\u001b[0m\u001b[96m  * Engine name: SIADEX\n",
      "  * Developers:  UGR SIADEX Team\n",
      "\u001b[0m\u001b[96m  * Description: \u001b[0m\u001b[96mSIADEX ENGINE\u001b[0m\u001b[96m\n",
      "\u001b[0m\u001b[96m\n",
      "\u001b[0m[LogMessage(level=<LogLevel.INFO: 2>, message=''), LogMessage(level=<LogLevel.ERROR: 4>, message='\\n')]\n",
      "SIADEX found a valid plan!\n",
      "The plan is: \n",
      "\n",
      "0: move(l1, l2)\n",
      "1: move(l2, l3)\n",
      "2: move(l3, l4)\n"
     ]
    },
    {
     "data": {
      "text/plain": [
       "[move(l1, l2), move(l2, l3), move(l3, l4)]"
      ]
     },
     "execution_count": 8,
     "metadata": {},
     "output_type": "execute_result"
    }
   ],
   "source": [
    "solve_with_siadex(htn)"
   ]
  },
  {
   "attachments": {},
   "cell_type": "markdown",
   "metadata": {},
   "source": [
    "## Reading a problem from a file (HDPL)"
   ]
  },
  {
   "cell_type": "code",
   "execution_count": 15,
   "metadata": {},
   "outputs": [],
   "source": [
    "reader = HPDLReader()\n",
    "miconic = reader.parse_problem(\"../examples/ipc/Miconic/domain.hpdl\", \"../examples/ipc/Miconic/problem.hpdl\")\n",
    "# rover = reader.parse_problem(\"../examples/ipc/Rover/domain.hpdl\",\"../examples/ipc/Rover/problem.hpdl\")\n",
    "# satellite = reader.parse_problem(\"../examples/ipc/Satellite/domain.hpdl\",\"../examples/ipc/Satellite/problem.hpdl\")\n",
    "# smartphone = reader.parse_problem(\"../examples/ipc/SmartPhone/domain.hpdl\",\"../examples/ipc/SmartPhone/problem.hpdl\")\n",
    "# transport = reader.parse_problem(\"../examples/ipc/Transport/domain.hpdl\",\"../examples/ipc/Transport/problem.hpdl\")\n",
    "# translog = reader.parse_problem(\"../examples/ipc/UM-Translog/domain.hpdl\",\"../examples/ipc/UM-Translog/problem.hpdl\")\n",
    "# zeno = reader.parse_problem(\"../examples/ipc/Zenotravel/domain.hpdl\",\"../examples/ipc/Zenotravel/problem.hpdl\")"
   ]
  },
  {
   "cell_type": "code",
   "execution_count": 16,
   "metadata": {},
   "outputs": [
    {
     "name": "stdout",
     "output_type": "stream",
     "text": [
      "\u001b[96m  *** Credits ***\n",
      "\u001b[0m\u001b[96m  * In operation mode `OneshotPlanner` at line 2 of `/tmp/ipykernel_3155/937920758.py`, \u001b[0m\u001b[96myou are using the following planning engine:\n",
      "\u001b[0m\u001b[96m  * Engine name: SIADEX\n",
      "  * Developers:  UGR SIADEX Team\n",
      "\u001b[0m\u001b[96m  * Description: \u001b[0m\u001b[96mSIADEX ENGINE\u001b[0m\u001b[96m\n",
      "\u001b[0m\u001b[96m\n",
      "\u001b[0m[LogMessage(level=<LogLevel.INFO: 2>, message=''), LogMessage(level=<LogLevel.ERROR: 4>, message='\\n')]\n",
      "SIADEX found a valid plan!\n",
      "The plan is: \n",
      "\n",
      "0: move_primitive(f0, f0)\n",
      "1: board_primitive(p0, f0)\n",
      "2: move_primitive(f0, f1)\n",
      "3: debark_primitive(p0, f1)\n",
      "4: move_primitive(f1, f3)\n",
      "5: board_primitive(p2, f3)\n",
      "6: move_primitive(f3, f1)\n",
      "7: debark_primitive(p2, f1)\n",
      "8: move_primitive(f1, f2)\n",
      "9: board_primitive(p4, f2)\n",
      "10: move_primitive(f2, f1)\n",
      "11: debark_primitive(p4, f1)\n",
      "12: move_primitive(f1, f0)\n",
      "13: board_primitive(p1, f0)\n",
      "14: move_primitive(f0, f3)\n",
      "15: debark_primitive(p1, f3)\n",
      "16: move_primitive(f3, f3)\n",
      "17: board_primitive(p3, f3)\n",
      "18: move_primitive(f3, f2)\n",
      "19: debark_primitive(p3, f2)\n"
     ]
    },
    {
     "data": {
      "text/plain": [
       "[move_primitive(f0, f0), board_primitive(p0, f0), move_primitive(f0, f1), debark_primitive(p0, f1), move_primitive(f1, f3), board_primitive(p2, f3), move_primitive(f3, f1), debark_primitive(p2, f1), move_primitive(f1, f2), board_primitive(p4, f2), move_primitive(f2, f1), debark_primitive(p4, f1), move_primitive(f1, f0), board_primitive(p1, f0), move_primitive(f0, f3), debark_primitive(p1, f3), move_primitive(f3, f3), board_primitive(p3, f3), move_primitive(f3, f2), debark_primitive(p3, f2)]"
      ]
     },
     "execution_count": 16,
     "metadata": {},
     "output_type": "execute_result"
    }
   ],
   "source": [
    "solve_with_siadex(miconic)"
   ]
  }
 ],
 "metadata": {
  "kernelspec": {
   "display_name": "Python 3.10.4 64-bit",
   "language": "python",
   "name": "python3"
  },
  "language_info": {
   "codemirror_mode": {
    "name": "ipython",
    "version": 3
   },
   "file_extension": ".py",
   "mimetype": "text/x-python",
   "name": "python",
   "nbconvert_exporter": "python",
   "pygments_lexer": "ipython3",
   "version": "3.10.4"
  },
  "orig_nbformat": 4,
  "vscode": {
   "interpreter": {
    "hash": "3ad933181bd8a04b432d3370b9dc3b0662ad032c4dfaa4e4f1596c548f763858"
   }
  }
 },
 "nbformat": 4,
 "nbformat_minor": 2
}
