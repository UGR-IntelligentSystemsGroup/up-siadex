{
 "cells": [
  {
   "attachments": {},
   "cell_type": "markdown",
   "metadata": {},
   "source": [
    "# Working with a decomposition tree\n",
    "In this notebook we will show how to get and extract insights from a decomposition tree, a structure returned by some HTN planners (we will use SIADEX here) that gives information about how tasks should be decomposed, starting from the initial task-goal, to achieve the resulting plan.\n",
    "\n",
    "For more information on hierarchical planning, and what tasks and method are, take a look at the [SIADEX](siadex.ipynb) notebook or the [Wikipedia page](https://en.wikipedia.org/wiki/Hierarchical_task_network)."
   ]
  },
  {
   "attachments": {},
   "cell_type": "markdown",
   "metadata": {},
   "source": [
    "First, we will need to install SIADEX and register it as an UPF engine"
   ]
  },
  {
   "attachments": {},
   "cell_type": "markdown",
   "metadata": {},
   "source": [
    "####  _______ Begin Installation____________"
   ]
  },
  {
   "attachments": {},
   "cell_type": "markdown",
   "metadata": {},
   "source": [
    "**Disclaimer** : The installation steps are only needed until up_siadex is published on pypi and the changes on the unified-planning fork are merged into the origin package"
   ]
  },
  {
   "cell_type": "code",
   "execution_count": null,
   "metadata": {},
   "outputs": [],
   "source": [
    "# Make sure the following packages are installed on the system: python-dev libreadline-dev. Those are needed for the execution of Siadex\n",
    "!apt-get update\n",
    "!apt-get install -y python-dev libreadline-dev"
   ]
  },
  {
   "cell_type": "code",
   "execution_count": null,
   "metadata": {},
   "outputs": [],
   "source": [
    "# Clonning the repos\n",
    "!git clone https://github.com/UGR-IntelligentSystemsGroup/unified-planning.git\n",
    "!git clone https://github.com/UGR-IntelligentSystemsGroup/up-siadex.git"
   ]
  },
  {
   "cell_type": "code",
   "execution_count": null,
   "metadata": {},
   "outputs": [],
   "source": [
    "# Install the packages\n",
    "# %%capture\n",
    "%pip install ./unified-planning\n",
    "%pip install ./up-siadex"
   ]
  },
  {
   "attachments": {},
   "cell_type": "markdown",
   "metadata": {},
   "source": [
    "####  _______ End Installation____________"
   ]
  },
  {
   "cell_type": "code",
   "execution_count": 1,
   "metadata": {},
   "outputs": [],
   "source": [
    "from up_siadex import SIADEXEngine\n",
    "\n",
    "import unified_planning as up\n",
    "from unified_planning.shortcuts import *\n",
    "from unified_planning.model.htn.hierarchical_problem import HierarchicalProblem, Task, Method\n",
    "from unified_planning.io import PDDLReader\n",
    "from unified_planning.io import PDDLWriter\n",
    "from unified_planning.io.hpdl.hpdl_reader import HPDLReader\n",
    "from unified_planning.io.hpdl.hpdl_writer import HPDLWriter\n",
    "from unified_planning.engines.results import PlanGenerationResultStatus\n",
    "\n",
    "# Register SIADEX\n",
    "env = up.environment.get_env()\n",
    "env.factory.add_engine('siadex', __name__, \"SIADEXEngine\")"
   ]
  },
  {
   "attachments": {},
   "cell_type": "markdown",
   "metadata": {},
   "source": [
    "Now, let's get a plan and the decomposition tree associated. We will use the HTN version of the Miconic domain, which represents the behaviour of an elevator that moves people between floors.\n",
    "\n",
    "You can tell SIADEX to return the decomposition tree setting the parameter `decomposition_tree` to `True` while calling `OneShotPlanner()`"
   ]
  },
  {
   "cell_type": "code",
   "execution_count": null,
   "metadata": {},
   "outputs": [],
   "source": [
    "# Get UPF problem\n",
    "reader = HPDLReader()\n",
    "problem = reader.parse_problem(\"./up-siadex/examples/ipc/Miconic/domain.hpdl\", \"./up-siadex/examples/ipc/Miconic/problem.hpdl\")\n",
    "\n",
    "# Plan\n",
    "with env.factory.OneshotPlanner(name='siadex', params={'decomposition_tree': True}) as s:\n",
    "    result = s.solve(problem)\n",
    "    if result.status == PlanGenerationResultStatus.SOLVED_SATISFICING:\n",
    "        print(f'{s.name()} found a valid plan!\\n')\n",
    "        print(f'The plan is:')\n",
    "        for i,a in enumerate(result.plan.actions):\n",
    "            print(f\"{i}: {a}\")\n",
    "    else:\n",
    "        print('No plan found!')"
   ]
  },
  {
   "attachments": {},
   "cell_type": "markdown",
   "metadata": {},
   "source": [
    "The decomposition tree is stored within the output of the `solve()` function"
   ]
  },
  {
   "cell_type": "code",
   "execution_count": null,
   "metadata": {},
   "outputs": [],
   "source": [
    "dt = result.decomposition_tree\n",
    "print(f'The decomposition tree for the given plan is:\\n{dt}\\n')"
   ]
  },
  {
   "attachments": {},
   "cell_type": "markdown",
   "metadata": {},
   "source": [
    "Looking at how much output it returns at first it may seem a complex structure, but it is not. The results is an object of the `DecompositionTree` class, that although has a bunch of functionality to play with, is mainly a structure that provides access to the different nodes in the tree. We will show the following things through this notebook:\n",
    "\n",
    "1. How to extract nodes individually from the graph\n",
    "2. Access to root and leaves nodes\n",
    "2. Get unifications of a node\n",
    "2. Different ways to plot the tree"
   ]
  },
  {
   "attachments": {},
   "cell_type": "markdown",
   "metadata": {},
   "source": [
    "But first, let's get a few statistics of the tree"
   ]
  },
  {
   "cell_type": "code",
   "execution_count": null,
   "metadata": {},
   "outputs": [],
   "source": [
    "print(f'Maximum depth: {dt.depth}')\n",
    "print(f'Actions: {dt.num_actions()}')\n",
    "print(f'Tasks: {dt.num_tasks()}')"
   ]
  },
  {
   "attachments": {},
   "cell_type": "markdown",
   "metadata": {},
   "source": [
    "So, to solve our problem of the Miconic domain, we got a total of 20 actions, that are ultimatedly generated by 11 tasks, and the planner doesn't go lower than 6 levels in the HTN structure. Remember, tasks and actions can appear multiple times, even with the same parameters, because we are looking at an instantiation of the domain.\n",
    "\n",
    "For example, we will see that the task `move`, which describes the decomposition schema that transports a person from one floor to another, is called repeatedly with different parameters."
   ]
  },
  {
   "attachments": {},
   "cell_type": "markdown",
   "metadata": {},
   "source": [
    "Each element in the decomposition tree is of type `DecompositionTreeNode`, which provides detailed information of the node. Let's see an example:"
   ]
  },
  {
   "cell_type": "code",
   "execution_count": null,
   "metadata": {},
   "outputs": [],
   "source": [
    "# Get root node\n",
    "root = dt.root_nodes[0]\n",
    "print(root)"
   ]
  },
  {
   "attachments": {},
   "cell_type": "markdown",
   "metadata": {},
   "source": [
    "There are two types of `DecompositionTreeNode`s: __tasks__ and __actions__. They are associated with the UPF `Task` and `Action` classes contained in the problem.\n",
    "\n",
    "As a reminder, tasks are intermediate steps in the task network that produce the plan, and actions are (unsurprisingly) the primitives/actions being carried out in the plan.\n",
    "\n",
    "Different attributes can be accessed depending of the node type. If it is a task, like we have seen before, the node will also contain the method chosen and the children (subtasks) that points into. Primitives on the other hand are the leaves of the tree, so they don't point anywhere."
   ]
  },
  {
   "cell_type": "code",
   "execution_count": null,
   "metadata": {},
   "outputs": [],
   "source": [
    "# Get some leaf node\n",
    "leaf = dt.leaves_nodes[3]\n",
    "print(leaf)\n",
    "\n",
    "print(f'Is action? {leaf.is_action()}')"
   ]
  },
  {
   "attachments": {},
   "cell_type": "markdown",
   "metadata": {},
   "source": [
    "## Accessing nodes\n",
    "\n",
    "There are multiple ways of accessing nodes in the decomposition tree. The `DecompositionTree` class provides simple methods to get roots (the upmost part of the tree, that is, the tasks/actions indicated in the tasks-goal), leaves (i.e. plan primitives), children of any node and so on.\n",
    "\n",
    "Internally each node is identified by an unique integer ID (starting at 0) which can be used for indexing the tree. Because tasks can be called multiple times, even with the same parameters, keep in mind that the name is not enough to identify a node.\n",
    "\n",
    "The ID of each node is the first number displayed when printing. You can also get them with `DecompositionTree.node_id(node: DecompositionTreeNode)` or `DecompositionTreeNode.id`"
   ]
  },
  {
   "cell_type": "code",
   "execution_count": null,
   "metadata": {},
   "outputs": [],
   "source": [
    "node = dt.node(15) # Get node with ID=5\n",
    "node"
   ]
  },
  {
   "cell_type": "code",
   "execution_count": 11,
   "metadata": {},
   "outputs": [
    {
     "name": "stdout",
     "output_type": "stream",
     "text": [
      "19: action move_primitive\n",
      " - Depth: 3\n",
      " - Objects: f3 f1\n",
      "\n",
      "Child node ID: 19\n"
     ]
    }
   ],
   "source": [
    "# Get second child\n",
    "child_id = node.children[2]\n",
    "# Alternatively\n",
    "# child_id = dt.children(node.id)[2]\n",
    "\n",
    "# Get node\n",
    "child = dt.node(child_id)\n",
    "\n",
    "print(child)\n",
    "print(\"Child node ID:\", dt.node_id(child))"
   ]
  },
  {
   "attachments": {},
   "cell_type": "markdown",
   "metadata": {},
   "source": [
    "## Roots and leaves\n",
    "\n",
    "Roots and leaves are particular nodes in the decomposition tree. Like we said before, roots are the tasks or actions specified in the task-goal (what we wanted to be solved), and leaves are the actions in the plan.\n",
    "\n",
    "You can access directly to root and leaves nodes from the DT class"
   ]
  },
  {
   "cell_type": "code",
   "execution_count": 12,
   "metadata": {},
   "outputs": [
    {
     "name": "stdout",
     "output_type": "stream",
     "text": [
      "Root ids: [0]\n",
      "[0: task solve_elevator\n",
      " - Method: solve_elevator_m1_go_ordering_0\n",
      " - Depth: 0\n",
      " - Objects: \n",
      " - Children: 1 2\n",
      "]\n",
      "\n",
      "\n",
      "Leaves ids: [3, 4, 5, 6, 17, 18, 19, 20, 31, 32, 33, 34, 45, 46, 47, 48, 59, 60, 61, 62]\n",
      "[3: action move_primitive\n",
      " - Depth: 2\n",
      " - Objects: f0 f0\n",
      ", 4: action board_primitive\n",
      " - Depth: 2\n",
      " - Objects: p0 f0\n",
      ", 5: action move_primitive\n",
      " - Depth: 2\n",
      " - Objects: f0 f1\n",
      ", 6: action debark_primitive\n",
      " - Depth: 2\n",
      " - Objects: p0 f1\n",
      ", 17: action move_primitive\n",
      " - Depth: 3\n",
      " - Objects: f1 f3\n",
      ", 18: action board_primitive\n",
      " - Depth: 3\n",
      " - Objects: p2 f3\n",
      ", 19: action move_primitive\n",
      " - Depth: 3\n",
      " - Objects: f3 f1\n",
      ", 20: action debark_primitive\n",
      " - Depth: 3\n",
      " - Objects: p2 f1\n",
      ", 31: action move_primitive\n",
      " - Depth: 4\n",
      " - Objects: f1 f2\n",
      ", 32: action board_primitive\n",
      " - Depth: 4\n",
      " - Objects: p4 f2\n",
      ", 33: action move_primitive\n",
      " - Depth: 4\n",
      " - Objects: f2 f1\n",
      ", 34: action debark_primitive\n",
      " - Depth: 4\n",
      " - Objects: p4 f1\n",
      ", 45: action move_primitive\n",
      " - Depth: 5\n",
      " - Objects: f1 f0\n",
      ", 46: action board_primitive\n",
      " - Depth: 5\n",
      " - Objects: p1 f0\n",
      ", 47: action move_primitive\n",
      " - Depth: 5\n",
      " - Objects: f0 f3\n",
      ", 48: action debark_primitive\n",
      " - Depth: 5\n",
      " - Objects: p1 f3\n",
      ", 59: action move_primitive\n",
      " - Depth: 6\n",
      " - Objects: f3 f3\n",
      ", 60: action board_primitive\n",
      " - Depth: 6\n",
      " - Objects: p3 f3\n",
      ", 61: action move_primitive\n",
      " - Depth: 6\n",
      " - Objects: f3 f2\n",
      ", 62: action debark_primitive\n",
      " - Depth: 6\n",
      " - Objects: p3 f2\n",
      "]\n"
     ]
    }
   ],
   "source": [
    "print(f'Root ids: {dt.root}')\n",
    "print(dt.root_nodes)\n",
    "\n",
    "print(f'\\n\\nLeaves ids: {dt.leaves}')\n",
    "print(dt.leaves_nodes)"
   ]
  },
  {
   "attachments": {},
   "cell_type": "markdown",
   "metadata": {},
   "source": [
    "Other think you could ask is: What tasks are at a given depth?\n",
    "\n",
    "You can get that information with the following function"
   ]
  },
  {
   "cell_type": "code",
   "execution_count": 13,
   "metadata": {},
   "outputs": [
    {
     "name": "stdout",
     "output_type": "stream",
     "text": [
      "Nodes at depth 3: [17, 18, 19, 20, 29, 30]\n",
      "Nodes at depth 0: [0]\n",
      "Nodes at maximum depth (6): [59, 60, 61, 62]\n"
     ]
    }
   ],
   "source": [
    "print(f\"Nodes at depth 3: {dt.nodes_at_depth(3)}\")\n",
    "\n",
    "print(f\"Nodes at depth 0: {dt.nodes_at_depth(0)}\")\n",
    "\n",
    "print(f\"Nodes at maximum depth ({dt.depth}): {dt.nodes_at_depth(dt.depth)}\")"
   ]
  },
  {
   "attachments": {},
   "cell_type": "markdown",
   "metadata": {},
   "source": [
    "Note that at depth 0 is the root, but leaves can be at different depths, not necessarily at maximum depth"
   ]
  },
  {
   "attachments": {},
   "cell_type": "markdown",
   "metadata": {},
   "source": [
    "## Looking at the unifications\n",
    "\n",
    "In case you wonder into which objects the parameters of an action or tasks are translated, you can look at `DecompositionTreeNode.unifications`.\n",
    "It returns a dictionary of the UPF models `Parameter` -> `Object`, as stored in the UPF `Problem`.\n",
    "\n",
    "If you are only interested in the objects, you can get them from `DecompositionTreeNode.objects`."
   ]
  },
  {
   "attachments": {},
   "cell_type": "markdown",
   "metadata": {},
   "source": [
    "Let's say we want to retrieve the 2 object of the leaf node we kept earlier, and check for its type.\n",
    "\n",
    "First, let show the tree node and the unifications"
   ]
  },
  {
   "cell_type": "code",
   "execution_count": 14,
   "metadata": {},
   "outputs": [
    {
     "data": {
      "text/plain": [
       "6: action debark_primitive\n",
       " - Depth: 2\n",
       " - Objects: p0 f1"
      ]
     },
     "execution_count": 14,
     "metadata": {},
     "output_type": "execute_result"
    }
   ],
   "source": [
    "leaf"
   ]
  },
  {
   "cell_type": "code",
   "execution_count": 15,
   "metadata": {},
   "outputs": [
    {
     "name": "stdout",
     "output_type": "stream",
     "text": [
      "For action debark_primitive\n",
      "- Parameter (person - object__compiled p) gets instantiated by object (person - object__compiled p0)\n",
      "- Parameter (floor - object__compiled f) gets instantiated by object (floor - object__compiled f1)\n"
     ]
    }
   ],
   "source": [
    "unif = leaf.unifications\n",
    "\n",
    "print(f\"For action {leaf.name}\")\n",
    "for x,y in unif.items():\n",
    "    print(f\"- Parameter ({x}) gets instantiated by object ({y.type} {y})\")"
   ]
  },
  {
   "attachments": {},
   "cell_type": "markdown",
   "metadata": {},
   "source": [
    "We can index `unifications` with a `Parameter`"
   ]
  },
  {
   "cell_type": "code",
   "execution_count": 16,
   "metadata": {},
   "outputs": [
    {
     "name": "stdout",
     "output_type": "stream",
     "text": [
      "Object f1 of type floor - object__compiled\n"
     ]
    }
   ],
   "source": [
    "# Get Action\n",
    "action = problem.action(leaf.name)\n",
    "\n",
    "# Get Parameter\n",
    "floor = action.parameters[1]\n",
    "\n",
    "# Look for the object\n",
    "obj = unif[floor]\n",
    "print(f\"Object {obj} of type {obj.type}\")"
   ]
  },
  {
   "attachments": {},
   "cell_type": "markdown",
   "metadata": {},
   "source": [
    "Remember that if we define our problem directly from UPF we should already haver or Action and Parameters objects, so we can directly do:\n",
    "\n",
    "```{python}\n",
    "move = InstantaneousAction(\"move\", l_from=Location, l_to=Location)\n",
    "l_from = move.parameter(\"l_from\")\n",
    "\n",
    "# ...\n",
    "# Define the rest of the problem and call the planner\n",
    "# ...\n",
    "\n",
    "unif = dt.node().unifications\n",
    "\n",
    "obj = unif[floor]\n",
    "print(f\"Object {obj} of type {obj.type}\")\n",
    "```"
   ]
  },
  {
   "attachments": {},
   "cell_type": "markdown",
   "metadata": {},
   "source": [
    "Now, an example for a task:"
   ]
  },
  {
   "cell_type": "code",
   "execution_count": 17,
   "metadata": {},
   "outputs": [
    {
     "name": "stdout",
     "output_type": "stream",
     "text": [
      "Node 15: task deliver_person\n",
      " - Method: deliver_person_m2_ordering_0\n",
      " - Depth: 2\n",
      " - Objects: p2 f3 f1\n",
      " - Children: 17 18 19 20\n",
      "\n",
      "- Parameter (person - object__compiled p) gets instantiated by object (person - object__compiled p2)\n",
      "- Parameter (floor - object__compiled o) gets instantiated by object (floor - object__compiled f3)\n",
      "- Parameter (floor - object__compiled d) gets instantiated by object (floor - object__compiled f1)\n"
     ]
    }
   ],
   "source": [
    "unif = node.unifications\n",
    "\n",
    "print(f\"Node {node}\")\n",
    "for x,y in unif.items():\n",
    "    print(f\"- Parameter ({x}) gets instantiated by object ({y.type} {y})\")"
   ]
  },
  {
   "attachments": {},
   "cell_type": "markdown",
   "metadata": {},
   "source": [
    "## Plotting\n",
    "\n",
    "By default the decomposition tree will get printed with the above format, but there are other functions to plot it in alternative ways."
   ]
  },
  {
   "cell_type": "code",
   "execution_count": 18,
   "metadata": {},
   "outputs": [
    {
     "name": "stdout",
     "output_type": "stream",
     "text": [
      " |-0 solve_elevator()\n",
      "   |-1 deliver_person(p0 - person - object__compiled, f0 - floor - object__compiled, f1 - floor - object__compiled)\n",
      "     |-3 move_primitive(f0 - floor - object__compiled, f0 - floor - object__compiled)\n",
      "     |-4 board_primitive(p0 - person - object__compiled, f0 - floor - object__compiled)\n",
      "     |-5 move_primitive(f0 - floor - object__compiled, f1 - floor - object__compiled)\n",
      "     |-6 debark_primitive(p0 - person - object__compiled, f1 - floor - object__compiled)\n",
      "   |-2 solve_elevator()\n",
      "     |-15 deliver_person(p2 - person - object__compiled, f3 - floor - object__compiled, f1 - floor - object__compiled)\n",
      "       |-17 move_primitive(f1 - floor - object__compiled, f3 - floor - object__compiled)\n",
      "       |-18 board_primitive(p2 - person - object__compiled, f3 - floor - object__compiled)\n",
      "       |-19 move_primitive(f3 - floor - object__compiled, f1 - floor - object__compiled)\n",
      "       |-20 debark_primitive(p2 - person - object__compiled, f1 - floor - object__compiled)\n",
      "     |-16 solve_elevator()\n",
      "       |-29 deliver_person(p4 - person - object__compiled, f2 - floor - object__compiled, f1 - floor - object__compiled)\n",
      "         |-31 move_primitive(f1 - floor - object__compiled, f2 - floor - object__compiled)\n",
      "         |-32 board_primitive(p4 - person - object__compiled, f2 - floor - object__compiled)\n",
      "         |-33 move_primitive(f2 - floor - object__compiled, f1 - floor - object__compiled)\n",
      "         |-34 debark_primitive(p4 - person - object__compiled, f1 - floor - object__compiled)\n",
      "       |-30 solve_elevator()\n",
      "         |-43 deliver_person(p1 - person - object__compiled, f0 - floor - object__compiled, f3 - floor - object__compiled)\n",
      "           |-45 move_primitive(f1 - floor - object__compiled, f0 - floor - object__compiled)\n",
      "           |-46 board_primitive(p1 - person - object__compiled, f0 - floor - object__compiled)\n",
      "           |-47 move_primitive(f0 - floor - object__compiled, f3 - floor - object__compiled)\n",
      "           |-48 debark_primitive(p1 - person - object__compiled, f3 - floor - object__compiled)\n",
      "         |-44 solve_elevator()\n",
      "           |-57 deliver_person(p3 - person - object__compiled, f3 - floor - object__compiled, f2 - floor - object__compiled)\n",
      "             |-59 move_primitive(f3 - floor - object__compiled, f3 - floor - object__compiled)\n",
      "             |-60 board_primitive(p3 - person - object__compiled, f3 - floor - object__compiled)\n",
      "             |-61 move_primitive(f3 - floor - object__compiled, f2 - floor - object__compiled)\n",
      "             |-62 debark_primitive(p3 - person - object__compiled, f2 - floor - object__compiled)\n",
      "           |-58 solve_elevator()\n"
     ]
    }
   ],
   "source": [
    "print(dt.plot()) # All information"
   ]
  },
  {
   "cell_type": "code",
   "execution_count": 19,
   "metadata": {},
   "outputs": [
    {
     "name": "stdout",
     "output_type": "stream",
     "text": [
      " |-0\n",
      "   |-1\n",
      "     |-3\n",
      "     |-4\n",
      "     |-5\n",
      "     |-6\n",
      "   |-2\n",
      "     |-15\n",
      "       |-17\n",
      "       |-18\n",
      "       |-19\n",
      "       |-20\n",
      "     |-16\n",
      "       |-29\n",
      "         |-31\n",
      "         |-32\n",
      "         |-33\n",
      "         |-34\n",
      "       |-30\n",
      "         |-43\n",
      "           |-45\n",
      "           |-46\n",
      "           |-47\n",
      "           |-48\n",
      "         |-44\n",
      "           |-57\n",
      "             |-59\n",
      "             |-60\n",
      "             |-61\n",
      "             |-62\n",
      "           |-58\n"
     ]
    }
   ],
   "source": [
    "print(dt.plot(names=False, objects=False)) # Only IDs"
   ]
  },
  {
   "attachments": {},
   "cell_type": "markdown",
   "metadata": {},
   "source": [
    "There is also a compact version as was used in the IPC2020"
   ]
  },
  {
   "cell_type": "code",
   "execution_count": 20,
   "metadata": {},
   "outputs": [
    {
     "name": "stdout",
     "output_type": "stream",
     "text": [
      "3 move f0 f0\n",
      "4 board p0 f0\n",
      "5 move f0 f1\n",
      "6 debark p0 f1\n",
      "17 move f1 f3\n",
      "18 board p2 f3\n",
      "19 move f3 f1\n",
      "20 debark p2 f1\n",
      "31 move f1 f2\n",
      "32 board p4 f2\n",
      "33 move f2 f1\n",
      "34 debark p4 f1\n",
      "45 move f1 f0\n",
      "46 board p1 f0\n",
      "47 move f0 f3\n",
      "48 debark p1 f3\n",
      "59 move f3 f3\n",
      "60 board p3 f3\n",
      "61 move f3 f2\n",
      "62 debark p3 f2\n",
      "root 0\n",
      "0 solve_elevator -> solve_elevator_m1_go_ordering_0 1 2\n",
      "1 deliver_person p0 f0 f1 -> deliver_person_m2_ordering_0 3 4 5 6\n",
      "2 solve_elevator -> solve_elevator_m1_go_ordering_0 15 16\n",
      "15 deliver_person p2 f3 f1 -> deliver_person_m2_ordering_0 17 18 19 20\n",
      "16 solve_elevator -> solve_elevator_m1_go_ordering_0 29 30\n",
      "29 deliver_person p4 f2 f1 -> deliver_person_m2_ordering_0 31 32 33 34\n",
      "30 solve_elevator -> solve_elevator_m1_go_ordering_0 43 44\n",
      "43 deliver_person p1 f0 f3 -> deliver_person_m2_ordering_0 45 46 47 48\n",
      "44 solve_elevator -> solve_elevator_m1_go_ordering_0 57 58\n",
      "57 deliver_person p3 f3 f2 -> deliver_person_m2_ordering_0 59 60 61 62\n",
      "58 solve_elevator -> solve_elevator_m1_abort_ordering_0 \n"
     ]
    }
   ],
   "source": [
    "print(dt.print_as_ipc())"
   ]
  },
  {
   "attachments": {},
   "cell_type": "markdown",
   "metadata": {},
   "source": [
    "## Testing PDDL parser TODO: Remove from Notebook"
   ]
  },
  {
   "cell_type": "code",
   "execution_count": 21,
   "metadata": {},
   "outputs": [],
   "source": [
    "# !pip install --pre unified-planning[pyperplan]"
   ]
  },
  {
   "cell_type": "code",
   "execution_count": 22,
   "metadata": {},
   "outputs": [],
   "source": [
    "# import unified_planning\n",
    "# from unified_planning.shortcuts import *"
   ]
  },
  {
   "cell_type": "code",
   "execution_count": 23,
   "metadata": {},
   "outputs": [],
   "source": [
    "# Location = UserType('Location')\n",
    "# robot_at = unified_planning.model.Fluent('robot_at', BoolType(), l=Location)\n",
    "# connected = unified_planning.model.Fluent('connected', BoolType(), l_from=Location, l_to=Location)\n",
    "# move = unified_planning.model.InstantaneousAction('move', l_from=Location, l_to=Location)\n",
    "# l_from = move.parameter('l_from')\n",
    "# l_to = move.parameter('l_to')\n",
    "# move.add_precondition(connected(l_from, l_to))\n",
    "# move.add_precondition(robot_at(l_from))\n",
    "# move.add_effect(robot_at(l_from), False)\n",
    "# move.add_effect(robot_at(l_to), True)\n",
    "# print(move)\n",
    "# problem = unified_planning.model.Problem('robot')\n",
    "# problem.add_fluent(robot_at, default_initial_value=False)\n",
    "# problem.add_fluent(connected, default_initial_value=False)\n",
    "# problem.add_action(move)\n",
    "# NLOC = 10\n",
    "# locations = [unified_planning.model.Object('l%s' % i, Location) for i in range(NLOC)]\n",
    "# problem.add_objects(locations)\n",
    "# problem.set_initial_value(robot_at(locations[0]), True)\n",
    "# for i in range(NLOC - 1):\n",
    "#     problem.set_initial_value(connected(locations[i], locations[i+1]), True)\n",
    "\n",
    "# problem.add_goal(robot_at(locations[-1]))\n"
   ]
  },
  {
   "cell_type": "code",
   "execution_count": 24,
   "metadata": {},
   "outputs": [],
   "source": [
    "# with OneshotPlanner(name='pyperplan') as planner:\n",
    "#     result = planner.solve(problem)\n",
    "#     if result.status == up.engines.PlanGenerationResultStatus.SOLVED_SATISFICING:\n",
    "#         print(\"Pyperplan returned: %s\" % result.plan)\n",
    "#     else:\n",
    "#         print(\"No plan found.\")"
   ]
  }
 ],
 "metadata": {
  "kernelspec": {
   "display_name": "aiplan",
   "language": "python",
   "name": "python3"
  },
  "language_info": {
   "codemirror_mode": {
    "name": "ipython",
    "version": 3
   },
   "file_extension": ".py",
   "mimetype": "text/x-python",
   "name": "python",
   "nbconvert_exporter": "python",
   "pygments_lexer": "ipython3",
   "version": "3.10.6"
  },
  "orig_nbformat": 4,
  "vscode": {
   "interpreter": {
    "hash": "c3f9604a4004af05d4b1dd4ad0223dece2d5f87751caa6ec851ad182a7c033f7"
   }
  }
 },
 "nbformat": 4,
 "nbformat_minor": 2
}
