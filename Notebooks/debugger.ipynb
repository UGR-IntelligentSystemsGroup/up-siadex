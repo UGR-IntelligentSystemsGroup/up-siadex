{
 "cells": [
  {
   "cell_type": "markdown",
   "metadata": {},
   "source": [
    "# SIADEX HTN ENGINE\n",
    "\n",
    "imports requireds"
   ]
  },
  {
   "cell_type": "code",
   "execution_count": 1,
   "metadata": {},
   "outputs": [
    {
     "name": "stdout",
     "output_type": "stream",
     "text": [
      "Defaulting to user installation because normal site-packages is not writeable\n",
      "Processing /mnt/e/newDesktop/void/projects/siadex/up-siadex\n",
      "  Preparing metadata (setup.py) ... \u001b[?25ldone\n",
      "\u001b[?25hBuilding wheels for collected packages: up-siadex\n",
      "  Building wheel for up-siadex (setup.py) ... \u001b[?25ldone\n",
      "\u001b[?25h  Created wheel for up-siadex: filename=up_siadex-0.0.1-py3-none-any.whl size=8668214 sha256=cb117e28e3ca58531c01b06b87941c569e3303f78ddfc7165a2a8a3dc153616d\n",
      "  Stored in directory: /home/gorgue/.cache/pip/wheels/f5/68/44/88e2b79f736c596547038a3376e427061bae2bfda13b9591d5\n",
      "Successfully built up-siadex\n",
      "Installing collected packages: up-siadex\n",
      "  Attempting uninstall: up-siadex\n",
      "    Found existing installation: up-siadex 0.0.1\n",
      "    Uninstalling up-siadex-0.0.1:\n",
      "      Successfully uninstalled up-siadex-0.0.1\n",
      "Successfully installed up-siadex-0.0.1\n",
      "Defaulting to user installation because normal site-packages is not writeable\n",
      "Processing /mnt/e/newDesktop/void/projects/siadex/up-siadex/unified-planning\n",
      "  Preparing metadata (setup.py) ... \u001b[?25ldone\n",
      "\u001b[?25hRequirement already satisfied: networkx in /home/gorgue/.local/lib/python3.10/site-packages (from unified-planning==0.4.2) (2.8.6)\n",
      "Requirement already satisfied: pyparsing in /usr/lib/python3/dist-packages (from unified-planning==0.4.2) (2.4.7)\n",
      "Building wheels for collected packages: unified-planning\n",
      "  Building wheel for unified-planning (setup.py) ... \u001b[?25ldone\n",
      "\u001b[?25h  Created wheel for unified-planning: filename=unified_planning-0.4.2-py3-none-any.whl size=357569 sha256=87d8427c4d0b5cbe3d14b95242a466a14bae2271aa7f0f01d7c0a86a7c1a8e0d\n",
      "  Stored in directory: /home/gorgue/.cache/pip/wheels/56/29/6e/648f61aba4a4e80be3b294d05c095888aa7200cee31755b7bb\n",
      "Successfully built unified-planning\n",
      "Installing collected packages: unified-planning\n",
      "  Attempting uninstall: unified-planning\n",
      "    Found existing installation: unified-planning 0.4.2\n",
      "    Uninstalling unified-planning-0.4.2:\n",
      "      Successfully uninstalled unified-planning-0.4.2\n",
      "Successfully installed unified-planning-0.4.2\n"
     ]
    }
   ],
   "source": [
    "!pip install ..\n",
    "!pip install ../unified-planning"
   ]
  },
  {
   "cell_type": "code",
   "execution_count": 2,
   "metadata": {},
   "outputs": [],
   "source": [
    "from up_siadex import SIADEXEngine\n",
    "\n",
    "import unified_planning as up\n",
    "from unified_planning.shortcuts import *\n",
    "from unified_planning.model.htn.hierarchical_problem import HierarchicalProblem, Task, Method\n",
    "from unified_planning.io import PDDLReader\n",
    "from unified_planning.io import PDDLWriter\n",
    "from unified_planning.io.hpdl.hpdl_reader import HPDLReader\n",
    "from unified_planning.io.hpdl.hpdl_writer import HPDLWriter\n",
    "from unified_planning.engines.results import PlanGenerationResultStatus\n"
   ]
  },
  {
   "cell_type": "markdown",
   "metadata": {},
   "source": [
    "## Registering the engine\n",
    "\n",
    "In order to use `SIADEX`, we need to register it among the set of planning engines available for the UP library as follows."
   ]
  },
  {
   "cell_type": "code",
   "execution_count": 3,
   "metadata": {},
   "outputs": [],
   "source": [
    "env = up.environment.get_env()\n",
    "env.factory.add_engine('siadex', __name__, \"SIADEXEngine\")"
   ]
  },
  {
   "cell_type": "markdown",
   "metadata": {},
   "source": [
    "## Reading a problem from a file (HDDL)"
   ]
  },
  {
   "cell_type": "code",
   "execution_count": 4,
   "metadata": {},
   "outputs": [],
   "source": [
    "reader = PDDLReader()\n",
    "problem = reader.parse_problem(\"../unified-planning/unified_planning/test/pddl/htn-transport/domain.hddl\", \"../unified-planning/unified_planning/test/pddl/htn-transport/problem.hddl\")"
   ]
  },
  {
   "attachments": {},
   "cell_type": "markdown",
   "metadata": {},
   "source": [
    "## Debugging\n",
    "Initialize SIADEX on debug mode."
   ]
  },
  {
   "cell_type": "code",
   "execution_count": 5,
   "metadata": {},
   "outputs": [
    {
     "name": "stdout",
     "output_type": "stream",
     "text": [
      "\u001b[96m\u001b[1mNOTE: To disable printing of planning engine credits, add this line to your code: `up.shortcuts.get_env().credits_stream = None`\n",
      "\u001b[0m\u001b[96m  *** Credits ***\n",
      "\u001b[0m\u001b[96m  * In operation mode `OneshotPlanner` at line 1 of `/tmp/ipykernel_1197/182887877.py`, \u001b[0m\u001b[96myou are using the following planning engine:\n",
      "\u001b[0m\u001b[96m  * Engine name: SIADEX\n",
      "  * Developers:  UGR SIADEX Team\n",
      "\u001b[0m\u001b[96m  * Description: \u001b[0m\u001b[96mSIADEX ENGINE\u001b[0m\u001b[96m\n",
      "\u001b[0m\u001b[96m\n",
      "\u001b[0m"
     ]
    }
   ],
   "source": [
    "siadex = OneshotPlanner(name='siadex')\n",
    "debugger = siadex.debugger()\n",
    "debugger.debug(problem)"
   ]
  },
  {
   "attachments": {},
   "cell_type": "markdown",
   "metadata": {},
   "source": [
    "The debugging process starts with the initial state of the problem and advance in the planning process with the nexp() or next() methods.\n",
    "\n",
    "To get the actual state of the debugger we can use the method state(). This returns the list of fluents that are currently active."
   ]
  },
  {
   "cell_type": "code",
   "execution_count": 6,
   "metadata": {},
   "outputs": [
    {
     "data": {
      "text/plain": [
       "[road(city-loc-0, city-loc-1),\n",
       " road(city-loc-1, city-loc-0),\n",
       " road(city-loc-1, city-loc-2),\n",
       " road(city-loc-2, city-loc-1),\n",
       " at(package-0, city-loc-1),\n",
       " at(package-1, city-loc-1),\n",
       " at(truck-0, city-loc-2),\n",
       " capacity(truck-0, capacity-1),\n",
       " capacity-predecessor(capacity-0, capacity-1)]"
      ]
     },
     "execution_count": 6,
     "metadata": {},
     "output_type": "execute_result"
    }
   ],
   "source": [
    "state = debugger.state()\n",
    "state"
   ]
  },
  {
   "attachments": {},
   "cell_type": "markdown",
   "metadata": {},
   "source": [
    "The agenda represents the actual process of the debugger expanding nodes. \n",
    "it returns a dict of nodes, each node has the following information:\n",
    " - subtask: the task/action that is susceptible to be expanded with the instanced object or named variables\n",
    " - status: TODO: Agenda...\n",
    " - expanded: If the node has been expanded or not\n",
    " - succesors: A list of the children nodes"
   ]
  },
  {
   "cell_type": "code",
   "execution_count": 7,
   "metadata": {},
   "outputs": [
    {
     "data": {
      "text/plain": [
       "{0: 0: (root ) \n",
       "                 status: root, expanded: root, \n",
       "                 successors: [1, 2],\n",
       " 1: 1: (deliver [package-0, city-loc-0]) \n",
       "                 status: agenda, expanded: unexpanded, \n",
       "                 successors: [],\n",
       " 2: 2: (deliver [package-1, city-loc-2]) \n",
       "                 status: agenda, expanded: unexpanded, \n",
       "                 successors: []}"
      ]
     },
     "execution_count": 7,
     "metadata": {},
     "output_type": "execute_result"
    }
   ],
   "source": [
    "nodes = debugger.agenda()\n",
    "nodes"
   ]
  },
  {
   "cell_type": "code",
   "execution_count": 8,
   "metadata": {},
   "outputs": [
    {
     "data": {
      "text/plain": [
       "_t13: deliver(package-0, city-loc-0)\n",
       "        time_constraints = [\n",
       "        ]"
      ]
     },
     "execution_count": 8,
     "metadata": {},
     "output_type": "execute_result"
    }
   ],
   "source": [
    "nodes[1].subtask"
   ]
  },
  {
   "attachments": {},
   "cell_type": "markdown",
   "metadata": {},
   "source": [
    "With agenda_tree() we can take a look to the agenda in a easier way."
   ]
  },
  {
   "cell_type": "code",
   "execution_count": 9,
   "metadata": {},
   "outputs": [
    {
     "name": "stdout",
     "output_type": "stream",
     "text": [
      "0: (root ) status: root, expanded: root\n",
      "    1: (deliver [package-0, city-loc-0]) status: agenda, expanded: unexpanded\n",
      "    2: (deliver [package-1, city-loc-2]) status: agenda, expanded: unexpanded\n"
     ]
    }
   ],
   "source": [
    "debugger.agenda_tree()"
   ]
  },
  {
   "attachments": {},
   "cell_type": "markdown",
   "metadata": {},
   "source": [
    "Advance one step in the debug process. "
   ]
  },
  {
   "cell_type": "code",
   "execution_count": 10,
   "metadata": {},
   "outputs": [
    {
     "name": "stdout",
     "output_type": "stream",
     "text": [
      "debug:> nexp\n",
      "__________________________________________________\n",
      "(*** 1 ***) Expanding: [0] (deliver package_0 city_loc_0)\n",
      "\n",
      "(*** 1 ***) Selecting a candidate task.\n",
      "(*** 1 ***) Found: 1 candidates (left).\n",
      "      [0] :task (deliver ?p ?l)\n"
     ]
    }
   ],
   "source": [
    "debugger.nexp()"
   ]
  },
  {
   "attachments": {},
   "cell_type": "markdown",
   "metadata": {},
   "source": [
    "With the method eval_precondotions() we can evaluate on the actual state the preconditions of an action.\n",
    "It returns a list of valid groups of parameters. "
   ]
  },
  {
   "cell_type": "code",
   "execution_count": 11,
   "metadata": {},
   "outputs": [
    {
     "data": {
      "text/plain": [
       "action drive(vehicle - locatable v, location l1, location l2) {\n",
       "    preconditions = [\n",
       "      (at(v, l1) and road(l1, l2))\n",
       "    ]\n",
       "    effects = [\n",
       "      at(v, l1) := false\n",
       "      at(v, l2) := true\n",
       "    ]\n",
       "    simulated effect = None\n",
       "  }"
      ]
     },
     "execution_count": 11,
     "metadata": {},
     "output_type": "execute_result"
    }
   ],
   "source": [
    "drive = problem.action(\"drive\")\n",
    "drive"
   ]
  },
  {
   "cell_type": "code",
   "execution_count": 12,
   "metadata": {},
   "outputs": [
    {
     "data": {
      "text/plain": [
       "[{vehicle - locatable v: truck-0,\n",
       "  location l1: city-loc-2,\n",
       "  location l2: city-loc-1}]"
      ]
     },
     "execution_count": 12,
     "metadata": {},
     "output_type": "execute_result"
    }
   ],
   "source": [
    "debugger.eval_preconditions(drive)"
   ]
  },
  {
   "cell_type": "code",
   "execution_count": 13,
   "metadata": {},
   "outputs": [
    {
     "data": {
      "text/plain": [
       "[road(city-loc-0, city-loc-1),\n",
       " road(city-loc-1, city-loc-0),\n",
       " road(city-loc-1, city-loc-2),\n",
       " road(city-loc-2, city-loc-1),\n",
       " at(package-0, city-loc-1),\n",
       " at(package-1, city-loc-1),\n",
       " at(truck-0, city-loc-2),\n",
       " capacity(truck-0, capacity-1),\n",
       " capacity-predecessor(capacity-0, capacity-1)]"
      ]
     },
     "execution_count": 13,
     "metadata": {},
     "output_type": "execute_result"
    }
   ],
   "source": [
    "debugger.state()"
   ]
  },
  {
   "attachments": {},
   "cell_type": "markdown",
   "metadata": {},
   "source": [
    "We get the fluent and objects from the original problem to work with them."
   ]
  },
  {
   "cell_type": "code",
   "execution_count": 14,
   "metadata": {},
   "outputs": [
    {
     "data": {
      "text/plain": [
       "(bool road[l1=location, l2=location], city-loc-0, city-loc-1)"
      ]
     },
     "execution_count": 14,
     "metadata": {},
     "output_type": "execute_result"
    }
   ],
   "source": [
    "road = problem.fluent(\"road\")\n",
    "city_0 = problem.object(\"city-loc-0\")\n",
    "city_1 = problem.object(\"city-loc-1\")\n",
    "road, city_0, city_1"
   ]
  },
  {
   "attachments": {},
   "cell_type": "markdown",
   "metadata": {},
   "source": [
    "With add_break we can define breakpoints where the debugger will stop when exploring"
   ]
  },
  {
   "cell_type": "code",
   "execution_count": 15,
   "metadata": {},
   "outputs": [
    {
     "name": "stdout",
     "output_type": "stream",
     "text": [
      "debug:> break (road ?l1 ?l2)\n",
      "__________________________________________________\n"
     ]
    },
    {
     "data": {
      "text/plain": [
       "{0: {'id': 0, 'enabled': True, 'node': '(road ?l1 ?l2)'}}"
      ]
     },
     "execution_count": 15,
     "metadata": {},
     "output_type": "execute_result"
    }
   ],
   "source": [
    "debugger.add_break(road)"
   ]
  },
  {
   "cell_type": "code",
   "execution_count": 16,
   "metadata": {},
   "outputs": [
    {
     "name": "stdout",
     "output_type": "stream",
     "text": [
      "debug:> break (drive ?v ?l1 ?l2)\n",
      "__________________________________________________\n"
     ]
    },
    {
     "data": {
      "text/plain": [
       "{0: {'id': 0, 'enabled': True, 'node': '(road ?l1 ?l2)'},\n",
       " 1: {'id': 1, 'enabled': True, 'node': '(drive ?v ?l1 ?l2)'}}"
      ]
     },
     "execution_count": 16,
     "metadata": {},
     "output_type": "execute_result"
    }
   ],
   "source": [
    "debugger.add_break(drive)"
   ]
  },
  {
   "attachments": {},
   "cell_type": "markdown",
   "metadata": {},
   "source": [
    "With enable_break and disable_break, we can enable a disable breakpoints"
   ]
  },
  {
   "cell_type": "code",
   "execution_count": 17,
   "metadata": {},
   "outputs": [
    {
     "data": {
      "text/plain": [
       "{0: {'id': 0, 'enabled': False, 'node': '(road ?l1 ?l2)'},\n",
       " 1: {'id': 1, 'enabled': True, 'node': '(drive ?v ?l1 ?l2)'}}"
      ]
     },
     "execution_count": 17,
     "metadata": {},
     "output_type": "execute_result"
    }
   ],
   "source": [
    "debugger.disable_break(0)"
   ]
  },
  {
   "cell_type": "code",
   "execution_count": 18,
   "metadata": {},
   "outputs": [
    {
     "data": {
      "text/plain": [
       "{0: {'id': 0, 'enabled': True, 'node': '(road ?l1 ?l2)'},\n",
       " 1: {'id': 1, 'enabled': True, 'node': '(drive ?v ?l1 ?l2)'}}"
      ]
     },
     "execution_count": 18,
     "metadata": {},
     "output_type": "execute_result"
    }
   ],
   "source": [
    "debugger.enable_break(0)"
   ]
  },
  {
   "cell_type": "code",
   "execution_count": 19,
   "metadata": {},
   "outputs": [
    {
     "data": {
      "text/plain": [
       "{0: {'id': 0, 'enabled': True, 'node': '(road ?l1 ?l2)'},\n",
       " 1: {'id': 1, 'enabled': True, 'node': '(drive ?v ?l1 ?l2)'}}"
      ]
     },
     "execution_count": 19,
     "metadata": {},
     "output_type": "execute_result"
    }
   ],
   "source": [
    "debugger.list_break()"
   ]
  },
  {
   "attachments": {},
   "cell_type": "markdown",
   "metadata": {},
   "source": [
    "With an expression we can alter the live state of the debugger "
   ]
  },
  {
   "cell_type": "code",
   "execution_count": 20,
   "metadata": {},
   "outputs": [
    {
     "data": {
      "text/plain": [
       "(not road(city-loc-0, city-loc-1))"
      ]
     },
     "execution_count": 20,
     "metadata": {},
     "output_type": "execute_result"
    }
   ],
   "source": [
    "f_road = road(city_0, city_1)\n",
    "f_road.Not()"
   ]
  },
  {
   "cell_type": "code",
   "execution_count": 21,
   "metadata": {},
   "outputs": [
    {
     "data": {
      "text/plain": [
       "[road(city-loc-0, city-loc-1),\n",
       " road(city-loc-1, city-loc-0),\n",
       " road(city-loc-1, city-loc-2),\n",
       " road(city-loc-2, city-loc-1),\n",
       " at(package-0, city-loc-1),\n",
       " at(package-1, city-loc-1),\n",
       " at(truck-0, city-loc-2),\n",
       " capacity(truck-0, capacity-1),\n",
       " capacity-predecessor(capacity-0, capacity-1)]"
      ]
     },
     "execution_count": 21,
     "metadata": {},
     "output_type": "execute_result"
    }
   ],
   "source": [
    "# Actual state\n",
    "debugger.state()\n",
    "# We can see road(city-loc-0, city-loc-1) on the state"
   ]
  },
  {
   "attachments": {},
   "cell_type": "markdown",
   "metadata": {},
   "source": [
    "With apply_effect we can modify the state"
   ]
  },
  {
   "cell_type": "code",
   "execution_count": 22,
   "metadata": {},
   "outputs": [
    {
     "data": {
      "text/plain": [
       "[road(city-loc-1, city-loc-0),\n",
       " road(city-loc-1, city-loc-2),\n",
       " road(city-loc-2, city-loc-1),\n",
       " at(package-0, city-loc-1),\n",
       " at(package-1, city-loc-1),\n",
       " at(truck-0, city-loc-2),\n",
       " capacity(truck-0, capacity-1),\n",
       " capacity-predecessor(capacity-0, capacity-1)]"
      ]
     },
     "execution_count": 22,
     "metadata": {},
     "output_type": "execute_result"
    }
   ],
   "source": [
    "debugger.apply_effect(f_road.Not())"
   ]
  },
  {
   "cell_type": "code",
   "execution_count": 23,
   "metadata": {},
   "outputs": [
    {
     "data": {
      "text/plain": [
       "[road(city-loc-1, city-loc-0),\n",
       " road(city-loc-0, city-loc-1),\n",
       " road(city-loc-1, city-loc-2),\n",
       " road(city-loc-2, city-loc-1),\n",
       " at(package-0, city-loc-1),\n",
       " at(package-1, city-loc-1),\n",
       " at(truck-0, city-loc-2),\n",
       " capacity(truck-0, capacity-1),\n",
       " capacity-predecessor(capacity-0, capacity-1)]"
      ]
     },
     "execution_count": 23,
     "metadata": {},
     "output_type": "execute_result"
    }
   ],
   "source": [
    "debugger.apply_effect(f_road)"
   ]
  },
  {
   "attachments": {},
   "cell_type": "markdown",
   "metadata": {},
   "source": [
    "With eval_preconditions we can obtain a list of valid parameters of a fluent or action"
   ]
  },
  {
   "cell_type": "code",
   "execution_count": 24,
   "metadata": {},
   "outputs": [
    {
     "data": {
      "text/plain": [
       "[{'l1': city-loc-2, 'l2': city-loc-1},\n",
       " {'l1': city-loc-1, 'l2': city-loc-2},\n",
       " {'l1': city-loc-0, 'l2': city-loc-1},\n",
       " {'l1': city-loc-1, 'l2': city-loc-0}]"
      ]
     },
     "execution_count": 24,
     "metadata": {},
     "output_type": "execute_result"
    }
   ],
   "source": [
    "debugger.eval_preconditions(road)"
   ]
  },
  {
   "cell_type": "code",
   "execution_count": 25,
   "metadata": {},
   "outputs": [
    {
     "data": {
      "text/plain": [
       "[{vehicle - locatable v: truck-0,\n",
       "  location l1: city-loc-2,\n",
       "  location l2: city-loc-1}]"
      ]
     },
     "execution_count": 25,
     "metadata": {},
     "output_type": "execute_result"
    }
   ],
   "source": [
    "debugger.eval_preconditions(drive)"
   ]
  },
  {
   "attachments": {},
   "cell_type": "markdown",
   "metadata": {},
   "source": [
    "Avance 8 tasks in the planning process"
   ]
  },
  {
   "cell_type": "code",
   "execution_count": 26,
   "metadata": {},
   "outputs": [
    {
     "name": "stdout",
     "output_type": "stream",
     "text": [
      "debug:> nexp\n",
      "__________________________________________________\n",
      "(*** 1 ***) Selecting a method to expand from compound task.\n",
      "      :task (deliver ?p ?l)\n",
      "(*** 1 ***) Found: 1 methods to expand (left).\n",
      "      [0] \n",
      "      (:method m_deliver\n",
      "      :precondition\n",
      "      ( )\n",
      "      :tasks (\n",
      "         (get_to ?v ?l1)\n",
      "         (load ?v ?l1 ?p)\n",
      "         (get_to ?v ?l2)\n",
      "         (unload ?v ?l2 ?p)\n",
      "      )\n",
      "      )\n",
      "Breakpoint 0 reached.\n",
      "debug:> nexp\n",
      "__________________________________________________\n",
      "(*** 1 ***) Expanding method: m_deliver\n",
      "(*** 1 ***) Working in task:\n",
      "(:task deliver\n",
      "   :parameters ( ?p - package ?l - location)\n",
      "   (:method m_deliver\n",
      "   :precondition\n",
      "   ( )\n",
      "   :tasks (\n",
      "      (get_to ?v ?l1)\n",
      "      (load ?v ?l1 package_0)\n",
      "      (get_to ?v ?l2)\n",
      "      (unload ?v ?l2 package_0)\n",
      "   )\n",
      "   )\n",
      ")\n",
      "\n",
      "(*** 1 ***) Using method: m_deliver\n",
      "(*** 1 ***) No preconditions.\n",
      "Selecting unification: \n",
      "(*** 2 ***) Depth: 2\n",
      "(*** 2 ***) Selecting task to expand from agenda.\n",
      "Breakpoint 0 reached.\n",
      "debug:> nexp\n",
      "__________________________________________________\n",
      "(*** 2 ***) Expanding: [2] (get_to ?v ?l1)\n",
      "\n",
      "(*** 2 ***) Selecting a candidate task.\n",
      "(*** 2 ***) Found: 1 candidates (left).\n",
      "      [0] :task (get_to ?v ?l)\n",
      "debug:> nexp\n",
      "__________________________________________________\n",
      "(*** 2 ***) Selecting a method to expand from compound task.\n",
      "      :task (get_to ?v ?l)\n",
      "(*** 2 ***) Found: 3 methods to expand (left).\n",
      "      [0] \n",
      "      (:method m_drive_to\n",
      "      :precondition\n",
      "      ( )\n",
      "      :tasks (\n",
      "         (drive ?v ?l1 ?l2)\n",
      "      )\n",
      "      )\n",
      "      [1] \n",
      "      (:method m_drive_to_via\n",
      "      :precondition\n",
      "      ( )\n",
      "      :tasks (\n",
      "         (get_to ?v ?l2)\n",
      "         (drive ?v ?l2 ?l3)\n",
      "      )\n",
      "      )\n",
      "      [2] \n",
      "      (:method m_i_am_there\n",
      "      :precondition\n",
      "      ( )\n",
      "      :tasks (\n",
      "         (noop ?v ?l)\n",
      "      )\n",
      "      )\n",
      "Breakpoint 0 reached.\n",
      "debug:> nexp\n",
      "__________________________________________________\n",
      "(*** 2 ***) Expanding method: m_drive_to\n",
      "(*** 2 ***) Working in task:\n",
      "(:task get_to\n",
      "   :parameters ( ?v - vehicle ?l - location)\n",
      "   (:method m_drive_to\n",
      "   :precondition\n",
      "   ( )\n",
      "   :tasks (\n",
      "      (drive ?v ?l1 ?l2)\n",
      "   )\n",
      "   )\n",
      "   (:method m_drive_to_via\n",
      "   :precondition\n",
      "   ( )\n",
      "   :tasks (\n",
      "      (get_to ?v ?l2)\n",
      "      (drive ?v ?l2 ?l3)\n",
      "   )\n",
      "   )\n",
      "   (:method m_i_am_there\n",
      "   :precondition\n",
      "   ( )\n",
      "   :tasks (\n",
      "      (noop ?v ?l)\n",
      "   )\n",
      "   )\n",
      ")\n",
      "\n",
      "(*** 2 ***) Using method: m_drive_to\n",
      "(*** 2 ***) No preconditions.\n",
      "Selecting unification: \n",
      "(*** 3 ***) Depth: 3\n",
      "(*** 3 ***) Selecting task to expand from agenda.\n",
      "Breakpoint 0 reached.\n",
      "debug:> nexp\n",
      "__________________________________________________\n",
      "(*** 3 ***) Expanding: [6] (drive ?v ?l1 ?l2)\n",
      "\n",
      "(*** 3 ***) Selecting a candidate task.\n",
      "(*** 3 ***) Found: 1 candidates (left).\n",
      "      [0] :action (drive ?v ?l1 ?l2)\n",
      "debug:> nexp\n",
      "__________________________________________________\n",
      "(*** 3 ***) Solving action:\n",
      "(:action drive\n",
      " :parameters ( ?v - vehicle ?l1 - location ?l2 - location)\n",
      " :precondition\n",
      "   (and\n",
      "      (and\n",
      "         (at_ ?v ?l1)\n",
      "         (road ?l1 ?l2)\n",
      "      )\n",
      "\n",
      "   )\n",
      "\n",
      " :effect\n",
      "   (and\n",
      "      (not (at_ ?v ?l1))\n",
      "      (at_ ?v ?l2)\n",
      "   )\n",
      "\n",
      ")\n",
      "(*** 3 ***) working in action:\n",
      "(:action drive\n",
      " :parameters ( ?v - vehicle ?l1 - location ?l2 - location)\n",
      " :precondition\n",
      "   (and\n",
      "      (and\n",
      "         (at_ ?v ?l1)\n",
      "         (road ?l1 ?l2)\n",
      "      )\n",
      "\n",
      "   )\n",
      "\n",
      " :effect\n",
      "   (and\n",
      "      (not (at_ ?v ?l1))\n",
      "      (at_ ?v ?l2)\n",
      "   )\n",
      "\n",
      ")\n",
      "\n",
      "(*** 3 ***) Found: 1 unification(s) (left). \n",
      "Unification [0]:\n",
      "?l2 <- city_loc_1\n",
      "?l1 <- city_loc_2\n",
      "?v <- truck_0\n",
      "3 variable subtition(s).\n",
      "\n",
      "Selecting unification: \n",
      "Breakpoint 0 reached.\n",
      "debug:> nexp\n",
      "__________________________________________________\n",
      "(ccc) Performing unification: \n",
      "?l2 <- city_loc_1\n",
      "?l1 <- city_loc_2\n",
      "?v <- truck_0\n",
      "3 variable subtition(s).\n",
      "\n",
      "(ccc) Deleted from state: (at_ truck_0 city_loc_2)\n",
      "(ccc) Added to state: (at_ truck_0 city_loc_1)\n",
      "(*** 4 ***) Depth: 4\n",
      "(*** 4 ***) Selecting task to expand from agenda.\n",
      "Breakpoint 0 reached.\n",
      "debug:> nexp\n",
      "__________________________________________________\n",
      "(*** 4 ***) Expanding: [3] (load truck_0 ?l1 package_0)\n",
      "\n",
      "(*** 4 ***) Selecting a candidate task.\n",
      "(*** 4 ***) Found: 1 candidates (left).\n",
      "      [0] :task (load ?v ?l ?p)\n",
      "debug:> nexp\n",
      "__________________________________________________\n",
      "(*** 4 ***) Selecting a method to expand from compound task.\n",
      "      :task (load ?v ?l ?p)\n",
      "(*** 4 ***) Found: 1 methods to expand (left).\n",
      "      [0] \n",
      "      (:method m_load\n",
      "      :precondition\n",
      "      ( )\n",
      "      :tasks (\n",
      "         (pick_up ?v ?l ?p ?s1 ?s2)\n",
      "      )\n",
      "      )\n",
      "Breakpoint 0 reached.\n"
     ]
    }
   ],
   "source": [
    "debugger.nexp(10)"
   ]
  },
  {
   "attachments": {},
   "cell_type": "markdown",
   "metadata": {},
   "source": [
    "With plan we can obtain the result plan that is already discovered  "
   ]
  },
  {
   "cell_type": "code",
   "execution_count": 27,
   "metadata": {},
   "outputs": [
    {
     "data": {
      "text/plain": [
       "[drive(truck-0, city-loc-2, city-loc-1)]"
      ]
     },
     "execution_count": 27,
     "metadata": {},
     "output_type": "execute_result"
    }
   ],
   "source": [
    "debugger.plan()"
   ]
  },
  {
   "cell_type": "code",
   "execution_count": 28,
   "metadata": {},
   "outputs": [
    {
     "name": "stdout",
     "output_type": "stream",
     "text": [
      "0: (root ) status: root, expanded: root\n",
      "    2: (deliver [package-1, city-loc-2]) status: agenda, expanded: unexpanded\n",
      "    8: (drive [truck-0, city-loc-2, city-loc-1]) status: pending, expanded: action\n",
      "        4: (load [truck-0, l, package-0]) status: pending, expanded: unexpanded\n",
      "            5: (get-to [truck-0, l]) status: pending, expanded: unexpanded\n",
      "                6: (unload [truck-0, l, package-0]) status: pending, expanded: unexpanded\n"
     ]
    }
   ],
   "source": [
    "debugger.agenda_tree()"
   ]
  },
  {
   "cell_type": "code",
   "execution_count": 29,
   "metadata": {},
   "outputs": [
    {
     "name": "stdout",
     "output_type": "stream",
     "text": [
      "debug:> break (drive ?v ?l1 ?l2)\n",
      "__________________________________________________\n",
      "debug:> continue\n",
      "__________________________________________________\n",
      "(*** 4 ***) Expanding method: m_load\n",
      "(*** 4 ***) Working in task:\n",
      "(:task load\n",
      "   :parameters ( ?v - vehicle ?l - location ?p - package)\n",
      "   (:method m_load\n",
      "   :precondition\n",
      "   ( )\n",
      "   :tasks (\n",
      "      (pick_up truck_0 ?l1 package_0 ?s1 ?s2)\n",
      "   )\n",
      "   )\n",
      ")\n",
      "\n",
      "(*** 4 ***) Using method: m_load\n",
      "(*** 4 ***) No preconditions.\n",
      "Selecting unification: \n",
      "(*** 5 ***) Depth: 5\n",
      "(*** 5 ***) Selecting task to expand from agenda.\n",
      "Breakpoint 0 reached.\n"
     ]
    }
   ],
   "source": [
    "debugger.continue_to(drive)"
   ]
  },
  {
   "attachments": {},
   "cell_type": "markdown",
   "metadata": {},
   "source": [
    "With force_run we can directly interact with the debugger using string commands"
   ]
  },
  {
   "cell_type": "code",
   "execution_count": 30,
   "metadata": {},
   "outputs": [
    {
     "name": "stdout",
     "output_type": "stream",
     "text": [
      "debug:> help break\n",
      "__________________________________________________\n",
      "Command: `break'. Shortcut `b'\n",
      "\n",
      "Description: Manages the stablished breakpoints.\n",
      "\t`break':\tLists all defined breakpoints.\n",
      "\t`break <number>':\tPrints breakpoint whith given id.\n",
      "\t`break <predicate>':\tDefines a new breakpoint. <predcate> can be a task definition or a simple predicate.\n",
      "See also: `watch', `disable', `enable'.\n"
     ]
    }
   ],
   "source": [
    "debugger.force_run(\"help break\")"
   ]
  },
  {
   "cell_type": "code",
   "execution_count": 31,
   "metadata": {},
   "outputs": [
    {
     "data": {
      "text/plain": [
       "{0: {'id': 0, 'enabled': True, 'node': '(road ?l1 ?l2)'},\n",
       " 1: {'id': 1, 'enabled': True, 'node': '(drive ?v ?l1 ?l2)'},\n",
       " 2: {'id': 2, 'enabled': True, 'node': '(drive ?v ?l1 ?l2)'}}"
      ]
     },
     "execution_count": 31,
     "metadata": {},
     "output_type": "execute_result"
    }
   ],
   "source": [
    "debugger.list_break()"
   ]
  },
  {
   "attachments": {},
   "cell_type": "markdown",
   "metadata": {},
   "source": [
    "Lets disable all the breakpoints"
   ]
  },
  {
   "cell_type": "code",
   "execution_count": 32,
   "metadata": {},
   "outputs": [],
   "source": [
    "for i,_ in debugger.list_break().items():\n",
    "    debugger.disable_break(i)"
   ]
  },
  {
   "cell_type": "code",
   "execution_count": 33,
   "metadata": {},
   "outputs": [
    {
     "name": "stdout",
     "output_type": "stream",
     "text": [
      "debug:> continue\n",
      ":action (drive truck_0 city_loc_2 city_loc_1)\n",
      ":action (pick_up truck_0 city_loc_1 package_0 capacity_0 capacity_1)\n",
      ":action (drive truck_0 city_loc_1 city_loc_0)\n",
      ":action (drop truck_0 city_loc_0 package_0 capacity_0 capacity_1)\n",
      ":action (drive truck_0 city_loc_0 city_loc_1)\n",
      ":action (pick_up truck_0 city_loc_1 package_1 capacity_0 capacity_1)\n",
      ":action (drive truck_0 city_loc_1 city_loc_0)\n",
      ":action (drop truck_0 city_loc_0 package_1 capacity_0 capacity_1)\n",
      "__________________________________________________\n",
      "(*** 5 ***) Expanding: [8] (pick_up truck_0 ?l1 package_0 ?s1 ?s2)\n",
      "\n",
      "(*** 5 ***) Selecting a candidate task.\n",
      "(*** 5 ***) Found: 1 candidates (left).\n",
      "      [0] :action (pick_up truck_0 ?l1 package_0 ?s1 ?s2)\n",
      "(*** 5 ***) Solving action:\n",
      "(:action pick_up\n",
      " :parameters ( truck_0 ?l1 - location package_0 ?s1 - capacity_number ?s2 - capacity_number)\n",
      " :precondition\n",
      "   (and\n",
      "      (and\n",
      "         (at_ truck_0 ?l1)\n",
      "         (at_ package_0 ?l1)\n",
      "         (capacity_predecessor ?s1 ?s2)\n",
      "         (capacity truck_0 ?s2)\n",
      "      )\n",
      "\n",
      "   )\n",
      "\n",
      " :effect\n",
      "   (and\n",
      "      (not (at_ package_0 ?l1))\n",
      "      (in package_0 truck_0)\n",
      "      (capacity truck_0 ?s1)\n",
      "      (not (capacity truck_0 ?s2))\n",
      "   )\n",
      "\n",
      ")\n",
      "(*** 5 ***) working in action:\n",
      "(:action pick_up\n",
      " :parameters ( truck_0 ?l1 - location package_0 ?s1 - capacity_number ?s2 - capacity_number)\n",
      " :precondition\n",
      "   (and\n",
      "      (and\n",
      "         (at_ truck_0 ?l1)\n",
      "         (at_ package_0 ?l1)\n",
      "         (capacity_predecessor ?s1 ?s2)\n",
      "         (capacity truck_0 ?s2)\n",
      "      )\n",
      "\n",
      "   )\n",
      "\n",
      " :effect\n",
      "   (and\n",
      "      (not (at_ package_0 ?l1))\n",
      "      (in package_0 truck_0)\n",
      "      (capacity truck_0 ?s1)\n",
      "      (not (capacity truck_0 ?s2))\n",
      "   )\n",
      "\n",
      ")\n",
      "\n",
      "(*** 5 ***) Found: 1 unification(s) (left). \n",
      "Unification [0]:\n",
      "?s2 <- capacity_1\n",
      "?s1 <- capacity_0\n",
      "?l1 <- city_loc_1\n",
      "3 variable subtition(s).\n",
      "\n",
      "Selecting unification: \n",
      "(ccc) Performing unification: \n",
      "?s2 <- capacity_1\n",
      "?s1 <- capacity_0\n",
      "?l1 <- city_loc_1\n",
      "3 variable subtition(s).\n",
      "\n",
      "(ccc) Deleted from state: (at_ package_0 city_loc_1)\n",
      "(ccc) Added to state: (in package_0 truck_0)\n",
      "(ccc) Added to state: (capacity truck_0 capacity_0)\n",
      "(ccc) Deleted from state: (capacity truck_0 capacity_1)\n",
      "(*** 6 ***) Depth: 6\n",
      "(*** 6 ***) Selecting task to expand from agenda.\n",
      "(*** 6 ***) Expanding: [4] (get_to truck_0 ?l2)\n",
      "\n",
      "(*** 6 ***) Selecting a candidate task.\n",
      "(*** 6 ***) Found: 1 candidates (left).\n",
      "      [0] :task (get_to ?v ?l)\n",
      "(*** 6 ***) Selecting a method to expand from compound task.\n",
      "      :task (get_to ?v ?l)\n",
      "(*** 6 ***) Found: 3 methods to expand (left).\n",
      "      [0] \n",
      "      (:method m_drive_to\n",
      "      :precondition\n",
      "      ( )\n",
      "      :tasks (\n",
      "         (drive ?v ?l1 ?l2)\n",
      "      )\n",
      "      )\n",
      "      [1] \n",
      "      (:method m_drive_to_via\n",
      "      :precondition\n",
      "      ( )\n",
      "      :tasks (\n",
      "         (get_to ?v ?l2)\n",
      "         (drive ?v ?l2 ?l3)\n",
      "      )\n",
      "      )\n",
      "      [2] \n",
      "      (:method m_i_am_there\n",
      "      :precondition\n",
      "      ( )\n",
      "      :tasks (\n",
      "         (noop ?v ?l)\n",
      "      )\n",
      "      )\n",
      "(*** 6 ***) Expanding method: m_drive_to\n",
      "(*** 6 ***) Working in task:\n",
      "(:task get_to\n",
      "   :parameters ( ?v - vehicle ?l - location)\n",
      "   (:method m_drive_to\n",
      "   :precondition\n",
      "   ( )\n",
      "   :tasks (\n",
      "      (drive truck_0 ?l1 ?l2)\n",
      "   )\n",
      "   )\n",
      "   (:method m_drive_to_via\n",
      "   :precondition\n",
      "   ( )\n",
      "   :tasks (\n",
      "      (get_to ?v ?l2)\n",
      "      (drive ?v ?l2 ?l3)\n",
      "   )\n",
      "   )\n",
      "   (:method m_i_am_there\n",
      "   :precondition\n",
      "   ( )\n",
      "   :tasks (\n",
      "      (noop ?v ?l)\n",
      "   )\n",
      "   )\n",
      ")\n",
      "\n",
      "(*** 6 ***) Using method: m_drive_to\n",
      "(*** 6 ***) No preconditions.\n",
      "Selecting unification: \n",
      "(*** 7 ***) Depth: 7\n",
      "(*** 7 ***) Selecting task to expand from agenda.\n",
      "(*** 7 ***) Expanding: [10] (drive truck_0 ?l1 ?l2)\n",
      "\n",
      "(*** 7 ***) Selecting a candidate task.\n",
      "(*** 7 ***) Found: 1 candidates (left).\n",
      "      [0] :action (drive truck_0 ?l1 ?l2)\n",
      "(*** 7 ***) Solving action:\n",
      "(:action drive\n",
      " :parameters ( truck_0 ?l1 - location ?l2 - location)\n",
      " :precondition\n",
      "   (and\n",
      "      (and\n",
      "         (at_ truck_0 ?l1)\n",
      "         (road ?l1 ?l2)\n",
      "      )\n",
      "\n",
      "   )\n",
      "\n",
      " :effect\n",
      "   (and\n",
      "      (not (at_ truck_0 ?l1))\n",
      "      (at_ truck_0 ?l2)\n",
      "   )\n",
      "\n",
      ")\n",
      "(*** 7 ***) working in action:\n",
      "(:action drive\n",
      " :parameters ( truck_0 ?l1 - location ?l2 - location)\n",
      " :precondition\n",
      "   (and\n",
      "      (and\n",
      "         (at_ truck_0 ?l1)\n",
      "         (road ?l1 ?l2)\n",
      "      )\n",
      "\n",
      "   )\n",
      "\n",
      " :effect\n",
      "   (and\n",
      "      (not (at_ truck_0 ?l1))\n",
      "      (at_ truck_0 ?l2)\n",
      "   )\n",
      "\n",
      ")\n",
      "\n",
      "(*** 7 ***) Found: 2 unification(s) (left). \n",
      "Unification [0]:\n",
      "?l2 <- city_loc_0\n",
      "?l1 <- city_loc_1\n",
      "2 variable subtition(s).\n",
      "\n",
      "Unification [1]:\n",
      "?l2 <- city_loc_2\n",
      "?l1 <- city_loc_1\n",
      "2 variable subtition(s).\n",
      "\n",
      "Selecting unification: \n",
      "(ccc) Performing unification: \n",
      "?l2 <- city_loc_0\n",
      "?l1 <- city_loc_1\n",
      "2 variable subtition(s).\n",
      "\n",
      "(ccc) Deleted from state: (at_ truck_0 city_loc_1)\n",
      "(ccc) Added to state: (at_ truck_0 city_loc_0)\n",
      "(*** 8 ***) Depth: 8\n",
      "(*** 8 ***) Selecting task to expand from agenda.\n",
      "(*** 8 ***) Expanding: [5] (unload truck_0 ?l2 package_0)\n",
      "\n",
      "(*** 8 ***) Selecting a candidate task.\n",
      "(*** 8 ***) Found: 1 candidates (left).\n",
      "      [0] :task (unload ?v ?l ?p)\n",
      "(*** 8 ***) Selecting a method to expand from compound task.\n",
      "      :task (unload ?v ?l ?p)\n",
      "(*** 8 ***) Found: 1 methods to expand (left).\n",
      "      [0] \n",
      "      (:method m_unload\n",
      "      :precondition\n",
      "      ( )\n",
      "      :tasks (\n",
      "         (drop ?v ?l ?p ?s1 ?s2)\n",
      "      )\n",
      "      )\n",
      "(*** 8 ***) Expanding method: m_unload\n",
      "(*** 8 ***) Working in task:\n",
      "(:task unload\n",
      "   :parameters ( ?v - vehicle ?l - location ?p - package)\n",
      "   (:method m_unload\n",
      "   :precondition\n",
      "   ( )\n",
      "   :tasks (\n",
      "      (drop truck_0 ?l2 package_0 ?s1 ?s2)\n",
      "   )\n",
      "   )\n",
      ")\n",
      "\n",
      "(*** 8 ***) Using method: m_unload\n",
      "(*** 8 ***) No preconditions.\n",
      "Selecting unification: \n",
      "(*** 9 ***) Depth: 9\n",
      "(*** 9 ***) Selecting task to expand from agenda.\n",
      "(*** 9 ***) Expanding: [12] (drop truck_0 ?l2 package_0 ?s1 ?s2)\n",
      "\n",
      "(*** 9 ***) Selecting a candidate task.\n",
      "(*** 9 ***) Found: 1 candidates (left).\n",
      "      [0] :action (drop truck_0 ?l2 package_0 ?s1 ?s2)\n",
      "(*** 9 ***) Solving action:\n",
      "(:action drop\n",
      " :parameters ( truck_0 ?l2 - location package_0 ?s1 - capacity_number ?s2 - capacity_number)\n",
      " :precondition\n",
      "   (and\n",
      "      (and\n",
      "         (at_ truck_0 ?l2)\n",
      "         (in package_0 truck_0)\n",
      "         (capacity_predecessor ?s1 ?s2)\n",
      "         (capacity truck_0 ?s1)\n",
      "      )\n",
      "\n",
      "   )\n",
      "\n",
      " :effect\n",
      "   (and\n",
      "      (not (in package_0 truck_0))\n",
      "      (at_ package_0 ?l2)\n",
      "      (capacity truck_0 ?s2)\n",
      "      (not (capacity truck_0 ?s1))\n",
      "   )\n",
      "\n",
      ")\n",
      "(*** 9 ***) working in action:\n",
      "(:action drop\n",
      " :parameters ( truck_0 ?l2 - location package_0 ?s1 - capacity_number ?s2 - capacity_number)\n",
      " :precondition\n",
      "   (and\n",
      "      (and\n",
      "         (at_ truck_0 ?l2)\n",
      "         (in package_0 truck_0)\n",
      "         (capacity_predecessor ?s1 ?s2)\n",
      "         (capacity truck_0 ?s1)\n",
      "      )\n",
      "\n",
      "   )\n",
      "\n",
      " :effect\n",
      "   (and\n",
      "      (not (in package_0 truck_0))\n",
      "      (at_ package_0 ?l2)\n",
      "      (capacity truck_0 ?s2)\n",
      "      (not (capacity truck_0 ?s1))\n",
      "   )\n",
      "\n",
      ")\n",
      "\n",
      "(*** 9 ***) Found: 1 unification(s) (left). \n",
      "Unification [0]:\n",
      "?s2 <- capacity_1\n",
      "?s1 <- capacity_0\n",
      "?l2 <- city_loc_0\n",
      "3 variable subtition(s).\n",
      "\n",
      "Selecting unification: \n",
      "(ccc) Performing unification: \n",
      "?s2 <- capacity_1\n",
      "?s1 <- capacity_0\n",
      "?l2 <- city_loc_0\n",
      "3 variable subtition(s).\n",
      "\n",
      "(ccc) Deleted from state: (in package_0 truck_0)\n",
      "(ccc) Added to state: (at_ package_0 city_loc_0)\n",
      "(ccc) Added to state: (capacity truck_0 capacity_1)\n",
      "(ccc) Deleted from state: (capacity truck_0 capacity_0)\n",
      "(*** 10 ***) Depth: 10\n",
      "(*** 10 ***) Selecting task to expand from agenda.\n",
      "(*** 10 ***) Expanding: [1] (deliver package_1 city_loc_2)\n",
      "\n",
      "(*** 10 ***) Selecting a candidate task.\n",
      "(*** 10 ***) Found: 1 candidates (left).\n",
      "      [0] :task (deliver ?p ?l)\n",
      "(*** 10 ***) Selecting a method to expand from compound task.\n",
      "      :task (deliver ?p ?l)\n",
      "(*** 10 ***) Found: 1 methods to expand (left).\n",
      "      [0] \n",
      "      (:method m_deliver\n",
      "      :precondition\n",
      "      ( )\n",
      "      :tasks (\n",
      "         (get_to ?v ?l1)\n",
      "         (load ?v ?l1 ?p)\n",
      "         (get_to ?v ?l2)\n",
      "         (unload ?v ?l2 ?p)\n",
      "      )\n",
      "      )\n",
      "(*** 10 ***) Expanding method: m_deliver\n",
      "(*** 10 ***) Working in task:\n",
      "(:task deliver\n",
      "   :parameters ( ?p - package ?l - location)\n",
      "   (:method m_deliver\n",
      "   :precondition\n",
      "   ( )\n",
      "   :tasks (\n",
      "      (get_to ?v ?l1)\n",
      "      (load ?v ?l1 package_1)\n",
      "      (get_to ?v ?l2)\n",
      "      (unload ?v ?l2 package_1)\n",
      "   )\n",
      "   )\n",
      ")\n",
      "\n",
      "(*** 10 ***) Using method: m_deliver\n",
      "(*** 10 ***) No preconditions.\n",
      "Selecting unification: \n",
      "(*** 11 ***) Depth: 11\n",
      "(*** 11 ***) Selecting task to expand from agenda.\n",
      "(*** 11 ***) Expanding: [14] (get_to ?v ?l1)\n",
      "\n",
      "(*** 11 ***) Selecting a candidate task.\n",
      "(*** 11 ***) Found: 1 candidates (left).\n",
      "      [0] :task (get_to ?v ?l)\n",
      "(*** 11 ***) Selecting a method to expand from compound task.\n",
      "      :task (get_to ?v ?l)\n",
      "(*** 11 ***) Found: 3 methods to expand (left).\n",
      "      [0] \n",
      "      (:method m_drive_to\n",
      "      :precondition\n",
      "      ( )\n",
      "      :tasks (\n",
      "         (drive ?v ?l1 ?l2)\n",
      "      )\n",
      "      )\n",
      "      [1] \n",
      "      (:method m_drive_to_via\n",
      "      :precondition\n",
      "      ( )\n",
      "      :tasks (\n",
      "         (get_to ?v ?l2)\n",
      "         (drive ?v ?l2 ?l3)\n",
      "      )\n",
      "      )\n",
      "      [2] \n",
      "      (:method m_i_am_there\n",
      "      :precondition\n",
      "      ( )\n",
      "      :tasks (\n",
      "         (noop ?v ?l)\n",
      "      )\n",
      "      )\n",
      "(*** 11 ***) Expanding method: m_drive_to\n",
      "(*** 11 ***) Working in task:\n",
      "(:task get_to\n",
      "   :parameters ( ?v - vehicle ?l - location)\n",
      "   (:method m_drive_to\n",
      "   :precondition\n",
      "   ( )\n",
      "   :tasks (\n",
      "      (drive ?v ?l1 ?l2)\n",
      "   )\n",
      "   )\n",
      "   (:method m_drive_to_via\n",
      "   :precondition\n",
      "   ( )\n",
      "   :tasks (\n",
      "      (get_to ?v ?l2)\n",
      "      (drive ?v ?l2 ?l3)\n",
      "   )\n",
      "   )\n",
      "   (:method m_i_am_there\n",
      "   :precondition\n",
      "   ( )\n",
      "   :tasks (\n",
      "      (noop ?v ?l)\n",
      "   )\n",
      "   )\n",
      ")\n",
      "\n",
      "(*** 11 ***) Using method: m_drive_to\n",
      "(*** 11 ***) No preconditions.\n",
      "Selecting unification: \n",
      "(*** 12 ***) Depth: 12\n",
      "(*** 12 ***) Selecting task to expand from agenda.\n",
      "(*** 12 ***) Expanding: [18] (drive ?v ?l1 ?l2)\n",
      "\n",
      "(*** 12 ***) Selecting a candidate task.\n",
      "(*** 12 ***) Found: 1 candidates (left).\n",
      "      [0] :action (drive ?v ?l1 ?l2)\n",
      "(*** 12 ***) Solving action:\n",
      "(:action drive\n",
      " :parameters ( ?v - vehicle ?l1 - location ?l2 - location)\n",
      " :precondition\n",
      "   (and\n",
      "      (and\n",
      "         (at_ ?v ?l1)\n",
      "         (road ?l1 ?l2)\n",
      "      )\n",
      "\n",
      "   )\n",
      "\n",
      " :effect\n",
      "   (and\n",
      "      (not (at_ ?v ?l1))\n",
      "      (at_ ?v ?l2)\n",
      "   )\n",
      "\n",
      ")\n",
      "(*** 12 ***) working in action:\n",
      "(:action drive\n",
      " :parameters ( ?v - vehicle ?l1 - location ?l2 - location)\n",
      " :precondition\n",
      "   (and\n",
      "      (and\n",
      "         (at_ ?v ?l1)\n",
      "         (road ?l1 ?l2)\n",
      "      )\n",
      "\n",
      "   )\n",
      "\n",
      " :effect\n",
      "   (and\n",
      "      (not (at_ ?v ?l1))\n",
      "      (at_ ?v ?l2)\n",
      "   )\n",
      "\n",
      ")\n",
      "\n",
      "(*** 12 ***) Found: 1 unification(s) (left). \n",
      "Unification [0]:\n",
      "?l2 <- city_loc_1\n",
      "?l1 <- city_loc_0\n",
      "?v <- truck_0\n",
      "3 variable subtition(s).\n",
      "\n",
      "Selecting unification: \n",
      "(ccc) Performing unification: \n",
      "?l2 <- city_loc_1\n",
      "?l1 <- city_loc_0\n",
      "?v <- truck_0\n",
      "3 variable subtition(s).\n",
      "\n",
      "(ccc) Deleted from state: (at_ truck_0 city_loc_0)\n",
      "(ccc) Added to state: (at_ truck_0 city_loc_1)\n",
      "(*** 13 ***) Depth: 13\n",
      "(*** 13 ***) Selecting task to expand from agenda.\n",
      "(*** 13 ***) Expanding: [15] (load truck_0 ?l1 package_1)\n",
      "\n",
      "(*** 13 ***) Selecting a candidate task.\n",
      "(*** 13 ***) Found: 1 candidates (left).\n",
      "      [0] :task (load ?v ?l ?p)\n",
      "(*** 13 ***) Selecting a method to expand from compound task.\n",
      "      :task (load ?v ?l ?p)\n",
      "(*** 13 ***) Found: 1 methods to expand (left).\n",
      "      [0] \n",
      "      (:method m_load\n",
      "      :precondition\n",
      "      ( )\n",
      "      :tasks (\n",
      "         (pick_up ?v ?l ?p ?s1 ?s2)\n",
      "      )\n",
      "      )\n",
      "(*** 13 ***) Expanding method: m_load\n",
      "(*** 13 ***) Working in task:\n",
      "(:task load\n",
      "   :parameters ( ?v - vehicle ?l - location ?p - package)\n",
      "   (:method m_load\n",
      "   :precondition\n",
      "   ( )\n",
      "   :tasks (\n",
      "      (pick_up truck_0 ?l1 package_1 ?s1 ?s2)\n",
      "   )\n",
      "   )\n",
      ")\n",
      "\n",
      "(*** 13 ***) Using method: m_load\n",
      "(*** 13 ***) No preconditions.\n",
      "Selecting unification: \n",
      "(*** 14 ***) Depth: 14\n",
      "(*** 14 ***) Selecting task to expand from agenda.\n",
      "(*** 14 ***) Expanding: [20] (pick_up truck_0 ?l1 package_1 ?s1 ?s2)\n",
      "\n",
      "(*** 14 ***) Selecting a candidate task.\n",
      "(*** 14 ***) Found: 1 candidates (left).\n",
      "      [0] :action (pick_up truck_0 ?l1 package_1 ?s1 ?s2)\n",
      "(*** 14 ***) Solving action:\n",
      "(:action pick_up\n",
      " :parameters ( truck_0 ?l1 - location package_1 ?s1 - capacity_number ?s2 - capacity_number)\n",
      " :precondition\n",
      "   (and\n",
      "      (and\n",
      "         (at_ truck_0 ?l1)\n",
      "         (at_ package_1 ?l1)\n",
      "         (capacity_predecessor ?s1 ?s2)\n",
      "         (capacity truck_0 ?s2)\n",
      "      )\n",
      "\n",
      "   )\n",
      "\n",
      " :effect\n",
      "   (and\n",
      "      (not (at_ package_1 ?l1))\n",
      "      (in package_1 truck_0)\n",
      "      (capacity truck_0 ?s1)\n",
      "      (not (capacity truck_0 ?s2))\n",
      "   )\n",
      "\n",
      ")\n",
      "(*** 14 ***) working in action:\n",
      "(:action pick_up\n",
      " :parameters ( truck_0 ?l1 - location package_1 ?s1 - capacity_number ?s2 - capacity_number)\n",
      " :precondition\n",
      "   (and\n",
      "      (and\n",
      "         (at_ truck_0 ?l1)\n",
      "         (at_ package_1 ?l1)\n",
      "         (capacity_predecessor ?s1 ?s2)\n",
      "         (capacity truck_0 ?s2)\n",
      "      )\n",
      "\n",
      "   )\n",
      "\n",
      " :effect\n",
      "   (and\n",
      "      (not (at_ package_1 ?l1))\n",
      "      (in package_1 truck_0)\n",
      "      (capacity truck_0 ?s1)\n",
      "      (not (capacity truck_0 ?s2))\n",
      "   )\n",
      "\n",
      ")\n",
      "\n",
      "(*** 14 ***) Found: 1 unification(s) (left). \n",
      "Unification [0]:\n",
      "?s2 <- capacity_1\n",
      "?s1 <- capacity_0\n",
      "?l1 <- city_loc_1\n",
      "3 variable subtition(s).\n",
      "\n",
      "Selecting unification: \n",
      "(ccc) Performing unification: \n",
      "?s2 <- capacity_1\n",
      "?s1 <- capacity_0\n",
      "?l1 <- city_loc_1\n",
      "3 variable subtition(s).\n",
      "\n",
      "(ccc) Deleted from state: (at_ package_1 city_loc_1)\n",
      "(ccc) Added to state: (in package_1 truck_0)\n",
      "(ccc) Added to state: (capacity truck_0 capacity_0)\n",
      "(ccc) Deleted from state: (capacity truck_0 capacity_1)\n",
      "(*** 15 ***) Depth: 15\n",
      "(*** 15 ***) Selecting task to expand from agenda.\n",
      "(*** 15 ***) Expanding: [16] (get_to truck_0 ?l2)\n",
      "\n",
      "(*** 15 ***) Selecting a candidate task.\n",
      "(*** 15 ***) Found: 1 candidates (left).\n",
      "      [0] :task (get_to ?v ?l)\n",
      "(*** 15 ***) Selecting a method to expand from compound task.\n",
      "      :task (get_to ?v ?l)\n",
      "(*** 15 ***) Found: 3 methods to expand (left).\n",
      "      [0] \n",
      "      (:method m_drive_to\n",
      "      :precondition\n",
      "      ( )\n",
      "      :tasks (\n",
      "         (drive ?v ?l1 ?l2)\n",
      "      )\n",
      "      )\n",
      "      [1] \n",
      "      (:method m_drive_to_via\n",
      "      :precondition\n",
      "      ( )\n",
      "      :tasks (\n",
      "         (get_to ?v ?l2)\n",
      "         (drive ?v ?l2 ?l3)\n",
      "      )\n",
      "      )\n",
      "      [2] \n",
      "      (:method m_i_am_there\n",
      "      :precondition\n",
      "      ( )\n",
      "      :tasks (\n",
      "         (noop ?v ?l)\n",
      "      )\n",
      "      )\n",
      "(*** 15 ***) Expanding method: m_drive_to\n",
      "(*** 15 ***) Working in task:\n",
      "(:task get_to\n",
      "   :parameters ( ?v - vehicle ?l - location)\n",
      "   (:method m_drive_to\n",
      "   :precondition\n",
      "   ( )\n",
      "   :tasks (\n",
      "      (drive truck_0 ?l1 ?l2)\n",
      "   )\n",
      "   )\n",
      "   (:method m_drive_to_via\n",
      "   :precondition\n",
      "   ( )\n",
      "   :tasks (\n",
      "      (get_to ?v ?l2)\n",
      "      (drive ?v ?l2 ?l3)\n",
      "   )\n",
      "   )\n",
      "   (:method m_i_am_there\n",
      "   :precondition\n",
      "   ( )\n",
      "   :tasks (\n",
      "      (noop ?v ?l)\n",
      "   )\n",
      "   )\n",
      ")\n",
      "\n",
      "(*** 15 ***) Using method: m_drive_to\n",
      "(*** 15 ***) No preconditions.\n",
      "Selecting unification: \n",
      "(*** 16 ***) Depth: 16\n",
      "(*** 16 ***) Selecting task to expand from agenda.\n",
      "(*** 16 ***) Expanding: [22] (drive truck_0 ?l1 ?l2)\n",
      "\n",
      "(*** 16 ***) Selecting a candidate task.\n",
      "(*** 16 ***) Found: 1 candidates (left).\n",
      "      [0] :action (drive truck_0 ?l1 ?l2)\n",
      "(*** 16 ***) Solving action:\n",
      "(:action drive\n",
      " :parameters ( truck_0 ?l1 - location ?l2 - location)\n",
      " :precondition\n",
      "   (and\n",
      "      (and\n",
      "         (at_ truck_0 ?l1)\n",
      "         (road ?l1 ?l2)\n",
      "      )\n",
      "\n",
      "   )\n",
      "\n",
      " :effect\n",
      "   (and\n",
      "      (not (at_ truck_0 ?l1))\n",
      "      (at_ truck_0 ?l2)\n",
      "   )\n",
      "\n",
      ")\n",
      "(*** 16 ***) working in action:\n",
      "(:action drive\n",
      " :parameters ( truck_0 ?l1 - location ?l2 - location)\n",
      " :precondition\n",
      "   (and\n",
      "      (and\n",
      "         (at_ truck_0 ?l1)\n",
      "         (road ?l1 ?l2)\n",
      "      )\n",
      "\n",
      "   )\n",
      "\n",
      " :effect\n",
      "   (and\n",
      "      (not (at_ truck_0 ?l1))\n",
      "      (at_ truck_0 ?l2)\n",
      "   )\n",
      "\n",
      ")\n",
      "\n",
      "(*** 16 ***) Found: 2 unification(s) (left). \n",
      "Unification [0]:\n",
      "?l2 <- city_loc_0\n",
      "?l1 <- city_loc_1\n",
      "2 variable subtition(s).\n",
      "\n",
      "Unification [1]:\n",
      "?l2 <- city_loc_2\n",
      "?l1 <- city_loc_1\n",
      "2 variable subtition(s).\n",
      "\n",
      "Selecting unification: \n",
      "(ccc) Performing unification: \n",
      "?l2 <- city_loc_0\n",
      "?l1 <- city_loc_1\n",
      "2 variable subtition(s).\n",
      "\n",
      "(ccc) Deleted from state: (at_ truck_0 city_loc_1)\n",
      "(ccc) Added to state: (at_ truck_0 city_loc_0)\n",
      "(*** 17 ***) Depth: 17\n",
      "(*** 17 ***) Selecting task to expand from agenda.\n",
      "(*** 17 ***) Expanding: [17] (unload truck_0 ?l2 package_1)\n",
      "\n",
      "(*** 17 ***) Selecting a candidate task.\n",
      "(*** 17 ***) Found: 1 candidates (left).\n",
      "      [0] :task (unload ?v ?l ?p)\n",
      "(*** 17 ***) Selecting a method to expand from compound task.\n",
      "      :task (unload ?v ?l ?p)\n",
      "(*** 17 ***) Found: 1 methods to expand (left).\n",
      "      [0] \n",
      "      (:method m_unload\n",
      "      :precondition\n",
      "      ( )\n",
      "      :tasks (\n",
      "         (drop ?v ?l ?p ?s1 ?s2)\n",
      "      )\n",
      "      )\n",
      "(*** 17 ***) Expanding method: m_unload\n",
      "(*** 17 ***) Working in task:\n",
      "(:task unload\n",
      "   :parameters ( ?v - vehicle ?l - location ?p - package)\n",
      "   (:method m_unload\n",
      "   :precondition\n",
      "   ( )\n",
      "   :tasks (\n",
      "      (drop truck_0 ?l2 package_1 ?s1 ?s2)\n",
      "   )\n",
      "   )\n",
      ")\n",
      "\n",
      "(*** 17 ***) Using method: m_unload\n",
      "(*** 17 ***) No preconditions.\n",
      "Selecting unification: \n",
      "(*** 18 ***) Depth: 18\n",
      "(*** 18 ***) Selecting task to expand from agenda.\n",
      "(*** 18 ***) Expanding: [24] (drop truck_0 ?l2 package_1 ?s1 ?s2)\n",
      "\n",
      "(*** 18 ***) Selecting a candidate task.\n",
      "(*** 18 ***) Found: 1 candidates (left).\n",
      "      [0] :action (drop truck_0 ?l2 package_1 ?s1 ?s2)\n",
      "(*** 18 ***) Solving action:\n",
      "(:action drop\n",
      " :parameters ( truck_0 ?l2 - location package_1 ?s1 - capacity_number ?s2 - capacity_number)\n",
      " :precondition\n",
      "   (and\n",
      "      (and\n",
      "         (at_ truck_0 ?l2)\n",
      "         (in package_1 truck_0)\n",
      "         (capacity_predecessor ?s1 ?s2)\n",
      "         (capacity truck_0 ?s1)\n",
      "      )\n",
      "\n",
      "   )\n",
      "\n",
      " :effect\n",
      "   (and\n",
      "      (not (in package_1 truck_0))\n",
      "      (at_ package_1 ?l2)\n",
      "      (capacity truck_0 ?s2)\n",
      "      (not (capacity truck_0 ?s1))\n",
      "   )\n",
      "\n",
      ")\n",
      "(*** 18 ***) working in action:\n",
      "(:action drop\n",
      " :parameters ( truck_0 ?l2 - location package_1 ?s1 - capacity_number ?s2 - capacity_number)\n",
      " :precondition\n",
      "   (and\n",
      "      (and\n",
      "         (at_ truck_0 ?l2)\n",
      "         (in package_1 truck_0)\n",
      "         (capacity_predecessor ?s1 ?s2)\n",
      "         (capacity truck_0 ?s1)\n",
      "      )\n",
      "\n",
      "   )\n",
      "\n",
      " :effect\n",
      "   (and\n",
      "      (not (in package_1 truck_0))\n",
      "      (at_ package_1 ?l2)\n",
      "      (capacity truck_0 ?s2)\n",
      "      (not (capacity truck_0 ?s1))\n",
      "   )\n",
      "\n",
      ")\n",
      "\n",
      "(*** 18 ***) Found: 1 unification(s) (left). \n",
      "Unification [0]:\n",
      "?s2 <- capacity_1\n",
      "?s1 <- capacity_0\n",
      "?l2 <- city_loc_0\n",
      "3 variable subtition(s).\n",
      "\n",
      "Selecting unification: \n",
      "(ccc) Performing unification: \n",
      "?s2 <- capacity_1\n",
      "?s1 <- capacity_0\n",
      "?l2 <- city_loc_0\n",
      "3 variable subtition(s).\n",
      "\n",
      "(ccc) Deleted from state: (in package_1 truck_0)\n",
      "(ccc) Added to state: (at_ package_1 city_loc_0)\n",
      "(ccc) Added to state: (capacity truck_0 capacity_1)\n",
      "(ccc) Deleted from state: (capacity truck_0 capacity_0)\n"
     ]
    }
   ],
   "source": [
    "debugger.continue_run()"
   ]
  },
  {
   "cell_type": "code",
   "execution_count": 35,
   "metadata": {},
   "outputs": [
    {
     "ename": "Exception",
     "evalue": "Debugger stopped",
     "output_type": "error",
     "traceback": [
      "\u001b[0;31m---------------------------------------------------------------------------\u001b[0m",
      "\u001b[0;31mException\u001b[0m                                 Traceback (most recent call last)",
      "Cell \u001b[0;32mIn[35], line 1\u001b[0m\n\u001b[0;32m----> 1\u001b[0m debugger\u001b[39m.\u001b[39;49mplan()\n",
      "File \u001b[0;32m~/.local/lib/python3.10/site-packages/up_siadex/siadex_debugger.py:833\u001b[0m, in \u001b[0;36mSIADEXDebugger.plan\u001b[0;34m(self)\u001b[0m\n\u001b[1;32m    831\u001b[0m \u001b[39mdef\u001b[39;00m \u001b[39mplan\u001b[39m(\u001b[39mself\u001b[39m) \u001b[39m-\u001b[39m\u001b[39m>\u001b[39m SequentialPlan:\n\u001b[1;32m    832\u001b[0m \u001b[39m    \u001b[39m\u001b[39m\"\"\"Returns the actual plan\"\"\"\u001b[39;00m\n\u001b[0;32m--> 833\u001b[0m     \u001b[39mreturn\u001b[39;00m \u001b[39mself\u001b[39;49m\u001b[39m.\u001b[39;49mrun(PlanCommand())\n",
      "File \u001b[0;32m~/.local/lib/python3.10/site-packages/up_siadex/siadex_debugger.py:722\u001b[0m, in \u001b[0;36mSIADEXDebugger.run\u001b[0;34m(self, command)\u001b[0m\n\u001b[1;32m    720\u001b[0m \u001b[39mdef\u001b[39;00m \u001b[39mrun\u001b[39m(\u001b[39mself\u001b[39m, command: ICommand):\n\u001b[1;32m    721\u001b[0m \u001b[39m    \u001b[39m\u001b[39m\"\"\"Run a command\"\"\"\u001b[39;00m\n\u001b[0;32m--> 722\u001b[0m     \u001b[39mreturn\u001b[39;00m \u001b[39mself\u001b[39;49m\u001b[39m.\u001b[39;49m_run_command(command\u001b[39m.\u001b[39;49mcmd, command\u001b[39m.\u001b[39;49mparse)\n",
      "File \u001b[0;32m~/.local/lib/python3.10/site-packages/up_siadex/siadex_debugger.py:690\u001b[0m, in \u001b[0;36mSIADEXDebugger._run_command\u001b[0;34m(self, command, parser)\u001b[0m\n\u001b[1;32m    687\u001b[0m     \u001b[39mraise\u001b[39;00m \u001b[39mException\u001b[39;00m(\u001b[39m\"\u001b[39m\u001b[39mDebugger stopped\u001b[39m\u001b[39m\"\u001b[39m)\n\u001b[1;32m    689\u001b[0m \u001b[39mif\u001b[39;00m \u001b[39mself\u001b[39m\u001b[39m.\u001b[39mprocess\u001b[39m.\u001b[39mpoll() \u001b[39mis\u001b[39;00m \u001b[39mnot\u001b[39;00m \u001b[39mNone\u001b[39;00m:\n\u001b[0;32m--> 690\u001b[0m     \u001b[39mraise\u001b[39;00m \u001b[39mException\u001b[39;00m(\u001b[39m\"\u001b[39m\u001b[39mDebugger stopped\u001b[39m\u001b[39m\"\u001b[39m)\n\u001b[1;32m    692\u001b[0m \u001b[39mif\u001b[39;00m \u001b[39mnot\u001b[39;00m \u001b[39mself\u001b[39m\u001b[39m.\u001b[39mstarted:\n\u001b[1;32m    693\u001b[0m     \u001b[39mraise\u001b[39;00m \u001b[39mException\u001b[39;00m(\u001b[39m\"\u001b[39m\u001b[39mPlease start the debugger first: debugger.debug(problem)\u001b[39m\u001b[39m\"\u001b[39m)\n",
      "\u001b[0;31mException\u001b[0m: Debugger stopped"
     ]
    }
   ],
   "source": [
    "debugger.plan()"
   ]
  },
  {
   "cell_type": "code",
   "execution_count": 36,
   "metadata": {},
   "outputs": [
    {
     "ename": "Exception",
     "evalue": "Debugger stopped",
     "output_type": "error",
     "traceback": [
      "\u001b[0;31m---------------------------------------------------------------------------\u001b[0m",
      "\u001b[0;31mException\u001b[0m                                 Traceback (most recent call last)",
      "Cell \u001b[0;32mIn[36], line 1\u001b[0m\n\u001b[0;32m----> 1\u001b[0m debugger\u001b[39m.\u001b[39;49mhelp()\n",
      "File \u001b[0;32m~/.local/lib/python3.10/site-packages/up_siadex/siadex_debugger.py:836\u001b[0m, in \u001b[0;36mSIADEXDebugger.help\u001b[0;34m(self)\u001b[0m\n\u001b[1;32m    835\u001b[0m \u001b[39mdef\u001b[39;00m \u001b[39mhelp\u001b[39m(\u001b[39mself\u001b[39m):\n\u001b[0;32m--> 836\u001b[0m     \u001b[39mreturn\u001b[39;00m \u001b[39mself\u001b[39;49m\u001b[39m.\u001b[39;49mrun(STRCommand(\u001b[39m\"\u001b[39;49m\u001b[39mhelp\u001b[39;49m\u001b[39m\"\u001b[39;49m))\n",
      "File \u001b[0;32m~/.local/lib/python3.10/site-packages/up_siadex/siadex_debugger.py:722\u001b[0m, in \u001b[0;36mSIADEXDebugger.run\u001b[0;34m(self, command)\u001b[0m\n\u001b[1;32m    720\u001b[0m \u001b[39mdef\u001b[39;00m \u001b[39mrun\u001b[39m(\u001b[39mself\u001b[39m, command: ICommand):\n\u001b[1;32m    721\u001b[0m \u001b[39m    \u001b[39m\u001b[39m\"\"\"Run a command\"\"\"\u001b[39;00m\n\u001b[0;32m--> 722\u001b[0m     \u001b[39mreturn\u001b[39;00m \u001b[39mself\u001b[39;49m\u001b[39m.\u001b[39;49m_run_command(command\u001b[39m.\u001b[39;49mcmd, command\u001b[39m.\u001b[39;49mparse)\n",
      "File \u001b[0;32m~/.local/lib/python3.10/site-packages/up_siadex/siadex_debugger.py:690\u001b[0m, in \u001b[0;36mSIADEXDebugger._run_command\u001b[0;34m(self, command, parser)\u001b[0m\n\u001b[1;32m    687\u001b[0m     \u001b[39mraise\u001b[39;00m \u001b[39mException\u001b[39;00m(\u001b[39m\"\u001b[39m\u001b[39mDebugger stopped\u001b[39m\u001b[39m\"\u001b[39m)\n\u001b[1;32m    689\u001b[0m \u001b[39mif\u001b[39;00m \u001b[39mself\u001b[39m\u001b[39m.\u001b[39mprocess\u001b[39m.\u001b[39mpoll() \u001b[39mis\u001b[39;00m \u001b[39mnot\u001b[39;00m \u001b[39mNone\u001b[39;00m:\n\u001b[0;32m--> 690\u001b[0m     \u001b[39mraise\u001b[39;00m \u001b[39mException\u001b[39;00m(\u001b[39m\"\u001b[39m\u001b[39mDebugger stopped\u001b[39m\u001b[39m\"\u001b[39m)\n\u001b[1;32m    692\u001b[0m \u001b[39mif\u001b[39;00m \u001b[39mnot\u001b[39;00m \u001b[39mself\u001b[39m\u001b[39m.\u001b[39mstarted:\n\u001b[1;32m    693\u001b[0m     \u001b[39mraise\u001b[39;00m \u001b[39mException\u001b[39;00m(\u001b[39m\"\u001b[39m\u001b[39mPlease start the debugger first: debugger.debug(problem)\u001b[39m\u001b[39m\"\u001b[39m)\n",
      "\u001b[0;31mException\u001b[0m: Debugger stopped"
     ]
    }
   ],
   "source": [
    "debugger.help()"
   ]
  },
  {
   "cell_type": "code",
   "execution_count": 37,
   "metadata": {},
   "outputs": [
    {
     "name": "stdout",
     "output_type": "stream",
     "text": [
      "Debugger stopped\n"
     ]
    }
   ],
   "source": [
    "debugger.stop()"
   ]
  },
  {
   "cell_type": "markdown",
   "metadata": {},
   "source": [
    "### END DEBUGGER"
   ]
  }
 ],
 "metadata": {
  "kernelspec": {
   "display_name": "Python 3",
   "language": "python",
   "name": "python3"
  },
  "language_info": {
   "codemirror_mode": {
    "name": "ipython",
    "version": 3
   },
   "file_extension": ".py",
   "mimetype": "text/x-python",
   "name": "python",
   "nbconvert_exporter": "python",
   "pygments_lexer": "ipython3",
   "version": "3.10.6"
  },
  "vscode": {
   "interpreter": {
    "hash": "e7370f93d1d0cde622a1f8e1c04877d8463912d04d973331ad4851f04de6915a"
   }
  }
 },
 "nbformat": 4,
 "nbformat_minor": 2
}
