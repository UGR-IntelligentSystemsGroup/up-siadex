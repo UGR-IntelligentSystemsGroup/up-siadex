{
 "cells": [
  {
   "attachments": {},
   "cell_type": "markdown",
   "metadata": {},
   "source": [
    "# Debugging a planning process with SIADEX\n",
    "\n",
    "SIADEX is an Hierarchical Task Network (HTN) planner with its own planning language (HPDL), but its integration with UPF supports also domains and problem written in HDDL and with the UPF framework.\n",
    "\n",
    "The [SIADEX planner](https://github.com/IgnacioVellido/HPDL-Planner) has an especial operation mode that works like a debugger, where users can control the planning process, evaluate conditions, watch/alter the planning live state and attach breakpoints. In this notebook we will show the interactive debugging mode that is provided by the SIADEX UPF integration.\n",
    "\n",
    "In case you are not familiar with what SIADEX or hierarchical planning is, take a look at the [SIADEX](siadex.ipynb) notebook or the [Wikipedia page](https://en.wikipedia.org/wiki/Hierarchical_task_network)."
   ]
  },
  {
   "attachments": {},
   "cell_type": "markdown",
   "metadata": {},
   "source": [
    "First, we will need to install SIADEX and register it as an UPF engine"
   ]
  },
  {
   "cell_type": "markdown",
   "metadata": {},
   "source": [
    "####  _______ Begin Installation____________"
   ]
  },
  {
   "cell_type": "markdown",
   "metadata": {},
   "source": [
    "**Disclaimer** : The installation steps are only needed until up_siadex is published on pypi and the changes on the unified-planning fork are merged into the origin package"
   ]
  },
  {
   "cell_type": "code",
   "execution_count": null,
   "metadata": {},
   "outputs": [
    {
     "name": "stdout",
     "output_type": "stream",
     "text": [
      "Leyendo lista de paquetes... Hecho\n",
      "E: No se pudo abrir el fichero de bloqueo «/var/lib/apt/lists/lock» - open (13: Permiso denegado)\n",
      "E: No se pudo bloquear el directorio /var/lib/apt/lists/\n",
      "W: Se produjo un problema al desligar el fichero /var/cache/apt/pkgcache.bin - RemoveCaches (13: Permiso denegado)\n",
      "W: Se produjo un problema al desligar el fichero /var/cache/apt/srcpkgcache.bin - RemoveCaches (13: Permiso denegado)\n",
      "E: No se pudo abrir el fichero de bloqueo «/var/lib/dpkg/lock-frontend» - open (13: Permiso denegado)\n",
      "E: No se pudo obtener el bloqueo de la interfaz dpkg (/var/lib/dpkg/lock-frontend). ¿Es usted superusuario?\n"
     ]
    }
   ],
   "source": [
    "# Make sure the following packages are installed on the system: python-dev libreadline-dev. Those are needed for the execution of Siadex\n",
    "!apt-get update\n",
    "!apt-get install -y python-dev libreadline-dev"
   ]
  },
  {
   "cell_type": "code",
   "execution_count": null,
   "metadata": {},
   "outputs": [
    {
     "name": "stdout",
     "output_type": "stream",
     "text": [
      "fatal: la ruta de destino 'unified-planning' ya existe y no es un directorio vacío.\n",
      "fatal: la ruta de destino 'up-siadex' ya existe y no es un directorio vacío.\n"
     ]
    }
   ],
   "source": [
    "# Clonning the repos\n",
    "!git clone https://github.com/UGR-IntelligentSystemsGroup/unified-planning.git\n",
    "!git clone https://github.com/UGR-IntelligentSystemsGroup/up-siadex.git"
   ]
  },
  {
   "cell_type": "code",
   "execution_count": null,
   "metadata": {},
   "outputs": [
    {
     "name": "stdout",
     "output_type": "stream",
     "text": [
      "Defaulting to user installation because normal site-packages is not writeable\n",
      "Obtaining file:///mnt/e/newDesktop/void/projects/siadex/up-siadex/Notebooks/unified-planning\n",
      "  Preparing metadata (setup.py) ... \u001b[?25ldone\n",
      "\u001b[?25hRequirement already satisfied: networkx in /home/gorgue/.local/lib/python3.10/site-packages (from unified-planning==0.4.2) (2.8.6)\n",
      "Requirement already satisfied: pyparsing in /home/gorgue/.local/lib/python3.10/site-packages (from unified-planning==0.4.2) (3.0.9)\n",
      "Installing collected packages: unified-planning\n",
      "  Attempting uninstall: unified-planning\n",
      "    Found existing installation: unified-planning 0.4.2\n",
      "    Uninstalling unified-planning-0.4.2:\n",
      "      Successfully uninstalled unified-planning-0.4.2\n",
      "  Running setup.py develop for unified-planning\n",
      "Successfully installed unified-planning-0.4.2\n",
      "Note: you may need to restart the kernel to use updated packages.\n",
      "Defaulting to user installation because normal site-packages is not writeable\n",
      "Obtaining file:///mnt/e/newDesktop/void/projects/siadex/up-siadex/Notebooks/up-siadex\n",
      "  Preparing metadata (setup.py) ... \u001b[?25ldone\n",
      "\u001b[?25hInstalling collected packages: up-siadex\n",
      "  Attempting uninstall: up-siadex\n",
      "    Found existing installation: up-siadex 0.0.2\n",
      "    Uninstalling up-siadex-0.0.2:\n",
      "      Successfully uninstalled up-siadex-0.0.2\n",
      "  Running setup.py develop for up-siadex\n",
      "Successfully installed up-siadex-0.0.2\n",
      "Note: you may need to restart the kernel to use updated packages.\n"
     ]
    }
   ],
   "source": [
    "# Install the packages\n",
    "# %%capture\n",
    "%pip install -e ./unified-planning\n",
    "%pip install -e ./up-siadex"
   ]
  },
  {
   "cell_type": "markdown",
   "metadata": {},
   "source": [
    "####  _______ End Installation____________"
   ]
  },
  {
   "cell_type": "code",
   "execution_count": 39,
   "metadata": {},
   "outputs": [],
   "source": [
    "from up_siadex import SIADEXEngine\n",
    "\n",
    "import unified_planning as up\n",
    "from unified_planning.shortcuts import *\n",
    "from unified_planning.model.htn.hierarchical_problem import HierarchicalProblem, Task, Method\n",
    "from unified_planning.io import PDDLReader\n",
    "from unified_planning.io import PDDLWriter\n",
    "from unified_planning.io.hpdl.hpdl_reader import HPDLReader\n",
    "from unified_planning.io.hpdl.hpdl_writer import HPDLWriter\n",
    "from unified_planning.engines.results import PlanGenerationResultStatus\n",
    "\n",
    "# Register SIADEX\n",
    "env = up.environment.get_env()\n",
    "env.factory.add_engine('siadex', __name__, \"SIADEXEngine\")"
   ]
  },
  {
   "attachments": {},
   "cell_type": "markdown",
   "metadata": {},
   "source": [
    "## Creating a planning problem\n",
    "\n",
    "First we need to create a UPF Problem instance that we want to solve. In this case, we will read the HDDL __HTN-transport__ domain, which describes how a fleet of trucks should move packages across multiple cities"
   ]
  },
  {
   "cell_type": "code",
   "execution_count": 40,
   "metadata": {},
   "outputs": [],
   "source": [
    "reader = PDDLReader()\n",
    "problem = reader.parse_problem(\"./unified-planning/unified_planning/test/pddl/htn-transport/domain.hddl\",\n",
    "                               \"./unified-planning/unified_planning/test/pddl/htn-transport/problem.hddl\")"
   ]
  },
  {
   "attachments": {},
   "cell_type": "markdown",
   "metadata": {},
   "source": [
    "For this specific instance, we have vehicles and locations. The goal is to move package-0 to city-loc-0 and package-1 to city-loc-2 using the vehicles.\n",
    "\n",
    "We can see the goal via the __task_network__ attribute of our problem instance."
   ]
  },
  {
   "cell_type": "code",
   "execution_count": 41,
   "metadata": {},
   "outputs": [
    {
     "data": {
      "text/plain": [
       "task network {\n",
       "  subtasks = [\n",
       "    _t51: deliver(package-0, city-loc-0)\n",
       "        time_constraints = [\n",
       "        ]\n",
       "    _t52: deliver(package-1, city-loc-2)\n",
       "        time_constraints = [\n",
       "        ]\n",
       "  ]\n",
       "}"
      ]
     },
     "execution_count": 41,
     "metadata": {},
     "output_type": "execute_result"
    }
   ],
   "source": [
    "problem.task_network"
   ]
  },
  {
   "attachments": {},
   "cell_type": "markdown",
   "metadata": {},
   "source": [
    "## Debugging\n",
    "\n",
    "Now we are ready to plan. To start our debugging mode, we create an instance of the SIADEX planner using the OneShotPlanner interface and call the __debugger__ method.\n",
    "This will return an class instance with methods that will work as an interface between the user and the SIADEX internal debugger."
   ]
  },
  {
   "cell_type": "code",
   "execution_count": 42,
   "metadata": {},
   "outputs": [
    {
     "name": "stdout",
     "output_type": "stream",
     "text": [
      "\u001b[96m  *** Credits ***\n",
      "\u001b[0m\u001b[96m  * In operation mode `OneshotPlanner` at line 1 of `/tmp/ipykernel_395/182887877.py`, \u001b[0m\u001b[96myou are using the following planning engine:\n",
      "\u001b[0m\u001b[96m  * Engine name: SIADEX\n",
      "  * Developers:  UGR SIADEX Team\n",
      "\u001b[0m\u001b[96m  * Description: \u001b[0m\u001b[96mSIADEX ENGINE\u001b[0m\u001b[96m\n",
      "\u001b[0m\u001b[96m\n",
      "\u001b[0mDebugger stopped\n",
      "debug:> debug:> break (siadex_debugger_stop )\n",
      "__________________________________________________\n",
      "\n",
      "(*** 1 ***) Initializating planning process...\n",
      "(*** 1 ***) Initializating python...\n",
      "(*** 1 ***) Depth: 1\n",
      "(*** 1 ***) Selecting task to expand from agenda.\n"
     ]
    }
   ],
   "source": [
    "siadex = OneshotPlanner(name='siadex')\n",
    "debugger = siadex.debugger()\n",
    "debugger.debug(problem)"
   ]
  },
  {
   "attachments": {},
   "cell_type": "markdown",
   "metadata": {},
   "source": [
    "To start the debugging process, we call the __debug__ method with the UPF problem that we want to solve. Through the rest of this notebook we will show the available commands and the output of each one. \n",
    "\n",
    "There are three ways of advancing through the planner process. We can use the __next()__ or __nexp()__ methods to move one step or move until the next task is found, respectively; or we can use __continue_run()__ to forward until the next breakpoint or the planning process ends."
   ]
  },
  {
   "attachments": {},
   "cell_type": "markdown",
   "metadata": {},
   "source": [
    "### Planner internal state\n",
    "\n",
    "To get the actual planning state of the debugger we can use the method __state()__. This returns the list of fluents that are currently active and true."
   ]
  },
  {
   "cell_type": "code",
   "execution_count": 43,
   "metadata": {},
   "outputs": [
    {
     "data": {
      "text/plain": [
       "[road(city-loc-0, city-loc-1),\n",
       " road(city-loc-1, city-loc-0),\n",
       " road(city-loc-1, city-loc-2),\n",
       " road(city-loc-2, city-loc-1),\n",
       " at(package-0, city-loc-1),\n",
       " at(package-1, city-loc-1),\n",
       " at(truck-0, city-loc-2),\n",
       " capacity(truck-0, capacity-1),\n",
       " capacity-predecessor(capacity-0, capacity-1)]"
      ]
     },
     "execution_count": 43,
     "metadata": {},
     "output_type": "execute_result"
    }
   ],
   "source": [
    "state = debugger.state()\n",
    "state"
   ]
  },
  {
   "attachments": {},
   "cell_type": "markdown",
   "metadata": {},
   "source": [
    "### Planner agenda\n",
    "\n",
    "The agenda represents the actual process of the debugger expanding nodes. It returns a dict of nodes, where each node has the following information:\n",
    "\n",
    " - __subtask__: The task/action that is susceptible to be expanded with the instanced object or named variables.\n",
    " - __status__: Agenda, pending, closed, action.\n",
    " - __expanded__: Boolean flag indicating if the node has been expanded or not, that is, if the planner has already opened the node to get its children.\n",
    " - __successors__: A list of the children nodes.\n",
    "\n",
    "An special breakpoint and action __(siadex_debugger_stop)__ have been automatically added. This is needed for the correct operation of the debugger. The breakpoint and action does not interfere with the original problem and solution and can be ignored. "
   ]
  },
  {
   "cell_type": "code",
   "execution_count": 44,
   "metadata": {},
   "outputs": [
    {
     "data": {
      "text/plain": [
       "{0: 0: (root ) \n",
       "                 status: root, expanded: root, \n",
       "                 successors: [1, 2, 3],\n",
       " 1: 1: (deliver [package-0, city-loc-0]) \n",
       "                 status: agenda, expanded: unexpanded, \n",
       "                 successors: [],\n",
       " 2: 2: (deliver [package-1, city-loc-2]) \n",
       "                 status: agenda, expanded: unexpanded, \n",
       "                 successors: [],\n",
       " 3: 3: (siadex_debugger_stop []) \n",
       "                 status: agenda, expanded: unexpanded, \n",
       "                 successors: []}"
      ]
     },
     "execution_count": 44,
     "metadata": {},
     "output_type": "execute_result"
    }
   ],
   "source": [
    "nodes = debugger.agenda()\n",
    "nodes"
   ]
  },
  {
   "cell_type": "code",
   "execution_count": 45,
   "metadata": {},
   "outputs": [
    {
     "data": {
      "text/plain": [
       "_t54: deliver(package-0, city-loc-0)\n",
       "        time_constraints = [\n",
       "        ]"
      ]
     },
     "execution_count": 45,
     "metadata": {},
     "output_type": "execute_result"
    }
   ],
   "source": [
    "nodes[1].subtask"
   ]
  },
  {
   "attachments": {},
   "cell_type": "markdown",
   "metadata": {},
   "source": [
    "With agenda_tree() we can take a look to the agenda in a more comfortable way."
   ]
  },
  {
   "cell_type": "code",
   "execution_count": 46,
   "metadata": {},
   "outputs": [
    {
     "name": "stdout",
     "output_type": "stream",
     "text": [
      "0: (root ) status: root, expanded: root\n",
      "    1: (deliver [package-0, city-loc-0]) status: agenda, expanded: unexpanded\n",
      "    2: (deliver [package-1, city-loc-2]) status: agenda, expanded: unexpanded\n",
      "    3: (siadex_debugger_stop []) status: agenda, expanded: unexpanded\n"
     ]
    }
   ],
   "source": [
    "debugger.agenda_tree()"
   ]
  },
  {
   "attachments": {},
   "cell_type": "markdown",
   "metadata": {},
   "source": [
    "Advance one step in the debug process. "
   ]
  },
  {
   "cell_type": "code",
   "execution_count": 47,
   "metadata": {},
   "outputs": [
    {
     "name": "stdout",
     "output_type": "stream",
     "text": [
      "debug:> nexp\n",
      "__________________________________________________\n",
      "(*** 1 ***) Expanding: [0] (deliver package_0 city_loc_0)\n",
      "\n",
      "(*** 1 ***) Selecting a candidate task.\n",
      "(*** 1 ***) Found: 1 candidates (left).\n",
      "      [0] :task (deliver ?p ?l)\n"
     ]
    }
   ],
   "source": [
    "debugger.nexp()"
   ]
  },
  {
   "attachments": {},
   "cell_type": "markdown",
   "metadata": {},
   "source": [
    "### Adding breakpoints\n",
    "\n",
    "Breakpoints lets us set points where we want the debugger to stop, and then use the continue_run(), next() or nexp() methods to go quickly towards them.\n",
    "We can add breakpoints to a fluent, expressions, actions and task. \n",
    "\n",
    "First we get a fluent and objects from the original problem to work with them."
   ]
  },
  {
   "cell_type": "code",
   "execution_count": 48,
   "metadata": {},
   "outputs": [
    {
     "data": {
      "text/plain": [
       "(bool road[l1=location, l2=location],\n",
       " city-loc-0,\n",
       " city-loc-1,\n",
       " action drive(vehicle - locatable v, location l1, location l2) {\n",
       "     preconditions = [\n",
       "       (at(v, l1) and road(l1, l2))\n",
       "     ]\n",
       "     effects = [\n",
       "       at(v, l1) := false\n",
       "       at(v, l2) := true\n",
       "     ]\n",
       "     simulated effect = None\n",
       "   })"
      ]
     },
     "execution_count": 48,
     "metadata": {},
     "output_type": "execute_result"
    }
   ],
   "source": [
    "drive = problem.action(\"drive\")\n",
    "road = problem.fluent(\"road\")\n",
    "city_0 = problem.object(\"city-loc-0\")\n",
    "city_1 = problem.object(\"city-loc-1\")\n",
    "road, city_0, city_1, drive"
   ]
  },
  {
   "attachments": {},
   "cell_type": "markdown",
   "metadata": {},
   "source": [
    "With add_break we can define breakpoints where the debugger will stop when exploring"
   ]
  },
  {
   "cell_type": "code",
   "execution_count": 50,
   "metadata": {},
   "outputs": [
    {
     "name": "stdout",
     "output_type": "stream",
     "text": [
      "debug:> break (road ?l1 ?l2)\n",
      "__________________________________________________\n"
     ]
    },
    {
     "data": {
      "text/plain": [
       "{0: {'id': 0, 'enabled': True, 'node': '(siadex_debugger_stop)'},\n",
       " 1: {'id': 1, 'enabled': True, 'node': '(road ?l1 ?l2)'}}"
      ]
     },
     "execution_count": 50,
     "metadata": {},
     "output_type": "execute_result"
    }
   ],
   "source": [
    "debugger.add_break(road)"
   ]
  },
  {
   "cell_type": "code",
   "execution_count": 51,
   "metadata": {},
   "outputs": [
    {
     "name": "stdout",
     "output_type": "stream",
     "text": [
      "debug:> break (drive ?v ?l1 ?l2)\n",
      "__________________________________________________\n"
     ]
    },
    {
     "data": {
      "text/plain": [
       "{0: {'id': 0, 'enabled': True, 'node': '(siadex_debugger_stop)'},\n",
       " 1: {'id': 1, 'enabled': True, 'node': '(road ?l1 ?l2)'},\n",
       " 2: {'id': 2, 'enabled': True, 'node': '(drive ?v ?l1 ?l2)'}}"
      ]
     },
     "execution_count": 51,
     "metadata": {},
     "output_type": "execute_result"
    }
   ],
   "source": [
    "debugger.add_break(drive)"
   ]
  },
  {
   "attachments": {},
   "cell_type": "markdown",
   "metadata": {},
   "source": [
    "And with enable_break and disable_break, we can enable a disable breakpoints"
   ]
  },
  {
   "cell_type": "code",
   "execution_count": 52,
   "metadata": {},
   "outputs": [
    {
     "data": {
      "text/plain": [
       "{0: {'id': 0, 'enabled': True, 'node': '(siadex_debugger_stop)'},\n",
       " 1: {'id': 1, 'enabled': False, 'node': '(road ?l1 ?l2)'},\n",
       " 2: {'id': 2, 'enabled': True, 'node': '(drive ?v ?l1 ?l2)'}}"
      ]
     },
     "execution_count": 52,
     "metadata": {},
     "output_type": "execute_result"
    }
   ],
   "source": [
    "debugger.disable_break(1)"
   ]
  },
  {
   "cell_type": "code",
   "execution_count": 53,
   "metadata": {},
   "outputs": [
    {
     "data": {
      "text/plain": [
       "{0: {'id': 0, 'enabled': True, 'node': '(siadex_debugger_stop)'},\n",
       " 1: {'id': 1, 'enabled': True, 'node': '(road ?l1 ?l2)'},\n",
       " 2: {'id': 2, 'enabled': True, 'node': '(drive ?v ?l1 ?l2)'}}"
      ]
     },
     "execution_count": 53,
     "metadata": {},
     "output_type": "execute_result"
    }
   ],
   "source": [
    "debugger.enable_break(1)"
   ]
  },
  {
   "cell_type": "code",
   "execution_count": 54,
   "metadata": {},
   "outputs": [
    {
     "data": {
      "text/plain": [
       "{0: {'id': 0, 'enabled': True, 'node': '(siadex_debugger_stop)'},\n",
       " 1: {'id': 1, 'enabled': True, 'node': '(road ?l1 ?l2)'},\n",
       " 2: {'id': 2, 'enabled': True, 'node': '(drive ?v ?l1 ?l2)'}}"
      ]
     },
     "execution_count": 54,
     "metadata": {},
     "output_type": "execute_result"
    }
   ],
   "source": [
    "debugger.list_break()"
   ]
  },
  {
   "attachments": {},
   "cell_type": "markdown",
   "metadata": {},
   "source": [
    "### Modifying the planner state\n",
    "\n",
    "The planner state is the set of predicates and fluents that are currently true.\n",
    "\n",
    "With an expression we can alter the live state of the debugger "
   ]
  },
  {
   "cell_type": "code",
   "execution_count": 55,
   "metadata": {},
   "outputs": [
    {
     "data": {
      "text/plain": [
       "(not road(city-loc-0, city-loc-1))"
      ]
     },
     "execution_count": 55,
     "metadata": {},
     "output_type": "execute_result"
    }
   ],
   "source": [
    "f_road = road(city_0, city_1)\n",
    "f_road.Not()"
   ]
  },
  {
   "cell_type": "code",
   "execution_count": 56,
   "metadata": {},
   "outputs": [
    {
     "data": {
      "text/plain": [
       "[road(city-loc-0, city-loc-1),\n",
       " road(city-loc-1, city-loc-0),\n",
       " road(city-loc-1, city-loc-2),\n",
       " road(city-loc-2, city-loc-1),\n",
       " at(package-0, city-loc-1),\n",
       " at(package-1, city-loc-1),\n",
       " at(truck-0, city-loc-2),\n",
       " capacity(truck-0, capacity-1),\n",
       " capacity-predecessor(capacity-0, capacity-1)]"
      ]
     },
     "execution_count": 56,
     "metadata": {},
     "output_type": "execute_result"
    }
   ],
   "source": [
    "# Actual state\n",
    "debugger.state()\n",
    "# We can see road(city-loc-0, city-loc-1) on the state"
   ]
  },
  {
   "attachments": {},
   "cell_type": "markdown",
   "metadata": {},
   "source": [
    "With a fluent and the method __apply_effect()__ we can add new clauses or deny from the state "
   ]
  },
  {
   "cell_type": "code",
   "execution_count": 57,
   "metadata": {},
   "outputs": [
    {
     "data": {
      "text/plain": [
       "[road(city-loc-1, city-loc-0),\n",
       " road(city-loc-1, city-loc-2),\n",
       " road(city-loc-2, city-loc-1),\n",
       " at(package-0, city-loc-1),\n",
       " at(package-1, city-loc-1),\n",
       " at(truck-0, city-loc-2),\n",
       " capacity(truck-0, capacity-1),\n",
       " capacity-predecessor(capacity-0, capacity-1)]"
      ]
     },
     "execution_count": 57,
     "metadata": {},
     "output_type": "execute_result"
    }
   ],
   "source": [
    "debugger.apply_effect(f_road.Not())\n",
    "# Deny (road(city-loc-0, city-loc-1))"
   ]
  },
  {
   "cell_type": "code",
   "execution_count": 58,
   "metadata": {},
   "outputs": [
    {
     "data": {
      "text/plain": [
       "[road(city-loc-1, city-loc-0),\n",
       " road(city-loc-0, city-loc-1),\n",
       " road(city-loc-1, city-loc-2),\n",
       " road(city-loc-2, city-loc-1),\n",
       " at(package-0, city-loc-1),\n",
       " at(package-1, city-loc-1),\n",
       " at(truck-0, city-loc-2),\n",
       " capacity(truck-0, capacity-1),\n",
       " capacity-predecessor(capacity-0, capacity-1)]"
      ]
     },
     "execution_count": 58,
     "metadata": {},
     "output_type": "execute_result"
    }
   ],
   "source": [
    "debugger.apply_effect(f_road)\n",
    "# Add (road(city-loc-0, city-loc-1))"
   ]
  },
  {
   "attachments": {},
   "cell_type": "markdown",
   "metadata": {},
   "source": [
    "### Evaluate preconditions\n",
    "\n",
    "With the method eval_preconditions() we can evaluate on the actual state the preconditions of an action or fluents. It returns a list of valid parameters for that expression. "
   ]
  },
  {
   "cell_type": "code",
   "execution_count": 59,
   "metadata": {},
   "outputs": [
    {
     "data": {
      "text/plain": [
       "[{'l1': city-loc-2, 'l2': city-loc-1},\n",
       " {'l1': city-loc-1, 'l2': city-loc-2},\n",
       " {'l1': city-loc-0, 'l2': city-loc-1},\n",
       " {'l1': city-loc-1, 'l2': city-loc-0}]"
      ]
     },
     "execution_count": 59,
     "metadata": {},
     "output_type": "execute_result"
    }
   ],
   "source": [
    "debugger.eval_preconditions(road)"
   ]
  },
  {
   "cell_type": "code",
   "execution_count": 60,
   "metadata": {},
   "outputs": [
    {
     "data": {
      "text/plain": [
       "[{vehicle - locatable v: truck-0,\n",
       "  location l1: city-loc-2,\n",
       "  location l2: city-loc-1}]"
      ]
     },
     "execution_count": 60,
     "metadata": {},
     "output_type": "execute_result"
    }
   ],
   "source": [
    "debugger.eval_preconditions(drive)"
   ]
  },
  {
   "attachments": {},
   "cell_type": "markdown",
   "metadata": {},
   "source": [
    "Avance 10 tasks in the planning process"
   ]
  },
  {
   "cell_type": "code",
   "execution_count": 61,
   "metadata": {},
   "outputs": [
    {
     "name": "stdout",
     "output_type": "stream",
     "text": [
      "debug:> nexp\n",
      "__________________________________________________\n",
      "(*** 1 ***) Selecting a method to expand from compound task.\n",
      "      :task (deliver ?p ?l)\n",
      "(*** 1 ***) Found: 1 methods to expand (left).\n",
      "      [0] \n",
      "      (:method m_deliver\n",
      "      :precondition\n",
      "      ( )\n",
      "      :tasks (\n",
      "         (get_to ?v ?l1)\n",
      "         (load ?v ?l1 ?p)\n",
      "         (get_to ?v ?l2)\n",
      "         (unload ?v ?l2 ?p)\n",
      "      )\n",
      "      )\n",
      "Breakpoint 1 reached.\n",
      "debug:> nexp\n",
      "__________________________________________________\n",
      "(*** 1 ***) Expanding method: m_deliver\n",
      "(*** 1 ***) Working in task:\n",
      "(:task deliver\n",
      "   :parameters ( ?p - package ?l - location)\n",
      "   (:method m_deliver\n",
      "   :precondition\n",
      "   ( )\n",
      "   :tasks (\n",
      "      (get_to ?v ?l1)\n",
      "      (load ?v ?l1 package_0)\n",
      "      (get_to ?v ?l2)\n",
      "      (unload ?v ?l2 package_0)\n",
      "   )\n",
      "   )\n",
      ")\n",
      "\n",
      "(*** 1 ***) Using method: m_deliver\n",
      "(*** 1 ***) No preconditions.\n",
      "Selecting unification: \n",
      "(*** 2 ***) Depth: 2\n",
      "(*** 2 ***) Selecting task to expand from agenda.\n",
      "Breakpoint 1 reached.\n",
      "debug:> nexp\n",
      "__________________________________________________\n",
      "(*** 2 ***) Expanding: [3] (get_to ?v ?l1)\n",
      "\n",
      "(*** 2 ***) Selecting a candidate task.\n",
      "(*** 2 ***) Found: 1 candidates (left).\n",
      "      [0] :task (get_to ?v ?l)\n",
      "debug:> nexp\n",
      "__________________________________________________\n",
      "(*** 2 ***) Selecting a method to expand from compound task.\n",
      "      :task (get_to ?v ?l)\n",
      "(*** 2 ***) Found: 3 methods to expand (left).\n",
      "      [0] \n",
      "      (:method m_drive_to\n",
      "      :precondition\n",
      "      ( )\n",
      "      :tasks (\n",
      "         (drive ?v ?l1 ?l2)\n",
      "      )\n",
      "      )\n",
      "      [1] \n",
      "      (:method m_drive_to_via\n",
      "      :precondition\n",
      "      ( )\n",
      "      :tasks (\n",
      "         (get_to ?v ?l2)\n",
      "         (drive ?v ?l2 ?l3)\n",
      "      )\n",
      "      )\n",
      "      [2] \n",
      "      (:method m_i_am_there\n",
      "      :precondition\n",
      "      ( )\n",
      "      :tasks (\n",
      "         (noop ?v ?l)\n",
      "      )\n",
      "      )\n",
      "Breakpoint 1 reached.\n",
      "debug:> nexp\n",
      "__________________________________________________\n",
      "(*** 2 ***) Expanding method: m_drive_to\n",
      "(*** 2 ***) Working in task:\n",
      "(:task get_to\n",
      "   :parameters ( ?v - vehicle ?l - location)\n",
      "   (:method m_drive_to\n",
      "   :precondition\n",
      "   ( )\n",
      "   :tasks (\n",
      "      (drive ?v ?l1 ?l2)\n",
      "   )\n",
      "   )\n",
      "   (:method m_drive_to_via\n",
      "   :precondition\n",
      "   ( )\n",
      "   :tasks (\n",
      "      (get_to ?v ?l2)\n",
      "      (drive ?v ?l2 ?l3)\n",
      "   )\n",
      "   )\n",
      "   (:method m_i_am_there\n",
      "   :precondition\n",
      "   ( )\n",
      "   :tasks (\n",
      "      (noop ?v ?l)\n",
      "   )\n",
      "   )\n",
      ")\n",
      "\n",
      "(*** 2 ***) Using method: m_drive_to\n",
      "(*** 2 ***) No preconditions.\n",
      "Selecting unification: \n",
      "(*** 3 ***) Depth: 3\n",
      "(*** 3 ***) Selecting task to expand from agenda.\n",
      "Breakpoint 1 reached.\n",
      "debug:> nexp\n",
      "__________________________________________________\n",
      "(*** 3 ***) Expanding: [7] (drive ?v ?l1 ?l2)\n",
      "\n",
      "(*** 3 ***) Selecting a candidate task.\n",
      "(*** 3 ***) Found: 1 candidates (left).\n",
      "      [0] :action (drive ?v ?l1 ?l2)\n",
      "debug:> nexp\n",
      "__________________________________________________\n",
      "(*** 3 ***) Solving action:\n",
      "(:action drive\n",
      " :parameters ( ?v - vehicle ?l1 - location ?l2 - location)\n",
      " :precondition\n",
      "   (and\n",
      "      (and\n",
      "         (at_ ?v ?l1)\n",
      "         (road ?l1 ?l2)\n",
      "      )\n",
      "\n",
      "   )\n",
      "\n",
      " :effect\n",
      "   (and\n",
      "      (not (at_ ?v ?l1))\n",
      "      (at_ ?v ?l2)\n",
      "   )\n",
      "\n",
      ")\n",
      "(*** 3 ***) working in action:\n",
      "(:action drive\n",
      " :parameters ( ?v - vehicle ?l1 - location ?l2 - location)\n",
      " :precondition\n",
      "   (and\n",
      "      (and\n",
      "         (at_ ?v ?l1)\n",
      "         (road ?l1 ?l2)\n",
      "      )\n",
      "\n",
      "   )\n",
      "\n",
      " :effect\n",
      "   (and\n",
      "      (not (at_ ?v ?l1))\n",
      "      (at_ ?v ?l2)\n",
      "   )\n",
      "\n",
      ")\n",
      "\n",
      "(*** 3 ***) Found: 1 unification(s) (left). \n",
      "Unification [0]:\n",
      "?l2 <- city_loc_1\n",
      "?l1 <- city_loc_2\n",
      "?v <- truck_0\n",
      "3 variable subtition(s).\n",
      "\n",
      "Selecting unification: \n",
      "Breakpoint 1 reached.\n",
      "debug:> nexp\n",
      "__________________________________________________\n",
      "(ccc) Performing unification: \n",
      "?l2 <- city_loc_1\n",
      "?l1 <- city_loc_2\n",
      "?v <- truck_0\n",
      "3 variable subtition(s).\n",
      "\n",
      "(ccc) Deleted from state: (at_ truck_0 city_loc_2)\n",
      "(ccc) Added to state: (at_ truck_0 city_loc_1)\n",
      "(*** 4 ***) Depth: 4\n",
      "(*** 4 ***) Selecting task to expand from agenda.\n",
      "Breakpoint 1 reached.\n",
      "debug:> nexp\n",
      "__________________________________________________\n",
      "(*** 4 ***) Expanding: [4] (load truck_0 ?l1 package_0)\n",
      "\n",
      "(*** 4 ***) Selecting a candidate task.\n",
      "(*** 4 ***) Found: 1 candidates (left).\n",
      "      [0] :task (load ?v ?l ?p)\n",
      "debug:> nexp\n",
      "__________________________________________________\n",
      "(*** 4 ***) Selecting a method to expand from compound task.\n",
      "      :task (load ?v ?l ?p)\n",
      "(*** 4 ***) Found: 1 methods to expand (left).\n",
      "      [0] \n",
      "      (:method m_load\n",
      "      :precondition\n",
      "      ( )\n",
      "      :tasks (\n",
      "         (pick_up ?v ?l ?p ?s1 ?s2)\n",
      "      )\n",
      "      )\n",
      "Breakpoint 1 reached.\n"
     ]
    }
   ],
   "source": [
    "debugger.nexp(10)"
   ]
  },
  {
   "attachments": {},
   "cell_type": "markdown",
   "metadata": {},
   "source": [
    "With plan() we can obtain the result plan that has been already discovered  "
   ]
  },
  {
   "cell_type": "code",
   "execution_count": 62,
   "metadata": {},
   "outputs": [
    {
     "data": {
      "text/plain": [
       "[drive(truck-0, city-loc-2, city-loc-1)]"
      ]
     },
     "execution_count": 62,
     "metadata": {},
     "output_type": "execute_result"
    }
   ],
   "source": [
    "debugger.plan()"
   ]
  },
  {
   "cell_type": "code",
   "execution_count": 63,
   "metadata": {},
   "outputs": [
    {
     "name": "stdout",
     "output_type": "stream",
     "text": [
      "0: (root ) status: root, expanded: root\n",
      "    2: (deliver [package-1, city-loc-2]) status: agenda, expanded: unexpanded\n",
      "    3: (siadex_debugger_stop []) status: agenda, expanded: unexpanded\n",
      "    9: (drive [truck-0, city-loc-2, city-loc-1]) status: pending, expanded: action\n",
      "        5: (load [truck-0, l, package-0]) status: pending, expanded: unexpanded\n",
      "            6: (get-to [truck-0, l]) status: pending, expanded: unexpanded\n",
      "                7: (unload [truck-0, l, package-0]) status: pending, expanded: unexpanded\n"
     ]
    }
   ],
   "source": [
    "debugger.agenda_tree()"
   ]
  },
  {
   "attachments": {},
   "cell_type": "markdown",
   "metadata": {},
   "source": [
    "With __force_run()__ we can directly interact with the debugger using string commands"
   ]
  },
  {
   "cell_type": "code",
   "execution_count": 65,
   "metadata": {},
   "outputs": [
    {
     "name": "stdout",
     "output_type": "stream",
     "text": [
      "debug:> help break\n",
      "__________________________________________________\n",
      "Command: `break'. Shortcut `b'\n",
      "\n",
      "Description: Manages the stablished breakpoints.\n",
      "\t`break':\tLists all defined breakpoints.\n",
      "\t`break <number>':\tPrints breakpoint whith given id.\n",
      "\t`break <predicate>':\tDefines a new breakpoint. <predcate> can be a task definition or a simple predicate.\n",
      "See also: `watch', `disable', `enable'.\n"
     ]
    }
   ],
   "source": [
    "debugger.force_run(\"help break\")"
   ]
  },
  {
   "cell_type": "code",
   "execution_count": 66,
   "metadata": {},
   "outputs": [
    {
     "data": {
      "text/plain": [
       "{0: {'id': 0, 'enabled': True, 'node': '(siadex_debugger_stop)'},\n",
       " 1: {'id': 1, 'enabled': True, 'node': '(road ?l1 ?l2)'},\n",
       " 2: {'id': 2, 'enabled': True, 'node': '(drive ?v ?l1 ?l2)'}}"
      ]
     },
     "execution_count": 66,
     "metadata": {},
     "output_type": "execute_result"
    }
   ],
   "source": [
    "debugger.list_break()"
   ]
  },
  {
   "attachments": {},
   "cell_type": "markdown",
   "metadata": {},
   "source": [
    "Let's disable all the breakpoints"
   ]
  },
  {
   "cell_type": "code",
   "execution_count": 67,
   "metadata": {},
   "outputs": [],
   "source": [
    "for i,_ in debugger.list_break().items():\n",
    "    debugger.disable_break(i)"
   ]
  },
  {
   "attachments": {},
   "cell_type": "markdown",
   "metadata": {},
   "source": [
    "With __continue_run()__ we can advance until the next breakpoint or goal is reached"
   ]
  },
  {
   "cell_type": "code",
   "execution_count": 68,
   "metadata": {},
   "outputs": [
    {
     "name": "stdout",
     "output_type": "stream",
     "text": [
      "debug:> continue\n",
      "__________________________________________________\n",
      "(*** 4 ***) Expanding method: m_load\n",
      "(*** 4 ***) Working in task:\n",
      "(:task load\n",
      "   :parameters ( ?v - vehicle ?l - location ?p - package)\n",
      "   (:method m_load\n",
      "   :precondition\n",
      "   ( )\n",
      "   :tasks (\n",
      "      (pick_up truck_0 ?l1 package_0 ?s1 ?s2)\n",
      "   )\n",
      "   )\n",
      ")\n",
      "\n",
      "(*** 4 ***) Using method: m_load\n",
      "(*** 4 ***) No preconditions.\n",
      "Selecting unification: \n",
      "(*** 5 ***) Depth: 5\n",
      "(*** 5 ***) Selecting task to expand from agenda.\n",
      "(*** 5 ***) Expanding: [9] (pick_up truck_0 ?l1 package_0 ?s1 ?s2)\n",
      "\n",
      "(*** 5 ***) Selecting a candidate task.\n",
      "(*** 5 ***) Found: 1 candidates (left).\n",
      "      [0] :action (pick_up truck_0 ?l1 package_0 ?s1 ?s2)\n",
      "(*** 5 ***) Solving action:\n",
      "(:action pick_up\n",
      " :parameters ( truck_0 ?l1 - location package_0 ?s1 - capacity_number ?s2 - capacity_number)\n",
      " :precondition\n",
      "   (and\n",
      "      (and\n",
      "         (at_ truck_0 ?l1)\n",
      "         (at_ package_0 ?l1)\n",
      "         (capacity_predecessor ?s1 ?s2)\n",
      "         (capacity truck_0 ?s2)\n",
      "      )\n",
      "\n",
      "   )\n",
      "\n",
      " :effect\n",
      "   (and\n",
      "      (not (at_ package_0 ?l1))\n",
      "      (in package_0 truck_0)\n",
      "      (capacity truck_0 ?s1)\n",
      "      (not (capacity truck_0 ?s2))\n",
      "   )\n",
      "\n",
      ")\n",
      "(*** 5 ***) working in action:\n",
      "(:action pick_up\n",
      " :parameters ( truck_0 ?l1 - location package_0 ?s1 - capacity_number ?s2 - capacity_number)\n",
      " :precondition\n",
      "   (and\n",
      "      (and\n",
      "         (at_ truck_0 ?l1)\n",
      "         (at_ package_0 ?l1)\n",
      "         (capacity_predecessor ?s1 ?s2)\n",
      "         (capacity truck_0 ?s2)\n",
      "      )\n",
      "\n",
      "   )\n",
      "\n",
      " :effect\n",
      "   (and\n",
      "      (not (at_ package_0 ?l1))\n",
      "      (in package_0 truck_0)\n",
      "      (capacity truck_0 ?s1)\n",
      "      (not (capacity truck_0 ?s2))\n",
      "   )\n",
      "\n",
      ")\n",
      "\n",
      "(*** 5 ***) Found: 1 unification(s) (left). \n",
      "Unification [0]:\n",
      "?s2 <- capacity_1\n",
      "?s1 <- capacity_0\n",
      "?l1 <- city_loc_1\n",
      "3 variable subtition(s).\n",
      "\n",
      "Selecting unification: \n",
      "(ccc) Performing unification: \n",
      "?s2 <- capacity_1\n",
      "?s1 <- capacity_0\n",
      "?l1 <- city_loc_1\n",
      "3 variable subtition(s).\n",
      "\n",
      "(ccc) Deleted from state: (at_ package_0 city_loc_1)\n",
      "(ccc) Added to state: (in package_0 truck_0)\n",
      "(ccc) Added to state: (capacity truck_0 capacity_0)\n",
      "(ccc) Deleted from state: (capacity truck_0 capacity_1)\n",
      "(*** 6 ***) Depth: 6\n",
      "(*** 6 ***) Selecting task to expand from agenda.\n",
      "(*** 6 ***) Expanding: [5] (get_to truck_0 ?l2)\n",
      "\n",
      "(*** 6 ***) Selecting a candidate task.\n",
      "(*** 6 ***) Found: 1 candidates (left).\n",
      "      [0] :task (get_to ?v ?l)\n",
      "(*** 6 ***) Selecting a method to expand from compound task.\n",
      "      :task (get_to ?v ?l)\n",
      "(*** 6 ***) Found: 3 methods to expand (left).\n",
      "      [0] \n",
      "      (:method m_drive_to\n",
      "      :precondition\n",
      "      ( )\n",
      "      :tasks (\n",
      "         (drive ?v ?l1 ?l2)\n",
      "      )\n",
      "      )\n",
      "      [1] \n",
      "      (:method m_drive_to_via\n",
      "      :precondition\n",
      "      ( )\n",
      "      :tasks (\n",
      "         (get_to ?v ?l2)\n",
      "         (drive ?v ?l2 ?l3)\n",
      "      )\n",
      "      )\n",
      "      [2] \n",
      "      (:method m_i_am_there\n",
      "      :precondition\n",
      "      ( )\n",
      "      :tasks (\n",
      "         (noop ?v ?l)\n",
      "      )\n",
      "      )\n",
      "(*** 6 ***) Expanding method: m_drive_to\n",
      "(*** 6 ***) Working in task:\n",
      "(:task get_to\n",
      "   :parameters ( ?v - vehicle ?l - location)\n",
      "   (:method m_drive_to\n",
      "   :precondition\n",
      "   ( )\n",
      "   :tasks (\n",
      "      (drive truck_0 ?l1 ?l2)\n",
      "   )\n",
      "   )\n",
      "   (:method m_drive_to_via\n",
      "   :precondition\n",
      "   ( )\n",
      "   :tasks (\n",
      "      (get_to ?v ?l2)\n",
      "      (drive ?v ?l2 ?l3)\n",
      "   )\n",
      "   )\n",
      "   (:method m_i_am_there\n",
      "   :precondition\n",
      "   ( )\n",
      "   :tasks (\n",
      "      (noop ?v ?l)\n",
      "   )\n",
      "   )\n",
      ")\n",
      "\n",
      "(*** 6 ***) Using method: m_drive_to\n",
      "(*** 6 ***) No preconditions.\n",
      "Selecting unification: \n",
      "(*** 7 ***) Depth: 7\n",
      "(*** 7 ***) Selecting task to expand from agenda.\n",
      "(*** 7 ***) Expanding: [11] (drive truck_0 ?l1 ?l2)\n",
      "\n",
      "(*** 7 ***) Selecting a candidate task.\n",
      "(*** 7 ***) Found: 1 candidates (left).\n",
      "      [0] :action (drive truck_0 ?l1 ?l2)\n",
      "(*** 7 ***) Solving action:\n",
      "(:action drive\n",
      " :parameters ( truck_0 ?l1 - location ?l2 - location)\n",
      " :precondition\n",
      "   (and\n",
      "      (and\n",
      "         (at_ truck_0 ?l1)\n",
      "         (road ?l1 ?l2)\n",
      "      )\n",
      "\n",
      "   )\n",
      "\n",
      " :effect\n",
      "   (and\n",
      "      (not (at_ truck_0 ?l1))\n",
      "      (at_ truck_0 ?l2)\n",
      "   )\n",
      "\n",
      ")\n",
      "(*** 7 ***) working in action:\n",
      "(:action drive\n",
      " :parameters ( truck_0 ?l1 - location ?l2 - location)\n",
      " :precondition\n",
      "   (and\n",
      "      (and\n",
      "         (at_ truck_0 ?l1)\n",
      "         (road ?l1 ?l2)\n",
      "      )\n",
      "\n",
      "   )\n",
      "\n",
      " :effect\n",
      "   (and\n",
      "      (not (at_ truck_0 ?l1))\n",
      "      (at_ truck_0 ?l2)\n",
      "   )\n",
      "\n",
      ")\n",
      "\n",
      "(*** 7 ***) Found: 2 unification(s) (left). \n",
      "Unification [0]:\n",
      "?l2 <- city_loc_0\n",
      "?l1 <- city_loc_1\n",
      "2 variable subtition(s).\n",
      "\n",
      "Unification [1]:\n",
      "?l2 <- city_loc_2\n",
      "?l1 <- city_loc_1\n",
      "2 variable subtition(s).\n",
      "\n",
      "Selecting unification: \n",
      "(ccc) Performing unification: \n",
      "?l2 <- city_loc_0\n",
      "?l1 <- city_loc_1\n",
      "2 variable subtition(s).\n",
      "\n",
      "(ccc) Deleted from state: (at_ truck_0 city_loc_1)\n",
      "(ccc) Added to state: (at_ truck_0 city_loc_0)\n",
      "(*** 8 ***) Depth: 8\n",
      "(*** 8 ***) Selecting task to expand from agenda.\n",
      "(*** 8 ***) Expanding: [6] (unload truck_0 ?l2 package_0)\n",
      "\n",
      "(*** 8 ***) Selecting a candidate task.\n",
      "(*** 8 ***) Found: 1 candidates (left).\n",
      "      [0] :task (unload ?v ?l ?p)\n",
      "(*** 8 ***) Selecting a method to expand from compound task.\n",
      "      :task (unload ?v ?l ?p)\n",
      "(*** 8 ***) Found: 1 methods to expand (left).\n",
      "      [0] \n",
      "      (:method m_unload\n",
      "      :precondition\n",
      "      ( )\n",
      "      :tasks (\n",
      "         (drop ?v ?l ?p ?s1 ?s2)\n",
      "      )\n",
      "      )\n",
      "(*** 8 ***) Expanding method: m_unload\n",
      "(*** 8 ***) Working in task:\n",
      "(:task unload\n",
      "   :parameters ( ?v - vehicle ?l - location ?p - package)\n",
      "   (:method m_unload\n",
      "   :precondition\n",
      "   ( )\n",
      "   :tasks (\n",
      "      (drop truck_0 ?l2 package_0 ?s1 ?s2)\n",
      "   )\n",
      "   )\n",
      ")\n",
      "\n",
      "(*** 8 ***) Using method: m_unload\n",
      "(*** 8 ***) No preconditions.\n",
      "Selecting unification: \n",
      "(*** 9 ***) Depth: 9\n",
      "(*** 9 ***) Selecting task to expand from agenda.\n",
      "(*** 9 ***) Expanding: [13] (drop truck_0 ?l2 package_0 ?s1 ?s2)\n",
      "\n",
      "(*** 9 ***) Selecting a candidate task.\n",
      "(*** 9 ***) Found: 1 candidates (left).\n",
      "      [0] :action (drop truck_0 ?l2 package_0 ?s1 ?s2)\n",
      "(*** 9 ***) Solving action:\n",
      "(:action drop\n",
      " :parameters ( truck_0 ?l2 - location package_0 ?s1 - capacity_number ?s2 - capacity_number)\n",
      " :precondition\n",
      "   (and\n",
      "      (and\n",
      "         (at_ truck_0 ?l2)\n",
      "         (in package_0 truck_0)\n",
      "         (capacity_predecessor ?s1 ?s2)\n",
      "         (capacity truck_0 ?s1)\n",
      "      )\n",
      "\n",
      "   )\n",
      "\n",
      " :effect\n",
      "   (and\n",
      "      (not (in package_0 truck_0))\n",
      "      (at_ package_0 ?l2)\n",
      "      (capacity truck_0 ?s2)\n",
      "      (not (capacity truck_0 ?s1))\n",
      "   )\n",
      "\n",
      ")\n",
      "(*** 9 ***) working in action:\n",
      "(:action drop\n",
      " :parameters ( truck_0 ?l2 - location package_0 ?s1 - capacity_number ?s2 - capacity_number)\n",
      " :precondition\n",
      "   (and\n",
      "      (and\n",
      "         (at_ truck_0 ?l2)\n",
      "         (in package_0 truck_0)\n",
      "         (capacity_predecessor ?s1 ?s2)\n",
      "         (capacity truck_0 ?s1)\n",
      "      )\n",
      "\n",
      "   )\n",
      "\n",
      " :effect\n",
      "   (and\n",
      "      (not (in package_0 truck_0))\n",
      "      (at_ package_0 ?l2)\n",
      "      (capacity truck_0 ?s2)\n",
      "      (not (capacity truck_0 ?s1))\n",
      "   )\n",
      "\n",
      ")\n",
      "\n",
      "(*** 9 ***) Found: 1 unification(s) (left). \n",
      "Unification [0]:\n",
      "?s2 <- capacity_1\n",
      "?s1 <- capacity_0\n",
      "?l2 <- city_loc_0\n",
      "3 variable subtition(s).\n",
      "\n",
      "Selecting unification: \n",
      "(ccc) Performing unification: \n",
      "?s2 <- capacity_1\n",
      "?s1 <- capacity_0\n",
      "?l2 <- city_loc_0\n",
      "3 variable subtition(s).\n",
      "\n",
      "(ccc) Deleted from state: (in package_0 truck_0)\n",
      "(ccc) Added to state: (at_ package_0 city_loc_0)\n",
      "(ccc) Added to state: (capacity truck_0 capacity_1)\n",
      "(ccc) Deleted from state: (capacity truck_0 capacity_0)\n",
      "(*** 10 ***) Depth: 10\n",
      "(*** 10 ***) Selecting task to expand from agenda.\n",
      "(*** 10 ***) Expanding: [1] (deliver package_1 city_loc_2)\n",
      "\n",
      "(*** 10 ***) Selecting a candidate task.\n",
      "(*** 10 ***) Found: 1 candidates (left).\n",
      "      [0] :task (deliver ?p ?l)\n",
      "(*** 10 ***) Selecting a method to expand from compound task.\n",
      "      :task (deliver ?p ?l)\n",
      "(*** 10 ***) Found: 1 methods to expand (left).\n",
      "      [0] \n",
      "      (:method m_deliver\n",
      "      :precondition\n",
      "      ( )\n",
      "      :tasks (\n",
      "         (get_to ?v ?l1)\n",
      "         (load ?v ?l1 ?p)\n",
      "         (get_to ?v ?l2)\n",
      "         (unload ?v ?l2 ?p)\n",
      "      )\n",
      "      )\n",
      "(*** 10 ***) Expanding method: m_deliver\n",
      "(*** 10 ***) Working in task:\n",
      "(:task deliver\n",
      "   :parameters ( ?p - package ?l - location)\n",
      "   (:method m_deliver\n",
      "   :precondition\n",
      "   ( )\n",
      "   :tasks (\n",
      "      (get_to ?v ?l1)\n",
      "      (load ?v ?l1 package_1)\n",
      "      (get_to ?v ?l2)\n",
      "      (unload ?v ?l2 package_1)\n",
      "   )\n",
      "   )\n",
      ")\n",
      "\n",
      "(*** 10 ***) Using method: m_deliver\n",
      "(*** 10 ***) No preconditions.\n",
      "Selecting unification: \n",
      "(*** 11 ***) Depth: 11\n",
      "(*** 11 ***) Selecting task to expand from agenda.\n",
      "(*** 11 ***) Expanding: [15] (get_to ?v ?l1)\n",
      "\n",
      "(*** 11 ***) Selecting a candidate task.\n",
      "(*** 11 ***) Found: 1 candidates (left).\n",
      "      [0] :task (get_to ?v ?l)\n",
      "(*** 11 ***) Selecting a method to expand from compound task.\n",
      "      :task (get_to ?v ?l)\n",
      "(*** 11 ***) Found: 3 methods to expand (left).\n",
      "      [0] \n",
      "      (:method m_drive_to\n",
      "      :precondition\n",
      "      ( )\n",
      "      :tasks (\n",
      "         (drive ?v ?l1 ?l2)\n",
      "      )\n",
      "      )\n",
      "      [1] \n",
      "      (:method m_drive_to_via\n",
      "      :precondition\n",
      "      ( )\n",
      "      :tasks (\n",
      "         (get_to ?v ?l2)\n",
      "         (drive ?v ?l2 ?l3)\n",
      "      )\n",
      "      )\n",
      "      [2] \n",
      "      (:method m_i_am_there\n",
      "      :precondition\n",
      "      ( )\n",
      "      :tasks (\n",
      "         (noop ?v ?l)\n",
      "      )\n",
      "      )\n",
      "(*** 11 ***) Expanding method: m_drive_to\n",
      "(*** 11 ***) Working in task:\n",
      "(:task get_to\n",
      "   :parameters ( ?v - vehicle ?l - location)\n",
      "   (:method m_drive_to\n",
      "   :precondition\n",
      "   ( )\n",
      "   :tasks (\n",
      "      (drive ?v ?l1 ?l2)\n",
      "   )\n",
      "   )\n",
      "   (:method m_drive_to_via\n",
      "   :precondition\n",
      "   ( )\n",
      "   :tasks (\n",
      "      (get_to ?v ?l2)\n",
      "      (drive ?v ?l2 ?l3)\n",
      "   )\n",
      "   )\n",
      "   (:method m_i_am_there\n",
      "   :precondition\n",
      "   ( )\n",
      "   :tasks (\n",
      "      (noop ?v ?l)\n",
      "   )\n",
      "   )\n",
      ")\n",
      "\n",
      "(*** 11 ***) Using method: m_drive_to\n",
      "(*** 11 ***) No preconditions.\n",
      "Selecting unification: \n",
      "(*** 12 ***) Depth: 12\n",
      "(*** 12 ***) Selecting task to expand from agenda.\n",
      "(*** 12 ***) Expanding: [19] (drive ?v ?l1 ?l2)\n",
      "\n",
      "(*** 12 ***) Selecting a candidate task.\n",
      "(*** 12 ***) Found: 1 candidates (left).\n",
      "      [0] :action (drive ?v ?l1 ?l2)\n",
      "(*** 12 ***) Solving action:\n",
      "(:action drive\n",
      " :parameters ( ?v - vehicle ?l1 - location ?l2 - location)\n",
      " :precondition\n",
      "   (and\n",
      "      (and\n",
      "         (at_ ?v ?l1)\n",
      "         (road ?l1 ?l2)\n",
      "      )\n",
      "\n",
      "   )\n",
      "\n",
      " :effect\n",
      "   (and\n",
      "      (not (at_ ?v ?l1))\n",
      "      (at_ ?v ?l2)\n",
      "   )\n",
      "\n",
      ")\n",
      "(*** 12 ***) working in action:\n",
      "(:action drive\n",
      " :parameters ( ?v - vehicle ?l1 - location ?l2 - location)\n",
      " :precondition\n",
      "   (and\n",
      "      (and\n",
      "         (at_ ?v ?l1)\n",
      "         (road ?l1 ?l2)\n",
      "      )\n",
      "\n",
      "   )\n",
      "\n",
      " :effect\n",
      "   (and\n",
      "      (not (at_ ?v ?l1))\n",
      "      (at_ ?v ?l2)\n",
      "   )\n",
      "\n",
      ")\n",
      "\n",
      "(*** 12 ***) Found: 1 unification(s) (left). \n",
      "Unification [0]:\n",
      "?l2 <- city_loc_1\n",
      "?l1 <- city_loc_0\n",
      "?v <- truck_0\n",
      "3 variable subtition(s).\n",
      "\n",
      "Selecting unification: \n",
      "(ccc) Performing unification: \n",
      "?l2 <- city_loc_1\n",
      "?l1 <- city_loc_0\n",
      "?v <- truck_0\n",
      "3 variable subtition(s).\n",
      "\n",
      "(ccc) Deleted from state: (at_ truck_0 city_loc_0)\n",
      "(ccc) Added to state: (at_ truck_0 city_loc_1)\n",
      "(*** 13 ***) Depth: 13\n",
      "(*** 13 ***) Selecting task to expand from agenda.\n",
      "(*** 13 ***) Expanding: [16] (load truck_0 ?l1 package_1)\n",
      "\n",
      "(*** 13 ***) Selecting a candidate task.\n",
      "(*** 13 ***) Found: 1 candidates (left).\n",
      "      [0] :task (load ?v ?l ?p)\n",
      "(*** 13 ***) Selecting a method to expand from compound task.\n",
      "      :task (load ?v ?l ?p)\n",
      "(*** 13 ***) Found: 1 methods to expand (left).\n",
      "      [0] \n",
      "      (:method m_load\n",
      "      :precondition\n",
      "      ( )\n",
      "      :tasks (\n",
      "         (pick_up ?v ?l ?p ?s1 ?s2)\n",
      "      )\n",
      "      )\n",
      "(*** 13 ***) Expanding method: m_load\n",
      "(*** 13 ***) Working in task:\n",
      "(:task load\n",
      "   :parameters ( ?v - vehicle ?l - location ?p - package)\n",
      "   (:method m_load\n",
      "   :precondition\n",
      "   ( )\n",
      "   :tasks (\n",
      "      (pick_up truck_0 ?l1 package_1 ?s1 ?s2)\n",
      "   )\n",
      "   )\n",
      ")\n",
      "\n",
      "(*** 13 ***) Using method: m_load\n",
      "(*** 13 ***) No preconditions.\n",
      "Selecting unification: \n",
      "(*** 14 ***) Depth: 14\n",
      "(*** 14 ***) Selecting task to expand from agenda.\n",
      "(*** 14 ***) Expanding: [21] (pick_up truck_0 ?l1 package_1 ?s1 ?s2)\n",
      "\n",
      "(*** 14 ***) Selecting a candidate task.\n",
      "(*** 14 ***) Found: 1 candidates (left).\n",
      "      [0] :action (pick_up truck_0 ?l1 package_1 ?s1 ?s2)\n",
      "(*** 14 ***) Solving action:\n",
      "(:action pick_up\n",
      " :parameters ( truck_0 ?l1 - location package_1 ?s1 - capacity_number ?s2 - capacity_number)\n",
      " :precondition\n",
      "   (and\n",
      "      (and\n",
      "         (at_ truck_0 ?l1)\n",
      "         (at_ package_1 ?l1)\n",
      "         (capacity_predecessor ?s1 ?s2)\n",
      "         (capacity truck_0 ?s2)\n",
      "      )\n",
      "\n",
      "   )\n",
      "\n",
      " :effect\n",
      "   (and\n",
      "      (not (at_ package_1 ?l1))\n",
      "      (in package_1 truck_0)\n",
      "      (capacity truck_0 ?s1)\n",
      "      (not (capacity truck_0 ?s2))\n",
      "   )\n",
      "\n",
      ")\n",
      "(*** 14 ***) working in action:\n",
      "(:action pick_up\n",
      " :parameters ( truck_0 ?l1 - location package_1 ?s1 - capacity_number ?s2 - capacity_number)\n",
      " :precondition\n",
      "   (and\n",
      "      (and\n",
      "         (at_ truck_0 ?l1)\n",
      "         (at_ package_1 ?l1)\n",
      "         (capacity_predecessor ?s1 ?s2)\n",
      "         (capacity truck_0 ?s2)\n",
      "      )\n",
      "\n",
      "   )\n",
      "\n",
      " :effect\n",
      "   (and\n",
      "      (not (at_ package_1 ?l1))\n",
      "      (in package_1 truck_0)\n",
      "      (capacity truck_0 ?s1)\n",
      "      (not (capacity truck_0 ?s2))\n",
      "   )\n",
      "\n",
      ")\n",
      "\n",
      "(*** 14 ***) Found: 1 unification(s) (left). \n",
      "Unification [0]:\n",
      "?s2 <- capacity_1\n",
      "?s1 <- capacity_0\n",
      "?l1 <- city_loc_1\n",
      "3 variable subtition(s).\n",
      "\n",
      "Selecting unification: \n",
      "(ccc) Performing unification: \n",
      "?s2 <- capacity_1\n",
      "?s1 <- capacity_0\n",
      "?l1 <- city_loc_1\n",
      "3 variable subtition(s).\n",
      "\n",
      "(ccc) Deleted from state: (at_ package_1 city_loc_1)\n",
      "(ccc) Added to state: (in package_1 truck_0)\n",
      "(ccc) Added to state: (capacity truck_0 capacity_0)\n",
      "(ccc) Deleted from state: (capacity truck_0 capacity_1)\n",
      "(*** 15 ***) Depth: 15\n",
      "(*** 15 ***) Selecting task to expand from agenda.\n",
      "(*** 15 ***) Expanding: [17] (get_to truck_0 ?l2)\n",
      "\n",
      "(*** 15 ***) Selecting a candidate task.\n",
      "(*** 15 ***) Found: 1 candidates (left).\n",
      "      [0] :task (get_to ?v ?l)\n",
      "(*** 15 ***) Selecting a method to expand from compound task.\n",
      "      :task (get_to ?v ?l)\n",
      "(*** 15 ***) Found: 3 methods to expand (left).\n",
      "      [0] \n",
      "      (:method m_drive_to\n",
      "      :precondition\n",
      "      ( )\n",
      "      :tasks (\n",
      "         (drive ?v ?l1 ?l2)\n",
      "      )\n",
      "      )\n",
      "      [1] \n",
      "      (:method m_drive_to_via\n",
      "      :precondition\n",
      "      ( )\n",
      "      :tasks (\n",
      "         (get_to ?v ?l2)\n",
      "         (drive ?v ?l2 ?l3)\n",
      "      )\n",
      "      )\n",
      "      [2] \n",
      "      (:method m_i_am_there\n",
      "      :precondition\n",
      "      ( )\n",
      "      :tasks (\n",
      "         (noop ?v ?l)\n",
      "      )\n",
      "      )\n",
      "(*** 15 ***) Expanding method: m_drive_to\n",
      "(*** 15 ***) Working in task:\n",
      "(:task get_to\n",
      "   :parameters ( ?v - vehicle ?l - location)\n",
      "   (:method m_drive_to\n",
      "   :precondition\n",
      "   ( )\n",
      "   :tasks (\n",
      "      (drive truck_0 ?l1 ?l2)\n",
      "   )\n",
      "   )\n",
      "   (:method m_drive_to_via\n",
      "   :precondition\n",
      "   ( )\n",
      "   :tasks (\n",
      "      (get_to ?v ?l2)\n",
      "      (drive ?v ?l2 ?l3)\n",
      "   )\n",
      "   )\n",
      "   (:method m_i_am_there\n",
      "   :precondition\n",
      "   ( )\n",
      "   :tasks (\n",
      "      (noop ?v ?l)\n",
      "   )\n",
      "   )\n",
      ")\n",
      "\n",
      "(*** 15 ***) Using method: m_drive_to\n",
      "(*** 15 ***) No preconditions.\n",
      "Selecting unification: \n",
      "(*** 16 ***) Depth: 16\n",
      "(*** 16 ***) Selecting task to expand from agenda.\n",
      "(*** 16 ***) Expanding: [23] (drive truck_0 ?l1 ?l2)\n",
      "\n",
      "(*** 16 ***) Selecting a candidate task.\n",
      "(*** 16 ***) Found: 1 candidates (left).\n",
      "      [0] :action (drive truck_0 ?l1 ?l2)\n",
      "(*** 16 ***) Solving action:\n",
      "(:action drive\n",
      " :parameters ( truck_0 ?l1 - location ?l2 - location)\n",
      " :precondition\n",
      "   (and\n",
      "      (and\n",
      "         (at_ truck_0 ?l1)\n",
      "         (road ?l1 ?l2)\n",
      "      )\n",
      "\n",
      "   )\n",
      "\n",
      " :effect\n",
      "   (and\n",
      "      (not (at_ truck_0 ?l1))\n",
      "      (at_ truck_0 ?l2)\n",
      "   )\n",
      "\n",
      ")\n",
      "(*** 16 ***) working in action:\n",
      "(:action drive\n",
      " :parameters ( truck_0 ?l1 - location ?l2 - location)\n",
      " :precondition\n",
      "   (and\n",
      "      (and\n",
      "         (at_ truck_0 ?l1)\n",
      "         (road ?l1 ?l2)\n",
      "      )\n",
      "\n",
      "   )\n",
      "\n",
      " :effect\n",
      "   (and\n",
      "      (not (at_ truck_0 ?l1))\n",
      "      (at_ truck_0 ?l2)\n",
      "   )\n",
      "\n",
      ")\n",
      "\n",
      "(*** 16 ***) Found: 2 unification(s) (left). \n",
      "Unification [0]:\n",
      "?l2 <- city_loc_0\n",
      "?l1 <- city_loc_1\n",
      "2 variable subtition(s).\n",
      "\n",
      "Unification [1]:\n",
      "?l2 <- city_loc_2\n",
      "?l1 <- city_loc_1\n",
      "2 variable subtition(s).\n",
      "\n",
      "Selecting unification: \n",
      "(ccc) Performing unification: \n",
      "?l2 <- city_loc_0\n",
      "?l1 <- city_loc_1\n",
      "2 variable subtition(s).\n",
      "\n",
      "(ccc) Deleted from state: (at_ truck_0 city_loc_1)\n",
      "(ccc) Added to state: (at_ truck_0 city_loc_0)\n",
      "(*** 17 ***) Depth: 17\n",
      "(*** 17 ***) Selecting task to expand from agenda.\n",
      "(*** 17 ***) Expanding: [18] (unload truck_0 ?l2 package_1)\n",
      "\n",
      "(*** 17 ***) Selecting a candidate task.\n",
      "(*** 17 ***) Found: 1 candidates (left).\n",
      "      [0] :task (unload ?v ?l ?p)\n",
      "(*** 17 ***) Selecting a method to expand from compound task.\n",
      "      :task (unload ?v ?l ?p)\n",
      "(*** 17 ***) Found: 1 methods to expand (left).\n",
      "      [0] \n",
      "      (:method m_unload\n",
      "      :precondition\n",
      "      ( )\n",
      "      :tasks (\n",
      "         (drop ?v ?l ?p ?s1 ?s2)\n",
      "      )\n",
      "      )\n",
      "(*** 17 ***) Expanding method: m_unload\n",
      "(*** 17 ***) Working in task:\n",
      "(:task unload\n",
      "   :parameters ( ?v - vehicle ?l - location ?p - package)\n",
      "   (:method m_unload\n",
      "   :precondition\n",
      "   ( )\n",
      "   :tasks (\n",
      "      (drop truck_0 ?l2 package_1 ?s1 ?s2)\n",
      "   )\n",
      "   )\n",
      ")\n",
      "\n",
      "(*** 17 ***) Using method: m_unload\n",
      "(*** 17 ***) No preconditions.\n",
      "Selecting unification: \n",
      "(*** 18 ***) Depth: 18\n",
      "(*** 18 ***) Selecting task to expand from agenda.\n",
      "(*** 18 ***) Expanding: [25] (drop truck_0 ?l2 package_1 ?s1 ?s2)\n",
      "\n",
      "(*** 18 ***) Selecting a candidate task.\n",
      "(*** 18 ***) Found: 1 candidates (left).\n",
      "      [0] :action (drop truck_0 ?l2 package_1 ?s1 ?s2)\n",
      "(*** 18 ***) Solving action:\n",
      "(:action drop\n",
      " :parameters ( truck_0 ?l2 - location package_1 ?s1 - capacity_number ?s2 - capacity_number)\n",
      " :precondition\n",
      "   (and\n",
      "      (and\n",
      "         (at_ truck_0 ?l2)\n",
      "         (in package_1 truck_0)\n",
      "         (capacity_predecessor ?s1 ?s2)\n",
      "         (capacity truck_0 ?s1)\n",
      "      )\n",
      "\n",
      "   )\n",
      "\n",
      " :effect\n",
      "   (and\n",
      "      (not (in package_1 truck_0))\n",
      "      (at_ package_1 ?l2)\n",
      "      (capacity truck_0 ?s2)\n",
      "      (not (capacity truck_0 ?s1))\n",
      "   )\n",
      "\n",
      ")\n",
      "(*** 18 ***) working in action:\n",
      "(:action drop\n",
      " :parameters ( truck_0 ?l2 - location package_1 ?s1 - capacity_number ?s2 - capacity_number)\n",
      " :precondition\n",
      "   (and\n",
      "      (and\n",
      "         (at_ truck_0 ?l2)\n",
      "         (in package_1 truck_0)\n",
      "         (capacity_predecessor ?s1 ?s2)\n",
      "         (capacity truck_0 ?s1)\n",
      "      )\n",
      "\n",
      "   )\n",
      "\n",
      " :effect\n",
      "   (and\n",
      "      (not (in package_1 truck_0))\n",
      "      (at_ package_1 ?l2)\n",
      "      (capacity truck_0 ?s2)\n",
      "      (not (capacity truck_0 ?s1))\n",
      "   )\n",
      "\n",
      ")\n",
      "\n",
      "(*** 18 ***) Found: 1 unification(s) (left). \n",
      "Unification [0]:\n",
      "?s2 <- capacity_1\n",
      "?s1 <- capacity_0\n",
      "?l2 <- city_loc_0\n",
      "3 variable subtition(s).\n",
      "\n",
      "Selecting unification: \n",
      "(ccc) Performing unification: \n",
      "?s2 <- capacity_1\n",
      "?s1 <- capacity_0\n",
      "?l2 <- city_loc_0\n",
      "3 variable subtition(s).\n",
      "\n",
      "(ccc) Deleted from state: (in package_1 truck_0)\n",
      "(ccc) Added to state: (at_ package_1 city_loc_0)\n",
      "(ccc) Added to state: (capacity truck_0 capacity_1)\n",
      "(ccc) Deleted from state: (capacity truck_0 capacity_0)\n",
      "(*** 19 ***) Depth: 19\n",
      "(*** 19 ***) Selecting task to expand from agenda.\n",
      "(*** 19 ***) Expanding: [2] (siadex_debugger_stop)\n",
      "\n",
      "(*** 19 ***) Selecting a candidate task.\n",
      "(*** 19 ***) Found: 1 candidates (left).\n",
      "      [0] :action (siadex_debugger_stop)\n",
      "Breakpoint 0 reached.\n"
     ]
    }
   ],
   "source": [
    "debugger.continue_run()"
   ]
  },
  {
   "attachments": {},
   "cell_type": "markdown",
   "metadata": {},
   "source": [
    "# Stopping the debugger\n",
    "The debugger has ended when it stops on the breakpoint 0.\n",
    "\n",
    "With __plan()__ we can obtain the final plan."
   ]
  },
  {
   "cell_type": "code",
   "execution_count": 69,
   "metadata": {},
   "outputs": [
    {
     "data": {
      "text/plain": [
       "[drive(truck-0, city-loc-2, city-loc-1), pick-up(truck-0, city-loc-1, package-0, capacity-0, capacity-1), drive(truck-0, city-loc-1, city-loc-0), drop(truck-0, city-loc-0, package-0, capacity-0, capacity-1), drive(truck-0, city-loc-0, city-loc-1), pick-up(truck-0, city-loc-1, package-1, capacity-0, capacity-1), drive(truck-0, city-loc-1, city-loc-0), drop(truck-0, city-loc-0, package-1, capacity-0, capacity-1)]"
      ]
     },
     "execution_count": 69,
     "metadata": {},
     "output_type": "execute_result"
    }
   ],
   "source": [
    "debugger.plan()"
   ]
  },
  {
   "attachments": {},
   "cell_type": "markdown",
   "metadata": {},
   "source": [
    "With __stop()__ we can stop the debugger."
   ]
  },
  {
   "cell_type": "code",
   "execution_count": 43,
   "metadata": {},
   "outputs": [
    {
     "name": "stdout",
     "output_type": "stream",
     "text": [
      "Debugger stopped\n"
     ]
    }
   ],
   "source": [
    "debugger.stop()"
   ]
  }
 ],
 "metadata": {
  "kernelspec": {
   "display_name": "Python 3",
   "language": "python",
   "name": "python3"
  },
  "language_info": {
   "codemirror_mode": {
    "name": "ipython",
    "version": 3
   },
   "file_extension": ".py",
   "mimetype": "text/x-python",
   "name": "python",
   "nbconvert_exporter": "python",
   "pygments_lexer": "ipython3",
   "version": "3.10.6"
  },
  "vscode": {
   "interpreter": {
    "hash": "e7370f93d1d0cde622a1f8e1c04877d8463912d04d973331ad4851f04de6915a"
   }
  }
 },
 "nbformat": 4,
 "nbformat_minor": 2
}
