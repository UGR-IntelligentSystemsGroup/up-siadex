{
 "cells": [
  {
   "attachments": {},
   "cell_type": "markdown",
   "metadata": {},
   "source": [
    "# SIADEX HTN ENGINE\n",
    "\n",
    "imports requireds"
   ]
  },
  {
   "cell_type": "code",
   "execution_count": 1,
   "metadata": {},
   "outputs": [
    {
     "name": "stdout",
     "output_type": "stream",
     "text": [
      "Processing /workspaces/up-siadex\n",
      "  Preparing metadata (setup.py) ... \u001b[?25ldone\n",
      "\u001b[?25hBuilding wheels for collected packages: up-siadex\n",
      "  Building wheel for up-siadex (setup.py) ... \u001b[?25ldone\n",
      "\u001b[?25h  Created wheel for up-siadex: filename=up_siadex-0.0.1-py3-none-any.whl size=8670266 sha256=31f2d408c63f216659a97bc9799a5e4591d1a82943e2e871cae6619fba178c59\n",
      "  Stored in directory: /home/codespace/.cache/pip/wheels/63/55/a1/26a2eb3a61793baa41bdcf5daf2fa5975374c48f8639a70b08\n",
      "Successfully built up-siadex\n",
      "Installing collected packages: up-siadex\n",
      "  Attempting uninstall: up-siadex\n",
      "    Found existing installation: up-siadex 0.0.1\n",
      "    Uninstalling up-siadex-0.0.1:\n",
      "      Successfully uninstalled up-siadex-0.0.1\n",
      "Successfully installed up-siadex-0.0.1\n",
      "Processing /workspaces/up-siadex/unified-planning\n",
      "  Preparing metadata (setup.py) ... \u001b[?25ldone\n",
      "\u001b[?25hRequirement already satisfied: pyparsing in /home/codespace/.local/lib/python3.10/site-packages (from unified-planning==0.4.2) (3.0.9)\n",
      "Requirement already satisfied: networkx in /usr/local/python/3.10.4/lib/python3.10/site-packages (from unified-planning==0.4.2) (2.8.8)\n",
      "Building wheels for collected packages: unified-planning\n",
      "  Building wheel for unified-planning (setup.py) ... \u001b[?25ldone\n",
      "\u001b[?25h  Created wheel for unified-planning: filename=unified_planning-0.4.2-py3-none-any.whl size=356142 sha256=32b1f3ffd1ee57deabcc63dec8efcf93f340bf31a18a11ef5d3aae07e6b7f943\n",
      "  Stored in directory: /home/codespace/.cache/pip/wheels/c4/05/f2/821c8767d2971ed17287b1008afb0607f41dad844571a5b40f\n",
      "Successfully built unified-planning\n",
      "Installing collected packages: unified-planning\n",
      "  Attempting uninstall: unified-planning\n",
      "    Found existing installation: unified-planning 0.4.2\n",
      "    Uninstalling unified-planning-0.4.2:\n",
      "      Successfully uninstalled unified-planning-0.4.2\n",
      "Successfully installed unified-planning-0.4.2\n"
     ]
    }
   ],
   "source": [
    "!pip install ..\n",
    "!pip install ../unified-planning"
   ]
  },
  {
   "cell_type": "code",
   "execution_count": 2,
   "metadata": {},
   "outputs": [],
   "source": [
    "from up_siadex import SIADEXEngine\n",
    "\n",
    "import unified_planning as up\n",
    "from unified_planning.shortcuts import *\n",
    "from unified_planning.model.htn.hierarchical_problem import HierarchicalProblem, Task, Method\n",
    "from unified_planning.io import PDDLReader\n",
    "from unified_planning.io import PDDLWriter\n",
    "from unified_planning.io.hpdl.hpdl_reader import HPDLReader\n",
    "from unified_planning.io.hpdl.hpdl_writer import HPDLWriter\n",
    "from unified_planning.engines.results import PlanGenerationResultStatus\n"
   ]
  },
  {
   "attachments": {},
   "cell_type": "markdown",
   "metadata": {},
   "source": [
    "## Registering the engine\n",
    "\n",
    "In order to use `SIADEX`, we need to register it among the set of planning engines available for the UP library as follows."
   ]
  },
  {
   "cell_type": "code",
   "execution_count": 3,
   "metadata": {},
   "outputs": [],
   "source": [
    "env = up.environment.get_env()\n",
    "env.factory.add_engine('siadex', __name__, \"SIADEXEngine\")"
   ]
  },
  {
   "attachments": {},
   "cell_type": "markdown",
   "metadata": {},
   "source": [
    "## Reading a problem from a file (HDDL)"
   ]
  },
  {
   "cell_type": "code",
   "execution_count": 4,
   "metadata": {},
   "outputs": [],
   "source": [
    "reader = PDDLReader()\n",
    "problem = reader.parse_problem(\"../unified-planning/unified_planning/test/pddl/htn-transport/domain.hddl\", \"../unified-planning/unified_planning/test/pddl/htn-transport/problem.hddl\")"
   ]
  },
  {
   "attachments": {},
   "cell_type": "markdown",
   "metadata": {},
   "source": [
    "## Debugging"
   ]
  },
  {
   "cell_type": "code",
   "execution_count": 5,
   "metadata": {},
   "outputs": [
    {
     "name": "stdout",
     "output_type": "stream",
     "text": [
      "\u001b[96m\u001b[1mNOTE: To disable printing of planning engine credits, add this line to your code: `up.shortcuts.get_env().credits_stream = None`\n",
      "\u001b[0m\u001b[96m  *** Credits ***\n",
      "\u001b[0m\u001b[96m  * In operation mode `OneshotPlanner` at line 1 of `/tmp/ipykernel_18355/1745171064.py`, \u001b[0m\u001b[96myou are using the following planning engine:\n",
      "\u001b[0m\u001b[96m  * Engine name: SIADEX\n",
      "  * Developers:  UGR SIADEX Team\n",
      "\u001b[0m\u001b[96m  * Description: \u001b[0m\u001b[96mSIADEX ENGINE\u001b[0m\u001b[96m\n",
      "\u001b[0m\u001b[96m\n",
      "\u001b[0m"
     ]
    }
   ],
   "source": [
    "siadex = OneshotPlanner(name='siadex')\n",
    "debugger = siadex.debugger()"
   ]
  },
  {
   "cell_type": "code",
   "execution_count": 6,
   "metadata": {},
   "outputs": [],
   "source": [
    "debugger.debug(problem)"
   ]
  },
  {
   "cell_type": "code",
   "execution_count": 7,
   "metadata": {},
   "outputs": [
    {
     "data": {
      "text/plain": [
       "[road(city-loc-0, city-loc-1),\n",
       " road(city-loc-1, city-loc-0),\n",
       " road(city-loc-1, city-loc-2),\n",
       " road(city-loc-2, city-loc-1),\n",
       " at(package-0, city-loc-1),\n",
       " at(package-1, city-loc-1),\n",
       " at(truck-0, city-loc-2),\n",
       " capacity(truck-0, capacity-1),\n",
       " capacity-predecessor(capacity-0, capacity-1)]"
      ]
     },
     "execution_count": 7,
     "metadata": {},
     "output_type": "execute_result"
    }
   ],
   "source": [
    "state = debugger.state()\n",
    "state"
   ]
  },
  {
   "cell_type": "code",
   "execution_count": 8,
   "metadata": {},
   "outputs": [
    {
     "data": {
      "text/plain": [
       "1: (deliver [package-0, city-loc-0]) \n",
       "                status: agenda, expanded: unexpanded, \n",
       "                succesors: []"
      ]
     },
     "execution_count": 8,
     "metadata": {},
     "output_type": "execute_result"
    }
   ],
   "source": [
    "debugger.agenda()[1]"
   ]
  },
  {
   "cell_type": "code",
   "execution_count": 9,
   "metadata": {},
   "outputs": [
    {
     "name": "stdout",
     "output_type": "stream",
     "text": [
      "debug:> help eval\n",
      "__________________________________________________\n",
      "Command: `eval <precondition>'.\n",
      "\n",
      "Description: Evaluates the given expression and prints the produced unifications.\n"
     ]
    }
   ],
   "source": [
    "debugger.force_run(\"help eval\")"
   ]
  },
  {
   "cell_type": "code",
   "execution_count": 10,
   "metadata": {},
   "outputs": [],
   "source": [
    "drive = problem.action(\"drive\")\n",
    "deliver = problem.get_task(\"deliver\")\n",
    "pick_up = problem.action(\"pick-up\")\n",
    "drop = problem.action(\"drop\")"
   ]
  },
  {
   "cell_type": "code",
   "execution_count": 11,
   "metadata": {},
   "outputs": [
    {
     "data": {
      "text/plain": [
       "action drive(vehicle - locatable v, location l1, location l2) {\n",
       "    preconditions = [\n",
       "      (at(v, l1) and road(l1, l2))\n",
       "    ]\n",
       "    effects = [\n",
       "      at(v, l1) := false\n",
       "      at(v, l2) := true\n",
       "    ]\n",
       "    simulated effect = None\n",
       "  }"
      ]
     },
     "execution_count": 11,
     "metadata": {},
     "output_type": "execute_result"
    }
   ],
   "source": [
    "drive"
   ]
  },
  {
   "cell_type": "code",
   "execution_count": 12,
   "metadata": {},
   "outputs": [
    {
     "name": "stdout",
     "output_type": "stream",
     "text": [
      "1\n"
     ]
    }
   ],
   "source": [
    "debugger.nexp()"
   ]
  },
  {
   "cell_type": "code",
   "execution_count": 13,
   "metadata": {},
   "outputs": [
    {
     "data": {
      "text/plain": [
       "[{vehicle - locatable v: truck-0,\n",
       "  location l1: city-loc-2,\n",
       "  location l2: city-loc-1}]"
      ]
     },
     "execution_count": 13,
     "metadata": {},
     "output_type": "execute_result"
    }
   ],
   "source": [
    "debugger.eval_preconditions(drive)"
   ]
  },
  {
   "cell_type": "code",
   "execution_count": 14,
   "metadata": {},
   "outputs": [
    {
     "data": {
      "text/plain": [
       "[road(city-loc-0, city-loc-1),\n",
       " road(city-loc-1, city-loc-0),\n",
       " road(city-loc-1, city-loc-2),\n",
       " road(city-loc-2, city-loc-1),\n",
       " at(package-0, city-loc-1),\n",
       " at(package-1, city-loc-1),\n",
       " at(truck-0, city-loc-2),\n",
       " capacity(truck-0, capacity-1),\n",
       " capacity-predecessor(capacity-0, capacity-1)]"
      ]
     },
     "execution_count": 14,
     "metadata": {},
     "output_type": "execute_result"
    }
   ],
   "source": [
    "debugger.state()"
   ]
  },
  {
   "cell_type": "code",
   "execution_count": 15,
   "metadata": {},
   "outputs": [
    {
     "data": {
      "text/plain": [
       "[at(v, l1) := false, at(v, l2) := true]"
      ]
     },
     "execution_count": 15,
     "metadata": {},
     "output_type": "execute_result"
    }
   ],
   "source": [
    "drive.effects"
   ]
  },
  {
   "cell_type": "code",
   "execution_count": 16,
   "metadata": {},
   "outputs": [],
   "source": [
    "from unified_planning.io.hpdl.hpdl_writer import ConverterToPDDLString, HPDLWriter, _get_pddl_name\n"
   ]
  },
  {
   "cell_type": "code",
   "execution_count": 17,
   "metadata": {},
   "outputs": [],
   "source": [
    "converter = ConverterToPDDLString(problem.env, _get_pddl_name)"
   ]
  },
  {
   "cell_type": "code",
   "execution_count": 18,
   "metadata": {},
   "outputs": [
    {
     "data": {
      "text/plain": [
       "bool road[l1=location, l2=location]"
      ]
     },
     "execution_count": 18,
     "metadata": {},
     "output_type": "execute_result"
    }
   ],
   "source": [
    "road = problem.fluent(\"road\")\n",
    "road"
   ]
  },
  {
   "cell_type": "code",
   "execution_count": 19,
   "metadata": {},
   "outputs": [],
   "source": [
    "city_0 = problem.object(\"city-loc-0\")\n",
    "city_1 = problem.object(\"city-loc-1\")\n"
   ]
  },
  {
   "cell_type": "code",
   "execution_count": 20,
   "metadata": {},
   "outputs": [
    {
     "data": {
      "text/plain": [
       "(not road(city-loc-0, city-loc-1))"
      ]
     },
     "execution_count": 20,
     "metadata": {},
     "output_type": "execute_result"
    }
   ],
   "source": [
    "f_road = road(city_0, city_1)\n",
    "f_road.Not()"
   ]
  },
  {
   "cell_type": "code",
   "execution_count": 22,
   "metadata": {},
   "outputs": [
    {
     "data": {
      "text/plain": [
       "[road(city-loc-1, city-loc-0),\n",
       " road(city-loc-1, city-loc-2),\n",
       " road(city-loc-2, city-loc-1),\n",
       " at(package-0, city-loc-1),\n",
       " at(package-1, city-loc-1),\n",
       " at(truck-0, city-loc-2),\n",
       " capacity(truck-0, capacity-1),\n",
       " capacity-predecessor(capacity-0, capacity-1)]"
      ]
     },
     "execution_count": 22,
     "metadata": {},
     "output_type": "execute_result"
    }
   ],
   "source": [
    "debugger.apply_effect(f_road.Not())"
   ]
  },
  {
   "cell_type": "code",
   "execution_count": 13,
   "metadata": {},
   "outputs": [
    {
     "data": {
      "text/plain": [
       "[location l1, location l2]"
      ]
     },
     "execution_count": 13,
     "metadata": {},
     "output_type": "execute_result"
    }
   ],
   "source": [
    "road.signature"
   ]
  },
  {
   "cell_type": "code",
   "execution_count": 14,
   "metadata": {},
   "outputs": [
    {
     "data": {
      "text/plain": [
       "'bool road[l1=location, l2=location]'"
      ]
     },
     "execution_count": 14,
     "metadata": {},
     "output_type": "execute_result"
    }
   ],
   "source": [
    "str(road)"
   ]
  },
  {
   "cell_type": "code",
   "execution_count": 15,
   "metadata": {},
   "outputs": [
    {
     "data": {
      "text/plain": [
       "[{'l1': city-loc-2, 'l2': city-loc-1},\n",
       " {'l1': city-loc-1, 'l2': city-loc-2},\n",
       " {'l1': city-loc-1, 'l2': city-loc-0},\n",
       " {'l1': city-loc-0, 'l2': city-loc-1}]"
      ]
     },
     "execution_count": 15,
     "metadata": {},
     "output_type": "execute_result"
    }
   ],
   "source": [
    "debugger.eval(road)"
   ]
  },
  {
   "cell_type": "code",
   "execution_count": 17,
   "metadata": {},
   "outputs": [
    {
     "data": {
      "text/plain": [
       "'(and (at_ ?v - vehicle ?l1 - location) (road ?l1 - location ?l2 - location))'"
      ]
     },
     "execution_count": 17,
     "metadata": {},
     "output_type": "execute_result"
    }
   ],
   "source": [
    "converter.convert(drive.preconditions[0])"
   ]
  },
  {
   "cell_type": "code",
   "execution_count": 37,
   "metadata": {},
   "outputs": [
    {
     "name": "stdout",
     "output_type": "stream",
     "text": [
      "debug:> eval (and (at_ ?v - vehicle ?l1 - location) (road ?l1 - location ?l2 - location))\n",
      "__________________________________________________\n",
      "Evaluating: (and\n",
      "   (at_ ?v ?l1)\n",
      "   (road ?l1 ?l2)\n",
      ")\n",
      "\n",
      "?l2 <- city_loc_1\n",
      "?l1 <- city_loc_2\n",
      "?v <- truck_0\n",
      "3 variable subtition(s).\n",
      "\n"
     ]
    }
   ],
   "source": [
    "debugger.force_run(f\"\"\"eval {converter.convert(drive.preconditions[0])}\"\"\")"
   ]
  },
  {
   "cell_type": "code",
   "execution_count": 12,
   "metadata": {},
   "outputs": [],
   "source": [
    "f_road = road(city_0, city_1)"
   ]
  },
  {
   "cell_type": "code",
   "execution_count": 13,
   "metadata": {},
   "outputs": [
    {
     "data": {
      "text/plain": [
       "(city-loc-0, city-loc-1)"
      ]
     },
     "execution_count": 13,
     "metadata": {},
     "output_type": "execute_result"
    }
   ],
   "source": [
    "f_road.args"
   ]
  },
  {
   "cell_type": "code",
   "execution_count": 14,
   "metadata": {},
   "outputs": [
    {
     "name": "stdout",
     "output_type": "stream",
     "text": [
      "debug:> break\n",
      "__________________________________________________\n"
     ]
    }
   ],
   "source": [
    "debugger.force_run(\"break\")"
   ]
  },
  {
   "cell_type": "code",
   "execution_count": 15,
   "metadata": {},
   "outputs": [
    {
     "data": {
      "text/plain": [
       "'city-loc-0'"
      ]
     },
     "execution_count": 15,
     "metadata": {},
     "output_type": "execute_result"
    }
   ],
   "source": [
    "str(f_road.args[0])"
   ]
  },
  {
   "cell_type": "code",
   "execution_count": 16,
   "metadata": {},
   "outputs": [
    {
     "name": "stdout",
     "output_type": "stream",
     "text": [
      "debug:> break (road city_loc_0 city_loc_1)\n",
      "__________________________________________________\n"
     ]
    }
   ],
   "source": [
    "debugger.add_break(f_road)"
   ]
  },
  {
   "cell_type": "code",
   "execution_count": 18,
   "metadata": {},
   "outputs": [
    {
     "name": "stdout",
     "output_type": "stream",
     "text": [
      "debug:> break (drive ?v ?l1 ?l2)\n",
      "__________________________________________________\n"
     ]
    }
   ],
   "source": [
    "debugger.add_break(drive)"
   ]
  },
  {
   "cell_type": "code",
   "execution_count": null,
   "metadata": {},
   "outputs": [],
   "source": [
    "debugger.force_run(\"break \")"
   ]
  },
  {
   "cell_type": "code",
   "execution_count": 19,
   "metadata": {},
   "outputs": [
    {
     "name": "stdout",
     "output_type": "stream",
     "text": [
      "debug:> break (deliver ?p ?l)\n",
      "__________________________________________________\n"
     ]
    }
   ],
   "source": [
    "debugger.add_break(deliver)"
   ]
  },
  {
   "cell_type": "code",
   "execution_count": 20,
   "metadata": {},
   "outputs": [
    {
     "name": "stdout",
     "output_type": "stream",
     "text": [
      "debug:> break\n",
      "__________________________________________________\n",
      "Breakpoint 0::<enabled>(road city_loc_0 city_loc_1)\n",
      "Breakpoint 1::<enabled>(drive ?v ?l1 ?l2)\n",
      "Breakpoint 2::<enabled>(deliver ?p ?l)\n"
     ]
    }
   ],
   "source": [
    "debugger.list_break()"
   ]
  },
  {
   "cell_type": "code",
   "execution_count": 21,
   "metadata": {},
   "outputs": [
    {
     "name": "stdout",
     "output_type": "stream",
     "text": [
      "debug:> nexp\n",
      "__________________________________________________\n",
      "(*** 1 ***) Expanding: [0] (deliver package_0 city_loc_0)\n",
      "\n",
      "(*** 1 ***) Selecting a candidate task.\n",
      "(*** 1 ***) Found: 1 candidates (left).\n",
      "      [0] :task (deliver ?p ?l)\n"
     ]
    }
   ],
   "source": [
    "debugger.force_run(\"nexp\")"
   ]
  },
  {
   "cell_type": "code",
   "execution_count": 22,
   "metadata": {},
   "outputs": [
    {
     "data": {
      "text/plain": [
       "'l1'"
      ]
     },
     "execution_count": 22,
     "metadata": {},
     "output_type": "execute_result"
    }
   ],
   "source": [
    "deliver = problem.action(\"drive\")\n",
    "deliver.parameters[1].name"
   ]
  },
  {
   "cell_type": "code",
   "execution_count": 23,
   "metadata": {},
   "outputs": [
    {
     "data": {
      "text/plain": [
       "'v'"
      ]
     },
     "execution_count": 23,
     "metadata": {},
     "output_type": "execute_result"
    }
   ],
   "source": [
    "deliver.parameters[0].name"
   ]
  },
  {
   "cell_type": "code",
   "execution_count": 28,
   "metadata": {},
   "outputs": [
    {
     "data": {
      "text/plain": [
       "bool road[l1=location, l2=location]"
      ]
     },
     "execution_count": 28,
     "metadata": {},
     "output_type": "execute_result"
    }
   ],
   "source": [
    "road = problem.fluent(\"road\")\n",
    "road"
   ]
  },
  {
   "cell_type": "code",
   "execution_count": 30,
   "metadata": {},
   "outputs": [
    {
     "data": {
      "text/plain": [
       "'road'"
      ]
     },
     "execution_count": 30,
     "metadata": {},
     "output_type": "execute_result"
    }
   ],
   "source": [
    "road.name"
   ]
  },
  {
   "cell_type": "code",
   "execution_count": 33,
   "metadata": {},
   "outputs": [
    {
     "data": {
      "text/plain": [
       "'l1'"
      ]
     },
     "execution_count": 33,
     "metadata": {},
     "output_type": "execute_result"
    }
   ],
   "source": [
    "road.signature[0].name"
   ]
  },
  {
   "cell_type": "code",
   "execution_count": 29,
   "metadata": {},
   "outputs": [
    {
     "data": {
      "text/plain": [
       "unified_planning.model.fluent.Fluent"
      ]
     },
     "execution_count": 29,
     "metadata": {},
     "output_type": "execute_result"
    }
   ],
   "source": [
    "type(road)"
   ]
  },
  {
   "cell_type": "code",
   "execution_count": 26,
   "metadata": {},
   "outputs": [
    {
     "name": "stdout",
     "output_type": "stream",
     "text": [
      "debug:> break (road ?l1 ?l2)\n",
      "__________________________________________________\n"
     ]
    }
   ],
   "source": [
    "debugger.force_run(\"break (road ?l1 ?l2)\")"
   ]
  },
  {
   "cell_type": "code",
   "execution_count": 11,
   "metadata": {},
   "outputs": [
    {
     "name": "stdout",
     "output_type": "stream",
     "text": [
      "Solving action\n",
      "[':precondition']\n"
     ]
    },
    {
     "ename": "UPValueError",
     "evalue": "Object of name: :precondition is not defined!",
     "output_type": "error",
     "traceback": [
      "\u001b[0;31m---------------------------------------------------------------------------\u001b[0m",
      "\u001b[0;31mUPValueError\u001b[0m                              Traceback (most recent call last)",
      "Cell \u001b[0;32mIn [11], line 1\u001b[0m\n\u001b[0;32m----> 1\u001b[0m debugger\u001b[39m.\u001b[39;49mnexp()\n",
      "File \u001b[0;32m~/.python/current/lib/python3.10/site-packages/up_siadex/siadex_debugger.py:566\u001b[0m, in \u001b[0;36mSIADEXDebugger.nexp\u001b[0;34m(self)\u001b[0m\n\u001b[1;32m    564\u001b[0m \u001b[39mdef\u001b[39;00m \u001b[39mnexp\u001b[39m(\u001b[39mself\u001b[39m):\n\u001b[1;32m    565\u001b[0m     \u001b[39m\"\"\"Advance one step in the debug process.\"\"\"\u001b[39;00m\n\u001b[0;32m--> 566\u001b[0m     \u001b[39mreturn\u001b[39;00m \u001b[39mself\u001b[39;49m\u001b[39m.\u001b[39;49mrun(NexpCommand())\n",
      "File \u001b[0;32m~/.python/current/lib/python3.10/site-packages/up_siadex/siadex_debugger.py:550\u001b[0m, in \u001b[0;36mSIADEXDebugger.run\u001b[0;34m(self, command)\u001b[0m\n\u001b[1;32m    548\u001b[0m \u001b[39mdef\u001b[39;00m \u001b[39mrun\u001b[39m(\u001b[39mself\u001b[39m, command: ICommand):\n\u001b[1;32m    549\u001b[0m     \u001b[39m\"\"\"Run a command\"\"\"\u001b[39;00m\n\u001b[0;32m--> 550\u001b[0m     \u001b[39mreturn\u001b[39;00m \u001b[39mself\u001b[39;49m\u001b[39m.\u001b[39;49m_run_command(command\u001b[39m.\u001b[39;49mcmd, command\u001b[39m.\u001b[39;49mparse)\n",
      "File \u001b[0;32m~/.python/current/lib/python3.10/site-packages/up_siadex/siadex_debugger.py:539\u001b[0m, in \u001b[0;36mSIADEXDebugger._run_command\u001b[0;34m(self, command, parser)\u001b[0m\n\u001b[1;32m    537\u001b[0m err \u001b[39m=\u001b[39m \u001b[39mself\u001b[39m\u001b[39m.\u001b[39m_capture_error()\n\u001b[1;32m    538\u001b[0m \u001b[39mif\u001b[39;00m parser:\n\u001b[0;32m--> 539\u001b[0m     \u001b[39mreturn\u001b[39;00m parser(\u001b[39mself\u001b[39;49m\u001b[39m.\u001b[39;49mproblem, std, err)\n\u001b[1;32m    540\u001b[0m \u001b[39melse\u001b[39;00m:\n\u001b[1;32m    541\u001b[0m     [\u001b[39mprint\u001b[39m(msg, end\u001b[39m=\u001b[39m\u001b[39m\"\u001b[39m\u001b[39m\"\u001b[39m) \u001b[39mfor\u001b[39;00m msg \u001b[39min\u001b[39;00m std]\n",
      "File \u001b[0;32m~/.python/current/lib/python3.10/site-packages/up_siadex/siadex_debugger.py:286\u001b[0m, in \u001b[0;36mNexpCommand.parse\u001b[0;34m(self, problem, std, err)\u001b[0m\n\u001b[1;32m    283\u001b[0m         \u001b[39mif\u001b[39;00m v\u001b[39m.\u001b[39mstartswith(\u001b[39m\"\u001b[39m\u001b[39m?\u001b[39m\u001b[39m\"\u001b[39m):\n\u001b[1;32m    284\u001b[0m             \u001b[39mcontinue\u001b[39;00m\n\u001b[0;32m--> 286\u001b[0m         params\u001b[39m.\u001b[39mappend(find_obj(problem, v))\n\u001b[1;32m    288\u001b[0m     \u001b[39mreturn\u001b[39;00m action, params\n\u001b[1;32m    289\u001b[0m \u001b[39mexcept\u001b[39;00m \u001b[39mValueError\u001b[39;00m \u001b[39mas\u001b[39;00m error:\n",
      "File \u001b[0;32m~/.python/current/lib/python3.10/site-packages/up_siadex/siadex_debugger.py:49\u001b[0m, in \u001b[0;36mfind_obj\u001b[0;34m(problem, name)\u001b[0m\n\u001b[1;32m     47\u001b[0m \u001b[39mdef\u001b[39;00m \u001b[39mfind_obj\u001b[39m(problem: \u001b[39m\"\u001b[39m\u001b[39mup.model.AbstractProblem\u001b[39m\u001b[39m\"\u001b[39m, name: \u001b[39mstr\u001b[39m) \u001b[39m-\u001b[39m\u001b[39m>\u001b[39m \u001b[39m\"\u001b[39m\u001b[39mup.model.FNode\u001b[39m\u001b[39m\"\u001b[39m:\n\u001b[1;32m     48\u001b[0m     \u001b[39m\"\"\"Returns an object from the problem\"\"\"\u001b[39;00m\n\u001b[0;32m---> 49\u001b[0m     \u001b[39mreturn\u001b[39;00m problem\u001b[39m.\u001b[39;49mobject(name\u001b[39m.\u001b[39;49mreplace(\u001b[39m\"\u001b[39;49m\u001b[39m_\u001b[39;49m\u001b[39m\"\u001b[39;49m, \u001b[39m\"\u001b[39;49m\u001b[39m-\u001b[39;49m\u001b[39m\"\u001b[39;49m))\n",
      "File \u001b[0;32m~/.python/current/lib/python3.10/site-packages/unified_planning/model/mixins/objects_set.py:98\u001b[0m, in \u001b[0;36mObjectsSetMixin.object\u001b[0;34m(self, name)\u001b[0m\n\u001b[1;32m     96\u001b[0m     \u001b[39mif\u001b[39;00m o\u001b[39m.\u001b[39mname \u001b[39m==\u001b[39m name:\n\u001b[1;32m     97\u001b[0m         \u001b[39mreturn\u001b[39;00m o\n\u001b[0;32m---> 98\u001b[0m \u001b[39mraise\u001b[39;00m UPValueError(\u001b[39mf\u001b[39m\u001b[39m\"\u001b[39m\u001b[39mObject of name: \u001b[39m\u001b[39m{\u001b[39;00mname\u001b[39m}\u001b[39;00m\u001b[39m is not defined!\u001b[39m\u001b[39m\"\u001b[39m)\n",
      "\u001b[0;31mUPValueError\u001b[0m: Object of name: :precondition is not defined!"
     ]
    }
   ],
   "source": [
    "debugger.nexp()"
   ]
  },
  {
   "cell_type": "code",
   "execution_count": 13,
   "metadata": {},
   "outputs": [
    {
     "data": {
      "text/plain": [
       "True"
      ]
     },
     "execution_count": 13,
     "metadata": {},
     "output_type": "execute_result"
    }
   ],
   "source": [
    "problem.has_action(\"drive\")"
   ]
  },
  {
   "cell_type": "code",
   "execution_count": 9,
   "metadata": {},
   "outputs": [
    {
     "name": "stdout",
     "output_type": "stream",
     "text": [
      "debug:> next\n",
      "__________________________________________________\n",
      "(*** 1 ***) Selecting a method to expand from compound task.\n",
      "      :task (deliver ?p ?l)\n",
      "(*** 1 ***) Found: 1 methods to expand (left).\n",
      "      [0] \n",
      "      (:method m_deliver\n",
      "      :precondition\n",
      "      ( )\n",
      "      :tasks (\n",
      "         (get_to ?v ?l1)\n",
      "         (load ?v ?l1 ?p)\n",
      "         (get_to ?v ?l2)\n",
      "         (unload ?v ?l2 ?p)\n",
      "      )\n",
      "      )\n"
     ]
    }
   ],
   "source": [
    "debugger.force_run(\"next\")"
   ]
  },
  {
   "cell_type": "code",
   "execution_count": 10,
   "metadata": {},
   "outputs": [
    {
     "name": "stdout",
     "output_type": "stream",
     "text": [
      "debug:> help print\n",
      "__________________________________________________\n",
      "Command: `print'. Shortcut: `p'\n",
      "\n",
      "Description: Prints information about the planning context.\n",
      "\t`print state':\tPrints the current state.\n",
      "\t`print agenda':\tPrints the current agenda.\n",
      "\t`print plan':\tPrints the ongoing plan.\n",
      "\t`print options':\tPrints the options you can peform on next step.\n",
      "\t`print termtable':\tPrints the internal term table.\n",
      "\t`print tasks':\tPrints all the tasks defined in the domain.\n",
      "\t`print predicates':\tPrints all the avaliable predicates defined in the domain.\n",
      "\t`print <predicate-expression>':\tPrints all the predicates in the current state, or the tasks in current plan, that match the given expression.\n"
     ]
    }
   ],
   "source": [
    "debugger.force_run(\"help print\")"
   ]
  },
  {
   "cell_type": "code",
   "execution_count": 18,
   "metadata": {},
   "outputs": [
    {
     "name": "stdout",
     "output_type": "stream",
     "text": [
      "debug:> print plan\n",
      "__________________________________________________\n",
      ":action (drive truck_0 city_loc_2 city_loc_1)\n",
      "\n",
      ":action (pick_up truck_0 city_loc_1 package_0 capacity_0 capacity_1)\n",
      "\n"
     ]
    }
   ],
   "source": [
    "debugger.force_run(\"print plan\")"
   ]
  },
  {
   "cell_type": "code",
   "execution_count": 22,
   "metadata": {},
   "outputs": [
    {
     "data": {
      "text/plain": [
       "{0: 0: (root ) \n",
       "                 status: root, expanded: root, \n",
       "                 succesors: [2, 8],\n",
       " 1: 1: (deliver [package-0, city-loc-0]) \n",
       "                 status: closed, expanded: unexpanded, \n",
       "                 succesors: [],\n",
       " 2: 2: (deliver [package-1, city-loc-2]) \n",
       "                 status: agenda, expanded: unexpanded, \n",
       "                 succesors: [],\n",
       " 3: 3: (get-to [truck-0, city-loc-1]) \n",
       "                 status: closed, expanded: unexpanded, \n",
       "                 succesors: [4],\n",
       " 4: 4: (load [truck-0, city-loc-1, package-0]) \n",
       "                 status: closed, expanded: unexpanded, \n",
       "                 succesors: [5],\n",
       " 5: 5: (get-to [truck-0, l]) \n",
       "                 status: closed, expanded: unexpanded, \n",
       "                 succesors: [6],\n",
       " 6: 6: (unload [truck-0, l, package-0]) \n",
       "                 status: pending, expanded: unexpanded, \n",
       "                 succesors: [],\n",
       " 7: 7: (drive [truck-0, city-loc-2, city-loc-1]) \n",
       "                 status: closed, expanded: unexpanded, \n",
       "                 succesors: [4],\n",
       " 8: 8: (drive [truck-0, city-loc-2, city-loc-1]) \n",
       "                 status: pending, expanded: action, \n",
       "                 succesors: [10],\n",
       " 9: 9: (pick-up [truck-0, city-loc-1, package-0, capacity-0, capacity-1]) \n",
       "                 status: closed, expanded: unexpanded, \n",
       "                 succesors: [5],\n",
       " 10: 10: (pick-up [truck-0, city-loc-1, package-0, capacity-0, capacity-1]) \n",
       "                 status: pending, expanded: action, \n",
       "                 succesors: [11],\n",
       " 11: 11: (drive [truck-0, l1, l2]) \n",
       "                 status: pending, expanded: unexpanded, \n",
       "                 succesors: [6]}"
      ]
     },
     "execution_count": 22,
     "metadata": {},
     "output_type": "execute_result"
    }
   ],
   "source": [
    "debugger.agenda()"
   ]
  },
  {
   "cell_type": "code",
   "execution_count": 20,
   "metadata": {},
   "outputs": [
    {
     "data": {
      "text/plain": [
       "[drive(truck-0, city-loc-2, city-loc-1), pick-up(truck-0, city-loc-1, package-0, capacity-0, capacity-1)]"
      ]
     },
     "execution_count": 20,
     "metadata": {},
     "output_type": "execute_result"
    }
   ],
   "source": [
    "debugger.plan()"
   ]
  },
  {
   "cell_type": "code",
   "execution_count": 21,
   "metadata": {},
   "outputs": [
    {
     "name": "stdout",
     "output_type": "stream",
     "text": [
      "debug:> print agenda\n",
      "__________________________________________________\n",
      "Succesors:\n",
      "[0] 2 8 \n",
      "[1] 0 \n",
      "[2] 0 \n",
      "[3] 4 \n",
      "[4] 5 \n",
      "[5] 6 \n",
      "[6] 0 \n",
      "[7] 4 \n",
      "[8] 10 \n",
      "[9] 5 \n",
      "[10] 11 \n",
      "[11] 6 \n",
      "Task list: \n",
      "[1] (closed)     :unexpanded (deliver package_0 city_loc_0)\n",
      "[2] (agenda)     :unexpanded (deliver package_1 city_loc_2)\n",
      "[3] (closed)     :unexpanded (get_to truck_0 city_loc_1)\n",
      "[4] (closed)     :unexpanded (load truck_0 city_loc_1 package_0)\n",
      "[5] (closed)     :unexpanded (get_to truck_0 ?l2)\n",
      "[6] (pending)    :unexpanded (unload truck_0 ?l2 package_0)\n",
      "[7] (closed)     :unexpanded (drive truck_0 city_loc_2 city_loc_1)\n",
      "[8] (pending)    :action (drive truck_0 city_loc_2 city_loc_1)\n",
      "[9] (closed)     :unexpanded (pick_up truck_0 city_loc_1 package_0 capacity_0 capacity_1)\n",
      "[10] (pending)    :action (pick_up truck_0 city_loc_1 package_0 capacity_0 capacity_1)\n",
      "[11] (pending)    :unexpanded (drive truck_0 ?l1 ?l2)\n",
      "===========\n",
      "\n",
      "Not explored (1):  1\n"
     ]
    }
   ],
   "source": [
    "debugger.force_run(\"print agenda\")"
   ]
  },
  {
   "cell_type": "code",
   "execution_count": 9,
   "metadata": {},
   "outputs": [
    {
     "data": {
      "text/plain": [
       "{1: 1: (deliver [package-0, city-loc-0]) \n",
       "                 status: agenda, expanded: unexpanded, \n",
       "                 succesors: [],\n",
       " 2: 2: (deliver [package-1, city-loc-2]) \n",
       "                 status: agenda, expanded: unexpanded, \n",
       "                 succesors: [],\n",
       " 0: 0: (root ) \n",
       "                 status: root, expanded: root, \n",
       "                 succesors: [1, 2]}"
      ]
     },
     "execution_count": 9,
     "metadata": {},
     "output_type": "execute_result"
    }
   ],
   "source": [
    "debugger.agenda()"
   ]
  },
  {
   "cell_type": "code",
   "execution_count": 11,
   "metadata": {},
   "outputs": [
    {
     "data": {
      "text/plain": [
       "task network {\n",
       "  subtasks = [\n",
       "    _t11: deliver(package-0, city-loc-0)\n",
       "        time_constraints = [\n",
       "        ]\n",
       "    _t12: deliver(package-1, city-loc-2)\n",
       "        time_constraints = [\n",
       "        ]\n",
       "  ]\n",
       "}"
      ]
     },
     "execution_count": 11,
     "metadata": {},
     "output_type": "execute_result"
    }
   ],
   "source": [
    "problem.task_network"
   ]
  },
  {
   "cell_type": "code",
   "execution_count": null,
   "metadata": {},
   "outputs": [
    {
     "data": {
      "text/plain": [
       "True"
      ]
     },
     "execution_count": 10,
     "metadata": {},
     "output_type": "execute_result"
    }
   ],
   "source": [
    "problem"
   ]
  },
  {
   "cell_type": "code",
   "execution_count": null,
   "metadata": {},
   "outputs": [],
   "source": [
    "truck_0 = problem.object(\"truck-0\")\n",
    "city_1 = problem.object(\"city-loc-1\")\n",
    "city_2 = problem.object(\"city-loc-2\")\n",
    "pkg_0 = problem.object(\"package-0\")"
   ]
  },
  {
   "cell_type": "code",
   "execution_count": null,
   "metadata": {},
   "outputs": [],
   "source": [
    "load = problem.get_task(\"load\")"
   ]
  },
  {
   "cell_type": "code",
   "execution_count": null,
   "metadata": {},
   "outputs": [
    {
     "ename": "ValueError",
     "evalue": "'?l' is not in list",
     "output_type": "error",
     "traceback": [
      "\u001b[0;31m---------------------------------------------------------------------------\u001b[0m",
      "\u001b[0;31mValueError\u001b[0m                                Traceback (most recent call last)",
      "Cell \u001b[0;32mIn [14], line 1\u001b[0m\n\u001b[0;32m----> 1\u001b[0m load\u001b[39m.\u001b[39;49mparameters\u001b[39m.\u001b[39;49mindex(\u001b[39m\"\u001b[39;49m\u001b[39m?l\u001b[39;49m\u001b[39m\"\u001b[39;49m)\n",
      "\u001b[0;31mValueError\u001b[0m: '?l' is not in list"
     ]
    }
   ],
   "source": [
    "load.parameters.index(\"?l\")"
   ]
  },
  {
   "cell_type": "code",
   "execution_count": null,
   "metadata": {},
   "outputs": [],
   "source": [
    "# (load truck_0 ?l1 package_0)"
   ]
  },
  {
   "cell_type": "code",
   "execution_count": null,
   "metadata": {},
   "outputs": [
    {
     "data": {
      "text/plain": [
       "unified_planning.model.parameter.Parameter"
      ]
     },
     "execution_count": 12,
     "metadata": {},
     "output_type": "execute_result"
    }
   ],
   "source": [
    "type(load.parameters[1])"
   ]
  },
  {
   "cell_type": "code",
   "execution_count": null,
   "metadata": {},
   "outputs": [
    {
     "data": {
      "text/plain": [
       "_t13: load(truck-0, l, package-0)\n",
       "        time_constraints = [\n",
       "        ]"
      ]
     },
     "execution_count": 13,
     "metadata": {},
     "output_type": "execute_result"
    }
   ],
   "source": [
    "tload = load(truck_0, load.parameters[1], pkg_0)\n",
    "tload"
   ]
  },
  {
   "cell_type": "code",
   "execution_count": null,
   "metadata": {},
   "outputs": [
    {
     "name": "stdout",
     "output_type": "stream",
     "text": [
      "debug:> next\n",
      "__________________________________________________\n",
      "(ccc) Performing unification: \n",
      "?l2 <- city_loc_1\n",
      "?l1 <- city_loc_2\n",
      "?v <- truck_0\n",
      "3 variable subtition(s).\n",
      "\n",
      "(ccc) Deleted from state: (at_ truck_0 city_loc_2)\n",
      "(ccc) Added to state: (at_ truck_0 city_loc_1)\n",
      "(*** 4 ***) Depth: 4\n",
      "(*** 4 ***) Selecting task to expand from agenda.\n"
     ]
    }
   ],
   "source": [
    "debugger.force_run(\"next\")"
   ]
  },
  {
   "cell_type": "code",
   "execution_count": null,
   "metadata": {},
   "outputs": [
    {
     "data": {
      "text/plain": [
       "action drive(vehicle - locatable v, location l1, location l2) {\n",
       "    preconditions = [\n",
       "      (at(v, l1) and road(l1, l2))\n",
       "    ]\n",
       "    effects = [\n",
       "      at(v, l1) := false\n",
       "      at(v, l2) := true\n",
       "    ]\n",
       "    simulated effect = None\n",
       "  }"
      ]
     },
     "execution_count": 14,
     "metadata": {},
     "output_type": "execute_result"
    }
   ],
   "source": [
    "drive = problem.action(\"drive\")\n",
    "drive"
   ]
  },
  {
   "cell_type": "code",
   "execution_count": null,
   "metadata": {},
   "outputs": [
    {
     "data": {
      "text/plain": [
       "_t14: drive(truck-0, city-loc-1, city-loc-2)\n",
       "        time_constraints = [\n",
       "        ]"
      ]
     },
     "execution_count": 17,
     "metadata": {},
     "output_type": "execute_result"
    }
   ],
   "source": [
    "from unified_planning.model.htn.task import Task, Subtask\n",
    "\n",
    "Subtask(drive, [truck_0, city_1, city_2])"
   ]
  },
  {
   "cell_type": "code",
   "execution_count": null,
   "metadata": {},
   "outputs": [],
   "source": [
    "state = UPCOWState({drive: [truck_0, city_1]})\n",
    "Action()"
   ]
  },
  {
   "cell_type": "code",
   "execution_count": null,
   "metadata": {},
   "outputs": [
    {
     "data": {
      "text/plain": [
       "[truck-0, city-loc-1]"
      ]
     },
     "execution_count": 94,
     "metadata": {},
     "output_type": "execute_result"
    }
   ],
   "source": [
    "state.get_value(drive)"
   ]
  },
  {
   "cell_type": "code",
   "execution_count": null,
   "metadata": {},
   "outputs": [],
   "source": [
    "Subtask()"
   ]
  },
  {
   "cell_type": "code",
   "execution_count": null,
   "metadata": {},
   "outputs": [
    {
     "ename": "TypeError",
     "evalue": "InstantaneousAction.add_effect() missing 1 required positional argument: 'value'",
     "output_type": "error",
     "traceback": [
      "\u001b[0;31m---------------------------------------------------------------------------\u001b[0m",
      "\u001b[0;31mTypeError\u001b[0m                                 Traceback (most recent call last)",
      "Cell \u001b[0;32mIn [83], line 1\u001b[0m\n\u001b[0;32m----> 1\u001b[0m drive\u001b[39m.\u001b[39;49madd_effect(f1(truck_0, city_1))\n",
      "\u001b[0;31mTypeError\u001b[0m: InstantaneousAction.add_effect() missing 1 required positional argument: 'value'"
     ]
    }
   ],
   "source": [
    "drive.add_effect(f1(truck_0, city_1))"
   ]
  },
  {
   "cell_type": "code",
   "execution_count": null,
   "metadata": {},
   "outputs": [],
   "source": [
    "(drive truck_0 city_loc_2 city_loc_1)"
   ]
  },
  {
   "cell_type": "code",
   "execution_count": null,
   "metadata": {},
   "outputs": [
    {
     "data": {
      "text/plain": [
       "[at(v, l1) := False, at(v, l2) := true]"
      ]
     },
     "execution_count": 68,
     "metadata": {},
     "output_type": "execute_result"
    }
   ],
   "source": [
    "drive.effects"
   ]
  },
  {
   "cell_type": "code",
   "execution_count": null,
   "metadata": {},
   "outputs": [],
   "source": [
    "f1 = drive.effects[1].fluent\n"
   ]
  },
  {
   "cell_type": "code",
   "execution_count": null,
   "metadata": {},
   "outputs": [],
   "source": [
    "f1 = f1()"
   ]
  },
  {
   "cell_type": "code",
   "execution_count": null,
   "metadata": {},
   "outputs": [
    {
     "data": {
      "text/plain": [
       "at(truck-0, city-loc-1)"
      ]
     },
     "execution_count": 81,
     "metadata": {},
     "output_type": "execute_result"
    }
   ],
   "source": [
    "f1(truck_0, city_1)"
   ]
  },
  {
   "cell_type": "code",
   "execution_count": null,
   "metadata": {},
   "outputs": [
    {
     "ename": "TypeError",
     "evalue": "'FNode' object is not callable",
     "output_type": "error",
     "traceback": [
      "\u001b[0;31m---------------------------------------------------------------------------\u001b[0m",
      "\u001b[0;31mTypeError\u001b[0m                                 Traceback (most recent call last)",
      "Cell \u001b[0;32mIn [61], line 1\u001b[0m\n\u001b[0;32m----> 1\u001b[0m f1(truck_0)\n",
      "\u001b[0;31mTypeError\u001b[0m: 'FNode' object is not callable"
     ]
    }
   ],
   "source": [
    "f1()"
   ]
  },
  {
   "cell_type": "code",
   "execution_count": null,
   "metadata": {},
   "outputs": [
    {
     "name": "stdout",
     "output_type": "stream",
     "text": [
      "debug:> print agenda\n",
      "__________________________________________________\n",
      "Succesors:\n",
      "[0] 2 8 \n",
      "[1] 0 \n",
      "[2] 0 \n",
      "[3] 4 \n",
      "[4] 5 \n",
      "[5] 6 \n",
      "[6] 0 \n",
      "[7] 4 \n",
      "[8] 4 \n",
      "Task list: \n",
      "[1] (closed)     :unexpanded (deliver package_0 city_loc_0)\n",
      "[2] (agenda)     :unexpanded (deliver package_1 city_loc_2)\n",
      "[3] (closed)     :unexpanded (get_to truck_0 ?l1)\n",
      "[4] (agenda)     :unexpanded (load truck_0 ?l1 package_0)\n",
      "[5] (pending)    :unexpanded (get_to truck_0 ?l2)\n",
      "[6] (pending)    :unexpanded (unload truck_0 ?l2 package_0)\n",
      "[7] (closed)     :unexpanded (drive truck_0 city_loc_2 city_loc_1)\n",
      "[8] (pending)    :action (drive truck_0 city_loc_2 city_loc_1)\n",
      "===========\n",
      "\n",
      "Not explored (2):  1 3\n"
     ]
    }
   ],
   "source": [
    "debugger.force_run(\"print agenda\")"
   ]
  },
  {
   "cell_type": "code",
   "execution_count": null,
   "metadata": {},
   "outputs": [
    {
     "name": "stdout",
     "output_type": "stream",
     "text": [
      "debug:> help print\n",
      "__________________________________________________\n",
      "Command: `print'. Shortcut: `p'\n",
      "\n",
      "Description: Prints information about the planning context.\n",
      "\t`print state':\tPrints the current state.\n",
      "\t`print agenda':\tPrints the current agenda.\n",
      "\t`print plan':\tPrints the ongoing plan.\n",
      "\t`print options':\tPrints the options you can peform on next step.\n",
      "\t`print termtable':\tPrints the internal term table.\n",
      "\t`print tasks':\tPrints all the tasks defined in the domain.\n",
      "\t`print predicates':\tPrints all the avaliable predicates defined in the domain.\n",
      "\t`print <predicate-expression>':\tPrints all the predicates in the current state, or the tasks in current plan, that match the given expression.\n"
     ]
    }
   ],
   "source": [
    "debugger.force_run(\"help print\")"
   ]
  },
  {
   "cell_type": "code",
   "execution_count": null,
   "metadata": {},
   "outputs": [
    {
     "name": "stdout",
     "output_type": "stream",
     "text": [
      "debug:> print agenda\n",
      "__________________________________________________\n",
      "Succesors:\n",
      "[0] 2 3 \n",
      "[1] 0 \n",
      "[2] 0 \n",
      "[3] 4 \n",
      "[4] 5 \n",
      "[5] 6 \n",
      "[6] 0 \n",
      "Task list: \n",
      "[1] (closed)     :unexpanded (deliver package_0 city_loc_0)\n",
      "[2] (agenda)     :unexpanded (deliver package_1 city_loc_2)\n",
      "[3] (agenda)     :unexpanded (get_to ?v ?l1)\n",
      "[4] (pending)    :unexpanded (load ?v ?l1 package_0)\n",
      "[5] (pending)    :unexpanded (get_to ?v ?l2)\n",
      "[6] (pending)    :unexpanded (unload ?v ?l2 package_0)\n",
      "===========\n",
      "\n",
      "Not explored (2):  1 2\n"
     ]
    }
   ],
   "source": [
    "debugger.force_run(\"print agenda\")"
   ]
  },
  {
   "cell_type": "code",
   "execution_count": null,
   "metadata": {},
   "outputs": [],
   "source": [
    "deliver = problem.get_task(\"deliver\")"
   ]
  },
  {
   "cell_type": "code",
   "execution_count": null,
   "metadata": {},
   "outputs": [],
   "source": [
    "package_0 = problem.object(\"package-0\")\n",
    "city_0 = problem.object(\"city-loc-0\")"
   ]
  },
  {
   "cell_type": "code",
   "execution_count": null,
   "metadata": {},
   "outputs": [],
   "source": [
    "t = deliver(package_0, city_0 )"
   ]
  },
  {
   "cell_type": "code",
   "execution_count": null,
   "metadata": {},
   "outputs": [],
   "source": [
    "m_deliver = problem.method(\"m-deliver\")"
   ]
  },
  {
   "cell_type": "code",
   "execution_count": null,
   "metadata": {},
   "outputs": [
    {
     "data": {
      "text/plain": [
       "end(_t13)"
      ]
     },
     "execution_count": 28,
     "metadata": {},
     "output_type": "execute_result"
    }
   ],
   "source": [
    "t.end"
   ]
  },
  {
   "cell_type": "code",
   "execution_count": null,
   "metadata": {},
   "outputs": [
    {
     "data": {
      "text/plain": [
       "[package - locatable p, location l]"
      ]
     },
     "execution_count": 26,
     "metadata": {},
     "output_type": "execute_result"
    }
   ],
   "source": [
    "t.task.parameters"
   ]
  },
  {
   "cell_type": "code",
   "execution_count": null,
   "metadata": {},
   "outputs": [],
   "source": [
    "m_deliver.set_task(deliver,)"
   ]
  },
  {
   "cell_type": "code",
   "execution_count": null,
   "metadata": {},
   "outputs": [],
   "source": [
    "deliver"
   ]
  },
  {
   "cell_type": "code",
   "execution_count": null,
   "metadata": {},
   "outputs": [
    {
     "data": {
      "text/plain": [
       "[road(city-loc-0, city-loc-1),\n",
       " road(city-loc-1, city-loc-0),\n",
       " road(city-loc-1, city-loc-2),\n",
       " road(city-loc-2, city-loc-1),\n",
       " at(package-0, city-loc-1),\n",
       " at(truck-0, city-loc-1),\n",
       " at(package-1, city-loc-1),\n",
       " capacity(truck-0, capacity-1),\n",
       " capacity-predecessor(capacity-0, capacity-1)]"
      ]
     },
     "execution_count": 32,
     "metadata": {},
     "output_type": "execute_result"
    }
   ],
   "source": [
    "debugger.state()"
   ]
  },
  {
   "cell_type": "code",
   "execution_count": null,
   "metadata": {},
   "outputs": [
    {
     "name": "stdout",
     "output_type": "stream",
     "text": [
      "debug:> help print\n",
      "__________________________________________________\n",
      "Command: `print'. Shortcut: `p'\n",
      "\n",
      "Description: Prints information about the planning context.\n",
      "\t`print state':\tPrints the current state.\n",
      "\t`print agenda':\tPrints the current agenda.\n",
      "\t`print plan':\tPrints the ongoing plan.\n",
      "\t`print options':\tPrints the options you can peform on next step.\n",
      "\t`print termtable':\tPrints the internal term table.\n",
      "\t`print tasks':\tPrints all the tasks defined in the domain.\n",
      "\t`print predicates':\tPrints all the avaliable predicates defined in the domain.\n",
      "\t`print <predicate-expression>':\tPrints all the predicates in the current state, or the tasks in current plan, that match the given expression.\n"
     ]
    }
   ],
   "source": [
    "debugger.force_run(\"help print\")"
   ]
  },
  {
   "cell_type": "code",
   "execution_count": null,
   "metadata": {},
   "outputs": [
    {
     "name": "stdout",
     "output_type": "stream",
     "text": [
      "debug:> help next\n",
      "__________________________________________________\n",
      "Command: `next'. ShortCut: `n'\n",
      "\n",
      "Description: Advance one more step.\n",
      "See also: `continue'\n"
     ]
    }
   ],
   "source": [
    "debugger.force_run(\"help next\")"
   ]
  },
  {
   "cell_type": "code",
   "execution_count": null,
   "metadata": {},
   "outputs": [],
   "source": [
    "debugger.stop()"
   ]
  },
  {
   "attachments": {},
   "cell_type": "markdown",
   "metadata": {},
   "source": [
    "### END DEBUGGER"
   ]
  },
  {
   "cell_type": "code",
   "execution_count": null,
   "metadata": {},
   "outputs": [],
   "source": [
    "def solve_with_siadex(problem):\n",
    "    with OneshotPlanner(name='siadex') as p:\n",
    "        result = p.solve(problem)\n",
    "        print(result.log_messages)\n",
    "        if result.status == PlanGenerationResultStatus.SOLVED_SATISFICING:\n",
    "            print(f'{p.name()} found a valid plan!')\n",
    "            print(f'The plan is: \\n')\n",
    "            for i,a in enumerate(result.plan.actions):\n",
    "                print(f\"{i}: {a}\")\n",
    "            return result.plan\n",
    "        else:\n",
    "            return []\n",
    "            print('No plan found!')"
   ]
  },
  {
   "attachments": {},
   "cell_type": "markdown",
   "metadata": {},
   "source": [
    "## Example of a hierarchical  problem done with UPF"
   ]
  },
  {
   "cell_type": "code",
   "execution_count": null,
   "metadata": {},
   "outputs": [],
   "source": [
    "htn = HierarchicalProblem()\n",
    "\n",
    "#_________Objects_________#\n",
    "Location = UserType(\"Location\")\n",
    "\n",
    "l1 = htn.add_object(\"l1\", Location)\n",
    "l2 = htn.add_object(\"l2\", Location)\n",
    "l3 = htn.add_object(\"l3\", Location)\n",
    "l4 = htn.add_object(\"l4\", Location)\n",
    "\n",
    "#_________Fluents_________#\n",
    "loc = Fluent(\"is_on\", l=Location)\n",
    "htn.add_fluent(loc, default_initial_value=False)\n",
    "\n",
    "connected = Fluent(\"connected\", l1=Location, l2=Location)\n",
    "htn.add_fluent(connected, default_initial_value=False)\n",
    "htn.set_initial_value(connected(l1, l2), True)\n",
    "htn.set_initial_value(connected(l2, l3), True)\n",
    "htn.set_initial_value(connected(l3, l4), True)\n",
    "htn.set_initial_value(connected(l4, l3), True)\n",
    "htn.set_initial_value(connected(l3, l2), True)\n",
    "htn.set_initial_value(connected(l2, l1), True)\n",
    "htn.set_initial_value(loc(l1), True)\n",
    "\n",
    "\n",
    "#_________Actions_________#\n",
    "move = InstantaneousAction(\"move\", l_from=Location, l_to=Location)\n",
    "l_from = move.parameter(\"l_from\")\n",
    "l_to = move.parameter(\"l_to\")\n",
    "move.add_precondition(loc(l_from))\n",
    "move.add_precondition(connected(l_from, l_to))\n",
    "move.add_effect(loc(l_from), False)\n",
    "move.add_effect(loc(l_to), True)\n",
    "htn.add_action(move)\n",
    "\n",
    "#_________Task_________#\n",
    "go = htn.add_task(\"go\", target=Location)\n",
    "\n",
    "#_________Methods_________#\n",
    "go_noop = Method(\"go-noop\", target=Location)\n",
    "go_noop.set_task(go)\n",
    "target = go_noop.parameter(\"target\")\n",
    "go_noop.add_precondition(loc(target))\n",
    "\n",
    "htn.add_method(go_noop)\n",
    "\n",
    "go_recursive = Method(\n",
    "    \"go-recursive\", source=Location, inter=Location, target=Location\n",
    ")\n",
    "\n",
    "go_recursive.set_task(go, go_recursive.parameter(\"target\"))\n",
    "\n",
    "source = go_recursive.parameter(\"source\")\n",
    "inter = go_recursive.parameter(\"inter\")\n",
    "target = go_recursive.parameter(\"target\")\n",
    "\n",
    "go_recursive.add_precondition(loc(source))\n",
    "go_recursive.add_precondition(connected(source, inter))\n",
    "\n",
    "t1 = go_recursive.add_subtask(move, source, inter)\n",
    "t2 = go_recursive.add_subtask(go, target)\n",
    "go_recursive.set_ordered(t1, t2)\n",
    "htn.add_method(go_recursive)\n",
    "\n",
    "\n",
    "#_________Init_________#\n",
    "go1 = htn.task_network.add_subtask(go, l4)"
   ]
  },
  {
   "cell_type": "code",
   "execution_count": null,
   "metadata": {},
   "outputs": [
    {
     "data": {
      "text/plain": [
       "_t17: go(l1)\n",
       "        time_constraints = [\n",
       "        ]"
      ]
     },
     "execution_count": 14,
     "metadata": {},
     "output_type": "execute_result"
    }
   ],
   "source": [
    "go(l1)"
   ]
  },
  {
   "cell_type": "code",
   "execution_count": null,
   "metadata": {},
   "outputs": [
    {
     "ename": "TypeError",
     "evalue": "'Method' object is not callable",
     "output_type": "error",
     "traceback": [
      "\u001b[0;31m---------------------------------------------------------------------------\u001b[0m",
      "\u001b[0;31mTypeError\u001b[0m                                 Traceback (most recent call last)",
      "Cell \u001b[0;32mIn [12], line 1\u001b[0m\n\u001b[0;32m----> 1\u001b[0m go_recursive(source\u001b[39m=\u001b[39;49ml1,inter\u001b[39m=\u001b[39;49ml2,target\u001b[39m=\u001b[39;49ml3)\n",
      "\u001b[0;31mTypeError\u001b[0m: 'Method' object is not callable"
     ]
    }
   ],
   "source": [
    "go_recursive(source=l1, inter=l2, target=l3)"
   ]
  },
  {
   "cell_type": "code",
   "execution_count": null,
   "metadata": {},
   "outputs": [
    {
     "name": "stdout",
     "output_type": "stream",
     "text": [
      "\u001b[96m  *** Credits ***\n",
      "\u001b[0m\u001b[96m  * In operation mode `OneshotPlanner` at line 2 of `/tmp/ipykernel_20228/937920758.py`, \u001b[0m\u001b[96myou are using the following planning engine:\n",
      "\u001b[0m\u001b[96m  * Engine name: SIADEX\n",
      "  * Developers:  UGR SIADEX Team\n",
      "\u001b[0m\u001b[96m  * Description: \u001b[0m\u001b[96mSIADEX ENGINE\u001b[0m\u001b[96m\n",
      "\u001b[0m\u001b[96m\n",
      "\u001b[0m[LogMessage(level=<LogLevel.INFO: 2>, message=''), LogMessage(level=<LogLevel.ERROR: 4>, message='\\n')]\n",
      "SIADEX found a valid plan!\n",
      "The plan is: \n",
      "\n",
      "0: move(l1, l2)\n",
      "1: move(l2, l3)\n",
      "2: move(l3, l4)\n"
     ]
    },
    {
     "data": {
      "text/plain": [
       "[move(l1, l2), move(l2, l3), move(l3, l4)]"
      ]
     },
     "execution_count": 8,
     "metadata": {},
     "output_type": "execute_result"
    }
   ],
   "source": [
    "solve_with_siadex(htn)"
   ]
  },
  {
   "attachments": {},
   "cell_type": "markdown",
   "metadata": {},
   "source": [
    "## Reading a problem from a file (HDPL)"
   ]
  },
  {
   "cell_type": "code",
   "execution_count": null,
   "metadata": {},
   "outputs": [],
   "source": [
    "reader = HPDLReader()\n",
    "miconic = reader.parse_problem(\"../examples/ipc/Miconic/domain.hpdl\", \"../examples/ipc/Miconic/problem.hpdl\")\n",
    "rover = reader.parse_problem(\"../examples/ipc/Rover/domain.hpdl\",\"../examples/ipc/Rover/problem.hpdl\")\n",
    "satellite = reader.parse_problem(\"../examples/ipc/Satellite/domain.hpdl\",\"../examples/ipc/Satellite/problem.hpdl\")\n",
    "# smartphone = reader.parse_problem(\"../examples/ipc/SmartPhone/domain.hpdl\",\"../examples/ipc/SmartPhone/problem.hpdl\")\n",
    "transport = reader.parse_problem(\"../examples/ipc/Transport/domain.hpdl\",\"../examples/ipc/Transport/problem.hpdl\")\n",
    "# translog = reader.parse_problem(\"../examples/ipc/UM-Translog/domain.hpdl\",\"../examples/ipc/UM-Translog/problem.hpdl\")\n",
    "zeno = reader.parse_problem(\"../examples/ipc/Zenotravel/domain.hpdl\",\"../examples/ipc/Zenotravel/problem.hpdl\")"
   ]
  },
  {
   "cell_type": "code",
   "execution_count": null,
   "metadata": {},
   "outputs": [
    {
     "name": "stdout",
     "output_type": "stream",
     "text": [
      "\u001b[96m  *** Credits ***\n",
      "\u001b[0m\u001b[96m  * In operation mode `OneshotPlanner` at line 2 of `/tmp/ipykernel_20228/937920758.py`, \u001b[0m\u001b[96myou are using the following planning engine:\n",
      "\u001b[0m\u001b[96m  * Engine name: SIADEX\n",
      "  * Developers:  UGR SIADEX Team\n",
      "\u001b[0m\u001b[96m  * Description: \u001b[0m\u001b[96mSIADEX ENGINE\u001b[0m\u001b[96m\n",
      "\u001b[0m\u001b[96m\n",
      "\u001b[0m[LogMessage(level=<LogLevel.INFO: 2>, message=''), LogMessage(level=<LogLevel.ERROR: 4>, message='\\n\\n[Error]: Empty stack\\n')]\n",
      "SIADEX found a valid plan!\n",
      "The plan is: \n",
      "\n"
     ]
    },
    {
     "data": {
      "text/plain": [
       "[]"
      ]
     },
     "execution_count": 10,
     "metadata": {},
     "output_type": "execute_result"
    }
   ],
   "source": [
    "solve_with_siadex(rover)"
   ]
  },
  {
   "cell_type": "code",
   "execution_count": null,
   "metadata": {},
   "outputs": [
    {
     "name": "stdout",
     "output_type": "stream",
     "text": [
      "\u001b[96m  *** Credits ***\n",
      "\u001b[0m\u001b[96m  * In operation mode `OneshotPlanner` at line 2 of `/tmp/ipykernel_20228/937920758.py`, \u001b[0m\u001b[96myou are using the following planning engine:\n",
      "\u001b[0m\u001b[96m  * Engine name: SIADEX\n",
      "  * Developers:  UGR SIADEX Team\n",
      "\u001b[0m\u001b[96m  * Description: \u001b[0m\u001b[96mSIADEX ENGINE\u001b[0m\u001b[96m\n",
      "\u001b[0m\u001b[96m\n",
      "\u001b[0m[LogMessage(level=<LogLevel.INFO: 2>, message=''), LogMessage(level=<LogLevel.ERROR: 4>, message='\\n')]\n",
      "SIADEX found a valid plan!\n",
      "The plan is: \n",
      "\n",
      "0: drive_primitive(truck_0, city_loc_2, city_loc_1)\n",
      "1: pick_up_primitive(truck_0, city_loc_1, package_0, capacity_0, capacity_1)\n",
      "2: drive_primitive(truck_0, city_loc_1, city_loc_0)\n",
      "3: drop_primitive(truck_0, city_loc_0, package_0, capacity_0, capacity_1)\n",
      "4: drive_primitive(truck_0, city_loc_0, city_loc_1)\n",
      "5: pick_up_primitive(truck_0, city_loc_1, package_1, capacity_0, capacity_1)\n",
      "6: drive_primitive(truck_0, city_loc_1, city_loc_2)\n",
      "7: drop_primitive(truck_0, city_loc_2, package_1, capacity_0, capacity_1)\n"
     ]
    },
    {
     "data": {
      "text/plain": [
       "[drive_primitive(truck_0, city_loc_2, city_loc_1), pick_up_primitive(truck_0, city_loc_1, package_0, capacity_0, capacity_1), drive_primitive(truck_0, city_loc_1, city_loc_0), drop_primitive(truck_0, city_loc_0, package_0, capacity_0, capacity_1), drive_primitive(truck_0, city_loc_0, city_loc_1), pick_up_primitive(truck_0, city_loc_1, package_1, capacity_0, capacity_1), drive_primitive(truck_0, city_loc_1, city_loc_2), drop_primitive(truck_0, city_loc_2, package_1, capacity_0, capacity_1)]"
      ]
     },
     "execution_count": 11,
     "metadata": {},
     "output_type": "execute_result"
    }
   ],
   "source": [
    "solve_with_siadex(transport)"
   ]
  },
  {
   "cell_type": "code",
   "execution_count": null,
   "metadata": {},
   "outputs": [
    {
     "name": "stdout",
     "output_type": "stream",
     "text": [
      "\u001b[96m  *** Credits ***\n",
      "\u001b[0m\u001b[96m  * In operation mode `OneshotPlanner` at line 2 of `/tmp/ipykernel_6645/937920758.py`, \u001b[0m\u001b[96myou are using the following planning engine:\n",
      "\u001b[0m\u001b[96m  * Engine name: SIADEX\n",
      "  * Developers:  UGR SIADEX Team\n",
      "\u001b[0m\u001b[96m  * Description: \u001b[0m\u001b[96mSIADEX ENGINE\u001b[0m\u001b[96m\n",
      "\u001b[0m\u001b[96m\n",
      "\u001b[0m[LogMessage(level=<LogLevel.INFO: 2>, message=''), LogMessage(level=<LogLevel.ERROR: 4>, message='\\n')]\n",
      "SIADEX found a valid plan!\n",
      "The plan is: \n",
      "\n",
      "0: fly_primitive(a1, c2, c4, f6, f5)\n",
      "1: board_primitive(p1, a1, c4)\n",
      "2: fly_primitive(a1, c4, c3, f5, f4)\n",
      "3: debark_primitive(p1, a1, c3)\n",
      "4: fly_primitive(a1, c3, c2, f4, f3)\n",
      "5: board_primitive(p4, a1, c2)\n",
      "6: fly_primitive(a1, c2, c4, f3, f2)\n",
      "7: debark_primitive(p4, a1, c4)\n",
      "8: fly_primitive(a1, c4, c1, f2, f1)\n",
      "9: board_primitive(p3, a1, c1)\n",
      "10: fly_primitive(a1, c1, c4, f1, f0)\n",
      "11: debark_primitive(p3, a1, c4)\n",
      "12: refuel_primitive(a1, f0, f2)\n",
      "13: fly_primitive(a1, c4, c1, f2, f0)\n",
      "14: board_primitive(p2, a1, c1)\n",
      "15: refuel_primitive(a1, f0, f2)\n",
      "16: fly_primitive(a1, c1, c4, f2, f0)\n",
      "17: debark_primitive(p2, a1, c4)\n",
      "18: goal_action_primitive\n"
     ]
    },
    {
     "data": {
      "text/plain": [
       "[fly_primitive(a1, c2, c4, f6, f5), board_primitive(p1, a1, c4), fly_primitive(a1, c4, c3, f5, f4), debark_primitive(p1, a1, c3), fly_primitive(a1, c3, c2, f4, f3), board_primitive(p4, a1, c2), fly_primitive(a1, c2, c4, f3, f2), debark_primitive(p4, a1, c4), fly_primitive(a1, c4, c1, f2, f1), board_primitive(p3, a1, c1), fly_primitive(a1, c1, c4, f1, f0), debark_primitive(p3, a1, c4), refuel_primitive(a1, f0, f2), fly_primitive(a1, c4, c1, f2, f0), board_primitive(p2, a1, c1), refuel_primitive(a1, f0, f2), fly_primitive(a1, c1, c4, f2, f0), debark_primitive(p2, a1, c4), goal_action_primitive]"
      ]
     },
     "execution_count": 16,
     "metadata": {},
     "output_type": "execute_result"
    }
   ],
   "source": [
    "solve_with_siadex(zeno)"
   ]
  },
  {
   "cell_type": "code",
   "execution_count": null,
   "metadata": {},
   "outputs": [
    {
     "name": "stdout",
     "output_type": "stream",
     "text": [
      "\u001b[96m  *** Credits ***\n",
      "\u001b[0m\u001b[96m  * In operation mode `OneshotPlanner` at line 2 of `/tmp/ipykernel_20228/937920758.py`, \u001b[0m\u001b[96myou are using the following planning engine:\n",
      "\u001b[0m\u001b[96m  * Engine name: SIADEX\n",
      "  * Developers:  UGR SIADEX Team\n",
      "\u001b[0m\u001b[96m  * Description: \u001b[0m\u001b[96mSIADEX ENGINE\u001b[0m\u001b[96m\n",
      "\u001b[0m\u001b[96m\n",
      "\u001b[0m[LogMessage(level=<LogLevel.INFO: 2>, message=''), LogMessage(level=<LogLevel.ERROR: 4>, message='\\n')]\n",
      "SIADEX found a valid plan!\n",
      "The plan is: \n",
      "\n",
      "0: move_primitive(f0, f0)\n",
      "1: board_primitive(p0, f0)\n",
      "2: move_primitive(f0, f1)\n",
      "3: debark_primitive(p0, f1)\n",
      "4: move_primitive(f1, f3)\n",
      "5: board_primitive(p2, f3)\n",
      "6: move_primitive(f3, f1)\n",
      "7: debark_primitive(p2, f1)\n",
      "8: move_primitive(f1, f2)\n",
      "9: board_primitive(p4, f2)\n",
      "10: move_primitive(f2, f1)\n",
      "11: debark_primitive(p4, f1)\n",
      "12: move_primitive(f1, f0)\n",
      "13: board_primitive(p1, f0)\n",
      "14: move_primitive(f0, f3)\n",
      "15: debark_primitive(p1, f3)\n",
      "16: move_primitive(f3, f3)\n",
      "17: board_primitive(p3, f3)\n",
      "18: move_primitive(f3, f2)\n",
      "19: debark_primitive(p3, f2)\n"
     ]
    },
    {
     "data": {
      "text/plain": [
       "[move_primitive(f0, f0), board_primitive(p0, f0), move_primitive(f0, f1), debark_primitive(p0, f1), move_primitive(f1, f3), board_primitive(p2, f3), move_primitive(f3, f1), debark_primitive(p2, f1), move_primitive(f1, f2), board_primitive(p4, f2), move_primitive(f2, f1), debark_primitive(p4, f1), move_primitive(f1, f0), board_primitive(p1, f0), move_primitive(f0, f3), debark_primitive(p1, f3), move_primitive(f3, f3), board_primitive(p3, f3), move_primitive(f3, f2), debark_primitive(p3, f2)]"
      ]
     },
     "execution_count": 12,
     "metadata": {},
     "output_type": "execute_result"
    },
    {
     "name": "stderr",
     "output_type": "stream",
     "text": [
      "Bad pipe message: %s [b'\\xe6\\xd6\\xc2\\xbe:\\x87\\xf54\\xeeiR\\x04\\xf7\\x82\\xee\\xe7eh \\xa9\\xb3\\xa1,\\x90a\\x1d\\xe8\\x02\\xdf\\xc3\\x84>\\xfe\"\\xab\\xdd\\xa3\\x90I;=\\xb8%\\xba', b'\\xe8\\xbf.\\xd0m\\x00\\x08\\x13\\x02\\x13\\x03\\x13\\x01\\x00\\xff\\x01\\x00\\x00\\x8f\\x00\\x00\\x00\\x0e\\x00\\x0c\\x00\\x00\\t127.0.0.1\\x00\\x0b\\x00\\x04\\x03\\x00\\x01\\x02\\x00\\n\\x00\\x0c\\x00\\n\\x00\\x1d\\x00\\x17\\x00\\x1e\\x00\\x19\\x00\\x18\\x00#\\x00\\x00\\x00\\x16\\x00\\x00\\x00\\x17\\x00\\x00\\x00\\r\\x00\\x1e\\x00\\x1c\\x04\\x03\\x05']\n",
      "Bad pipe message: %s [b'\\x03\\x08']\n",
      "Bad pipe message: %s [b'\\x08\\x08\\t\\x08\\n\\x08']\n",
      "Bad pipe message: %s [b'\\xca']\n",
      "Bad pipe message: %s [b'\\x04\\x08\\x05\\x08\\x06\\x04\\x01\\x05\\x01\\x06']\n",
      "Bad pipe message: %s [b'']\n",
      "Bad pipe message: %s [b'\\x03\\x02\\x03\\x04\\x00-\\x00\\x02\\x01\\x01\\x003\\x00&\\x00$\\x00\\x1d\\x00 \\x9b\\x91+z\\xfa\\xfe\\xca\\xad\\xe7\\xf9/\\x01\\xb35\\x9b\\xa1\\x1e\\x9d\\xd4gV!']\n",
      "Bad pipe message: %s [b\"\\xdc\\xc8\\x8e\\xf7\\xad+\\xba\\xd6~\\xd7\\x91\\x81\\xde\\x0fZ\\x92tU\\x00\\x00\\xa6\\xc0,\\xc00\\x00\\xa3\\x00\\x9f\\xcc\\xa9\\xcc\\xa8\\xcc\\xaa\\xc0\\xaf\\xc0\\xad\\xc0\\xa3\\xc0\\x9f\\xc0]\\xc0a\\xc0W\\xc0S\\xc0+\\xc0/\\x00\\xa2\\x00\\x9e\\xc0\\xae\\xc0\\xac\\xc0\\xa2\\xc0\\x9e\\xc0\\\\\\xc0`\\xc0V\\xc0R\\xc0$\\xc0(\\x00k\\x00j\\xc0s\\xc0w\\x00\\xc4\\x00\\xc3\\xc0#\\xc0'\\x00g\\x00@\\xc0r\\xc0v\\x00\\xbe\\x00\\xbd\\xc0\\n\\xc0\\x14\\x009\\x008\\x00\\x88\\x00\\x87\\xc0\\t\\xc0\\x13\\x003\\x002\\x00\\x9a\\x00\\x99\\x00E\\x00D\\xc0\\x07\\xc0\\x11\\xc0\\x08\\xc0\\x12\\x00\\x16\\x00\\x13\\x00\\x9d\\xc0\\xa1\\xc0\\x9d\\xc0Q\\x00\\x9c\\xc0\\xa0\\xc0\\x9c\\xc0P\\x00=\\x00\\xc0\\x00<\\x00\\xba\\x005\\x00\\x84\\x00/\\x00\\x96\\x00A\\x00\\x05\\x00\\n\\x00\\xff\\x01\\x00\\x00j\\x00\\x00\\x00\\x0e\\x00\\x0c\\x00\\x00\\t127.0.0.1\\x00\\x0b\\x00\\x04\\x03\\x00\\x01\\x02\\x00\\n\\x00\\x0c\\x00\", b'\\x1d\\x00\\x17\\x00\\x1e\\x00\\x19\\x00\\x18']\n",
      "Bad pipe message: %s [b\"Kf\\xb6\\x1f\\x8d\\x1bKfo;<=8$\\xa6h4\\xaf\\x00\\x00\\x86\\xc00\\xc0,\\xc0(\\xc0$\\xc0\\x14\\xc0\\n\\x00\\xa5\\x00\\xa3\\x00\\xa1\\x00\\x9f\\x00k\\x00j\\x00i\\x00h\\x009\\x008\\x007\\x006\\xc02\\xc0.\\xc0*\\xc0&\\xc0\\x0f\\xc0\\x05\\x00\\x9d\\x00=\\x005\\xc0/\\xc0+\\xc0'\\xc0#\\xc0\\x13\\xc0\\t\\x00\\xa4\\x00\\xa2\\x00\\xa0\\x00\\x9e\\x00g\\x00@\\x00?\\x00>\\x003\\x002\\x001\\x000\\xc01\\xc0-\\xc0)\\xc0%\\xc0\\x0e\\xc0\\x04\\x00\\x9c\\x00<\\x00/\\x00\\x9a\\x00\\x99\\x00\\x98\\x00\\x97\\x00\\x96\\x00\\x07\\xc0\\x11\\xc0\\x07\\xc0\\x0c\\xc0\\x02\\x00\\x05\\x00\\x04\\x00\\xff\\x02\\x01\\x00\\x00g\\x00\\x00\\x00\\x0e\\x00\\x0c\\x00\\x00\\t127.0.0.1\\x00\\x0b\\x00\\x04\\x03\\x00\\x01\\x02\\x00\\n\\x00\\x1c\\x00\\x1a\\x00\\x17\\x00\\x19\\x00\\x1c\\x00\\x1b\\x00\\x18\\x00\\x1a\\x00\", b'\\x0e\\x00\\r\\x00\\x0b\\x00\\x0c\\x00\\t\\x00\\n\\x00#\\x00\\x00\\x00\\r\\x00 \\x00\\x1e']\n",
      "Bad pipe message: %s [b'\\x06\\x02\\x06\\x03\\x05', b'', b'\\x03', b'\\x04\\x02\\x04', b'\\x01\\x03', b'\\x03', b'\\x02', b'\\x03']\n",
      "Bad pipe message: %s [b'\\xa4E\\xc6K\\x17\\xa2D\\n\\xa3)\\xa2sY\\xe3\\x910#v\\x00\\x00\\xf4\\xc00\\xc0,\\xc0(\\xc0$\\xc0\\x14\\xc0\\n\\x00\\xa5\\x00\\xa3\\x00\\xa1\\x00\\x9f\\x00k\\x00j\\x00i\\x00h\\x009\\x008\\x007\\x006\\x00\\x88\\x00\\x87\\x00\\x86\\x00\\x85\\xc0\\x19\\x00\\xa7']\n"
     ]
    }
   ],
   "source": [
    "solve_with_siadex(miconic)"
   ]
  },
  {
   "cell_type": "code",
   "execution_count": null,
   "metadata": {},
   "outputs": [],
   "source": []
  }
 ],
 "metadata": {
  "kernelspec": {
   "display_name": "Python 3.10.4 64-bit",
   "language": "python",
   "name": "python3"
  },
  "language_info": {
   "codemirror_mode": {
    "name": "ipython",
    "version": 3
   },
   "file_extension": ".py",
   "mimetype": "text/x-python",
   "name": "python",
   "nbconvert_exporter": "python",
   "pygments_lexer": "ipython3",
   "version": "3.10.4"
  },
  "orig_nbformat": 4,
  "vscode": {
   "interpreter": {
    "hash": "3ad933181bd8a04b432d3370b9dc3b0662ad032c4dfaa4e4f1596c548f763858"
   }
  }
 },
 "nbformat": 4,
 "nbformat_minor": 2
}
