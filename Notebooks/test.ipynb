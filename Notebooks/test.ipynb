{
 "cells": [
  {
   "cell_type": "code",
   "execution_count": 1,
   "metadata": {},
   "outputs": [],
   "source": [
    "from subprocess import Popen, PIPE, STDOUT\n"
   ]
  },
  {
   "cell_type": "code",
   "execution_count": 2,
   "metadata": {},
   "outputs": [],
   "source": [
    "name = input()"
   ]
  },
  {
   "cell_type": "code",
   "execution_count": 3,
   "metadata": {},
   "outputs": [
    {
     "data": {
      "text/plain": [
       "'hola'"
      ]
     },
     "execution_count": 3,
     "metadata": {},
     "output_type": "execute_result"
    }
   ],
   "source": [
    "name"
   ]
  },
  {
   "cell_type": "code",
   "execution_count": 5,
   "metadata": {},
   "outputs": [],
   "source": [
    "a = []\n",
    "for _ in range(1,3):\n",
    "    a.append(input())\n",
    "    "
   ]
  },
  {
   "cell_type": "code",
   "execution_count": 6,
   "metadata": {},
   "outputs": [
    {
     "data": {
      "text/plain": [
       "['1', '2']"
      ]
     },
     "execution_count": 6,
     "metadata": {},
     "output_type": "execute_result"
    }
   ],
   "source": [
    "a"
   ]
  },
  {
   "cell_type": "code",
   "execution_count": 28,
   "metadata": {},
   "outputs": [],
   "source": [
    "from subprocess import Popen, PIPE, STDOUT\n",
    "p = Popen(['/bin/sh'], stdout=PIPE, stdin=PIPE, stderr=PIPE,         shell=True,)\n",
    "# stdout_data = p.communicate(input='ls'.encode())[0]"
   ]
  },
  {
   "cell_type": "code",
   "execution_count": 29,
   "metadata": {},
   "outputs": [
    {
     "data": {
      "text/plain": [
       "6"
      ]
     },
     "execution_count": 29,
     "metadata": {},
     "output_type": "execute_result"
    }
   ],
   "source": [
    "p.stdin.write('ls -la'.encode())"
   ]
  },
  {
   "cell_type": "code",
   "execution_count": 30,
   "metadata": {},
   "outputs": [],
   "source": [
    "p.stdout.flush()\n"
   ]
  },
  {
   "cell_type": "code",
   "execution_count": 31,
   "metadata": {},
   "outputs": [
    {
     "ename": "KeyboardInterrupt",
     "evalue": "",
     "output_type": "error",
     "traceback": [
      "\u001b[0;31m---------------------------------------------------------------------------\u001b[0m",
      "\u001b[0;31mKeyboardInterrupt\u001b[0m                         Traceback (most recent call last)",
      "Cell \u001b[0;32mIn [31], line 1\u001b[0m\n\u001b[0;32m----> 1\u001b[0m p\u001b[39m.\u001b[39;49mstdout\u001b[39m.\u001b[39;49mread(\u001b[39m6\u001b[39;49m)\n",
      "\u001b[0;31mKeyboardInterrupt\u001b[0m: "
     ]
    }
   ],
   "source": [
    "p.stdout.read(6)\n"
   ]
  },
  {
   "cell_type": "code",
   "execution_count": 14,
   "metadata": {},
   "outputs": [
    {
     "ename": "ValueError",
     "evalue": "Cannot send input after starting communication",
     "output_type": "error",
     "traceback": [
      "\u001b[0;31m---------------------------------------------------------------------------\u001b[0m",
      "\u001b[0;31mValueError\u001b[0m                                Traceback (most recent call last)",
      "Cell \u001b[0;32mIn [14], line 1\u001b[0m\n\u001b[0;32m----> 1\u001b[0m stdout_data \u001b[39m=\u001b[39m p\u001b[39m.\u001b[39;49mcommunicate(\u001b[39minput\u001b[39;49m\u001b[39m=\u001b[39;49m\u001b[39m'\u001b[39;49m\u001b[39mls -la\u001b[39;49m\u001b[39m'\u001b[39;49m\u001b[39m.\u001b[39;49mencode())[\u001b[39m0\u001b[39m]\n",
      "File \u001b[0;32m~/.python/current/lib/python3.10/subprocess.py:1124\u001b[0m, in \u001b[0;36mPopen.communicate\u001b[0;34m(self, input, timeout)\u001b[0m\n\u001b[1;32m   1106\u001b[0m \u001b[39m\"\"\"Interact with process: Send data to stdin and close it.\u001b[39;00m\n\u001b[1;32m   1107\u001b[0m \u001b[39mRead data from stdout and stderr, until end-of-file is\u001b[39;00m\n\u001b[1;32m   1108\u001b[0m \u001b[39mreached.  Wait for process to terminate.\u001b[39;00m\n\u001b[0;32m   (...)\u001b[0m\n\u001b[1;32m   1120\u001b[0m \u001b[39muniversal_newlines.\u001b[39;00m\n\u001b[1;32m   1121\u001b[0m \u001b[39m\"\"\"\u001b[39;00m\n\u001b[1;32m   1123\u001b[0m \u001b[39mif\u001b[39;00m \u001b[39mself\u001b[39m\u001b[39m.\u001b[39m_communication_started \u001b[39mand\u001b[39;00m \u001b[39minput\u001b[39m:\n\u001b[0;32m-> 1124\u001b[0m     \u001b[39mraise\u001b[39;00m \u001b[39mValueError\u001b[39;00m(\u001b[39m\"\u001b[39m\u001b[39mCannot send input after starting communication\u001b[39m\u001b[39m\"\u001b[39m)\n\u001b[1;32m   1126\u001b[0m \u001b[39m# Optimization: If we are not worried about timeouts, we haven't\u001b[39;00m\n\u001b[1;32m   1127\u001b[0m \u001b[39m# started communicating, and we have one or zero pipes, using select()\u001b[39;00m\n\u001b[1;32m   1128\u001b[0m \u001b[39m# or threads is unnecessary.\u001b[39;00m\n\u001b[1;32m   1129\u001b[0m \u001b[39mif\u001b[39;00m (timeout \u001b[39mis\u001b[39;00m \u001b[39mNone\u001b[39;00m \u001b[39mand\u001b[39;00m \u001b[39mnot\u001b[39;00m \u001b[39mself\u001b[39m\u001b[39m.\u001b[39m_communication_started \u001b[39mand\u001b[39;00m\n\u001b[1;32m   1130\u001b[0m     [\u001b[39mself\u001b[39m\u001b[39m.\u001b[39mstdin, \u001b[39mself\u001b[39m\u001b[39m.\u001b[39mstdout, \u001b[39mself\u001b[39m\u001b[39m.\u001b[39mstderr]\u001b[39m.\u001b[39mcount(\u001b[39mNone\u001b[39;00m) \u001b[39m>\u001b[39m\u001b[39m=\u001b[39m \u001b[39m2\u001b[39m):\n",
      "\u001b[0;31mValueError\u001b[0m: Cannot send input after starting communication"
     ]
    }
   ],
   "source": [
    "stdout_data = p.communicate(input='ls -la'.encode())[0]"
   ]
  },
  {
   "cell_type": "code",
   "execution_count": 75,
   "metadata": {},
   "outputs": [],
   "source": [
    "from threading import Thread\n",
    "from threading import Timer\n",
    "\n",
    "def run_with_timeout(timeout, default, f, *args, **kwargs):\n",
    "    if not timeout:\n",
    "        return f(*args, **kwargs)\n",
    "    try:\n",
    "        timeout_timer = Timer(timeout,  )\n",
    "        timeout_timer.start()\n",
    "        result = f(*args, **kwargs)\n",
    "        return result\n",
    "    except KeyboardInterrupt:\n",
    "        return default\n",
    "    finally:\n",
    "        timeout_timer.cancel()"
   ]
  },
  {
   "cell_type": "code",
   "execution_count": 83,
   "metadata": {},
   "outputs": [],
   "source": [
    "import subprocess\n",
    "\n",
    "\n",
    "def start(executable_file):\n",
    "    \n",
    "    return subprocess.Popen(\n",
    "        executable_file,\n",
    "        stdin=subprocess.PIPE,\n",
    "        stdout=subprocess.PIPE,\n",
    "        stderr=subprocess.PIPE,\n",
    "        close_fds=True,\n",
    "\n",
    ")\n",
    "\n",
    "\n",
    "def read(process):\n",
    "    while True:\n",
    "        try:\n",
    "            line = outq.get(block=False)\n",
    "            print('got line from outq: {0}'.format(line), end='')\n",
    "        except queue.Empty:\n",
    "            # print('could not get line from queue')\n",
    "            break\n",
    "    # return process.stdout.readline().strip()\n",
    "\n",
    "\n",
    "def write(process, message):\n",
    "    process.stdin.write(f\"{message}\\n\".encode())\n",
    "    process.stdin.flush()\n",
    "\n",
    "\n",
    "def terminate(process):\n",
    "    process.stdin.close()\n",
    "    process.terminate()\n",
    "    process.wait(timeout=0.2)\n",
    "\n",
    "\n",
    "process = start(\"/bin/sh\")\n",
    "write(process, \"ls -la\")\n",
    "# print(read(process))\n",
    "write(process, \"ls -la\")\n",
    "# terminate(process)"
   ]
  },
  {
   "cell_type": "code",
   "execution_count": 13,
   "metadata": {},
   "outputs": [],
   "source": [
    "from queue import Queue, Empty\n",
    "import threading\n",
    "import time\n",
    "import subprocess\n",
    "\n",
    "class Debugger:\n",
    "    std_q = Queue()\n",
    "    err_q = Queue()\n",
    "    process = None\n",
    "    lock = False\n",
    "    \n",
    "    def __init__(self, problem) -> None:\n",
    "        \n",
    "        self.process = subprocess.Popen(\n",
    "        [\"../up_siadex/bin/planner\",\"-d\",\"../up_siadex//test/domain.hpdl\",\"-p\",\"..//up_siadex//test/problem.hpdl\",\"-g\"],\n",
    "        stdin=subprocess.PIPE,\n",
    "        stdout=subprocess.PIPE,\n",
    "        stderr=subprocess.PIPE,\n",
    "        # close_fds=True,\n",
    "        )\n",
    "        def output_reader(proc, outq):\n",
    "            for line in iter(proc.stdout.readline, b''):\n",
    "                outq.put(line.decode('utf-8'))\n",
    "        \n",
    "        def error_reader(proc, outq):\n",
    "            for line in iter(proc.stderr.readline, b''):\n",
    "                outq.put(line.decode('utf-8'))\n",
    "                \n",
    "        t = threading.Thread(target=output_reader, args=(self.process, self.std_q))\n",
    "        t2 = threading.Thread(target=error_reader, args=(self.process, self.err_q))\n",
    "        t.start()\n",
    "        t2.start()\n",
    "\n",
    "    def start(self):\n",
    "        pass\n",
    "\n",
    "        \n",
    "    def command(self,c):\n",
    "        # If the process is locked running previous commands, lets wait until it has finnished\n",
    "        while self.lock:\n",
    "            time.sleep(0.5)\n",
    "        try:\n",
    "            # Lock the process\n",
    "            self.lock = True\n",
    "    \n",
    "            # Write the command in the input\n",
    "            self.process.stdin.write(f\"{c}\\n\".encode())\n",
    "            self.process.stdin.flush()\n",
    "            # Time to wait for the response        \n",
    "            time.sleep(1)\n",
    "            \n",
    "            std = self._capture_std()\n",
    "            err = self._capture_error()\n",
    "            [print(msg, end='') for msg in std]\n",
    "            print(\"_\"*50)\n",
    "            [print(msg, end='') for msg in err]\n",
    "        except BrokenPipeError as e:\n",
    "            print(\"Restarting\")\n",
    "            self.__init__()\n",
    "            self.command(c)\n",
    "        \n",
    "        \n",
    "    def _capture_output(self, q: Queue):\n",
    "        \"\"\"This methods capture the output from a thread.\"\"\"\n",
    "        self.lock = True\n",
    "        result = []\n",
    "        while True:\n",
    "            try:\n",
    "                # Capture msgs\n",
    "                line = q.get(block=False)\n",
    "                result.append(line)\n",
    "                # print(line, end='')\n",
    "            except Empty:\n",
    "                # No more messages so... \n",
    "                # # Free the lock \n",
    "                # # return the result\n",
    "                self.lock = False\n",
    "                return result\n",
    "        \n",
    "        \n",
    "        \n",
    "    def _capture_std(self):\n",
    "        \"\"\"This methods captures the output of STD from the thread.\"\"\"\n",
    "        return self._capture_output(self.std_q)\n",
    "            \n",
    "    def _capture_error(self):\n",
    "        \"\"\"This methods captures the output of err from the thread.\"\"\"\n",
    "        return self._capture_output(self.err_q)\n",
    "        "
   ]
  },
  {
   "cell_type": "code",
   "execution_count": 18,
   "metadata": {},
   "outputs": [
    {
     "name": "stdout",
     "output_type": "stream",
     "text": [
      "debug:> help describe\n",
      "__________________________________________________\n",
      "\n",
      "(*** 1 ***) Initializating planning process...\n",
      "(*** 1 ***) Initializating python...\n",
      "(*** 1 ***) Depth: 1\n",
      "(*** 1 ***) Selecting task to expand from agenda.\n",
      "\n",
      "(*** 1 ***) Initializating planning process...\n",
      "(*** 1 ***) Initializating python...\n",
      "(*** 1 ***) Depth: 1\n",
      "(*** 1 ***) Selecting task to expand from agenda.\n",
      "Command: `describe'.\n",
      "\n",
      "Description: Shows detailed information about a structure defined in the domain.\n",
      "\t`describe <predicate-expression>':\tPrint the description in the domain relative to the predicate expression. It can be a predicate or a task.\n",
      "See also: `print', `display'\n"
     ]
    }
   ],
   "source": [
    "debugger = Debugger()\n",
    "debugger.command(\"help describe\")"
   ]
  },
  {
   "cell_type": "code",
   "execution_count": 19,
   "metadata": {},
   "outputs": [
    {
     "name": "stdout",
     "output_type": "stream",
     "text": [
      "debug:> help eval\n",
      "__________________________________________________\n",
      "Command: `eval <precondition>'.\n",
      "\n",
      "Description: Evaluates the given expression and prints the produced unifications.\n"
     ]
    }
   ],
   "source": [
    "debugger.command(\"\"\"help eval\"\"\")"
   ]
  },
  {
   "cell_type": "code",
   "execution_count": 20,
   "metadata": {},
   "outputs": [
    {
     "name": "stdout",
     "output_type": "stream",
     "text": [
      "debug:> help print\n",
      "__________________________________________________\n",
      "Command: `print'. Shortcut: `p'\n",
      "\n",
      "Description: Prints information about the planning context.\n",
      "\t`print state':\tPrints the current state.\n",
      "\t`print agenda':\tPrints the current agenda.\n",
      "\t`print plan':\tPrints the ongoing plan.\n",
      "\t`print options':\tPrints the options you can peform on next step.\n",
      "\t`print termtable':\tPrints the internal term table.\n",
      "\t`print tasks':\tPrints all the tasks defined in the domain.\n",
      "\t`print predicates':\tPrints all the avaliable predicates defined in the domain.\n",
      "\t`print <predicate-expression>':\tPrints all the predicates in the current state, or the tasks in current plan, that match the given expression.\n"
     ]
    }
   ],
   "source": [
    "debugger.command(\"help print\")\n"
   ]
  },
  {
   "cell_type": "code",
   "execution_count": 21,
   "metadata": {},
   "outputs": [
    {
     "name": "stdout",
     "output_type": "stream",
     "text": [
      "debug:> help\n",
      "__________________________________________________\n",
      "Type `help <command>' to obtain detailed information about a command.\n",
      "Avaliable commands:\n",
      "print          display        quit           plot\n",
      "continue       undisplay      next           set\n",
      "describe       break          disable        enable\n",
      "nexp           eval           watch          apply\n",
      "<enter> executes the last command.\n"
     ]
    }
   ],
   "source": [
    "debugger.command(\"help\")\n"
   ]
  },
  {
   "cell_type": "code",
   "execution_count": 75,
   "metadata": {},
   "outputs": [
    {
     "name": "stdout",
     "output_type": "stream",
     "text": [
      "debug:> help break\n",
      "Command: `break'. Shortcut `b'\n",
      "\n",
      "Description: Manages the stablished breakpoints.\n",
      "\t`break':\tLists all defined breakpoints.\n",
      "\t`break <number>':\tPrints breakpoint whith given id.\n",
      "\t`break <predicate>':\tDefines a new breakpoint. <predcate> can be a task definition or a simple predicate.\n",
      "See also: `watch', `disable', `enable'.\n"
     ]
    }
   ],
   "source": [
    "debugger.command(\"help break\")"
   ]
  },
  {
   "cell_type": "code",
   "execution_count": 74,
   "metadata": {},
   "outputs": [
    {
     "name": "stdout",
     "output_type": "stream",
     "text": [
      "debug:> print agenda\n",
      "Succesors:\n",
      "[0] 9 \n",
      "[1] 0 \n",
      "[2] 3 \n",
      "[3] 0 \n",
      "[4] 5 \n",
      "[5] 6 \n",
      "[6] 7 \n",
      "[7] 3 \n",
      "[8] 5 \n",
      "[9] 5 \n",
      "Task list: \n",
      "[1] (closed)     :unexpanded (solve_elevator)\n",
      "[2] (closed)     :unexpanded (deliver_person p0 f0 f1)\n",
      "[3] (pending)    :unexpanded (solve_elevator)\n",
      "[4] (closed)     :unexpanded (move f0 f0)\n",
      "[5] (agenda)     :unexpanded (board p0 f0)\n",
      "[6] (pending)    :unexpanded (move f0 f1)\n",
      "[7] (pending)    :unexpanded (debark p0 f1)\n",
      "[8] (closed)     :unexpanded (move_primitive f0 f0)\n",
      "[9] (pending)    :action (move_primitive f0 f0)\n",
      "===========\n",
      "\n",
      "Not explored (1):  4\n"
     ]
    }
   ],
   "source": [
    "debugger.command(\"print agenda\")\n"
   ]
  },
  {
   "cell_type": "code",
   "execution_count": 41,
   "metadata": {},
   "outputs": [
    {
     "name": "stdout",
     "output_type": "stream",
     "text": [
      "debug:> print state\n",
      "(type_member_floor f1)\n",
      "(type_member_floor f0)\n",
      "(type_member_floor f6)\n",
      "(type_member_floor f5)\n",
      "(type_member_floor f4)\n",
      "(type_member_floor f3)\n",
      "(type_member_floor f2)\n",
      "(type_member_floor f7)\n",
      "(type_member_floor f8)\n",
      "(type_member_floor f9)\n",
      "(type_member_object__compiled p4)\n",
      "(type_member_object__compiled f1)\n",
      "(type_member_object__compiled f2)\n",
      "(type_member_object__compiled p3)\n",
      "(type_member_object__compiled p2)\n",
      "(type_member_object__compiled p1)\n",
      "(type_member_object__compiled p0)\n",
      "(type_member_object__compiled f9)\n",
      "(type_member_object__compiled f8)\n",
      "(type_member_object__compiled f7)\n",
      "(type_member_object__compiled f6)\n",
      "(type_member_object__compiled f5)\n",
      "(type_member_object__compiled f4)\n",
      "(type_member_object__compiled f3)\n",
      "(type_member_object__compiled f0)\n",
      "(type_member_person p0)\n",
      "(type_member_person p1)\n",
      "(type_member_person p2)\n",
      "(type_member_person p3)\n",
      "(type_member_person p4)\n",
      "(goal p0)\n",
      "(goal p1)\n",
      "(goal p2)\n",
      "(goal p3)\n",
      "(goal p4)\n",
      "(lift_at f0)\n",
      "(origin p0 f0)\n",
      "(origin p1 f0)\n",
      "(origin p4 f2)\n",
      "(origin p3 f3)\n",
      "(origin p2 f3)\n",
      "(destination p0 f1)\n",
      "(destination p1 f3)\n",
      "(destination p4 f1)\n",
      "(destination p3 f2)\n",
      "(destination p2 f1)\n"
     ]
    }
   ],
   "source": [
    "debugger.command(\"print state\")\n",
    "# debugger.describe(solve_elevator)"
   ]
  },
  {
   "cell_type": "code",
   "execution_count": 14,
   "metadata": {},
   "outputs": [
    {
     "name": "stdout",
     "output_type": "stream",
     "text": [
      "debug:> next\n",
      "(*** 1 ***) Expanding: [0] (solve_elevator)\n",
      "\n",
      "(*** 1 ***) Selecting a candidate task.\n",
      "(*** 1 ***) Found: 1 candidates (left).\n",
      "      [0] :task (solve_elevator)\n"
     ]
    }
   ],
   "source": [
    "debugger.command(\"next\")\n",
    "tareas = debugger.next()"
   ]
  },
  {
   "cell_type": "code",
   "execution_count": 8,
   "metadata": {},
   "outputs": [
    {
     "name": "stdout",
     "output_type": "stream",
     "text": [
      "Something went wrong\n",
      "debug:> help\n",
      "\n",
      "(*** 1 ***) Initializating planning process...\n",
      "(*** 1 ***) Initializating python...\n",
      "(*** 1 ***) Depth: 1\n",
      "(*** 1 ***) Selecting task to expand from agenda.\n",
      "Type `help <command>' to obtain detailed information about a command.\n",
      "Avaliable commands:\n",
      "print          display        quit           plot\n",
      "continue       undisplay      next           set\n",
      "describe       break          disable        enable\n",
      "nexp           eval           watch          apply\n",
      "<enter> executes the last command.\n"
     ]
    }
   ],
   "source": [
    "debugger.command(\"help\")"
   ]
  },
  {
   "cell_type": "code",
   "execution_count": null,
   "metadata": {},
   "outputs": [],
   "source": []
  },
  {
   "cell_type": "code",
   "execution_count": null,
   "metadata": {},
   "outputs": [],
   "source": []
  }
 ],
 "metadata": {
  "kernelspec": {
   "display_name": "Python 3",
   "language": "python",
   "name": "python3"
  },
  "language_info": {
   "codemirror_mode": {
    "name": "ipython",
    "version": 3
   },
   "file_extension": ".py",
   "mimetype": "text/x-python",
   "name": "python",
   "nbconvert_exporter": "python",
   "pygments_lexer": "ipython3",
   "version": "3.10.4 (main, Nov  2 2022, 18:29:07) [GCC 9.4.0]"
  },
  "orig_nbformat": 4,
  "vscode": {
   "interpreter": {
    "hash": "3ad933181bd8a04b432d3370b9dc3b0662ad032c4dfaa4e4f1596c548f763858"
   }
  }
 },
 "nbformat": 4,
 "nbformat_minor": 2
}
